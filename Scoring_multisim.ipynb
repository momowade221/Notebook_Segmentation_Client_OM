{
  "cells": [
    {
      "cell_type": "markdown",
      "metadata": {
        "id": "view-in-github",
        "colab_type": "text"
      },
      "source": [
        "<a href=\"https://colab.research.google.com/github/momowade221/Notebook_Segmentation_Client_OM/blob/dev/Scoring_multisim.ipynb\" target=\"_parent\"><img src=\"https://colab.research.google.com/assets/colab-badge.svg\" alt=\"Open In Colab\"/></a>"
      ]
    },
    {
      "cell_type": "markdown",
      "metadata": {
        "id": "n8-AFCkNN5Mm"
      },
      "source": [
        "# **CONFIGURATION**\n",
        "\n",
        "---\n",
        "\n"
      ]
    },
    {
      "cell_type": "code",
      "execution_count": 1,
      "metadata": {
        "id": "Re2VWo_L4kcQ"
      },
      "outputs": [],
      "source": [
        "#!pip install pyspark"
      ]
    },
    {
      "cell_type": "code",
      "execution_count": 3,
      "metadata": {
        "colab": {
          "base_uri": "https://localhost:8080/",
          "height": 71
        },
        "id": "FWNZ58KE4mGQ",
        "outputId": "ebde5dfa-7850-48ba-e860-b21762e09c08"
      },
      "outputs": [
        {
          "output_type": "stream",
          "name": "stdout",
          "text": [
            "Mounted at /content/drive\n",
            "/content/drive/MyDrive/Colab/Segmentation\n"
          ]
        },
        {
          "output_type": "execute_result",
          "data": {
            "text/plain": [
              "'\\nspark = SparkSession.builder.appName(\"Transactions_OM\").getOrCreate()\\nspark\\n'"
            ],
            "application/vnd.google.colaboratory.intrinsic+json": {
              "type": "string"
            }
          },
          "metadata": {},
          "execution_count": 3
        }
      ],
      "source": [
        "from google.colab import drive\n",
        "drive.mount('/content/drive', force_remount=True)\n",
        "%cd /content/drive/MyDrive/Colab/Segmentation/\n",
        "myPath='/content/drive/MyDrive/Colab/Segmentation/#datasets_OM'\n",
        "\n",
        "import pandas as pd\n",
        "import numpy as np\n",
        "import matplotlib.pyplot as plt\n",
        "import seaborn as sns\n",
        "from datetime import datetime\n",
        "\"\"\"\n",
        "from pyspark.sql import SparkSession\n",
        "from pyspark.sql import DataFrame\n",
        "from pyspark.sql.functions import *\n",
        "from pyspark.sql.types import *\n",
        "from pyspark.sql.window import *\n",
        "from pyspark.ml.feature import *\n",
        "from pyspark.ml import *\n",
        "from pyspark.ml.clustering import *\n",
        "from pyspark.ml.evaluation import ClusteringEvaluator\n",
        "from pyspark.sql.column import Column\n",
        "\"\"\"\n",
        "import sklearn\n",
        "import matplotlib.gridspec as gridspec\n",
        "import plotly.graph_objects as go\n",
        "from matplotlib.colors import LinearSegmentedColormap\n",
        "from matplotlib import colors as mcolors\n",
        "from scipy.stats import linregress\n",
        "from sklearn.ensemble import IsolationForest,GradientBoostingClassifier\n",
        "from sklearn.preprocessing import StandardScaler\n",
        "from sklearn.decomposition import PCA\n",
        "from yellowbrick.cluster import KElbowVisualizer, SilhouetteVisualizer\n",
        "from sklearn.metrics import silhouette_score, calinski_harabasz_score, davies_bouldin_score, adjusted_rand_score\n",
        "from sklearn.metrics import confusion_matrix, accuracy_score, classification_report, roc_curve, auc\n",
        "from sklearn.cluster import KMeans\n",
        "from sklearn.neighbors import *\n",
        "from sklearn.model_selection import *\n",
        "from sklearn.linear_model import LogisticRegression\n",
        "import sklearn.metrics as metrics\n",
        "from tabulate import tabulate\n",
        "from collections import Counter\n",
        "\n",
        "\"\"\"\n",
        "spark = SparkSession.builder.appName(\"Transactions_OM\").getOrCreate()\n",
        "spark\n",
        "\"\"\""
      ]
    },
    {
      "cell_type": "markdown",
      "metadata": {
        "id": "l_PC13jIKuEV"
      },
      "source": [
        "# **PRÉPARATION DES DONNÉES**\n",
        "\n",
        "---\n",
        "\n"
      ]
    },
    {
      "cell_type": "markdown",
      "metadata": {
        "id": "YHGfMY-12R90"
      },
      "source": [
        "## **Collection des données**"
      ]
    },
    {
      "cell_type": "code",
      "execution_count": 4,
      "metadata": {
        "id": "2O_jmAT1V2Rh"
      },
      "outputs": [],
      "source": [
        "def df_load(path):\n",
        "    # Charger le DataFrame depuis le fichier CSV avec les colonnes existantes\n",
        "    df_loaded= spark.read.csv(f'{path}', header=True)\n",
        "    # BaseTransaction OM - Renommer les colonnes\n",
        "    #new_column_names = [col_name.replace(f\"{table}.\", \"\") for col_name in df_loaded.columns]\n",
        "    #df_loaded = df_loaded.toDF(*new_column_names)\n",
        "    return df_loaded\n",
        "\n",
        "def pd_load(path):\n",
        "    # Charger le DataFrame depuis le fichier CSV avec les colonnes existantes\n",
        "    pd_loaded = pd.read_csv(path)\n",
        "    # Renommer les colonnes\n",
        "    # pd_loaded.columns = [col.replace(f\"{table}.\", \"\") for col in pd_loaded.columns]\n",
        "    return pd_loaded"
      ]
    },
    {
      "cell_type": "code",
      "execution_count": 5,
      "metadata": {
        "id": "SdXrYv7rbAm8"
      },
      "outputs": [],
      "source": [
        "# Données roaming\n",
        "#df_roaming=df_load(f'{myPath}/segmentation_multi_sim.csv')\n",
        "#pd_roaming=pd_load(f'{myPath}/segmentation_multi_sim.csv')\n",
        "\n",
        "#df_reporting_multisim=df_load(f'{myPath}/refined_reporting_multisim.csv')\n",
        "pd_total_multisim=pd_load(f'{myPath}/multisim_total.csv')\n",
        "pd_reporting_multisim=pd_load(f'{myPath}/refined_reporting_multisim.csv')"
      ]
    },
    {
      "cell_type": "code",
      "execution_count": 4,
      "metadata": {
        "colab": {
          "base_uri": "https://localhost:8080/",
          "height": 142
        },
        "id": "psnw5qRkL0qK",
        "outputId": "c3f20949-2b43-417f-d0f9-ceb5a279a90f"
      },
      "outputs": [
        {
          "output_type": "execute_result",
          "data": {
            "text/plain": [
              "'\\n# SICO\\ndf_sico=df_load(f\\'{myPath}/segmentation_sico.csv\\')\\n# pd_sico = pd_load(f\\'{myPath}/segmentation_sico.csv\\')\\n\\n#OM\\ndf_transaction_om=df_load(f\\'{myPath}/segmentation_base_transaction_om.csv\\')\\n# pd_transaction_om = pd_load(f\\'{myPath}/segmentation_base_transaction_om.csv\\'\\n\\n#Localisaion\\ndf_location_night=df_load(f\\'{myPath}/vente_rebond_location_night.csv\\')\\n#pd_localisation=pd_load(f\\'{myPath}/vente_rebond_location_night.csv\\')\\n\\n#Résultats segmentation\\ndf_segment_rfm=df_load(f\\'{myPath}/segmentation_valeur_rfm.csv\\').drop(\"score_R\",\"score_F\",\"score_M\")\\npd_segment_rfm=pd_load(f\\'{myPath}/segmentation_valeur_rfm.csv\\').drop([\"score_R\",\"score_F\",\"score_M\"], axis=1)\\n\\ndf_kmeans_encoded_loaded=df_load(f\\'{myPath}/dataset_kmeans_encoded.csv\\')\\npd_kmeans_encoded_loaded=pd_load(f\\'{myPath}/dataset_kmeans_encoded.csv\\')\\n\\n#Segments Recharge\\ndf_recharge=df_load(f\\'{myPath}/vente_rebond_recharge_in_details.csv\\')\\ndf_segmentation_client=df_load(f\\'{myPath}/segmentation_client.csv\\')\\n\\n# df_segment_recharge=df_load(f\\'{myPath}/segmentation_recharge_segment.csv\\')\\n# pd_segment_recharge=pd_load(f\\'{myPath}/segmentation_recharge_segment.csv\\')\\n\\n#dataset kmeans\\ndf_kmeans_init_loaded=df_load(f\\'{myPath}/dataset_kmeans_initial.csv\\')\\npd_kmeans_init_loaded=pd_load(f\\'{myPath}/dataset_kmeans_initial.csv\\')\\n\\n#Segment multisim\\ndf_segment_multisim_loaded=df_load(f\\'{myPath}/segment_multisim_created.csv\\')\\npd_segment_multisim_loaded=pd_load(f\\'{myPath}/segment_multisim_created.csv\\')\\n\\n'"
            ],
            "application/vnd.google.colaboratory.intrinsic+json": {
              "type": "string"
            }
          },
          "metadata": {},
          "execution_count": 4
        }
      ],
      "source": [
        "\"\"\"\n",
        "# SICO\n",
        "df_sico=df_load(f'{myPath}/segmentation_sico.csv')\n",
        "# pd_sico = pd_load(f'{myPath}/segmentation_sico.csv')\n",
        "\n",
        "#OM\n",
        "df_transaction_om=df_load(f'{myPath}/segmentation_base_transaction_om.csv')\n",
        "# pd_transaction_om = pd_load(f'{myPath}/segmentation_base_transaction_om.csv'\n",
        "\n",
        "#Localisaion\n",
        "df_location_night=df_load(f'{myPath}/vente_rebond_location_night.csv')\n",
        "#pd_localisation=pd_load(f'{myPath}/vente_rebond_location_night.csv')\n",
        "\n",
        "#Résultats segmentation\n",
        "df_segment_rfm=df_load(f'{myPath}/segmentation_valeur_rfm.csv').drop(\"score_R\",\"score_F\",\"score_M\")\n",
        "pd_segment_rfm=pd_load(f'{myPath}/segmentation_valeur_rfm.csv').drop([\"score_R\",\"score_F\",\"score_M\"], axis=1)\n",
        "\n",
        "df_kmeans_encoded_loaded=df_load(f'{myPath}/dataset_kmeans_encoded.csv')\n",
        "pd_kmeans_encoded_loaded=pd_load(f'{myPath}/dataset_kmeans_encoded.csv')\n",
        "\n",
        "#Segments Recharge\n",
        "df_recharge=df_load(f'{myPath}/vente_rebond_recharge_in_details.csv')\n",
        "df_segmentation_client=df_load(f'{myPath}/segmentation_client.csv')\n",
        "\n",
        "# df_segment_recharge=df_load(f'{myPath}/segmentation_recharge_segment.csv')\n",
        "# pd_segment_recharge=pd_load(f'{myPath}/segmentation_recharge_segment.csv')\n",
        "\n",
        "#dataset kmeans\n",
        "df_kmeans_init_loaded=df_load(f'{myPath}/dataset_kmeans_initial.csv')\n",
        "pd_kmeans_init_loaded=pd_load(f'{myPath}/dataset_kmeans_initial.csv')\n",
        "\n",
        "#Segment multisim\n",
        "df_segment_multisim_loaded=df_load(f'{myPath}/segment_multisim_created.csv')\n",
        "pd_segment_multisim_loaded=pd_load(f'{myPath}/segment_multisim_created.csv')\n",
        "\n",
        "\"\"\""
      ]
    },
    {
      "cell_type": "markdown",
      "metadata": {
        "id": "1FLPiOn96Gmq"
      },
      "source": [
        "## **Définition des fonctions d'exploration**"
      ]
    },
    {
      "cell_type": "code",
      "execution_count": 9,
      "metadata": {
        "id": "NKO3UWOQFh2q"
      },
      "outputs": [],
      "source": [
        "def df_info(df):\n",
        "   # Informations sur le schéma du DataFrame\n",
        "   ############ Info ###########\")\n",
        "   print(f\"Nombre de features: {len(df.columns)}\")\n",
        "   df.printSchema()\n",
        "\n",
        "   # Noms des colonnes\n",
        "   ############ Colonnes ###########\")\n",
        "   print(df.columns)\n",
        "\n",
        "   # Dimensions (nombre de lignes et de colonnes)\n",
        "   ############ Dimensions ###########\")\n",
        "   num_rows = df.count()\n",
        "   num_cols = len(df.columns)\n",
        "   print(f\"\\n \\n  Nombre de lignes : {num_rows}, Nombre de colonnes : {num_cols}\")\n",
        "\n",
        "   # Afficher les premières lignes (les 5 premières lignes sans troncature)\n",
        "   ############ Premières lignes ###########\")\n",
        "   df.show(5, truncate=False)  # Affiche les 5 premières lignes sans troncature\n",
        "\n",
        "   # Afficher les dernières lignes (les 5 dernières lignes triées par la première colonne en ordre décroissant)\n",
        "   print(\"\\n########### Dernières lignes ###########\")\n",
        "   df.orderBy(df.columns[0], ascending=False).show(5, truncate=False)  # Affiche les 5 dernières lignes\n",
        "\n",
        "   # Statistiques sommaires (quantiles) du DataFram\n",
        "   print(\"\\n########### Statistiques sommaires ###########\")\n",
        "   df.summary().show()\n",
        "\n",
        "\n",
        "def df_info_detailed(df):\n",
        "  df_info(df)\n",
        "\n",
        "  # Données manquantes (NA)\n",
        "  print(\"\\n########### Données manquantes ###########\")\n",
        "  # Compter le nombre de valeurs manquantes (NA) par colonne\n",
        "  count_NA = df.agg(*[sum(df[c].isNull().cast(\"int\")).alias(c) for c in df.columns])\n",
        "  # Afficher le résultat\n",
        "  print(\"Le nombre de colonnes qui contiennent des valeurs manquantes (NA)\")\n",
        "  count_NA.show()\n",
        "\n",
        "  # Compter les occurrences de \"NULL\" dans chaque colonne\n",
        "  count_exprs = [expr(f\"sum(case when {c} like '%NULL%' then 1 else 0 end) as {c}_count\") for c in df.columns]\n",
        "  print(\"Le nombre de lignes qui contiennent la chaîne 'NULL'\")\n",
        "  count_NULL = df.select(*count_exprs)\n",
        "  count_NULL.show()\n",
        "\n",
        "  # Données dupliquées\n",
        "  print(\"\\n########### Données dupliquées ###########\")\n",
        "\n",
        "  # Find rows where all column values are identical\n",
        "  duplicate_rows=df.groupBy(*df.columns).agg(count(\"*\").alias(\"count\"))\n",
        "  duplicate_rows = duplicate_rows.filter(duplicate_rows[\"count\"] > 1).select(*df.columns)\n",
        "\n",
        "  if duplicate_rows.count()==0:\n",
        "    print(\"Aucune ligne dupliquée trouvée\")\n",
        "  else:\n",
        "    print(f\"Nombre de données dupliquées : {duplicate_rows.count()}\")\n",
        "    # Show the rows with identical value\n",
        "    duplicate_rows.show()\n",
        "\n",
        "#Fonction pour afficher un DataFrame PySpark sous forme de Pandas DataFrame\n",
        "def printdf(df):\n",
        "    return df.toPandas()\n"
      ]
    },
    {
      "cell_type": "code",
      "execution_count": 10,
      "metadata": {
        "id": "gYI6NTMhSNTt"
      },
      "outputs": [],
      "source": [
        "import pandas as pd\n",
        "\n",
        "# Fonction pour afficher des informations sur un DataFrame Pandas\n",
        "def pd_info(df):\n",
        "\n",
        "    # Informations sur le schéma du DataFrame\n",
        "    print(\"########### Info ###########\")\n",
        "    print(df.dtypes)\n",
        "\n",
        "    # Noms des colonnes\n",
        "    print(\"########### Colonnes ###########\")\n",
        "    print(df.columns)\n",
        "\n",
        "    # Dimensions (nombre de lignes et de colonnes)\n",
        "    print(\"########### Dimensions ###########\")\n",
        "    num_rows, num_cols = df.shape\n",
        "    print(f\"\\n \\n  Nombre de lignes : {num_rows}, Nombre de colonnes : {num_cols}\")\n",
        "\n",
        "    # Afficher les premières lignes (les 5 premières lignes)\n",
        "    print(\"########### Premières lignes ###########\")\n",
        "    print(df.head())\n",
        "\n",
        "    # Afficher les dernières lignes (les 5 dernières lignes)\n",
        "    print(\"########### Dernières lignes ###########\")\n",
        "    print(df.tail())\n",
        "\n",
        "    # Statistiques sommaires (descriptives) du DataFrame\n",
        "    print(\"\\n########### Statistiques sommaires ###########\")\n",
        "    print(df.describe())\n",
        "\n",
        "# Fonction pour afficher des informations détaillées sur un DataFrame Pandas\n",
        "def df_info_detailed_pandas(df):\n",
        "    df_info_pandas(df)\n",
        "\n",
        "    # Données manquantes (NA)\n",
        "    print(\"\\n########### Données manquantes ###########\")\n",
        "    # Compter le nombre de valeurs manquantes (NA) par colonne\n",
        "    missing_data = df.isnull().sum()\n",
        "    print(\"Nombre de valeurs manquantes par colonne :\")\n",
        "    print(missing_data)\n",
        "\n",
        "    # Compter les occurrences de \"NULL\" dans chaque colonne\n",
        "    count_NULL = df.apply(lambda col: col.str.contains('NULL').sum())\n",
        "    print(\"Nombre d'occurrences de 'NULL' par colonne :\")\n",
        "    print(count_NULL)\n",
        "\n",
        "    # Données dupliquées\n",
        "    print(\"\\n########### Données dupliquées ###########\")\n",
        "    duplicate_rows = df[df.duplicated(keep=False)]\n",
        "\n",
        "    if duplicate_rows.shape[0] == 0:\n",
        "        print(\"Aucune ligne dupliquée trouvée\")\n",
        "    else:\n",
        "        print(f\"Nombre de données dupliquées : {duplicate_rows.shape[0]}\")\n",
        "        print(\"Lignes avec données dupliquées :\")\n",
        "        print(duplicate_rows)\n",
        "\n",
        "# Fonction pour afficher un DataFrame Pandas\n",
        "def printdf_pandas(df):\n",
        "    return df\n"
      ]
    },
    {
      "cell_type": "code",
      "execution_count": 11,
      "metadata": {
        "id": "lhGvQvYX_7HW"
      },
      "outputs": [],
      "source": [
        "# from pyspark.sql import functions as F\n",
        "def df_colonne_info(df, colonne):\n",
        "    # Nombre de valeurs distinctes dans la colonne\n",
        "    colonne_count = df.select(colonne).distinct().count()\n",
        "\n",
        "    # Récupérer le type de données de la colonne\n",
        "    colonne_type = df.schema[colonne].dataType\n",
        "\n",
        "    # Affichage des informations\n",
        "    print(f\" *****Informations sur la colonne ___{colonne}___: *****\")\n",
        "    # Valeurs distinctes de la colonne\n",
        "    print(f\"Les valeurs distinctes sont:\")\n",
        "    df.select(colonne).distinct().show(truncate=False)\n",
        "\n",
        "    print(f\"Nombre de valeurs distinctes : {colonne_count}\")\n",
        "\n",
        "    if isinstance(colonne_type, (FloatType,DecimalType, IntegerType)):\n",
        "        # Statistiques de base sur la colonne (moyenne, écart type, minimum, maximum)\n",
        "        mean = df.select(mean(colonne)).first()[0]\n",
        "        stddev = df.select(stddev(colonne)).first()[0]\n",
        "        min_value = df.select(min(colonne)).first()[0]\n",
        "        max_value = df.select(max(colonne)).first()[0]\n",
        "\n",
        "        # Somme des valeurs dans la colonne\n",
        "        sum_value = df.select(sum(colonne)).first()[0]\n",
        "\n",
        "        # Médiane de la colonne\n",
        "        median = df.approxQuantile(colonne, [0.5], 0.01)[0]\n",
        "\n",
        "        # 1er quartile (Q1) et 3e quartile (Q3)\n",
        "        quartiles = df.approxQuantile(colonne, [0.25, 0.75], 0.01)\n",
        "        q1, q3 = quartiles\n",
        "\n",
        "        print(f\"Valeur moyenne : {mean}\")\n",
        "        print(f\"Écart type : {stddev}\")\n",
        "        print(f\"Valeur minimale : {min_value}\")\n",
        "        print(f\"Valeur maximale : {max_value}\")\n",
        "        print(f\"Somme des valeurs : {sum_value}\")\n",
        "        print(f\"Médiane : {median}\")\n",
        "        print(f\"1er quartile (Q1) : {q1}\")\n",
        "        print(f\"3e quartile (Q3) : {q3}\")\n",
        "    else:\n",
        "        print(\"Les calculs statistiques ne sont pas applicables car le type de données n'est pas numérique.\")\n",
        "\n",
        "    print(\"-------------------------------------------------------\")\n"
      ]
    },
    {
      "cell_type": "code",
      "execution_count": 12,
      "metadata": {
        "id": "dOhRF-siHb2C"
      },
      "outputs": [],
      "source": [
        "import matplotlib.pyplot as plt\n",
        "import seaborn as sns\n",
        "\n",
        "def plot_colonne_distribution(dataframe, column):\n",
        "    # Check if the specified column exists in the DataFrame\n",
        "    if column not in dataframe.columns:\n",
        "        raise ValueError(f\"Column '{column}' not found in the DataFrame.\")\n",
        "\n",
        "    # Create a countplot with a custom color palette\n",
        "    fig, ax = plt.subplots(1, 1, figsize=(20, 8))\n",
        "    sns.set(style=\"whitegrid\")\n",
        "\n",
        "    custom_palette = sns.color_palette(\"husl\")\n",
        "\n",
        "    sns.countplot(x=column, data=dataframe, palette=custom_palette)\n",
        "\n",
        "    # Calculate the total number of entries\n",
        "    total_count = len(dataframe)\n",
        "\n",
        "    # Annotate the bars with percentages\n",
        "    for p in ax.patches:\n",
        "        percentage = '{:.1f}%'.format(100 * p.get_height() / total_count)\n",
        "        ax.annotate(percentage, (p.get_x() + p.get_width() / 2., p.get_height()), ha='center', va='center', fontsize=12, color='black', xytext=(0, 5), textcoords='offset points')\n",
        "\n",
        "    # Modify the y-axis label and title\n",
        "    ax.set_ylabel('Nombre de clients')\n",
        "    ax.set_title(f'Répartition des clients par {column}')\n",
        "\n",
        "    # Rotate the x-axis labels by 45 degrees\n",
        "    ax.set_xticklabels(ax.get_xticklabels(), rotation=45, ha='right')\n",
        "\n",
        "    # Increase the font size\n",
        "    ax.tick_params(axis='both', labelsize=14)\n",
        "\n",
        "    plt.show()"
      ]
    },
    {
      "cell_type": "code",
      "execution_count": 13,
      "metadata": {
        "id": "TXbcL5vnXBwg"
      },
      "outputs": [],
      "source": [
        "def plot_age_distribution(data, age_column, interval=10):\n",
        "    bins = list(range(0, 101, interval))\n",
        "    labels = [f\"{i}-{i+interval-1}\" for i in range(0, 100, interval)]  # Adjusted the range\n",
        "\n",
        "    age_groups = pd.cut(data[age_column], bins=bins, labels=labels, right=False)\n",
        "    data['age_group'] = age_groups\n",
        "\n",
        "    fig, ax = plt.subplots(1, 1, figsize=(20, 8))\n",
        "    sns.set(style=\"whitegrid\")\n",
        "\n",
        "    custom_palette = sns.color_palette(\"husl\", n_colors=len(data['age_group'].unique()))\n",
        "\n",
        "    sns.countplot(x='age_group', data=data, palette=custom_palette, ax=ax, hue='age_group', legend=False)\n",
        "\n",
        "    total_count = len(data)\n",
        "\n",
        "    for p in ax.patches:\n",
        "        percentage = '{:.1f}%'.format(100 * p.get_height() / total_count)\n",
        "        ax.annotate(percentage, (p.get_x() + p.get_width() / 2., p.get_height()),\n",
        "                    ha='center', va='center', fontsize=12, color='black', xytext=(0, 5), textcoords='offset points')\n",
        "\n",
        "    ax.set_ylabel('Nombre de clients')\n",
        "    ax.set_title(f\"Répartition des clients par tranche d'âge\")\n",
        "    ax.set_xticklabels(ax.get_xticklabels(), rotation=45, ha='right')\n",
        "\n",
        "    ax.xaxis.set_major_locator(plt.MaxNLocator(len(data['age_group'].unique())))\n",
        "    ax.tick_params(axis='both', labelsize=14)\n",
        "\n",
        "    plt.show()\n",
        "\n",
        "\n",
        "def plot_anciennete_distribution(data, age_column, interval=10):\n",
        "    max_age = int(data[age_column].max())  # Convert max_age to integer\n",
        "    bins = list(range(0, max_age + interval, interval))\n",
        "    labels = [f\"{i}-{i+interval-1}\" for i in range(0, max_age, interval)]  # Adjusted the range\n",
        "\n",
        "    age_groups = pd.cut(data[age_column], bins=bins, labels=labels, right=False)\n",
        "    data['anciennete_groupes'] = age_groups\n",
        "\n",
        "    fig, ax = plt.subplots(1, 1, figsize=(20, 8))\n",
        "    sns.set(style=\"whitegrid\")\n",
        "\n",
        "    custom_palette = sns.color_palette(\"husl\", n_colors=len(data['anciennete_groupes'].unique()))\n",
        "\n",
        "    sns.countplot(x='anciennete_groupes', data=data, palette=custom_palette, ax=ax, hue='anciennete_groupes', legend=False)\n",
        "\n",
        "    total_count = len(data)\n",
        "\n",
        "    for p in ax.patches:\n",
        "        percentage = '{:.1f}%'.format(100 * p.get_height() / total_count)\n",
        "        ax.annotate(percentage, (p.get_x() + p.get_width() / 2., p.get_height()),\n",
        "                    ha='center', va='center', fontsize=12, color='black', xytext=(0, 5), textcoords='offset points')\n",
        "\n",
        "    ax.set_ylabel('Nombre de clients')\n",
        "    ax.set_title(f\"Répartition des clients par tranche d'ancienneté\")\n",
        "    ax.set_xticklabels(ax.get_xticklabels(), rotation=45, ha='right')\n",
        "\n",
        "    ax.xaxis.set_major_locator(plt.MaxNLocator(len(data['anciennete_groupes'].unique())))\n",
        "    ax.tick_params(axis='both', labelsize=14)\n",
        "\n",
        "    plt.show()"
      ]
    },
    {
      "cell_type": "code",
      "execution_count": 14,
      "metadata": {
        "id": "kfsJWQHALbY3"
      },
      "outputs": [],
      "source": [
        "import matplotlib.pyplot as plt\n",
        "import seaborn as sns\n",
        "\n",
        "def plot_colonne_heatmap(data, colonne):\n",
        "    # Comptez le nombre total de clients\n",
        "    total_count = len(data)\n",
        "\n",
        "    # Créez un DataFrame de fréquence des valeurs dans la colonne\n",
        "    value_counts = data[colonne].value_counts().reset_index()\n",
        "    value_counts.columns = [colonne, \"Count\"]\n",
        "\n",
        "    # Créez un pivot table pour préparer les données au format heatmap\n",
        "    pivot_table = value_counts.pivot_table(index=None, columns=colonne, values=\"Count\", aggfunc=\"sum\", fill_value=0)\n",
        "\n",
        "    # Convertissez les valeurs en pourcentage par rapport au total\n",
        "    pivot_table_percentage = (pivot_table / total_count) * 100\n",
        "\n",
        "    fig, ax = plt.subplots(figsize=(15, 8))\n",
        "    sns.set(style=\"whitegrid\")\n",
        "\n",
        "    # Utilisez la fonction heatmap de Seaborn pour afficher le tableau heatmap en pourcentage\n",
        "    sns.heatmap(pivot_table_percentage, annot=True, fmt=\".1f\", cmap=\"YlGnBu\", cbar=False)\n",
        "\n",
        "    ax.set_xlabel(colonne)\n",
        "    ax.set_ylabel(\"Pourcentage de clients\")\n",
        "    ax.set_title(f\"Répartition des clients par {colonne} en pourcentage\")\n",
        "\n",
        "    plt.show()"
      ]
    },
    {
      "cell_type": "markdown",
      "metadata": {
        "id": "zYVMG41l2di6"
      },
      "source": [
        "# **SEGMENTATION MULTISIM**"
      ]
    },
    {
      "cell_type": "markdown",
      "metadata": {
        "id": "pCYs_snqIrv-"
      },
      "source": [
        "## **Exploration des données**\n",
        "\n",
        "\n"
      ]
    },
    {
      "cell_type": "code",
      "execution_count": null,
      "metadata": {
        "id": "JDEKu5AZFR5i"
      },
      "outputs": [],
      "source": [
        "df_info_detailed(df_roaming)"
      ]
    },
    {
      "cell_type": "code",
      "execution_count": null,
      "metadata": {
        "id": "ARq26a8zVAAb"
      },
      "outputs": [],
      "source": [
        "pd.set_option('display.float_format', lambda x: '{:.0f}'.format(x))\n",
        "pd_segmentation_client.describe(include='all')"
      ]
    },
    {
      "cell_type": "code",
      "execution_count": null,
      "metadata": {
        "id": "ooZKPrr83W8C"
      },
      "outputs": [],
      "source": [
        "df_info(df_segmentation_client)"
      ]
    },
    {
      "cell_type": "code",
      "execution_count": null,
      "metadata": {
        "id": "z6LYr86GFEGs"
      },
      "outputs": [],
      "source": [
        "df_info(df_segment_rfm)"
      ]
    },
    {
      "cell_type": "code",
      "execution_count": null,
      "metadata": {
        "id": "F7be9gHpFNY0"
      },
      "outputs": [],
      "source": [
        "df_info(df_recharge)"
      ]
    },
    {
      "cell_type": "code",
      "execution_count": null,
      "metadata": {
        "id": "s5gPuqkcFQPD"
      },
      "outputs": [],
      "source": [
        "df_info(df_sico)"
      ]
    },
    {
      "cell_type": "markdown",
      "metadata": {
        "id": "4aNuq12Wm0nt"
      },
      "source": [
        "## **Feature engineering**"
      ]
    },
    {
      "cell_type": "code",
      "execution_count": null,
      "metadata": {
        "id": "mO4R0LqkHuWz"
      },
      "outputs": [],
      "source": [
        "def create_df_location(df_location):\n",
        "    # Renommez la colonne commune_arrondissement en \"ville\"\n",
        "    df_loc_clients = df_location.select(\"msisdn\", \"ca_cr_commune\")\n",
        "\n",
        "    # Group by \"numero\" and select the most frequent \"ville\"\n",
        "    df_clients_top_villes = df_loc_clients.groupBy(\"msisdn\", \"ca_cr_commune\") \\\n",
        "        .agg(count(\"*\").alias(\"count\")) \\\n",
        "        .orderBy(desc(\"count\")) \\\n",
        "        .groupBy(\"msisdn\") \\\n",
        "        .agg(first(\"ca_cr_commune\").alias(\"ca_cr_commune\"))\n",
        "\n",
        "    return df_clients_top_villes\n",
        "def create_df_sico(df_sico):\n",
        "    taken_columns_sico = ['nd', 'date_naissance', 'date_debut_engagement']\n",
        "    df_km_sic = df_sico.select(taken_columns_sico)\n",
        "    df_km_sic = df_km_sic.withColumn(\"anciennete\", year(current_date()) - year(\"date_debut_engagement\")).drop(\"date_debut_engagement\") \\\n",
        "        .withColumn(\"age\", year(current_date()) - year(\"date_naissance\")).drop(\"date_naissance\")\n",
        "    return df_km_sic\n",
        "\n",
        "\n",
        "df_sico_created=create_df_sico(df_sico)\n",
        "df_location_client=create_df_location(df_location_night)\n",
        "df_segment_multisim_init =  df_roaming.withColumn(\"segment_sim\",when(col(\"multi_sim\").isNull(), \"Monosim\").otherwise(\"Multisim\"))\n",
        "df_recharge_created = df_recharge.groupBy(\"msisdn\").agg(avg(\"montant\").alias(\"moyenne_montant_recharge\"))\n",
        "df_segment_rfm_created=df_segment_rfm.select(\"numero\",\"segment_RFM\")\n",
        "df_segment_telco=df_segmentation_client.select(\"msisdn\",\"segment_recharge\",\"segment_marche\")"
      ]
    },
    {
      "cell_type": "code",
      "execution_count": null,
      "metadata": {
        "id": "Rbkos7Sn2naM"
      },
      "outputs": [],
      "source": [
        "df_segment_multisim=df_segment_multisim_init.join(df_sico_created,df_roaming[\"caller_msisdn\"] ==df_sico_created[\"nd\"] , \"left_outer\")\\\n",
        "                                            .join(df_location_client,df_roaming[\"caller_msisdn\"] ==df_location_client[\"msisdn\"] , \"left_outer\")\\\n",
        "                                            .join(df_segment_rfm_created, df_roaming[\"caller_msisdn\"] == df_segment_rfm_created[\"numero\"], \"left_outer\") \\\n",
        "                                            .join(df_recharge_created, df_roaming[\"caller_msisdn\"] == df_recharge_created[\"msisdn\"], \"left_outer\") \\\n",
        "                                            .join(df_segment_telco, df_roaming[\"caller_msisdn\"] == df_segment_telco[\"msisdn\"], \"left_outer\") \\\n",
        "                                            .withColumn(\"numero\",when(col(\"numero\").isNull(), \"Inactif OM\").otherwise(\"Actif OM\"))\\\n",
        "                                            .drop(\"equipment_identity\",\"multi_sim\",\"msisdn\",\"nd\") \\\n",
        "                                            .withColumnRenamed(\"numero\", \"statut_client_om\")\n",
        "df_segment_multisim.coalesce(1).write.csv(f\"{myPath}/resultat_segmentation_multisim_csv\", header=True, mode='overwrite')"
      ]
    },
    {
      "cell_type": "markdown",
      "metadata": {
        "id": "_ch_q4NonEvM"
      },
      "source": [
        "## **Exploration de la segmentation MultiSim**"
      ]
    },
    {
      "cell_type": "code",
      "execution_count": null,
      "metadata": {
        "id": "GrivloDJbPlf"
      },
      "outputs": [],
      "source": [
        "pd_multisim0=pd_segment_multisim_loaded\n",
        "pd_multisim1=pd_segment_multisim_loaded[pd_segment_multisim_loaded[\"segment_sim\"]==\"Monosim\"]\n",
        "pd_multisim2=pd_segment_multisim_loaded[pd_segment_multisim_loaded[\"segment_sim\"]==\"Multisim\"]\n",
        "\n",
        "pd_multisim_om0=pd_segment_multisim_loaded[pd_segment_multisim_loaded[\"statut_client_om\"]==\"Actif OM\"]\n",
        "pd_multisim_om1 = pd_segment_multisim_loaded[\n",
        "    (pd_segment_multisim_loaded[\"statut_client_om\"] == \"Actif OM\") &\n",
        "    (pd_segment_multisim_loaded[\"segment_sim\"] == \"Monosim\")\n",
        "]\n",
        "pd_multisim_om2 = pd_segment_multisim_loaded[\n",
        "    (pd_segment_multisim_loaded[\"statut_client_om\"] == \"Actif OM\") &\n",
        "    (pd_segment_multisim_loaded[\"segment_sim\"] == \"Multisim\")\n",
        "]\n"
      ]
    },
    {
      "cell_type": "markdown",
      "metadata": {
        "id": "olgINtfEz6sj"
      },
      "source": [
        "#### Infos générales"
      ]
    },
    {
      "cell_type": "code",
      "execution_count": null,
      "metadata": {
        "id": "Dh6GEmoKlkpv"
      },
      "outputs": [],
      "source": [
        "pd_segment_multisim_loaded[pd_segment_multisim_loaded[\"statut_client_om\"]==\"Actif OM\"].head(20)"
      ]
    },
    {
      "cell_type": "code",
      "execution_count": null,
      "metadata": {
        "id": "z8XR0OMV3guL"
      },
      "outputs": [],
      "source": [
        "df_segment_multisim_loaded.filter(col(\"statut_client_om\")==\"Actif OM\").show(5)\n",
        "df_segment_multisim_loaded.filter(col(\"statut_client_om\")==\"Inactif OM\").show(5)\n",
        "df_info_detailed(df_segment_multisim_loaded)"
      ]
    },
    {
      "cell_type": "markdown",
      "metadata": {
        "id": "i5x9dH3qX2yq"
      },
      "source": [
        "#### Pourcentage"
      ]
    },
    {
      "cell_type": "code",
      "execution_count": null,
      "metadata": {
        "id": "Sle9MtsCw9hy"
      },
      "outputs": [],
      "source": [
        "import pandas as pd\n",
        "\n",
        "def afficher_pourcentage_colonne(dataframe, nom_colonne):\n",
        "    total_lignes = len(dataframe)\n",
        "\n",
        "    # Calcul des pourcentages\n",
        "    pourcentages = dataframe[nom_colonne].value_counts(normalize=True) * 100\n",
        "\n",
        "    # Affichage des pourcentages\n",
        "    print(f\"Pourcentage des valeurs dans la colonne '{nom_colonne}':\")\n",
        "    print(pourcentages)\n",
        "\n",
        "import pandas as pd\n",
        "\n",
        "def afficher_pourcentage_intervalles(dataframe, nom_colonne, intervalle):\n",
        "    # Création des intervalles\n",
        "    intervalles = pd.cut(dataframe[nom_colonne], bins=intervalle, include_lowest=True)\n",
        "\n",
        "    # Calcul des pourcentages\n",
        "    pourcentages = intervalles.value_counts(normalize=True, sort=False) * 100\n",
        "\n",
        "    # Affichage des pourcentages\n",
        "    print(f\"Pourcentage des valeurs dans la colonne '{nom_colonne}' par intervalles:\")\n",
        "    print(pourcentages)\n"
      ]
    },
    {
      "cell_type": "code",
      "execution_count": null,
      "metadata": {
        "id": "ZhyXYlYXznpE"
      },
      "outputs": [],
      "source": [
        "colon=[]\n",
        "print(\"clients monosim\")\n",
        "afficher_pourcentage_colonne(pd_multisim1, \"segment_RFM\")\n",
        "print(\"\\nclients multisim\")\n",
        "afficher_pourcentage_colonne(pd_multisim2, \"segment_RFM\")"
      ]
    },
    {
      "cell_type": "code",
      "execution_count": null,
      "metadata": {
        "id": "6wqE2BbU49d5"
      },
      "outputs": [],
      "source": [
        "# Utilisation de la fonction avec le DataFrame pd_segment_multisim pour les colonnes \"age\" et \"anciennete\"\n",
        "intervalle_age = [0, 20, 30, 40, 50, 60, 100]  # Exemple d'intervalle pour l'âge\n",
        "intervalle_anciennete = [0, 5, 10, 15, 20,25, 30]  # Exemple d'intervalle pour l'ancienneté\n",
        "print(\"clients monsim\")\n",
        "afficher_pourcentage_intervalles(pd_multisim1, \"age\", intervalle_age)\n",
        "print(\"\\nclients multisim\")\n",
        "afficher_pourcentage_intervalles(pd_multisim2, \"age\", intervalle_age)"
      ]
    },
    {
      "cell_type": "markdown",
      "metadata": {
        "id": "Vdur-cmG0CJg"
      },
      "source": [
        "#### Segment sim et Statut OM"
      ]
    },
    {
      "cell_type": "code",
      "execution_count": null,
      "metadata": {
        "id": "1qbXRw0Z-GiW"
      },
      "outputs": [],
      "source": [
        "plot_colonne_distribution(pd_multisim0,\"segment_sim\")"
      ]
    },
    {
      "cell_type": "code",
      "execution_count": null,
      "metadata": {
        "id": "1GvDYfk7cb4x"
      },
      "outputs": [],
      "source": [
        "plot_colonne_distribution(pd_multisim2,\"statut_client_om\")"
      ]
    },
    {
      "cell_type": "markdown",
      "metadata": {
        "id": "LfgB4Q7w0J3I"
      },
      "source": [
        "#### Segment RFM"
      ]
    },
    {
      "cell_type": "code",
      "execution_count": null,
      "metadata": {
        "id": "cd5D9jI1d5X5"
      },
      "outputs": [],
      "source": [
        "#SEGMENT RFM\n",
        "colonne=\"segment_RFM\"\n",
        "print(\"LES CLIENTS AVEC OM \\n\\n\")\n",
        "plot_colonne_distribution(pd_multisim_om0,colonne)"
      ]
    },
    {
      "cell_type": "code",
      "execution_count": null,
      "metadata": {
        "id": "Va94c6qh1uPf"
      },
      "outputs": [],
      "source": [
        "print(\"\\n\\nLES CLIENTS MONOSIM AVEC OM \\n\\n\")\n",
        "plot_colonne_distribution(pd_multisim_om1,colonne)"
      ]
    },
    {
      "cell_type": "code",
      "execution_count": null,
      "metadata": {
        "id": "tsV4KPoF1yAi"
      },
      "outputs": [],
      "source": [
        "print(\"\\n\\n\\n\\nLES CLIENTS MULTISIM AVEC OM \\n\\n\")\n",
        "plot_colonne_distribution(pd_multisim_om2,colonne)"
      ]
    },
    {
      "cell_type": "markdown",
      "metadata": {
        "id": "Dc49NmMR0TiU"
      },
      "source": [
        "#### Segment recharge"
      ]
    },
    {
      "cell_type": "code",
      "execution_count": null,
      "metadata": {
        "id": "uYbrLg1Pprqe"
      },
      "outputs": [],
      "source": [
        "#SEGMENT RECHARGE\n",
        "colonne=\"segment_recharge\"\n",
        "print(\"LES CLIENTS SANS DISTINCTION \\n\\n\")\n",
        "plot_colonne_distribution(pd_multisim0,colonne)"
      ]
    },
    {
      "cell_type": "code",
      "execution_count": null,
      "metadata": {
        "id": "N8GeWCgc15iv"
      },
      "outputs": [],
      "source": [
        "print(\"\\n\\nLES CLIENTS MONOSIM \\n\\n\")\n",
        "plot_colonne_distribution(pd_multisim1,colonne)"
      ]
    },
    {
      "cell_type": "code",
      "execution_count": null,
      "metadata": {
        "id": "ZXOyB2jE17GA"
      },
      "outputs": [],
      "source": [
        "print(\"\\n\\n\\n\\nLES CLIENTS MULTISIM \\n\\n\")\n",
        "plot_colonne_distribution(pd_multisim2,colonne)"
      ]
    },
    {
      "cell_type": "markdown",
      "metadata": {
        "id": "9fTWWrlX0a0x"
      },
      "source": [
        "#### Segment marché"
      ]
    },
    {
      "cell_type": "code",
      "execution_count": null,
      "metadata": {
        "id": "5OuXNOgYqT3c"
      },
      "outputs": [],
      "source": [
        "#SEGMENT MARCHE\n",
        "colonne=\"segment_marche\"\n",
        "print(\"LES CLIENTS SANS DISTINCTION \\n\\n\")\n",
        "plot_colonne_distribution(pd_multisim0,colonne)"
      ]
    },
    {
      "cell_type": "code",
      "execution_count": null,
      "metadata": {
        "id": "fmeWMVmA1-GG"
      },
      "outputs": [],
      "source": [
        "print(\"\\n\\nLES CLIENTS MONOSIM \\n\\n\")\n",
        "plot_colonne_distribution(pd_multisim1,colonne)"
      ]
    },
    {
      "cell_type": "code",
      "execution_count": null,
      "metadata": {
        "id": "V5vfy-x81_xO"
      },
      "outputs": [],
      "source": [
        "print(\"\\n\\n\\n\\nLES CLIENTS MULTISIM \\n\\n\")\n",
        "plot_colonne_distribution(pd_multisim2,colonne)"
      ]
    },
    {
      "cell_type": "markdown",
      "metadata": {
        "id": "NWB8e1Jh0ryn"
      },
      "source": [
        "#### Age"
      ]
    },
    {
      "cell_type": "code",
      "execution_count": null,
      "metadata": {
        "id": "utyRRKNzsxvZ"
      },
      "outputs": [],
      "source": [
        "#AGE\n",
        "colonne=\"age\"\n",
        "print(\"LES CLIENTS SANS DISTINCTION \\n\\n\")\n",
        "plot_age_distribution(pd_multisim0,colonne,10)"
      ]
    },
    {
      "cell_type": "code",
      "execution_count": null,
      "metadata": {
        "id": "5_rcS9Jy2ERo"
      },
      "outputs": [],
      "source": [
        "print(\"\\n\\nLES CLIENTS MONOSIM \\n\\n\")\n",
        "plot_age_distribution(pd_multisim1,colonne)"
      ]
    },
    {
      "cell_type": "code",
      "execution_count": null,
      "metadata": {
        "id": "qmXLdQAh2Fnw"
      },
      "outputs": [],
      "source": [
        "print(\"\\n\\n\\n\\nLES CLIENTS MULTISIM \\n\\n\")\n",
        "plot_age_distribution(pd_multisim2,colonne)"
      ]
    },
    {
      "cell_type": "markdown",
      "metadata": {
        "id": "FV7jHlFN0wU3"
      },
      "source": [
        "#### Anciennete"
      ]
    },
    {
      "cell_type": "code",
      "execution_count": null,
      "metadata": {
        "id": "VklERNeNv1cy"
      },
      "outputs": [],
      "source": [
        "# AGE\n",
        "colonne = \"anciennete\"  # Replace with the actual column name\n",
        "print(\"LES CLIENTS SANS DISTINCTION \\n\\n\")\n",
        "plot_anciennete_distribution(pd_multisim0, colonne, 5)"
      ]
    },
    {
      "cell_type": "code",
      "execution_count": null,
      "metadata": {
        "id": "Qchb2T9Z2Jg4"
      },
      "outputs": [],
      "source": [
        "print(\"\\n\\nLES CLIENTS MONOSIM \\n\\n\")\n",
        "plot_anciennete_distribution(pd_multisim1, colonne, 5)"
      ]
    },
    {
      "cell_type": "code",
      "execution_count": null,
      "metadata": {
        "id": "mUNZKE_t2NAA"
      },
      "outputs": [],
      "source": [
        "print(\"\\n\\n\\n\\nLES CLIENTS MULTISIM \\n\\n\")\n",
        "plot_anciennete_distribution(pd_multisim2, colonne,  5)"
      ]
    },
    {
      "cell_type": "markdown",
      "metadata": {
        "id": "PLuqIYTvfiS5"
      },
      "source": [
        "#### Communes"
      ]
    },
    {
      "cell_type": "code",
      "execution_count": null,
      "metadata": {
        "id": "7EcNMaNBfxdK"
      },
      "outputs": [],
      "source": [
        "df=pd_multisim0\n",
        "top_communes = df['ca_cr_commune'].value_counts().head(30)\n",
        "df_top_communes = df[df['ca_cr_commune'].isin(top_communes.index)]\n",
        "plot_colonne_distribution(df_top_communes ,'ca_cr_commune')"
      ]
    },
    {
      "cell_type": "code",
      "execution_count": null,
      "metadata": {
        "id": "5jv0vPd2hpqx"
      },
      "outputs": [],
      "source": [
        "df=pd_multisim1\n",
        "top_communes = df['ca_cr_commune'].value_counts().head(30)\n",
        "df_top_communes = df[df['ca_cr_commune'].isin(top_communes.index)]\n",
        "plot_colonne_distribution(df_top_communes ,'ca_cr_commune')"
      ]
    },
    {
      "cell_type": "code",
      "execution_count": null,
      "metadata": {
        "id": "nzRU7jtOhsm0"
      },
      "outputs": [],
      "source": [
        "df=pd_multisim2\n",
        "top_communes = df['ca_cr_commune'].value_counts().head(30)\n",
        "df_top_communes = df[df['ca_cr_commune'].isin(top_communes.index)]\n",
        "plot_colonne_distribution(df_top_communes ,'ca_cr_commune')"
      ]
    },
    {
      "cell_type": "markdown",
      "metadata": {
        "id": "ZRVgG8kUKLy7"
      },
      "source": [
        "# **SEGMENTATION SCORING MULTISIM**"
      ]
    },
    {
      "cell_type": "markdown",
      "metadata": {
        "id": "2e0Bbrf5LFwC"
      },
      "source": [
        "## **Exploration du dataset**"
      ]
    },
    {
      "cell_type": "code",
      "execution_count": null,
      "metadata": {
        "id": "MB9iX1rKOP2O",
        "colab": {
          "base_uri": "https://localhost:8080/"
        },
        "outputId": "091893ac-d349-448a-ebc8-ed1152e1720c"
      },
      "outputs": [
        {
          "output_type": "stream",
          "name": "stdout",
          "text": [
            "<class 'pandas.core.frame.DataFrame'>\n",
            "RangeIndex: 345995 entries, 0 to 345994\n",
            "Data columns (total 22 columns):\n",
            " #   Column                       Non-Null Count   Dtype  \n",
            "---  ------                       --------------   -----  \n",
            " 0   msisdn                       345995 non-null  int64  \n",
            " 1   imei                         236048 non-null  float64\n",
            " 2   multi_sim                    149561 non-null  float64\n",
            " 3   age                          339823 non-null  float64\n",
            " 4   sex                          339721 non-null  object \n",
            " 5   segment_marche               339780 non-null  object \n",
            " 6   appel_orange_3_last_m        345995 non-null  float64\n",
            " 7   appel_free_3_last_m          345995 non-null  float64\n",
            " 8   appel_expresso_3_last_m      345995 non-null  float64\n",
            " 9   min_appel_orange_3_last_m    345995 non-null  float64\n",
            " 10  min_appel_free_3_last_m      345995 non-null  float64\n",
            " 11  min_appel_expresso_3_last_m  345995 non-null  float64\n",
            " 12  ca_cr_commune_day            345860 non-null  object \n",
            " 13  ca_cr_commune_night          341789 non-null  object \n",
            " 14  usage_data_90j               345995 non-null  float64\n",
            " 15  year                         345995 non-null  int64  \n",
            " 16  month                        345995 non-null  int64  \n",
            " 17  top1                         342561 non-null  object \n",
            " 18  top2                         324802 non-null  object \n",
            " 19  top3                         320619 non-null  object \n",
            " 20  top4                         316508 non-null  object \n",
            " 21  top5                         312494 non-null  object \n",
            "dtypes: float64(10), int64(3), object(9)\n",
            "memory usage: 58.1+ MB\n"
          ]
        }
      ],
      "source": [
        "pd_reporting_multisim.info()"
      ]
    },
    {
      "cell_type": "code",
      "execution_count": 7,
      "metadata": {
        "id": "fiymuJSFkfkT",
        "colab": {
          "base_uri": "https://localhost:8080/"
        },
        "outputId": "0eda1588-f325-49c5-91b0-bd07a4aa31de"
      },
      "outputs": [
        {
          "output_type": "stream",
          "name": "stdout",
          "text": [
            "<class 'pandas.core.frame.DataFrame'>\n",
            "RangeIndex: 13019721 entries, 0 to 13019720\n",
            "Data columns (total 14 columns):\n",
            " #   Column                       Dtype  \n",
            "---  ------                       -----  \n",
            " 0   numero                       int64  \n",
            " 1   age                          float64\n",
            " 2   sex                          object \n",
            " 3   segment_marche               object \n",
            " 4   appel_orange_3_last_m        float64\n",
            " 5   appel_free_3_last_m          float64\n",
            " 6   appel_expresso_3_last_m      float64\n",
            " 7   min_appel_orange_3_last_m    float64\n",
            " 8   min_appel_free_3_last_m      float64\n",
            " 9   min_appel_expresso_3_last_m  float64\n",
            " 10  ca_cr_commune_day            object \n",
            " 11  ca_cr_commune_night          object \n",
            " 12  usage_data_90j               float64\n",
            " 13  top_appel                    object \n",
            "dtypes: float64(8), int64(1), object(5)\n",
            "memory usage: 1.4+ GB\n"
          ]
        }
      ],
      "source": [
        "pd_total_multisim.info()"
      ]
    },
    {
      "cell_type": "code",
      "execution_count": null,
      "metadata": {
        "id": "X8WuTLCaiXcP"
      },
      "outputs": [],
      "source": [
        "pd_reporting_multisim.isna().sum()"
      ]
    },
    {
      "cell_type": "code",
      "execution_count": null,
      "metadata": {
        "id": "svF1aqiWTU94",
        "colab": {
          "base_uri": "https://localhost:8080/",
          "height": 763
        },
        "outputId": "a46c9bf8-cdb1-46ae-fcb4-39b3bdb185b3"
      },
      "outputs": [
        {
          "output_type": "stream",
          "name": "stderr",
          "text": [
            "<ipython-input-11-dc77555e12a3>:15: FutureWarning: \n",
            "\n",
            "Passing `palette` without assigning `hue` is deprecated and will be removed in v0.14.0. Assign the `x` variable to `hue` and set `legend=False` for the same effect.\n",
            "\n",
            "  sns.countplot(x=column, data=dataframe, palette=custom_palette)\n",
            "<ipython-input-11-dc77555e12a3>:15: UserWarning: The palette list has more values (6) than needed (2), which may not be intended.\n",
            "  sns.countplot(x=column, data=dataframe, palette=custom_palette)\n",
            "<ipython-input-11-dc77555e12a3>:30: UserWarning: FixedFormatter should only be used together with FixedLocator\n",
            "  ax.set_xticklabels(ax.get_xticklabels(), rotation=45, ha='right')\n"
          ]
        },
        {
          "output_type": "display_data",
          "data": {
            "text/plain": [
              "<Figure size 2000x800 with 1 Axes>"
            ],
            "image/png": "[encoded data removed]"
          },
          "metadata": {}
        }
      ],
      "source": [
        "pd_reporting_multisim_stat=  pd_reporting_multisim.copy()\n",
        "pd_reporting_multisim_stat[\"segment_sim\"] = pd_reporting_multisim_stat[\"multi_sim\"].apply(lambda x: \"Monosim\" if pd.isna(x) else \"Multisim\")\n",
        "plot_colonne_distribution(pd_reporting_multisim_stat,\"segment_sim\")"
      ]
    },
    {
      "cell_type": "markdown",
      "metadata": {
        "id": "je8T32kLRMuT"
      },
      "source": [
        "## **Feature engineering**"
      ]
    },
    {
      "cell_type": "markdown",
      "metadata": {
        "id": "Qf8SArMHKnng"
      },
      "source": [
        "### Nettoyage et transformation"
      ]
    },
    {
      "cell_type": "markdown",
      "metadata": {
        "id": "4XVvQHz2Z34i"
      },
      "source": [
        "#### Imputation"
      ]
    },
    {
      "cell_type": "code",
      "execution_count": 9,
      "metadata": {
        "colab": {
          "base_uri": "https://localhost:8080/"
        },
        "id": "BzqiNIM4K9zV",
        "outputId": "51621bbb-f60b-4199-9b26-aa52821d9e20"
      },
      "outputs": [
        {
          "output_type": "stream",
          "name": "stdout",
          "text": [
            "<class 'pandas.core.frame.DataFrame'>\n",
            "RangeIndex: 345995 entries, 0 to 345994\n",
            "Data columns (total 13 columns):\n",
            " #   Column                       Non-Null Count   Dtype  \n",
            "---  ------                       --------------   -----  \n",
            " 0   msisdn                       345995 non-null  int64  \n",
            " 1   multi_sim                    149561 non-null  float64\n",
            " 2   age                          345995 non-null  float64\n",
            " 3   sex                          345995 non-null  object \n",
            " 4   segment_marche               345995 non-null  object \n",
            " 5   appel_orange_3_last_m        345995 non-null  float64\n",
            " 6   appel_free_3_last_m          345995 non-null  float64\n",
            " 7   appel_expresso_3_last_m      345995 non-null  float64\n",
            " 8   min_appel_orange_3_last_m    345995 non-null  float64\n",
            " 9   min_appel_free_3_last_m      345995 non-null  float64\n",
            " 10  min_appel_expresso_3_last_m  345995 non-null  float64\n",
            " 11  ca_cr_commune_night          345995 non-null  object \n",
            " 12  usage_data_90j               345995 non-null  float64\n",
            "dtypes: float64(9), int64(1), object(3)\n",
            "memory usage: 34.3+ MB\n",
            "<class 'pandas.core.frame.DataFrame'>\n",
            "RangeIndex: 13019721 entries, 0 to 13019720\n",
            "Data columns (total 12 columns):\n",
            " #   Column                       Dtype  \n",
            "---  ------                       -----  \n",
            " 0   numero                       int64  \n",
            " 1   age                          float64\n",
            " 2   sex                          object \n",
            " 3   segment_marche               object \n",
            " 4   appel_orange_3_last_m        float64\n",
            " 5   appel_free_3_last_m          float64\n",
            " 6   appel_expresso_3_last_m      float64\n",
            " 7   min_appel_orange_3_last_m    float64\n",
            " 8   min_appel_free_3_last_m      float64\n",
            " 9   min_appel_expresso_3_last_m  float64\n",
            " 10  ca_cr_commune_night          object \n",
            " 11  usage_data_90j               float64\n",
            "dtypes: float64(8), int64(1), object(3)\n",
            "memory usage: 1.2+ GB\n"
          ]
        }
      ],
      "source": [
        "def clean_data(df):\n",
        "    # Copie du DataFrame pour éviter les modifications inattendues\n",
        "    df_clean = df.copy().drop([ \"ca_cr_commune_day\"], axis=1)\n",
        "\n",
        "    # Conversion de la colonne \"msisdn\" en type str\n",
        "    #df_clean[\"msisdn\"] = df_clean[\"msisdn\"].astype(str)\n",
        "\n",
        "    # Colonnes à nettoyer/remplir\n",
        "    columns_to_clean = [\n",
        "        'appel_orange_3_last_m', 'appel_free_3_last_m', 'appel_expresso_3_last_m',\n",
        "        'min_appel_orange_3_last_m', 'min_appel_free_3_last_m', 'min_appel_expresso_3_last_m',\n",
        "        'usage_data_90j'\n",
        "    ]\n",
        "\n",
        "    # Conversion des valeurs nulles des colonnes en zéro\n",
        "    for column in columns_to_clean:\n",
        "        df_clean[column] = df_clean[column].fillna(0)\n",
        "\n",
        "    # Imputation de l'âge avec la moyenne\n",
        "    age_mean = df_clean[\"age\"].mean()\n",
        "    df_clean[\"age\"] = df_clean[\"age\"].fillna(age_mean)\n",
        "\n",
        "    # Imputation du sexe avec des valeurs aléatoires \"M\" ou \"F\"\n",
        "    missing_sex_values_count = df[\"sex\"].isnull().sum()\n",
        "    df_clean.loc[df[\"sex\"].isnull(), \"sex\"] = np.random.choice([\"M\", \"F\"], size=missing_sex_values_count)\n",
        "\n",
        "    # Imputation des variables \"segment_marche\" et \"ca_cr_commune_night\" avec des valeurs par défaut\n",
        "    df_clean[\"segment_marche\"] = df_clean[\"segment_marche\"].fillna(\"AUTRES\")\n",
        "    df_clean[\"ca_cr_commune_night\"] = df_clean[\"ca_cr_commune_night\"].fillna(\"Autres\")\n",
        "\n",
        "    return df_clean\n",
        "\n",
        "# Exemple d'utilisation de la fonction sur votre DataFrame\n",
        "# Remplacez pd_reporting_multisim par le nom de votre DataFrame\n",
        "pd_reporting_multisim_clean = clean_data(pd_reporting_multisim.drop([\"imei\", \"year\", \"month\",\"top1\", \"top2\", \"top3\", \"top4\", \"top5\"],axis=1))\n",
        "pd_total_multisim_clean=clean_data(pd_total_multisim.drop(\"top_appel\",axis=1))\n",
        "pd_reporting_multisim_clean.info()\n",
        "pd_total_multisim_clean.info()"
      ]
    },
    {
      "cell_type": "markdown",
      "metadata": {
        "id": "p6ZoWz6SZ96H"
      },
      "source": [
        "#### Encodage"
      ]
    },
    {
      "cell_type": "code",
      "execution_count": 31,
      "metadata": {
        "id": "TwnfkcbkLCc0"
      },
      "outputs": [],
      "source": [
        "# Encodage des variables catégorielles\n",
        "from sklearn.preprocessing import LabelEncoder, OrdinalEncoder\n",
        "\n",
        "def encode_columns(df_to_encode, categorical_columns):\n",
        "  df_encoded = df_to_encode.copy()\n",
        "  # Encodage des variables catégorielles\n",
        "  label_encoder = LabelEncoder()\n",
        "  for col in categorical_columns:\n",
        "      new_col_name = col + \"_encoded\"\n",
        "      df_encoded[new_col_name] = label_encoder.fit_transform(df_encoded[col])\n",
        "  return df_encoded\n",
        "\n",
        "\n",
        "pd_reporting_multisim_encoded=pd_reporting_multisim_clean.copy()\n",
        "pd_total_multisim_encoded=pd_total_multisim_clean.copy()\n",
        "# Encoder la variable \"multisim\"\n",
        "pd_reporting_multisim_encoded[\"multi_sim\"] = pd_reporting_multisim_encoded[\"multi_sim\"].apply(lambda x: 1 if pd.isna(x) else 2)\n",
        "\n",
        "#Encoder les autres colonnes catégorielles\n",
        "columns_to_encode=[\"sex\",\"ca_cr_commune_night\",\"segment_marche\"]\n",
        "pd_reporting_multisim_encoded=encode_columns(pd_reporting_multisim_encoded,columns_to_encode)\n",
        "pd_total_multisim_encoded=encode_columns(pd_total_multisim_encoded,columns_to_encode)"
      ]
    },
    {
      "cell_type": "markdown",
      "metadata": {
        "id": "y-6vSZ4MHBp1"
      },
      "source": [
        "### Pouvoir prédictif des variables"
      ]
    },
    {
      "cell_type": "markdown",
      "metadata": {
        "id": "5NeWxxPPJCnc"
      },
      "source": [
        "A l'aide de modèles de machine learning, classer les variables par leur pouvoir prédictif (pour prédire si un client est monosim 0 et multisim 1), et ne conserver que celles qui ont le plus fort impact sur la variable cible.\n",
        "\n",
        "On applique pour la sélection de variables une régression logistique avec pénalité lasso : on supprimera les variables ayant un poids de 0 avec la pénalité lasso"
      ]
    },
    {
      "cell_type": "code",
      "execution_count": null,
      "metadata": {
        "colab": {
          "base_uri": "https://localhost:8080/",
          "height": 1000
        },
        "id": "TVpIG0uUHQJ5",
        "outputId": "d35ab911-3200-4b5f-d1d6-3a0324a409c4"
      },
      "outputs": [
        {
          "name": "stderr",
          "output_type": "stream",
          "text": [
            "<ipython-input-11-037b0975c7e8>:43: FutureWarning: \n",
            "\n",
            "Passing `palette` without assigning `hue` is deprecated and will be removed in v0.14.0. Assign the `y` variable to `hue` and set `legend=False` for the same effect.\n",
            "\n",
            "  sns.barplot(x=\"Importance des variables\", y=\"Nom des variables\",\n"
          ]
        },
        {
          "name": "stdout",
          "output_type": "stream",
          "text": [
            "Variables sélectionnées : Index(['age', 'appel_orange_3_last_m', 'appel_free_3_last_m',\n",
            "       'appel_expresso_3_last_m', 'min_appel_orange_3_last_m',\n",
            "       'min_appel_free_3_last_m', 'min_appel_expresso_3_last_m',\n",
            "       'usage_data_90j', 'sex_encoded', 'segment_marche_encoded'],\n",
            "      dtype='object')\n"
          ]
        },
        {
          "data": {
            "image/png": "[encoded data removed]",
            "text/plain": [
              "<Figure size 800x1000 with 1 Axes>"
            ]
          },
          "metadata": {},
          "output_type": "display_data"
        }
      ],
      "source": [
        "import pandas as pd\n",
        "from sklearn.linear_model import LogisticRegression\n",
        "from sklearn.model_selection import train_test_split\n",
        "from sklearn.preprocessing import StandardScaler\n",
        "\n",
        "datafram=pd_reporting_multisim_encoded\n",
        "# Supprimer les lignes avec des valeurs manquantes\n",
        "datafram = datafram.dropna()\n",
        "\n",
        "columns_to_drop=['multi_sim','msisdn', 'sex','ca_cr_commune_night','ca_cr_commune_night_encoded','segment_marche']\n",
        "# Définir les variables indépendantes (X) et la variable cible (y)\n",
        "X = datafram.drop(columns=columns_to_drop)  # Variables indépendantes\n",
        "y = datafram['multi_sim']  # Variable cible\n",
        "\n",
        "# Diviser le jeu de données en ensembles d'entraînement et de test\n",
        "X_train, X_test, y_train, y_test = train_test_split(X, y, test_size=0.2, random_state=42)\n",
        "\n",
        "# Normaliser les variables indépendantes\n",
        "scaler = StandardScaler()\n",
        "X_train_scaled = scaler.fit_transform(X_train)\n",
        "X_test_scaled = scaler.transform(X_test)\n",
        "\n",
        "# Appliquer la régression logistique avec pénalité Lasso\n",
        "model = LogisticRegression(penalty='l1', solver='liblinear')\n",
        "model.fit(X_train_scaled, y_train)\n",
        "\n",
        "# Get the model coefficients after fitting\n",
        "coef = model.coef_[0]\n",
        "\n",
        "# Calculate importance based on absolute coefficient values\n",
        "importance_abs = np.abs(coef) / np.sum(np.abs(coef))\n",
        "\n",
        "# Create a DataFrame for visualization\n",
        "feat_imp_df = pd.DataFrame(data={\n",
        "    \"Nom des variables\": X.columns,\n",
        "    \"Importance des variables\": importance_abs\n",
        "})\n",
        "feat_imp_df = feat_imp_df.sort_values(\"Importance des variables\", ascending=False)\n",
        "\n",
        "\n",
        "# Create the bar plot\n",
        "fig, ax = plt.subplots(figsize=(8, 10))  # Adjust figure size as needed\n",
        "sns.barplot(x=\"Importance des variables\", y=\"Nom des variables\",\n",
        "            data=feat_imp_df, palette=\"mako\", ax=ax)\n",
        "\n",
        "# Annotate bars with percentage values\n",
        "total = len(feat_imp_df)\n",
        "for p in ax.patches:\n",
        "    percentage = '{:.1f}%'.format(100 * p.get_width())\n",
        "    x_pos = p.get_width() + 0.01\n",
        "    y_pos = p.get_y() + p.get_height() / 2\n",
        "    ax.annotate(percentage, (x_pos, y_pos), ha='left', va='center')\n",
        "\n",
        "# Afficher les coefficients non nuls (poids non nuls) après la pénalité Lasso\n",
        "selected_features = X.columns[model.coef_[0] != 0]\n",
        "print(\"Variables sélectionnées :\", selected_features)\n",
        "\n",
        "plt.title('Importance des variables')\n",
        "plt.show()"
      ]
    },
    {
      "cell_type": "markdown",
      "metadata": {
        "id": "iW1AARWdrim6"
      },
      "source": [
        "### Sélection des variables"
      ]
    },
    {
      "cell_type": "code",
      "execution_count": 32,
      "metadata": {
        "colab": {
          "base_uri": "https://localhost:8080/"
        },
        "id": "4KeI4LzsRSl8",
        "outputId": "69be1ed7-5676-469e-f9b3-d8fc9653c904"
      },
      "outputs": [
        {
          "output_type": "stream",
          "name": "stdout",
          "text": [
            "<class 'pandas.core.frame.DataFrame'>\n",
            "RangeIndex: 345995 entries, 0 to 345994\n",
            "Data columns (total 12 columns):\n",
            " #   Column                       Non-Null Count   Dtype  \n",
            "---  ------                       --------------   -----  \n",
            " 0   msisdn                       345995 non-null  int64  \n",
            " 1   multi_sim                    345995 non-null  int64  \n",
            " 2   age                          345995 non-null  float64\n",
            " 3   appel_orange_3_last_m        345995 non-null  float64\n",
            " 4   appel_free_3_last_m          345995 non-null  float64\n",
            " 5   appel_expresso_3_last_m      345995 non-null  float64\n",
            " 6   min_appel_orange_3_last_m    345995 non-null  float64\n",
            " 7   min_appel_free_3_last_m      345995 non-null  float64\n",
            " 8   min_appel_expresso_3_last_m  345995 non-null  float64\n",
            " 9   usage_data_90j               345995 non-null  float64\n",
            " 10  sex_encoded                  345995 non-null  int64  \n",
            " 11  segment_marche_encoded       345995 non-null  int64  \n",
            "dtypes: float64(8), int64(4)\n",
            "memory usage: 31.7 MB\n"
          ]
        }
      ],
      "source": [
        "columns_to_delete=[\"segment_marche\",\"sex\",\"ca_cr_commune_night\",\"ca_cr_commune_night_encoded\"]\n",
        "pd_reporting_multisim_fin = pd_reporting_multisim_encoded.copy().drop(columns_to_delete,axis=1)\n",
        "pd_reporting_multisim_fin.info()"
      ]
    },
    {
      "cell_type": "code",
      "source": [
        "pd_total_multisim_fin = pd_total_multisim_encoded.copy().drop(columns_to_delete,axis=1)\n",
        "pd_total_multisim_fin.info()"
      ],
      "metadata": {
        "colab": {
          "base_uri": "https://localhost:8080/"
        },
        "id": "LXN6YdfS2o7e",
        "outputId": "5a7e7b51-1952-43a9-9732-fd62fc4d2946"
      },
      "execution_count": 33,
      "outputs": [
        {
          "output_type": "stream",
          "name": "stdout",
          "text": [
            "<class 'pandas.core.frame.DataFrame'>\n",
            "RangeIndex: 13019721 entries, 0 to 13019720\n",
            "Data columns (total 11 columns):\n",
            " #   Column                       Dtype  \n",
            "---  ------                       -----  \n",
            " 0   numero                       int64  \n",
            " 1   age                          float64\n",
            " 2   appel_orange_3_last_m        float64\n",
            " 3   appel_free_3_last_m          float64\n",
            " 4   appel_expresso_3_last_m      float64\n",
            " 5   min_appel_orange_3_last_m    float64\n",
            " 6   min_appel_free_3_last_m      float64\n",
            " 7   min_appel_expresso_3_last_m  float64\n",
            " 8   usage_data_90j               float64\n",
            " 9   sex_encoded                  int64  \n",
            " 10  segment_marche_encoded       int64  \n",
            "dtypes: float64(8), int64(3)\n",
            "memory usage: 1.1 GB\n"
          ]
        }
      ]
    },
    {
      "cell_type": "markdown",
      "metadata": {
        "id": "qjz_QrfBrp23"
      },
      "source": [
        "### Corrélation"
      ]
    },
    {
      "cell_type": "code",
      "execution_count": null,
      "metadata": {
        "colab": {
          "base_uri": "https://localhost:8080/",
          "height": 1000
        },
        "id": "_VnFU8WBBAP2",
        "outputId": "0edfde59-353e-43c2-9177-e88dae385174"
      },
      "outputs": [
        {
          "data": {
            "image/png": "[encoded data removed]",
            "text/plain": [
              "<Figure size 1500x1200 with 2 Axes>"
            ]
          },
          "metadata": {},
          "output_type": "display_data"
        }
      ],
      "source": [
        "def plot_correlation_matrix_multisim(dataframe):\n",
        "    # Reset background style\n",
        "    sns.set_style('whitegrid')\n",
        "\n",
        "    # Calculate the correlation matrix excluding certain columns\n",
        "    corr = dataframe.drop(columns=['msisdn']).corr()\n",
        "\n",
        "    # Create a mask to only show the lower triangle of the matrix\n",
        "    mask = np.zeros_like(corr)\n",
        "    mask[np.triu_indices_from(mask, k=1)] = True\n",
        "\n",
        "    # Plot the heatmap\n",
        "    plt.figure(figsize=(15, 12))\n",
        "    sns.heatmap(corr, mask=mask, annot=True, center=0, cmap=\"viridis_r\", fmt='.1f', linewidths=2)\n",
        "    plt.title('Matrice de corrélation', fontsize=14)\n",
        "    plt.show()\n",
        "\n",
        "plot_correlation_matrix_multisim(pd_reporting_multisim_final)"
      ]
    },
    {
      "cell_type": "markdown",
      "metadata": {
        "id": "Q5bUDxbVssL6"
      },
      "source": [
        "### Découpage et normalisation des données"
      ]
    },
    {
      "cell_type": "code",
      "execution_count": 49,
      "metadata": {
        "colab": {
          "base_uri": "https://localhost:8080/"
        },
        "id": "fRKeTSIysxEl",
        "outputId": "119b47df-2dfc-4d5c-f360-d8ada6a532fc"
      },
      "outputs": [
        {
          "output_type": "execute_result",
          "data": {
            "text/plain": [
              "(69199, 10)"
            ]
          },
          "metadata": {},
          "execution_count": 49
        }
      ],
      "source": [
        "from sklearn.preprocessing import StandardScaler\n",
        "\n",
        "# Séparation des features et de la cible\n",
        "X = pd_reporting_multisim_final.drop([\"msisdn\", \"multi_sim\"], axis=1)\n",
        "y = pd_reporting_multisim_final[\"multi_sim\"]\n",
        "\n",
        "# Split du dataset en ensemble d'entraînement et ensemble de test\n",
        "X_train_final, X_test_final, y_train_final, y_test_final = train_test_split(X, y, test_size=0.2, random_state=42)\n",
        "\n",
        "# Standardisation des features (mise à l'échelle)\n",
        "scaler = StandardScaler()\n",
        "X_train_scaled = scaler.fit_transform(X_train_final)\n",
        "X_test_scaled = scaler.transform(X_test_final)\n",
        "X_test_scaled.shape"
      ]
    },
    {
      "cell_type": "markdown",
      "metadata": {
        "id": "snQIP6EXLL47"
      },
      "source": [
        "## **Entraînement des modèles**"
      ]
    },
    {
      "cell_type": "markdown",
      "metadata": {
        "id": "VYnAm3lI9ZJs"
      },
      "source": [
        "### Fonctions d'évaluation des modèles"
      ]
    },
    {
      "cell_type": "markdown",
      "metadata": {
        "id": "9IB2CqPGgPpX"
      },
      "source": [
        "On crée des fonctions pour évaluer nos modèles :"
      ]
    },
    {
      "cell_type": "code",
      "execution_count": 14,
      "metadata": {
        "id": "KbqWtPIGgPpX"
      },
      "outputs": [],
      "source": [
        "import pandas as pd\n",
        "from sklearn import metrics\n",
        "\n",
        "def model_score(y, y_pred):\n",
        "    acc = np.round(metrics.accuracy_score(y, y_pred)*100)\n",
        "    prec =np.round( metrics.precision_score(y, y_pred)*100)\n",
        "    sens =np.round( metrics.recall_score(y, y_pred)*100)\n",
        "    f_1 = np.round(2 * (prec * sens) / (prec + sens))\n",
        "\n",
        "    # Créer un dataframe pandas pour stocker les scores\n",
        "    score_df = pd.DataFrame({\n",
        "        'Metrique': ['Accuracy', 'Précision', 'Sensibilité', 'F1 Score'],\n",
        "        'Score': [f\"{acc}%\", f\"{prec}%\", f\"{sens}%\", f\"{f_1}%\"]\n",
        "    })\n",
        "\n",
        "    return score_df\n",
        "\n",
        "def matrice_conf(y, y_pred):\n",
        "    # Calcul de la matrice de confusion\n",
        "    cf = confusion_matrix(y, y_pred)\n",
        "    # Calcul des pourcentages\n",
        "    cf_percent = np.round(cf.astype('float') / np.sum(cf) * 100, decimals=2)\n",
        "\n",
        "    # Définition des annotations personnalisées avec les pourcentages\n",
        "    annotations = [['Vrais Monosim\\n' + str(cf_percent[0, 0]) + '%', 'Faux Multisim\\n' + str(cf_percent[0, 1]) + '%'],\n",
        "                   ['Faux Monosim\\n' + str(cf_percent[1, 0]) + '%', 'Vrais Multisim\\n' + str(cf_percent[1, 1]) + '%']]\n",
        "\n",
        "    # Affichage de la matrice de confusion avec seaborn\n",
        "    sns.heatmap(cf_percent, annot=np.array(annotations), fmt='', cmap='Greens', cbar=False)\n",
        "\n",
        "\n",
        "    # Affichage de la matrice de confusion avec seaborn\n",
        "    sns.heatmap(cf_percent, annot=np.array(annotations), fmt='', cmap='Greens', cbar=False)\n",
        "    # Définition des légendes personnalisées pour la matrice\n",
        "    plt.xlabel('Predicted labels')\n",
        "    plt.ylabel('True labels')\n",
        "    plt.title('Matrice de Confusion en pourcentage')\n",
        "    # Affichage de la matrice\n",
        "    plt.show()\n",
        "\n",
        "def learning_curve_nn(history):           #learning curve pour les réseaux de neurones\n",
        "    plt.plot(history.history['accuracy'])\n",
        "    plt.title('model accuracy')\n",
        "    plt.ylabel('accuracy')\n",
        "    plt.xlabel('epoch')\n",
        "    plt.show()\n",
        "\n",
        "    plt.plot(history.history['loss'])\n",
        "    plt.title('model loss')\n",
        "    plt.ylabel('loss')\n",
        "    plt.xlabel('epoch')\n",
        "    plt.show()\n",
        "\n",
        "def recap_model(dict_model,y):\n",
        "    res=pd.DataFrame(index=list(dict_model.keys()))\n",
        "    accu=[]\n",
        "    prec=[]\n",
        "    sens=[]\n",
        "    f_1=[]\n",
        "    somme=[]\n",
        "    for key in dict_model.keys():\n",
        "        a = metrics.accuracy_score(y,dict_model[key])\n",
        "        p = metrics.precision_score(y,dict_model[key])\n",
        "        s = metrics.recall_score(y,dict_model[key])\n",
        "        f = 2*(p*s)/(p+s)\n",
        "\n",
        "        accu.append(np.round(a,2))\n",
        "        prec.append(np.round(p,2))\n",
        "        f_1.append(np.round(f,2))\n",
        "        sens.append(np.round(s,2))\n",
        "    for i in range(len(accu)):\n",
        "        somme.append(accu[i]+prec[i]+sens[i]+f_1[i])\n",
        "    res[\"Accuracy\"]=accu\n",
        "    res[\"Précision\"]=prec\n",
        "    res[\"Sensibilité\"]=sens\n",
        "    res[\"Score F1\"]=f_1\n",
        "    res[\"Somme\"]=somme\n",
        "\n",
        "    res=res.sort_values(by = \"Somme\", ascending = False)\n",
        "    return res"
      ]
    },
    {
      "cell_type": "markdown",
      "metadata": {
        "id": "eklg4Te1gPpa"
      },
      "source": [
        "Pour vérifier la qualité des modèles que nous utiliserons, nous calculerons à chaque fois avec la fonction model_score ci-dessus différents scores :\n",
        "\n",
        "- L'**Accuracy** ou taux de succès : proportion des composants correctement classés par le modèle.\n",
        "- La **Précision** : proportion, parmi les composants classés comme multisim par le modèle, de ceux qui sont bien multisim\n",
        "- La **Sensibilité** : proportion, parmi les composants multisim, de ceux qui ont bien été classés comme multisim par le modèle.\n",
        "- Le score **F1** est la moyenne harmonique de la précision et de la sensibilité.\n",
        "\n",
        "La précision donne donc le taux de vrais positifs parmi tous les composants classés comme \"positifs\" (multisim). Étudier ce score est donc particulièrement adapté ici, car nous sommes dans une situation où l'on veut éviter au maximum les faux positifs. En effet, un faux positif signifie ici considérer comme multisim un composant qui ne l'est pas, ce qui peut amener à des pollutions graves."
      ]
    },
    {
      "cell_type": "markdown",
      "metadata": {
        "id": "kgeKCOWOGHAv"
      },
      "source": [
        "Dans le contexte où la classe positive est \"multisim\" (c'est-à-dire les observations appartenant à la classe \"multisim\") et la classe négative est \"monosim\" (c'est-à-dire les observations appartenant à la classe \"monosim\"), la matrice de confusion serait interprétée comme suit :\n",
        "\n",
        "1. **Vrai Monosim (TN) - Vrais Monosim (C_{0,0}) :**\n",
        "   - Le nombre d'observations qui sont réellement des monosims et qui ont été correctement prédites comme monosims par le modèle.\n",
        "\n",
        "2. **Faux Multisim (FP) - Faux Multisim (C_{0,1}) :**\n",
        "   - Le nombre d'observations qui sont réellement des monosims mais qui ont été incorrectement prédites comme multisims par le modèle.\n",
        "\n",
        "3. **Faux Monosim (FN) - Faux Monosim (C_{1,0}) :**\n",
        "   - Le nombre d'observations qui sont réellement des multisims mais qui ont été incorrectement prédites comme monosims par le modèle.\n",
        "\n",
        "4. **Vrais Multisim (TP) - Vrais Multisim (C_{1,1}) :**\n",
        "   - Le nombre d'observations qui sont réellement des multisims et qui ont été correctement prédites comme multisims par le modèle.\n",
        "\n",
        "Dans ce cas, \"multisim\" est considéré comme la classe Multisim et \"monosim\" comme la classe négative. La matrice de confusion fournira des informations sur la performance du modèle dans la prédiction des classes \"multisim\" et \"monosim\"."
      ]
    },
    {
      "cell_type": "markdown",
      "metadata": {
        "id": "DMI1a0FHgPp8"
      },
      "source": [
        "\n",
        "\n",
        "Dans cette partie on va tester différents modèles. On crée un dictionnaire pour stocker nos modèles afin de pouvoir les comparer plus tard :"
      ]
    },
    {
      "cell_type": "code",
      "execution_count": 15,
      "metadata": {
        "id": "FyDy-tuzgPp8"
      },
      "outputs": [],
      "source": [
        "dict_models_pred={}"
      ]
    },
    {
      "cell_type": "markdown",
      "metadata": {
        "id": "ciJZZWN8wxSe"
      },
      "source": [
        "### Régression Logistique"
      ]
    },
    {
      "cell_type": "markdown",
      "metadata": {
        "id": "9b8wv7g6gPp8"
      },
      "source": [
        "\n",
        "\n",
        "Dans un premier temps avec la base de données classiques. On effectue une régression logistique avec cette fois-ci une pénalisation $\\ell_{2}$. On affiche les scores du modèle et sa matrice de confusion. On effectue plusieurs tests pour choisir la constante de pénalisation C."
      ]
    },
    {
      "cell_type": "code",
      "execution_count": 52,
      "metadata": {
        "colab": {
          "base_uri": "https://localhost:8080/",
          "height": 682
        },
        "id": "5o-IyVuagPp9",
        "outputId": "2ca86e17-3fd6-4987-a842-bedb7218c9fe"
      },
      "outputs": [
        {
          "output_type": "display_data",
          "data": {
            "text/plain": [
              "<Figure size 800x550 with 1 Axes>"
            ],
            "image/png": "[encoded data removed]"
          },
          "metadata": {}
        },
        {
          "output_type": "execute_result",
          "data": {
            "text/plain": [
              "      Metrique  Score\n",
              "0     Accuracy  61.0%\n",
              "1    Précision  60.0%\n",
              "2  Sensibilité  89.0%\n",
              "3     F1 Score  72.0%"
            ],
            "text/html": [
              "\n",
              "  <div id=\"df-bccb2ad2-0585-4db7-b96b-a6f834383907\" class=\"colab-df-container\">\n",
              "    <div>\n",
              "<style scoped>\n",
              "    .dataframe tbody tr th:only-of-type {\n",
              "        vertical-align: middle;\n",
              "    }\n",
              "\n",
              "    .dataframe tbody tr th {\n",
              "        vertical-align: top;\n",
              "    }\n",
              "\n",
              "    .dataframe thead th {\n",
              "        text-align: right;\n",
              "    }\n",
              "</style>\n",
              "<table border=\"1\" class=\"dataframe\">\n",
              "  <thead>\n",
              "    <tr style=\"text-align: right;\">\n",
              "      <th></th>\n",
              "      <th>Metrique</th>\n",
              "      <th>Score</th>\n",
              "    </tr>\n",
              "  </thead>\n",
              "  <tbody>\n",
              "    <tr>\n",
              "      <th>0</th>\n",
              "      <td>Accuracy</td>\n",
              "      <td>61.0%</td>\n",
              "    </tr>\n",
              "    <tr>\n",
              "      <th>1</th>\n",
              "      <td>Précision</td>\n",
              "      <td>60.0%</td>\n",
              "    </tr>\n",
              "    <tr>\n",
              "      <th>2</th>\n",
              "      <td>Sensibilité</td>\n",
              "      <td>89.0%</td>\n",
              "    </tr>\n",
              "    <tr>\n",
              "      <th>3</th>\n",
              "      <td>F1 Score</td>\n",
              "      <td>72.0%</td>\n",
              "    </tr>\n",
              "  </tbody>\n",
              "</table>\n",
              "</div>\n",
              "    <div class=\"colab-df-buttons\">\n",
              "\n",
              "  <div class=\"colab-df-container\">\n",
              "    <button class=\"colab-df-convert\" onclick=\"convertToInteractive('df-bccb2ad2-0585-4db7-b96b-a6f834383907')\"\n",
              "            title=\"Convert this dataframe to an interactive table.\"\n",
              "            style=\"display:none;\">\n",
              "\n",
              "  <svg xmlns=\"http://www.w3.org/2000/svg\" height=\"24px\" viewBox=\"0 -960 960 960\">\n",
              "    <path d=\"M120-120v-720h720v720H120Zm60-500h600v-160H180v160Zm220 220h160v-160H400v160Zm0 220h160v-160H400v160ZM180-400h160v-160H180v160Zm440 0h160v-160H620v160ZM180-180h160v-160H180v160Zm440 0h160v-160H620v160Z\"/>\n",
              "  </svg>\n",
              "    </button>\n",
              "\n",
              "  <style>\n",
              "    .colab-df-container {\n",
              "      display:flex;\n",
              "      gap: 12px;\n",
              "    }\n",
              "\n",
              "    .colab-df-convert {\n",
              "      background-color: #E8F0FE;\n",
              "      border: none;\n",
              "      border-radius: 50%;\n",
              "      cursor: pointer;\n",
              "      display: none;\n",
              "      fill: #1967D2;\n",
              "      height: 32px;\n",
              "      padding: 0 0 0 0;\n",
              "      width: 32px;\n",
              "    }\n",
              "\n",
              "    .colab-df-convert:hover {\n",
              "      background-color: #E2EBFA;\n",
              "      box-shadow: 0px 1px 2px rgba(60, 64, 67, 0.3), 0px 1px 3px 1px rgba(60, 64, 67, 0.15);\n",
              "      fill: #174EA6;\n",
              "    }\n",
              "\n",
              "    .colab-df-buttons div {\n",
              "      margin-bottom: 4px;\n",
              "    }\n",
              "\n",
              "    [theme=dark] .colab-df-convert {\n",
              "      background-color: #3B4455;\n",
              "      fill: #D2E3FC;\n",
              "    }\n",
              "\n",
              "    [theme=dark] .colab-df-convert:hover {\n",
              "      background-color: #434B5C;\n",
              "      box-shadow: 0px 1px 3px 1px rgba(0, 0, 0, 0.15);\n",
              "      filter: drop-shadow(0px 1px 2px rgba(0, 0, 0, 0.3));\n",
              "      fill: #FFFFFF;\n",
              "    }\n",
              "  </style>\n",
              "\n",
              "    <script>\n",
              "      const buttonEl =\n",
              "        document.querySelector('#df-bccb2ad2-0585-4db7-b96b-a6f834383907 button.colab-df-convert');\n",
              "      buttonEl.style.display =\n",
              "        google.colab.kernel.accessAllowed ? 'block' : 'none';\n",
              "\n",
              "      async function convertToInteractive(key) {\n",
              "        const element = document.querySelector('#df-bccb2ad2-0585-4db7-b96b-a6f834383907');\n",
              "        const dataTable =\n",
              "          await google.colab.kernel.invokeFunction('convertToInteractive',\n",
              "                                                    [key], {});\n",
              "        if (!dataTable) return;\n",
              "\n",
              "        const docLinkHtml = 'Like what you see? Visit the ' +\n",
              "          '<a target=\"_blank\" href=https://colab.research.google.com/notebooks/data_table.ipynb>data table notebook</a>'\n",
              "          + ' to learn more about interactive tables.';\n",
              "        element.innerHTML = '';\n",
              "        dataTable['output_type'] = 'display_data';\n",
              "        await google.colab.output.renderOutput(dataTable, element);\n",
              "        const docLink = document.createElement('div');\n",
              "        docLink.innerHTML = docLinkHtml;\n",
              "        element.appendChild(docLink);\n",
              "      }\n",
              "    </script>\n",
              "  </div>\n",
              "\n",
              "\n",
              "<div id=\"df-b393e01c-143d-43ce-b31e-d7007743c2ff\">\n",
              "  <button class=\"colab-df-quickchart\" onclick=\"quickchart('df-b393e01c-143d-43ce-b31e-d7007743c2ff')\"\n",
              "            title=\"Suggest charts\"\n",
              "            style=\"display:none;\">\n",
              "\n",
              "<svg xmlns=\"http://www.w3.org/2000/svg\" height=\"24px\"viewBox=\"0 0 24 24\"\n",
              "     width=\"24px\">\n",
              "    <g>\n",
              "        <path d=\"M19 3H5c-1.1 0-2 .9-2 2v14c0 1.1.9 2 2 2h14c1.1 0 2-.9 2-2V5c0-1.1-.9-2-2-2zM9 17H7v-7h2v7zm4 0h-2V7h2v10zm4 0h-2v-4h2v4z\"/>\n",
              "    </g>\n",
              "</svg>\n",
              "  </button>\n",
              "\n",
              "<style>\n",
              "  .colab-df-quickchart {\n",
              "      --bg-color: #E8F0FE;\n",
              "      --fill-color: #1967D2;\n",
              "      --hover-bg-color: #E2EBFA;\n",
              "      --hover-fill-color: #174EA6;\n",
              "      --disabled-fill-color: #AAA;\n",
              "      --disabled-bg-color: #DDD;\n",
              "  }\n",
              "\n",
              "  [theme=dark] .colab-df-quickchart {\n",
              "      --bg-color: #3B4455;\n",
              "      --fill-color: #D2E3FC;\n",
              "      --hover-bg-color: #434B5C;\n",
              "      --hover-fill-color: #FFFFFF;\n",
              "      --disabled-bg-color: #3B4455;\n",
              "      --disabled-fill-color: #666;\n",
              "  }\n",
              "\n",
              "  .colab-df-quickchart {\n",
              "    background-color: var(--bg-color);\n",
              "    border: none;\n",
              "    border-radius: 50%;\n",
              "    cursor: pointer;\n",
              "    display: none;\n",
              "    fill: var(--fill-color);\n",
              "    height: 32px;\n",
              "    padding: 0;\n",
              "    width: 32px;\n",
              "  }\n",
              "\n",
              "  .colab-df-quickchart:hover {\n",
              "    background-color: var(--hover-bg-color);\n",
              "    box-shadow: 0 1px 2px rgba(60, 64, 67, 0.3), 0 1px 3px 1px rgba(60, 64, 67, 0.15);\n",
              "    fill: var(--button-hover-fill-color);\n",
              "  }\n",
              "\n",
              "  .colab-df-quickchart-complete:disabled,\n",
              "  .colab-df-quickchart-complete:disabled:hover {\n",
              "    background-color: var(--disabled-bg-color);\n",
              "    fill: var(--disabled-fill-color);\n",
              "    box-shadow: none;\n",
              "  }\n",
              "\n",
              "  .colab-df-spinner {\n",
              "    border: 2px solid var(--fill-color);\n",
              "    border-color: transparent;\n",
              "    border-bottom-color: var(--fill-color);\n",
              "    animation:\n",
              "      spin 1s steps(1) infinite;\n",
              "  }\n",
              "\n",
              "  @keyframes spin {\n",
              "    0% {\n",
              "      border-color: transparent;\n",
              "      border-bottom-color: var(--fill-color);\n",
              "      border-left-color: var(--fill-color);\n",
              "    }\n",
              "    20% {\n",
              "      border-color: transparent;\n",
              "      border-left-color: var(--fill-color);\n",
              "      border-top-color: var(--fill-color);\n",
              "    }\n",
              "    30% {\n",
              "      border-color: transparent;\n",
              "      border-left-color: var(--fill-color);\n",
              "      border-top-color: var(--fill-color);\n",
              "      border-right-color: var(--fill-color);\n",
              "    }\n",
              "    40% {\n",
              "      border-color: transparent;\n",
              "      border-right-color: var(--fill-color);\n",
              "      border-top-color: var(--fill-color);\n",
              "    }\n",
              "    60% {\n",
              "      border-color: transparent;\n",
              "      border-right-color: var(--fill-color);\n",
              "    }\n",
              "    80% {\n",
              "      border-color: transparent;\n",
              "      border-right-color: var(--fill-color);\n",
              "      border-bottom-color: var(--fill-color);\n",
              "    }\n",
              "    90% {\n",
              "      border-color: transparent;\n",
              "      border-bottom-color: var(--fill-color);\n",
              "    }\n",
              "  }\n",
              "</style>\n",
              "\n",
              "  <script>\n",
              "    async function quickchart(key) {\n",
              "      const quickchartButtonEl =\n",
              "        document.querySelector('#' + key + ' button');\n",
              "      quickchartButtonEl.disabled = true;  // To prevent multiple clicks.\n",
              "      quickchartButtonEl.classList.add('colab-df-spinner');\n",
              "      try {\n",
              "        const charts = await google.colab.kernel.invokeFunction(\n",
              "            'suggestCharts', [key], {});\n",
              "      } catch (error) {\n",
              "        console.error('Error during call to suggestCharts:', error);\n",
              "      }\n",
              "      quickchartButtonEl.classList.remove('colab-df-spinner');\n",
              "      quickchartButtonEl.classList.add('colab-df-quickchart-complete');\n",
              "    }\n",
              "    (() => {\n",
              "      let quickchartButtonEl =\n",
              "        document.querySelector('#df-b393e01c-143d-43ce-b31e-d7007743c2ff button');\n",
              "      quickchartButtonEl.style.display =\n",
              "        google.colab.kernel.accessAllowed ? 'block' : 'none';\n",
              "    })();\n",
              "  </script>\n",
              "</div>\n",
              "    </div>\n",
              "  </div>\n"
            ],
            "application/vnd.google.colaboratory.intrinsic+json": {
              "type": "dataframe",
              "summary": "{\n  \"name\": \"model_score(y_test_final,logRegB_pred) #Score\",\n  \"rows\": 4,\n  \"fields\": [\n    {\n      \"column\": \"Metrique\",\n      \"properties\": {\n        \"dtype\": \"string\",\n        \"num_unique_values\": 4,\n        \"samples\": [\n          \"Pr\\u00e9cision\",\n          \"F1 Score\",\n          \"Accuracy\"\n        ],\n        \"semantic_type\": \"\",\n        \"description\": \"\"\n      }\n    },\n    {\n      \"column\": \"Score\",\n      \"properties\": {\n        \"dtype\": \"string\",\n        \"num_unique_values\": 4,\n        \"samples\": [\n          \"60.0%\",\n          \"72.0%\",\n          \"61.0%\"\n        ],\n        \"semantic_type\": \"\",\n        \"description\": \"\"\n      }\n    }\n  ]\n}"
            }
          },
          "metadata": {},
          "execution_count": 52
        }
      ],
      "source": [
        "logRegB = LogisticRegression(penalty = \"l2\", C = 0.8)#On crée notre régression logistique\n",
        "logRegB.fit(X_train_scaled,y_train_final)#On la fit à nos données\n",
        "logRegB_pred = logRegB.predict(X_test_scaled)# On prédit nos données\n",
        "\n",
        "\"\"\"\n",
        "# Création d'un dataframe avec les probabilités prédites\n",
        "probabilities = logRegB.predict_proba(X_test_scaled)[:, 1]\n",
        "X_test_final['probabilites_predites'] = probabilities\n",
        "X_test_final['label_reel'] = y_test_final\n",
        "\"\"\"\n",
        "\n",
        "dict_models_pred['Régression logistique']=logRegB_pred #On ajoute les résultats dans notre dictionnaire\n",
        "matrice_conf(y_test_final,logRegB_pred)# Matrice de confusion\n",
        "model_score(y_test_final,logRegB_pred) #Score"
      ]
    },
    {
      "cell_type": "markdown",
      "metadata": {
        "id": "SEA5FqXdgPp9"
      },
      "source": [
        "C_{0,0}:Vrai négatif, C_{1,0}: faux négatif, C_{1,1}: Vrai positif, C_{0,1} and faux positiF"
      ]
    },
    {
      "cell_type": "markdown",
      "metadata": {
        "id": "-NOJdm8vw3GY"
      },
      "source": [
        "### RandomForest"
      ]
    },
    {
      "cell_type": "markdown",
      "metadata": {
        "id": "qbtCUMFlgPp-"
      },
      "source": [
        "\n",
        "\n",
        "D'abord sur les données classiques. On utilise une forêt de 200 arbres :"
      ]
    },
    {
      "cell_type": "code",
      "execution_count": 53,
      "metadata": {
        "colab": {
          "base_uri": "https://localhost:8080/",
          "height": 248
        },
        "id": "sIXcNHWcgPp-",
        "outputId": "93683807-067a-4ac6-8ea8-d7972cd43eff"
      },
      "outputs": [
        {
          "output_type": "stream",
          "name": "stderr",
          "text": [
            "/usr/local/lib/python3.10/dist-packages/sklearn/base.py:432: UserWarning: X has feature names, but RandomForestClassifier was fitted without feature names\n",
            "  warnings.warn(\n"
          ]
        },
        {
          "output_type": "display_data",
          "data": {
            "text/plain": [
              "<Figure size 800x550 with 1 Axes>"
            ],
            "image/png": "[encoded data removed]"
          },
          "metadata": {}
        },
        {
          "output_type": "execute_result",
          "data": {
            "text/plain": [
              "      Metrique  Score\n",
              "0     Accuracy  45.0%\n",
              "1    Précision  55.0%\n",
              "2  Sensibilité  19.0%\n",
              "3     F1 Score  28.0%"
            ],
            "text/html": [
              "\n",
              "  <div id=\"df-261f673f-d063-457d-852d-7e6d671cb768\" class=\"colab-df-container\">\n",
              "    <div>\n",
              "<style scoped>\n",
              "    .dataframe tbody tr th:only-of-type {\n",
              "        vertical-align: middle;\n",
              "    }\n",
              "\n",
              "    .dataframe tbody tr th {\n",
              "        vertical-align: top;\n",
              "    }\n",
              "\n",
              "    .dataframe thead th {\n",
              "        text-align: right;\n",
              "    }\n",
              "</style>\n",
              "<table border=\"1\" class=\"dataframe\">\n",
              "  <thead>\n",
              "    <tr style=\"text-align: right;\">\n",
              "      <th></th>\n",
              "      <th>Metrique</th>\n",
              "      <th>Score</th>\n",
              "    </tr>\n",
              "  </thead>\n",
              "  <tbody>\n",
              "    <tr>\n",
              "      <th>0</th>\n",
              "      <td>Accuracy</td>\n",
              "      <td>45.0%</td>\n",
              "    </tr>\n",
              "    <tr>\n",
              "      <th>1</th>\n",
              "      <td>Précision</td>\n",
              "      <td>55.0%</td>\n",
              "    </tr>\n",
              "    <tr>\n",
              "      <th>2</th>\n",
              "      <td>Sensibilité</td>\n",
              "      <td>19.0%</td>\n",
              "    </tr>\n",
              "    <tr>\n",
              "      <th>3</th>\n",
              "      <td>F1 Score</td>\n",
              "      <td>28.0%</td>\n",
              "    </tr>\n",
              "  </tbody>\n",
              "</table>\n",
              "</div>\n",
              "    <div class=\"colab-df-buttons\">\n",
              "\n",
              "  <div class=\"colab-df-container\">\n",
              "    <button class=\"colab-df-convert\" onclick=\"convertToInteractive('df-261f673f-d063-457d-852d-7e6d671cb768')\"\n",
              "            title=\"Convert this dataframe to an interactive table.\"\n",
              "            style=\"display:none;\">\n",
              "\n",
              "  <svg xmlns=\"http://www.w3.org/2000/svg\" height=\"24px\" viewBox=\"0 -960 960 960\">\n",
              "    <path d=\"M120-120v-720h720v720H120Zm60-500h600v-160H180v160Zm220 220h160v-160H400v160Zm0 220h160v-160H400v160ZM180-400h160v-160H180v160Zm440 0h160v-160H620v160ZM180-180h160v-160H180v160Zm440 0h160v-160H620v160Z\"/>\n",
              "  </svg>\n",
              "    </button>\n",
              "\n",
              "  <style>\n",
              "    .colab-df-container {\n",
              "      display:flex;\n",
              "      gap: 12px;\n",
              "    }\n",
              "\n",
              "    .colab-df-convert {\n",
              "      background-color: #E8F0FE;\n",
              "      border: none;\n",
              "      border-radius: 50%;\n",
              "      cursor: pointer;\n",
              "      display: none;\n",
              "      fill: #1967D2;\n",
              "      height: 32px;\n",
              "      padding: 0 0 0 0;\n",
              "      width: 32px;\n",
              "    }\n",
              "\n",
              "    .colab-df-convert:hover {\n",
              "      background-color: #E2EBFA;\n",
              "      box-shadow: 0px 1px 2px rgba(60, 64, 67, 0.3), 0px 1px 3px 1px rgba(60, 64, 67, 0.15);\n",
              "      fill: #174EA6;\n",
              "    }\n",
              "\n",
              "    .colab-df-buttons div {\n",
              "      margin-bottom: 4px;\n",
              "    }\n",
              "\n",
              "    [theme=dark] .colab-df-convert {\n",
              "      background-color: #3B4455;\n",
              "      fill: #D2E3FC;\n",
              "    }\n",
              "\n",
              "    [theme=dark] .colab-df-convert:hover {\n",
              "      background-color: #434B5C;\n",
              "      box-shadow: 0px 1px 3px 1px rgba(0, 0, 0, 0.15);\n",
              "      filter: drop-shadow(0px 1px 2px rgba(0, 0, 0, 0.3));\n",
              "      fill: #FFFFFF;\n",
              "    }\n",
              "  </style>\n",
              "\n",
              "    <script>\n",
              "      const buttonEl =\n",
              "        document.querySelector('#df-261f673f-d063-457d-852d-7e6d671cb768 button.colab-df-convert');\n",
              "      buttonEl.style.display =\n",
              "        google.colab.kernel.accessAllowed ? 'block' : 'none';\n",
              "\n",
              "      async function convertToInteractive(key) {\n",
              "        const element = document.querySelector('#df-261f673f-d063-457d-852d-7e6d671cb768');\n",
              "        const dataTable =\n",
              "          await google.colab.kernel.invokeFunction('convertToInteractive',\n",
              "                                                    [key], {});\n",
              "        if (!dataTable) return;\n",
              "\n",
              "        const docLinkHtml = 'Like what you see? Visit the ' +\n",
              "          '<a target=\"_blank\" href=https://colab.research.google.com/notebooks/data_table.ipynb>data table notebook</a>'\n",
              "          + ' to learn more about interactive tables.';\n",
              "        element.innerHTML = '';\n",
              "        dataTable['output_type'] = 'display_data';\n",
              "        await google.colab.output.renderOutput(dataTable, element);\n",
              "        const docLink = document.createElement('div');\n",
              "        docLink.innerHTML = docLinkHtml;\n",
              "        element.appendChild(docLink);\n",
              "      }\n",
              "    </script>\n",
              "  </div>\n",
              "\n",
              "\n",
              "<div id=\"df-c6b2789d-5f70-4467-b8df-4b80abc56fc2\">\n",
              "  <button class=\"colab-df-quickchart\" onclick=\"quickchart('df-c6b2789d-5f70-4467-b8df-4b80abc56fc2')\"\n",
              "            title=\"Suggest charts\"\n",
              "            style=\"display:none;\">\n",
              "\n",
              "<svg xmlns=\"http://www.w3.org/2000/svg\" height=\"24px\"viewBox=\"0 0 24 24\"\n",
              "     width=\"24px\">\n",
              "    <g>\n",
              "        <path d=\"M19 3H5c-1.1 0-2 .9-2 2v14c0 1.1.9 2 2 2h14c1.1 0 2-.9 2-2V5c0-1.1-.9-2-2-2zM9 17H7v-7h2v7zm4 0h-2V7h2v10zm4 0h-2v-4h2v4z\"/>\n",
              "    </g>\n",
              "</svg>\n",
              "  </button>\n",
              "\n",
              "<style>\n",
              "  .colab-df-quickchart {\n",
              "      --bg-color: #E8F0FE;\n",
              "      --fill-color: #1967D2;\n",
              "      --hover-bg-color: #E2EBFA;\n",
              "      --hover-fill-color: #174EA6;\n",
              "      --disabled-fill-color: #AAA;\n",
              "      --disabled-bg-color: #DDD;\n",
              "  }\n",
              "\n",
              "  [theme=dark] .colab-df-quickchart {\n",
              "      --bg-color: #3B4455;\n",
              "      --fill-color: #D2E3FC;\n",
              "      --hover-bg-color: #434B5C;\n",
              "      --hover-fill-color: #FFFFFF;\n",
              "      --disabled-bg-color: #3B4455;\n",
              "      --disabled-fill-color: #666;\n",
              "  }\n",
              "\n",
              "  .colab-df-quickchart {\n",
              "    background-color: var(--bg-color);\n",
              "    border: none;\n",
              "    border-radius: 50%;\n",
              "    cursor: pointer;\n",
              "    display: none;\n",
              "    fill: var(--fill-color);\n",
              "    height: 32px;\n",
              "    padding: 0;\n",
              "    width: 32px;\n",
              "  }\n",
              "\n",
              "  .colab-df-quickchart:hover {\n",
              "    background-color: var(--hover-bg-color);\n",
              "    box-shadow: 0 1px 2px rgba(60, 64, 67, 0.3), 0 1px 3px 1px rgba(60, 64, 67, 0.15);\n",
              "    fill: var(--button-hover-fill-color);\n",
              "  }\n",
              "\n",
              "  .colab-df-quickchart-complete:disabled,\n",
              "  .colab-df-quickchart-complete:disabled:hover {\n",
              "    background-color: var(--disabled-bg-color);\n",
              "    fill: var(--disabled-fill-color);\n",
              "    box-shadow: none;\n",
              "  }\n",
              "\n",
              "  .colab-df-spinner {\n",
              "    border: 2px solid var(--fill-color);\n",
              "    border-color: transparent;\n",
              "    border-bottom-color: var(--fill-color);\n",
              "    animation:\n",
              "      spin 1s steps(1) infinite;\n",
              "  }\n",
              "\n",
              "  @keyframes spin {\n",
              "    0% {\n",
              "      border-color: transparent;\n",
              "      border-bottom-color: var(--fill-color);\n",
              "      border-left-color: var(--fill-color);\n",
              "    }\n",
              "    20% {\n",
              "      border-color: transparent;\n",
              "      border-left-color: var(--fill-color);\n",
              "      border-top-color: var(--fill-color);\n",
              "    }\n",
              "    30% {\n",
              "      border-color: transparent;\n",
              "      border-left-color: var(--fill-color);\n",
              "      border-top-color: var(--fill-color);\n",
              "      border-right-color: var(--fill-color);\n",
              "    }\n",
              "    40% {\n",
              "      border-color: transparent;\n",
              "      border-right-color: var(--fill-color);\n",
              "      border-top-color: var(--fill-color);\n",
              "    }\n",
              "    60% {\n",
              "      border-color: transparent;\n",
              "      border-right-color: var(--fill-color);\n",
              "    }\n",
              "    80% {\n",
              "      border-color: transparent;\n",
              "      border-right-color: var(--fill-color);\n",
              "      border-bottom-color: var(--fill-color);\n",
              "    }\n",
              "    90% {\n",
              "      border-color: transparent;\n",
              "      border-bottom-color: var(--fill-color);\n",
              "    }\n",
              "  }\n",
              "</style>\n",
              "\n",
              "  <script>\n",
              "    async function quickchart(key) {\n",
              "      const quickchartButtonEl =\n",
              "        document.querySelector('#' + key + ' button');\n",
              "      quickchartButtonEl.disabled = true;  // To prevent multiple clicks.\n",
              "      quickchartButtonEl.classList.add('colab-df-spinner');\n",
              "      try {\n",
              "        const charts = await google.colab.kernel.invokeFunction(\n",
              "            'suggestCharts', [key], {});\n",
              "      } catch (error) {\n",
              "        console.error('Error during call to suggestCharts:', error);\n",
              "      }\n",
              "      quickchartButtonEl.classList.remove('colab-df-spinner');\n",
              "      quickchartButtonEl.classList.add('colab-df-quickchart-complete');\n",
              "    }\n",
              "    (() => {\n",
              "      let quickchartButtonEl =\n",
              "        document.querySelector('#df-c6b2789d-5f70-4467-b8df-4b80abc56fc2 button');\n",
              "      quickchartButtonEl.style.display =\n",
              "        google.colab.kernel.accessAllowed ? 'block' : 'none';\n",
              "    })();\n",
              "  </script>\n",
              "</div>\n",
              "    </div>\n",
              "  </div>\n"
            ],
            "application/vnd.google.colaboratory.intrinsic+json": {
              "type": "dataframe",
              "summary": "{\n  \"name\": \"model_score(y_test_final,rfB_pred) #Score\",\n  \"rows\": 4,\n  \"fields\": [\n    {\n      \"column\": \"Metrique\",\n      \"properties\": {\n        \"dtype\": \"string\",\n        \"num_unique_values\": 4,\n        \"samples\": [\n          \"Pr\\u00e9cision\",\n          \"F1 Score\",\n          \"Accuracy\"\n        ],\n        \"semantic_type\": \"\",\n        \"description\": \"\"\n      }\n    },\n    {\n      \"column\": \"Score\",\n      \"properties\": {\n        \"dtype\": \"string\",\n        \"num_unique_values\": 4,\n        \"samples\": [\n          \"55.0%\",\n          \"28.0%\",\n          \"45.0%\"\n        ],\n        \"semantic_type\": \"\",\n        \"description\": \"\"\n      }\n    }\n  ]\n}"
            }
          },
          "metadata": {},
          "execution_count": 53
        }
      ],
      "source": [
        "from sklearn.ensemble import RandomForestClassifier\n",
        "\n",
        "rfB = RandomForestClassifier(n_estimators=200)#On crée notre RandomForest\n",
        "rfB.fit(X_train_scaled,y_train_final)#On la fit à nos données\n",
        "rfB_pred =rfB.predict(X_test_final) #On prédit nos données\n",
        "\n",
        "dict_models_pred['Random Forest']=rfB_pred  #On ajoute les résultats dans notre dictionnaire\n",
        "\n",
        "matrice_conf(y_test_final,rfB_pred) #Matrice de confusion\n",
        "model_score(y_test_final,rfB_pred) #Score\n"
      ]
    },
    {
      "cell_type": "markdown",
      "metadata": {
        "id": "BP1tBUH-xErz"
      },
      "source": [
        "### K plus proches voisins"
      ]
    },
    {
      "cell_type": "markdown",
      "metadata": {
        "id": "JziKXphKgPp_"
      },
      "source": [
        "\n",
        "\n",
        "Le modèle des **K plus proches voisins** (K nearest neighbours) consiste à prédire la catégorie d'un nouvel individu dans la variable cible (ici 1 ou 0, multisim ou non) en fonction de la catégorie majoritaire parmi les K individus qui sont les plus proches du nouveau dans le set d'entraînement :\n",
        "\n",
        "On fixe un entier $K$, et on répertorie dans le set d'entraînement les $K$ individus qui sont les plus proches du nouvel individu, au sens de la distance euclidienne de $ \\mathbb{R}^d $ (d le nombre de variables explicatives). Si parmi ces $K$ individus la catégorie majoritaire dans la variable cible est 1, on assigne à notre nouvel individu la valeur 1 pour la variable cible, sinon on lui assigne 0.\n",
        "\n",
        "À noter que ce modèle est à utiliser avec parcimonie lorsqu'on a des variables catégorielles dans les données, car des variables discrètes induisent une topologie impropre et peuvent donc fausser les prédictions. C'est surtout vrai lorsque ces variables sont des nombres choisis arbitrairement pour coder une caractéristique (typiquement, dans notre cas, si experimental_class était une variable explicative) et ne correspondent à aucune donnée numérique réelle.\n",
        "\n",
        "Le choix de $K$ est crucial pour ce modèle. Naturellement $K$ sera toujours pris impair pour qu'il n'y ait pas d'ex-æquo. Afin de déterminer le meilleur $K$, on va, pour chaque valeur $k$ entre 1 et 40, tester le modèle des $k$ plus proches voisins et calculer son taux d'erreur (proportion de mauvais classements sur la base de test). On choisira le $K$ qui donne le taux d'erreur le plus faible :"
      ]
    },
    {
      "cell_type": "code",
      "execution_count": null,
      "metadata": {
        "id": "B3VkJ0i0gPp_"
      },
      "outputs": [],
      "source": [
        "from sklearn.neighbors import KNeighborsClassifier\n",
        "\n",
        "erreur=[]\n",
        "for i in range(1,40):\n",
        "    knn = KNeighborsClassifier(n_neighbors=i)\n",
        "    knn.fit(X_train_scaled,y_train_final)\n",
        "    pred_i = knn.predict(X_test_final)\n",
        "    erreur.append(np.mean(pred_i != y_test_final))\n",
        "\n",
        "plt.figure(figsize=(10,6))\n",
        "plt.plot(range(1,40),erreur,color=\"blue\",linestyle=\"dashed\", marker=\"o\",markerfacecolor=\"red\", markersize=10)\n",
        "plt.title(\"Taux d'erreur vs Nombre de Voisin \")\n",
        "plt.xlabel(\"K\")\n",
        "plt.ylabel(\"Error Rate\")"
      ]
    },
    {
      "cell_type": "markdown",
      "metadata": {
        "id": "HAFpMWdigPp_"
      },
      "source": [
        "On choisit de prendre 3 voisins d'après le graphique. À noter qu'avec 9 voisins l'erreur est aussi basse qu'avec 3."
      ]
    },
    {
      "cell_type": "code",
      "execution_count": 54,
      "metadata": {
        "colab": {
          "base_uri": "https://localhost:8080/",
          "height": 248
        },
        "id": "zizykG0KgPqA",
        "outputId": "ca731f7d-f0b3-4fac-f56f-cc4c50a50079"
      },
      "outputs": [
        {
          "output_type": "stream",
          "name": "stderr",
          "text": [
            "/usr/local/lib/python3.10/dist-packages/sklearn/base.py:432: UserWarning: X has feature names, but KNeighborsClassifier was fitted without feature names\n",
            "  warnings.warn(\n"
          ]
        },
        {
          "output_type": "display_data",
          "data": {
            "text/plain": [
              "<Figure size 800x550 with 1 Axes>"
            ],
            "image/png": "[encoded data removed]"
          },
          "metadata": {}
        },
        {
          "output_type": "execute_result",
          "data": {
            "text/plain": [
              "      Metrique  Score\n",
              "0     Accuracy  58.0%\n",
              "1    Précision  58.0%\n",
              "2  Sensibilité  93.0%\n",
              "3     F1 Score  71.0%"
            ],
            "text/html": [
              "\n",
              "  <div id=\"df-1f159193-bfe1-4008-bf91-4e6c785c5d72\" class=\"colab-df-container\">\n",
              "    <div>\n",
              "<style scoped>\n",
              "    .dataframe tbody tr th:only-of-type {\n",
              "        vertical-align: middle;\n",
              "    }\n",
              "\n",
              "    .dataframe tbody tr th {\n",
              "        vertical-align: top;\n",
              "    }\n",
              "\n",
              "    .dataframe thead th {\n",
              "        text-align: right;\n",
              "    }\n",
              "</style>\n",
              "<table border=\"1\" class=\"dataframe\">\n",
              "  <thead>\n",
              "    <tr style=\"text-align: right;\">\n",
              "      <th></th>\n",
              "      <th>Metrique</th>\n",
              "      <th>Score</th>\n",
              "    </tr>\n",
              "  </thead>\n",
              "  <tbody>\n",
              "    <tr>\n",
              "      <th>0</th>\n",
              "      <td>Accuracy</td>\n",
              "      <td>58.0%</td>\n",
              "    </tr>\n",
              "    <tr>\n",
              "      <th>1</th>\n",
              "      <td>Précision</td>\n",
              "      <td>58.0%</td>\n",
              "    </tr>\n",
              "    <tr>\n",
              "      <th>2</th>\n",
              "      <td>Sensibilité</td>\n",
              "      <td>93.0%</td>\n",
              "    </tr>\n",
              "    <tr>\n",
              "      <th>3</th>\n",
              "      <td>F1 Score</td>\n",
              "      <td>71.0%</td>\n",
              "    </tr>\n",
              "  </tbody>\n",
              "</table>\n",
              "</div>\n",
              "    <div class=\"colab-df-buttons\">\n",
              "\n",
              "  <div class=\"colab-df-container\">\n",
              "    <button class=\"colab-df-convert\" onclick=\"convertToInteractive('df-1f159193-bfe1-4008-bf91-4e6c785c5d72')\"\n",
              "            title=\"Convert this dataframe to an interactive table.\"\n",
              "            style=\"display:none;\">\n",
              "\n",
              "  <svg xmlns=\"http://www.w3.org/2000/svg\" height=\"24px\" viewBox=\"0 -960 960 960\">\n",
              "    <path d=\"M120-120v-720h720v720H120Zm60-500h600v-160H180v160Zm220 220h160v-160H400v160Zm0 220h160v-160H400v160ZM180-400h160v-160H180v160Zm440 0h160v-160H620v160ZM180-180h160v-160H180v160Zm440 0h160v-160H620v160Z\"/>\n",
              "  </svg>\n",
              "    </button>\n",
              "\n",
              "  <style>\n",
              "    .colab-df-container {\n",
              "      display:flex;\n",
              "      gap: 12px;\n",
              "    }\n",
              "\n",
              "    .colab-df-convert {\n",
              "      background-color: #E8F0FE;\n",
              "      border: none;\n",
              "      border-radius: 50%;\n",
              "      cursor: pointer;\n",
              "      display: none;\n",
              "      fill: #1967D2;\n",
              "      height: 32px;\n",
              "      padding: 0 0 0 0;\n",
              "      width: 32px;\n",
              "    }\n",
              "\n",
              "    .colab-df-convert:hover {\n",
              "      background-color: #E2EBFA;\n",
              "      box-shadow: 0px 1px 2px rgba(60, 64, 67, 0.3), 0px 1px 3px 1px rgba(60, 64, 67, 0.15);\n",
              "      fill: #174EA6;\n",
              "    }\n",
              "\n",
              "    .colab-df-buttons div {\n",
              "      margin-bottom: 4px;\n",
              "    }\n",
              "\n",
              "    [theme=dark] .colab-df-convert {\n",
              "      background-color: #3B4455;\n",
              "      fill: #D2E3FC;\n",
              "    }\n",
              "\n",
              "    [theme=dark] .colab-df-convert:hover {\n",
              "      background-color: #434B5C;\n",
              "      box-shadow: 0px 1px 3px 1px rgba(0, 0, 0, 0.15);\n",
              "      filter: drop-shadow(0px 1px 2px rgba(0, 0, 0, 0.3));\n",
              "      fill: #FFFFFF;\n",
              "    }\n",
              "  </style>\n",
              "\n",
              "    <script>\n",
              "      const buttonEl =\n",
              "        document.querySelector('#df-1f159193-bfe1-4008-bf91-4e6c785c5d72 button.colab-df-convert');\n",
              "      buttonEl.style.display =\n",
              "        google.colab.kernel.accessAllowed ? 'block' : 'none';\n",
              "\n",
              "      async function convertToInteractive(key) {\n",
              "        const element = document.querySelector('#df-1f159193-bfe1-4008-bf91-4e6c785c5d72');\n",
              "        const dataTable =\n",
              "          await google.colab.kernel.invokeFunction('convertToInteractive',\n",
              "                                                    [key], {});\n",
              "        if (!dataTable) return;\n",
              "\n",
              "        const docLinkHtml = 'Like what you see? Visit the ' +\n",
              "          '<a target=\"_blank\" href=https://colab.research.google.com/notebooks/data_table.ipynb>data table notebook</a>'\n",
              "          + ' to learn more about interactive tables.';\n",
              "        element.innerHTML = '';\n",
              "        dataTable['output_type'] = 'display_data';\n",
              "        await google.colab.output.renderOutput(dataTable, element);\n",
              "        const docLink = document.createElement('div');\n",
              "        docLink.innerHTML = docLinkHtml;\n",
              "        element.appendChild(docLink);\n",
              "      }\n",
              "    </script>\n",
              "  </div>\n",
              "\n",
              "\n",
              "<div id=\"df-0cc2c138-2fe5-44f4-899b-4284757a0833\">\n",
              "  <button class=\"colab-df-quickchart\" onclick=\"quickchart('df-0cc2c138-2fe5-44f4-899b-4284757a0833')\"\n",
              "            title=\"Suggest charts\"\n",
              "            style=\"display:none;\">\n",
              "\n",
              "<svg xmlns=\"http://www.w3.org/2000/svg\" height=\"24px\"viewBox=\"0 0 24 24\"\n",
              "     width=\"24px\">\n",
              "    <g>\n",
              "        <path d=\"M19 3H5c-1.1 0-2 .9-2 2v14c0 1.1.9 2 2 2h14c1.1 0 2-.9 2-2V5c0-1.1-.9-2-2-2zM9 17H7v-7h2v7zm4 0h-2V7h2v10zm4 0h-2v-4h2v4z\"/>\n",
              "    </g>\n",
              "</svg>\n",
              "  </button>\n",
              "\n",
              "<style>\n",
              "  .colab-df-quickchart {\n",
              "      --bg-color: #E8F0FE;\n",
              "      --fill-color: #1967D2;\n",
              "      --hover-bg-color: #E2EBFA;\n",
              "      --hover-fill-color: #174EA6;\n",
              "      --disabled-fill-color: #AAA;\n",
              "      --disabled-bg-color: #DDD;\n",
              "  }\n",
              "\n",
              "  [theme=dark] .colab-df-quickchart {\n",
              "      --bg-color: #3B4455;\n",
              "      --fill-color: #D2E3FC;\n",
              "      --hover-bg-color: #434B5C;\n",
              "      --hover-fill-color: #FFFFFF;\n",
              "      --disabled-bg-color: #3B4455;\n",
              "      --disabled-fill-color: #666;\n",
              "  }\n",
              "\n",
              "  .colab-df-quickchart {\n",
              "    background-color: var(--bg-color);\n",
              "    border: none;\n",
              "    border-radius: 50%;\n",
              "    cursor: pointer;\n",
              "    display: none;\n",
              "    fill: var(--fill-color);\n",
              "    height: 32px;\n",
              "    padding: 0;\n",
              "    width: 32px;\n",
              "  }\n",
              "\n",
              "  .colab-df-quickchart:hover {\n",
              "    background-color: var(--hover-bg-color);\n",
              "    box-shadow: 0 1px 2px rgba(60, 64, 67, 0.3), 0 1px 3px 1px rgba(60, 64, 67, 0.15);\n",
              "    fill: var(--button-hover-fill-color);\n",
              "  }\n",
              "\n",
              "  .colab-df-quickchart-complete:disabled,\n",
              "  .colab-df-quickchart-complete:disabled:hover {\n",
              "    background-color: var(--disabled-bg-color);\n",
              "    fill: var(--disabled-fill-color);\n",
              "    box-shadow: none;\n",
              "  }\n",
              "\n",
              "  .colab-df-spinner {\n",
              "    border: 2px solid var(--fill-color);\n",
              "    border-color: transparent;\n",
              "    border-bottom-color: var(--fill-color);\n",
              "    animation:\n",
              "      spin 1s steps(1) infinite;\n",
              "  }\n",
              "\n",
              "  @keyframes spin {\n",
              "    0% {\n",
              "      border-color: transparent;\n",
              "      border-bottom-color: var(--fill-color);\n",
              "      border-left-color: var(--fill-color);\n",
              "    }\n",
              "    20% {\n",
              "      border-color: transparent;\n",
              "      border-left-color: var(--fill-color);\n",
              "      border-top-color: var(--fill-color);\n",
              "    }\n",
              "    30% {\n",
              "      border-color: transparent;\n",
              "      border-left-color: var(--fill-color);\n",
              "      border-top-color: var(--fill-color);\n",
              "      border-right-color: var(--fill-color);\n",
              "    }\n",
              "    40% {\n",
              "      border-color: transparent;\n",
              "      border-right-color: var(--fill-color);\n",
              "      border-top-color: var(--fill-color);\n",
              "    }\n",
              "    60% {\n",
              "      border-color: transparent;\n",
              "      border-right-color: var(--fill-color);\n",
              "    }\n",
              "    80% {\n",
              "      border-color: transparent;\n",
              "      border-right-color: var(--fill-color);\n",
              "      border-bottom-color: var(--fill-color);\n",
              "    }\n",
              "    90% {\n",
              "      border-color: transparent;\n",
              "      border-bottom-color: var(--fill-color);\n",
              "    }\n",
              "  }\n",
              "</style>\n",
              "\n",
              "  <script>\n",
              "    async function quickchart(key) {\n",
              "      const quickchartButtonEl =\n",
              "        document.querySelector('#' + key + ' button');\n",
              "      quickchartButtonEl.disabled = true;  // To prevent multiple clicks.\n",
              "      quickchartButtonEl.classList.add('colab-df-spinner');\n",
              "      try {\n",
              "        const charts = await google.colab.kernel.invokeFunction(\n",
              "            'suggestCharts', [key], {});\n",
              "      } catch (error) {\n",
              "        console.error('Error during call to suggestCharts:', error);\n",
              "      }\n",
              "      quickchartButtonEl.classList.remove('colab-df-spinner');\n",
              "      quickchartButtonEl.classList.add('colab-df-quickchart-complete');\n",
              "    }\n",
              "    (() => {\n",
              "      let quickchartButtonEl =\n",
              "        document.querySelector('#df-0cc2c138-2fe5-44f4-899b-4284757a0833 button');\n",
              "      quickchartButtonEl.style.display =\n",
              "        google.colab.kernel.accessAllowed ? 'block' : 'none';\n",
              "    })();\n",
              "  </script>\n",
              "</div>\n",
              "    </div>\n",
              "  </div>\n"
            ],
            "application/vnd.google.colaboratory.intrinsic+json": {
              "type": "dataframe",
              "summary": "{\n  \"name\": \"model_score(y_test_final,knnB_pred) #Score\",\n  \"rows\": 4,\n  \"fields\": [\n    {\n      \"column\": \"Metrique\",\n      \"properties\": {\n        \"dtype\": \"string\",\n        \"num_unique_values\": 4,\n        \"samples\": [\n          \"Pr\\u00e9cision\",\n          \"F1 Score\",\n          \"Accuracy\"\n        ],\n        \"semantic_type\": \"\",\n        \"description\": \"\"\n      }\n    },\n    {\n      \"column\": \"Score\",\n      \"properties\": {\n        \"dtype\": \"string\",\n        \"num_unique_values\": 3,\n        \"samples\": [\n          \"58.0%\",\n          \"93.0%\",\n          \"71.0%\"\n        ],\n        \"semantic_type\": \"\",\n        \"description\": \"\"\n      }\n    }\n  ]\n}"
            }
          },
          "metadata": {},
          "execution_count": 54
        }
      ],
      "source": [
        "knnB = KNeighborsClassifier(n_neighbors=3)#On crée notre KNN\n",
        "knnB.fit(X_train_scaled,y_train_final) #On la fit à nos données\n",
        "knnB_pred = knnB.predict(X_test_final)# On prédit nos données\n",
        "\n",
        "dict_models_pred['KNN']=knnB_pred  #On ajoute les résultats dans notre dictionnaire\n",
        "\n",
        "\n",
        "matrice_conf(y_test_final,knnB_pred) #Matrice de confusion\n",
        "model_score(y_test_final,knnB_pred) #Score"
      ]
    },
    {
      "cell_type": "markdown",
      "metadata": {
        "id": "ZQjHzOLAxJhO"
      },
      "source": [
        "### SVM"
      ]
    },
    {
      "cell_type": "markdown",
      "metadata": {
        "id": "FAjdyJ06gPqB"
      },
      "source": [
        "\n",
        "\n",
        "Une **machine à vecteur de support linéaire** consiste à trouver un hyperplan (sous-espace de dimension $d-1$ si $d$ est la dimension de l'espace de départ) séparateur entre les points du dataset.\n",
        "\n",
        "Pour $i = 1,\\dots,N$ avec $N$ le nombre d'individus, soit $x_i \\in \\mathbb{R}^d $ nos points et $y_i$ les étiquettes associées (multisim ou non en l'occurrence). Dans la théorie mathématique du SVM, on prend 1 ou -1 comme valeurs pour les $y_i$ (le modèle implémenté s'adaptera tout seul en considérant les 0 comme des -1, il n'y a pas de modification à faire sur nos données).\n",
        "\n",
        "Le but est de trouver $H = \\{x \\in \\mathbb{R}^d : w^Tx + b = 0 \\} $\n",
        "\n",
        "Où $b \\in \\mathbb{R}$ est le déplacemet par rapport à l'origine et $w \\in \\mathbb{R}^d$ non-nul est le vecteur orthogonal à $H$. $H$ doit séparer le dataset en deux régions, une où les $y_i$ valent 1 et une où les $y_i$ valent -1.\n",
        "\n",
        "<br>\n",
        "\n",
        "On voudra choisir $H$ de façon à maximiser la marge, définie par $ \\displaystyle \\min_{i=1,\\dots,N} d(x_i,H)$\n",
        "\n",
        "Où $d(x_i,H)$ est la distance entre le points $x_i$ et $H$. Autrement dit on veut $H$ le plus éloigné possible des points (naturellement il ne doit passer par aucun point).\n",
        "\n",
        "On peut montrer que la marge est aussi égale à $\\frac{1}{\\Vert w \\Vert}$. Le problème revient donc à maximiser $\\Vert w \\Vert$\n",
        "\n",
        "<br>\n",
        "<br>\n",
        "\n",
        "Naturellement les données ne sont en général pas **linéairement séparables**, c'est à dire qu'il n'est généralement pas possible de trouver un $H$ qui sépare parfaitement le dataset selon les deux catégories.\n",
        "\n",
        "Afin de palier à ce problème, on introduit des **variables d'écart** $s_i$ (nombres positifs). Ces variables vont permettre d'autoriser quelques points à être du mauvais côté de $H$.\n",
        "\n",
        "On cherchera alors à résoudre le problème d'optimisation suivant :\n",
        "\n",
        "$ \\displaystyle \\min_{w \\in \\mathbb{R}^d, b\\in \\mathbb{R}, s \\in \\mathbb{R}^N} \\displaystyle \\frac{\\Vert w \\Vert^2_2}{2} + C \\displaystyle \\sum_{i=1}^{N} s_i $\n",
        "\n",
        "Avec les contraintes : pour $i = 1,\\dots,N$, $ y_i(w^Tx_i + b) \\geq 1 - s_i$  et  $s_i \\geq 0$\n",
        "\n",
        "(avec $C>0$ une constante)\n",
        "\n",
        "On peut montrer mathématiquement (en utilisant le lagrangien, les conditions KKT et l'étude de la dualité) que ce problème admet une unique solution.\n",
        "\n",
        "Le modèle SVM implémenté va donc déterminer cette unique solution par des algorithmes d'optimisation, ce qui nous donnera l'hyperplan $H$. Une nouvelle observation sera classée multisim ou non selon de quel côté de $H$ elle se trouve."
      ]
    },
    {
      "cell_type": "code",
      "execution_count": null,
      "metadata": {
        "id": "qKiL4_LKgPqB"
      },
      "outputs": [],
      "source": [
        "from sklearn.svm import SVC\n",
        "\n",
        "svmB = SVC(kernel = 'linear')#On crée notre SVM\n",
        "svmB.fit(X_train_scaled,y_train_final) #On la fit à nos données\n",
        "svmB_pred =svmB.predict(X_test_final)# On prédit nos données\n",
        "\n",
        "dict_models_pred['SVM']=svmB_pred  #On ajoute les résultats dans notre dictionnaire\n",
        "\n",
        "model_score(y_test,svmB_pred) #Score\n",
        "matrice_conf(y_test,svmB_pred) #Matrice de confusion"
      ]
    },
    {
      "cell_type": "markdown",
      "metadata": {
        "id": "zr1k0pExzP39"
      },
      "source": [
        "### AdaBoost"
      ]
    },
    {
      "cell_type": "markdown",
      "metadata": {
        "id": "VDzPC-PCgPqD"
      },
      "source": [
        "\n",
        "\n",
        "L'**adaptative boosting**, aussi appelé adaboost, est comme son nom l'indique une méthode de **boosting**.\n",
        "\n",
        "Le boosting consiste à combiner par itérations successives des classeurs dits faibles pour obtenir un classifieur final (dit fort). Les classifieurs faibles sont des classifieurs capables de reconnaître deux classes au moins aussi bien que ne le ferait une sélection au hasard (c'est à dire la sélection qui consisterait dans notre cas présent à prédire un composant comme multisim selon une loi de Bernoulli dont le paramètre serait la proportion de biodégradables dans le jeu d'entraînement). Il est possible de démontrer que tant que les classifieurs faibles sont meilleurs qu'une prédiction aléatoire, la combinaison va converger vers un classifieur fort.\n",
        "\n",
        "<br>\n",
        "\n",
        "L'adaboost, forme la plus répandue de boosting, fait référence à une technique particulière pour combiner les classifieurs faibles : pour obtenir la sortie finale prédisant la valeur de la variable cible, on prend la somme pondérée des prédictions effectuées par les classifieurs faibles. Le poids assigné à un classifieur donné dans la pondération sera d'autant plus important que ce classifieur prédit bien : mieux il classe, plus il aura de poids.\n",
        "\n",
        "L'apprentissage du classifieur fort se passe comme suit : à chaque étape $t$ ($t$ allant de $1$ à $T$ où $T$ est le nombre de classifieurs faibles) de l'entraînement, on sélectionne un classifieur faible, et on l'ajoute à la somme (on construit le classifieur fort petit à petit) en lui assignant un certain coefficient multiplicatif $\\alpha_t$. Ce coefficient est choisi de manière à minimiser l'erreur de classification suivante :\n",
        "\n",
        "$E_t = \\displaystyle \\sum_{i} E(F_{t-1}(x_i) + \\alpha_th(x_i)) $\n",
        "\n",
        "Où :\n",
        "\n",
        "- les $x_i$ sont les observations\n",
        "- $F_{t-1}$ est le classifieur fort provisoire à l'étape $t-1$\n",
        "- $h$ est la fonction de prévision pour le classifieur en cours de sélection. Dans notre cas elle détermine si une observation $x$ va être classée comme multisim ou non.\n",
        "- $E$ est une fonction d'erreur qui s'applique à un classifieur $F$\n",
        "\n",
        "Ainsi on construit étape par étape notre classifieur final $F_T$. En ce sens l'adaboost est bien comme son nom l'indique adaptative : lorsqu'on ajoute un classifieur faible, on l'adapte en fonction de ce qui a été fait dans les étapes précédentes. De cette manière on fait en sorte qu'un classifieur soit performant là où les précédents l'étaient moins, ce qui aide à éviter le surapprentissage.\n",
        "\n",
        "<br>\n",
        "\n",
        "Ici on crée un modèle d'adaboost avec la fonction AdaBoostClassifier, qui utilise des arbres de décision comme classifieurs. Après avoir testé (\"à la main\") différentes valeurs, on choisit de prendre 85 classifieurs faibles :"
      ]
    },
    {
      "cell_type": "code",
      "execution_count": 55,
      "metadata": {
        "id": "SGMnwPi3gPqE",
        "colab": {
          "base_uri": "https://localhost:8080/",
          "height": 718
        },
        "outputId": "ffba8ed1-0252-400d-b076-b52be4aaf620"
      },
      "outputs": [
        {
          "output_type": "stream",
          "name": "stderr",
          "text": [
            "/usr/local/lib/python3.10/dist-packages/sklearn/base.py:432: UserWarning: X has feature names, but AdaBoostClassifier was fitted without feature names\n",
            "  warnings.warn(\n"
          ]
        },
        {
          "output_type": "display_data",
          "data": {
            "text/plain": [
              "<Figure size 800x550 with 1 Axes>"
            ],
            "image/png": "[encoded data removed]"
          },
          "metadata": {}
        },
        {
          "output_type": "execute_result",
          "data": {
            "text/plain": [
              "      Metrique  Score\n",
              "0     Accuracy  44.0%\n",
              "1    Précision  80.0%\n",
              "2  Sensibilité   2.0%\n",
              "3     F1 Score   4.0%"
            ],
            "text/html": [
              "\n",
              "  <div id=\"df-207c5c32-ba2f-45ef-a6e7-06d07153eba9\" class=\"colab-df-container\">\n",
              "    <div>\n",
              "<style scoped>\n",
              "    .dataframe tbody tr th:only-of-type {\n",
              "        vertical-align: middle;\n",
              "    }\n",
              "\n",
              "    .dataframe tbody tr th {\n",
              "        vertical-align: top;\n",
              "    }\n",
              "\n",
              "    .dataframe thead th {\n",
              "        text-align: right;\n",
              "    }\n",
              "</style>\n",
              "<table border=\"1\" class=\"dataframe\">\n",
              "  <thead>\n",
              "    <tr style=\"text-align: right;\">\n",
              "      <th></th>\n",
              "      <th>Metrique</th>\n",
              "      <th>Score</th>\n",
              "    </tr>\n",
              "  </thead>\n",
              "  <tbody>\n",
              "    <tr>\n",
              "      <th>0</th>\n",
              "      <td>Accuracy</td>\n",
              "      <td>44.0%</td>\n",
              "    </tr>\n",
              "    <tr>\n",
              "      <th>1</th>\n",
              "      <td>Précision</td>\n",
              "      <td>80.0%</td>\n",
              "    </tr>\n",
              "    <tr>\n",
              "      <th>2</th>\n",
              "      <td>Sensibilité</td>\n",
              "      <td>2.0%</td>\n",
              "    </tr>\n",
              "    <tr>\n",
              "      <th>3</th>\n",
              "      <td>F1 Score</td>\n",
              "      <td>4.0%</td>\n",
              "    </tr>\n",
              "  </tbody>\n",
              "</table>\n",
              "</div>\n",
              "    <div class=\"colab-df-buttons\">\n",
              "\n",
              "  <div class=\"colab-df-container\">\n",
              "    <button class=\"colab-df-convert\" onclick=\"convertToInteractive('df-207c5c32-ba2f-45ef-a6e7-06d07153eba9')\"\n",
              "            title=\"Convert this dataframe to an interactive table.\"\n",
              "            style=\"display:none;\">\n",
              "\n",
              "  <svg xmlns=\"http://www.w3.org/2000/svg\" height=\"24px\" viewBox=\"0 -960 960 960\">\n",
              "    <path d=\"M120-120v-720h720v720H120Zm60-500h600v-160H180v160Zm220 220h160v-160H400v160Zm0 220h160v-160H400v160ZM180-400h160v-160H180v160Zm440 0h160v-160H620v160ZM180-180h160v-160H180v160Zm440 0h160v-160H620v160Z\"/>\n",
              "  </svg>\n",
              "    </button>\n",
              "\n",
              "  <style>\n",
              "    .colab-df-container {\n",
              "      display:flex;\n",
              "      gap: 12px;\n",
              "    }\n",
              "\n",
              "    .colab-df-convert {\n",
              "      background-color: #E8F0FE;\n",
              "      border: none;\n",
              "      border-radius: 50%;\n",
              "      cursor: pointer;\n",
              "      display: none;\n",
              "      fill: #1967D2;\n",
              "      height: 32px;\n",
              "      padding: 0 0 0 0;\n",
              "      width: 32px;\n",
              "    }\n",
              "\n",
              "    .colab-df-convert:hover {\n",
              "      background-color: #E2EBFA;\n",
              "      box-shadow: 0px 1px 2px rgba(60, 64, 67, 0.3), 0px 1px 3px 1px rgba(60, 64, 67, 0.15);\n",
              "      fill: #174EA6;\n",
              "    }\n",
              "\n",
              "    .colab-df-buttons div {\n",
              "      margin-bottom: 4px;\n",
              "    }\n",
              "\n",
              "    [theme=dark] .colab-df-convert {\n",
              "      background-color: #3B4455;\n",
              "      fill: #D2E3FC;\n",
              "    }\n",
              "\n",
              "    [theme=dark] .colab-df-convert:hover {\n",
              "      background-color: #434B5C;\n",
              "      box-shadow: 0px 1px 3px 1px rgba(0, 0, 0, 0.15);\n",
              "      filter: drop-shadow(0px 1px 2px rgba(0, 0, 0, 0.3));\n",
              "      fill: #FFFFFF;\n",
              "    }\n",
              "  </style>\n",
              "\n",
              "    <script>\n",
              "      const buttonEl =\n",
              "        document.querySelector('#df-207c5c32-ba2f-45ef-a6e7-06d07153eba9 button.colab-df-convert');\n",
              "      buttonEl.style.display =\n",
              "        google.colab.kernel.accessAllowed ? 'block' : 'none';\n",
              "\n",
              "      async function convertToInteractive(key) {\n",
              "        const element = document.querySelector('#df-207c5c32-ba2f-45ef-a6e7-06d07153eba9');\n",
              "        const dataTable =\n",
              "          await google.colab.kernel.invokeFunction('convertToInteractive',\n",
              "                                                    [key], {});\n",
              "        if (!dataTable) return;\n",
              "\n",
              "        const docLinkHtml = 'Like what you see? Visit the ' +\n",
              "          '<a target=\"_blank\" href=https://colab.research.google.com/notebooks/data_table.ipynb>data table notebook</a>'\n",
              "          + ' to learn more about interactive tables.';\n",
              "        element.innerHTML = '';\n",
              "        dataTable['output_type'] = 'display_data';\n",
              "        await google.colab.output.renderOutput(dataTable, element);\n",
              "        const docLink = document.createElement('div');\n",
              "        docLink.innerHTML = docLinkHtml;\n",
              "        element.appendChild(docLink);\n",
              "      }\n",
              "    </script>\n",
              "  </div>\n",
              "\n",
              "\n",
              "<div id=\"df-0854da40-d59e-43d1-a41b-dcb7766f473d\">\n",
              "  <button class=\"colab-df-quickchart\" onclick=\"quickchart('df-0854da40-d59e-43d1-a41b-dcb7766f473d')\"\n",
              "            title=\"Suggest charts\"\n",
              "            style=\"display:none;\">\n",
              "\n",
              "<svg xmlns=\"http://www.w3.org/2000/svg\" height=\"24px\"viewBox=\"0 0 24 24\"\n",
              "     width=\"24px\">\n",
              "    <g>\n",
              "        <path d=\"M19 3H5c-1.1 0-2 .9-2 2v14c0 1.1.9 2 2 2h14c1.1 0 2-.9 2-2V5c0-1.1-.9-2-2-2zM9 17H7v-7h2v7zm4 0h-2V7h2v10zm4 0h-2v-4h2v4z\"/>\n",
              "    </g>\n",
              "</svg>\n",
              "  </button>\n",
              "\n",
              "<style>\n",
              "  .colab-df-quickchart {\n",
              "      --bg-color: #E8F0FE;\n",
              "      --fill-color: #1967D2;\n",
              "      --hover-bg-color: #E2EBFA;\n",
              "      --hover-fill-color: #174EA6;\n",
              "      --disabled-fill-color: #AAA;\n",
              "      --disabled-bg-color: #DDD;\n",
              "  }\n",
              "\n",
              "  [theme=dark] .colab-df-quickchart {\n",
              "      --bg-color: #3B4455;\n",
              "      --fill-color: #D2E3FC;\n",
              "      --hover-bg-color: #434B5C;\n",
              "      --hover-fill-color: #FFFFFF;\n",
              "      --disabled-bg-color: #3B4455;\n",
              "      --disabled-fill-color: #666;\n",
              "  }\n",
              "\n",
              "  .colab-df-quickchart {\n",
              "    background-color: var(--bg-color);\n",
              "    border: none;\n",
              "    border-radius: 50%;\n",
              "    cursor: pointer;\n",
              "    display: none;\n",
              "    fill: var(--fill-color);\n",
              "    height: 32px;\n",
              "    padding: 0;\n",
              "    width: 32px;\n",
              "  }\n",
              "\n",
              "  .colab-df-quickchart:hover {\n",
              "    background-color: var(--hover-bg-color);\n",
              "    box-shadow: 0 1px 2px rgba(60, 64, 67, 0.3), 0 1px 3px 1px rgba(60, 64, 67, 0.15);\n",
              "    fill: var(--button-hover-fill-color);\n",
              "  }\n",
              "\n",
              "  .colab-df-quickchart-complete:disabled,\n",
              "  .colab-df-quickchart-complete:disabled:hover {\n",
              "    background-color: var(--disabled-bg-color);\n",
              "    fill: var(--disabled-fill-color);\n",
              "    box-shadow: none;\n",
              "  }\n",
              "\n",
              "  .colab-df-spinner {\n",
              "    border: 2px solid var(--fill-color);\n",
              "    border-color: transparent;\n",
              "    border-bottom-color: var(--fill-color);\n",
              "    animation:\n",
              "      spin 1s steps(1) infinite;\n",
              "  }\n",
              "\n",
              "  @keyframes spin {\n",
              "    0% {\n",
              "      border-color: transparent;\n",
              "      border-bottom-color: var(--fill-color);\n",
              "      border-left-color: var(--fill-color);\n",
              "    }\n",
              "    20% {\n",
              "      border-color: transparent;\n",
              "      border-left-color: var(--fill-color);\n",
              "      border-top-color: var(--fill-color);\n",
              "    }\n",
              "    30% {\n",
              "      border-color: transparent;\n",
              "      border-left-color: var(--fill-color);\n",
              "      border-top-color: var(--fill-color);\n",
              "      border-right-color: var(--fill-color);\n",
              "    }\n",
              "    40% {\n",
              "      border-color: transparent;\n",
              "      border-right-color: var(--fill-color);\n",
              "      border-top-color: var(--fill-color);\n",
              "    }\n",
              "    60% {\n",
              "      border-color: transparent;\n",
              "      border-right-color: var(--fill-color);\n",
              "    }\n",
              "    80% {\n",
              "      border-color: transparent;\n",
              "      border-right-color: var(--fill-color);\n",
              "      border-bottom-color: var(--fill-color);\n",
              "    }\n",
              "    90% {\n",
              "      border-color: transparent;\n",
              "      border-bottom-color: var(--fill-color);\n",
              "    }\n",
              "  }\n",
              "</style>\n",
              "\n",
              "  <script>\n",
              "    async function quickchart(key) {\n",
              "      const quickchartButtonEl =\n",
              "        document.querySelector('#' + key + ' button');\n",
              "      quickchartButtonEl.disabled = true;  // To prevent multiple clicks.\n",
              "      quickchartButtonEl.classList.add('colab-df-spinner');\n",
              "      try {\n",
              "        const charts = await google.colab.kernel.invokeFunction(\n",
              "            'suggestCharts', [key], {});\n",
              "      } catch (error) {\n",
              "        console.error('Error during call to suggestCharts:', error);\n",
              "      }\n",
              "      quickchartButtonEl.classList.remove('colab-df-spinner');\n",
              "      quickchartButtonEl.classList.add('colab-df-quickchart-complete');\n",
              "    }\n",
              "    (() => {\n",
              "      let quickchartButtonEl =\n",
              "        document.querySelector('#df-0854da40-d59e-43d1-a41b-dcb7766f473d button');\n",
              "      quickchartButtonEl.style.display =\n",
              "        google.colab.kernel.accessAllowed ? 'block' : 'none';\n",
              "    })();\n",
              "  </script>\n",
              "</div>\n",
              "    </div>\n",
              "  </div>\n"
            ],
            "application/vnd.google.colaboratory.intrinsic+json": {
              "type": "dataframe",
              "summary": "{\n  \"name\": \"model_score(y_test_final,adaB_pred) #Score\",\n  \"rows\": 4,\n  \"fields\": [\n    {\n      \"column\": \"Metrique\",\n      \"properties\": {\n        \"dtype\": \"string\",\n        \"num_unique_values\": 4,\n        \"samples\": [\n          \"Pr\\u00e9cision\",\n          \"F1 Score\",\n          \"Accuracy\"\n        ],\n        \"semantic_type\": \"\",\n        \"description\": \"\"\n      }\n    },\n    {\n      \"column\": \"Score\",\n      \"properties\": {\n        \"dtype\": \"string\",\n        \"num_unique_values\": 4,\n        \"samples\": [\n          \"80.0%\",\n          \"4.0%\",\n          \"44.0%\"\n        ],\n        \"semantic_type\": \"\",\n        \"description\": \"\"\n      }\n    }\n  ]\n}"
            }
          },
          "metadata": {},
          "execution_count": 55
        }
      ],
      "source": [
        "from sklearn.ensemble import AdaBoostClassifier\n",
        "\n",
        "adaB = AdaBoostClassifier(n_estimators=85) #On crée notre AdaBoost\n",
        "adaB.fit(X_train_scaled,y_train_final) #On la fit à nos données\n",
        "adaB_pred =adaB.predict(X_test_final)# On prédit nos données\n",
        "\n",
        "dict_models_pred['AdaBoost']=adaB_pred  #On ajoute les résultats dans notre dictionnaire\n",
        "\n",
        "\n",
        "matrice_conf(y_test_final,adaB_pred) #Matrice de confusion\n",
        "model_score(y_test_final,adaB_pred) #Score"
      ]
    },
    {
      "cell_type": "markdown",
      "metadata": {
        "id": "u7PETPhRT4sq"
      },
      "source": [
        "### Gradient Booster"
      ]
    },
    {
      "cell_type": "code",
      "execution_count": 46,
      "metadata": {
        "id": "A4IEmukVUET-",
        "colab": {
          "base_uri": "https://localhost:8080/",
          "height": 562
        },
        "outputId": "69852867-66da-4b2d-939f-d67a5a7a7ea0"
      },
      "outputs": [
        {
          "output_type": "display_data",
          "data": {
            "text/plain": [
              "<Figure size 1000x600 with 1 Axes>"
            ],
            "image/png": "[encoded data removed]"
          },
          "metadata": {}
        }
      ],
      "source": [
        "# import machine learning algorithms\n",
        "from sklearn.ensemble import GradientBoostingClassifier\n",
        "from sklearn.metrics import classification_report, confusion_matrix, roc_curve, auc\n",
        "\n",
        "# Données d'exemple pour X_train_final, y_train_final, X_test_final, y_test_final\n",
        "# Remplacez-les par vos données réelles\n",
        "X_train_final = np.random.rand(100, 10)\n",
        "y_train_final = np.random.randint(0, 2, size=100)\n",
        "X_test_final = np.random.rand(50, 10)\n",
        "y_test_final = np.random.randint(0, 2, size=50)\n",
        "\n",
        "learning_rates = [0.05, 0.1, 0.25, 0.5, 0.75, 1]\n",
        "train_scores = []\n",
        "test_scores = []\n",
        "\n",
        "for learning_rate in learning_rates:\n",
        "    gb = GradientBoostingClassifier(n_estimators=20, learning_rate=learning_rate, max_features=2, max_depth=2, random_state=0)\n",
        "    gb.fit(X_train_final, y_train_final)\n",
        "    train_score = gb.score(X_train_final, y_train_final)\n",
        "    test_score = gb.score(X_test_final, y_test_final)\n",
        "    train_scores.append(train_score)\n",
        "    test_scores.append(test_score)\n",
        "\n",
        "# Création du graphique à barres\n",
        "plt.figure(figsize=(10, 6))\n",
        "sns.barplot(x=learning_rates, y=train_scores, color='blue', alpha=0.5, label='Training Accuracy')\n",
        "sns.barplot(x=learning_rates, y=test_scores, color='red', alpha=0.5, label='Validation Accuracy')\n",
        "plt.xlabel('Learning Rate')\n",
        "plt.ylabel('Accuracy')\n",
        "plt.title('Accuracy Scores for Different Learning Rates')\n",
        "plt.legend()\n",
        "plt.show()\n"
      ]
    },
    {
      "cell_type": "code",
      "execution_count": 56,
      "metadata": {
        "id": "jNcVENWyT__w",
        "colab": {
          "base_uri": "https://localhost:8080/",
          "height": 682
        },
        "outputId": "353e8963-8212-4f51-b02c-8d0db5bfd78c"
      },
      "outputs": [
        {
          "output_type": "display_data",
          "data": {
            "text/plain": [
              "<Figure size 800x550 with 1 Axes>"
            ],
            "image/png": "[encoded data removed]"
          },
          "metadata": {}
        },
        {
          "output_type": "execute_result",
          "data": {
            "text/plain": [
              "      Metrique  Score\n",
              "0     Accuracy  64.0%\n",
              "1    Précision  65.0%\n",
              "2  Sensibilité  81.0%\n",
              "3     F1 Score  72.0%"
            ],
            "text/html": [
              "\n",
              "  <div id=\"df-12e708a8-73a7-4dfa-8649-ee79848c73e0\" class=\"colab-df-container\">\n",
              "    <div>\n",
              "<style scoped>\n",
              "    .dataframe tbody tr th:only-of-type {\n",
              "        vertical-align: middle;\n",
              "    }\n",
              "\n",
              "    .dataframe tbody tr th {\n",
              "        vertical-align: top;\n",
              "    }\n",
              "\n",
              "    .dataframe thead th {\n",
              "        text-align: right;\n",
              "    }\n",
              "</style>\n",
              "<table border=\"1\" class=\"dataframe\">\n",
              "  <thead>\n",
              "    <tr style=\"text-align: right;\">\n",
              "      <th></th>\n",
              "      <th>Metrique</th>\n",
              "      <th>Score</th>\n",
              "    </tr>\n",
              "  </thead>\n",
              "  <tbody>\n",
              "    <tr>\n",
              "      <th>0</th>\n",
              "      <td>Accuracy</td>\n",
              "      <td>64.0%</td>\n",
              "    </tr>\n",
              "    <tr>\n",
              "      <th>1</th>\n",
              "      <td>Précision</td>\n",
              "      <td>65.0%</td>\n",
              "    </tr>\n",
              "    <tr>\n",
              "      <th>2</th>\n",
              "      <td>Sensibilité</td>\n",
              "      <td>81.0%</td>\n",
              "    </tr>\n",
              "    <tr>\n",
              "      <th>3</th>\n",
              "      <td>F1 Score</td>\n",
              "      <td>72.0%</td>\n",
              "    </tr>\n",
              "  </tbody>\n",
              "</table>\n",
              "</div>\n",
              "    <div class=\"colab-df-buttons\">\n",
              "\n",
              "  <div class=\"colab-df-container\">\n",
              "    <button class=\"colab-df-convert\" onclick=\"convertToInteractive('df-12e708a8-73a7-4dfa-8649-ee79848c73e0')\"\n",
              "            title=\"Convert this dataframe to an interactive table.\"\n",
              "            style=\"display:none;\">\n",
              "\n",
              "  <svg xmlns=\"http://www.w3.org/2000/svg\" height=\"24px\" viewBox=\"0 -960 960 960\">\n",
              "    <path d=\"M120-120v-720h720v720H120Zm60-500h600v-160H180v160Zm220 220h160v-160H400v160Zm0 220h160v-160H400v160ZM180-400h160v-160H180v160Zm440 0h160v-160H620v160ZM180-180h160v-160H180v160Zm440 0h160v-160H620v160Z\"/>\n",
              "  </svg>\n",
              "    </button>\n",
              "\n",
              "  <style>\n",
              "    .colab-df-container {\n",
              "      display:flex;\n",
              "      gap: 12px;\n",
              "    }\n",
              "\n",
              "    .colab-df-convert {\n",
              "      background-color: #E8F0FE;\n",
              "      border: none;\n",
              "      border-radius: 50%;\n",
              "      cursor: pointer;\n",
              "      display: none;\n",
              "      fill: #1967D2;\n",
              "      height: 32px;\n",
              "      padding: 0 0 0 0;\n",
              "      width: 32px;\n",
              "    }\n",
              "\n",
              "    .colab-df-convert:hover {\n",
              "      background-color: #E2EBFA;\n",
              "      box-shadow: 0px 1px 2px rgba(60, 64, 67, 0.3), 0px 1px 3px 1px rgba(60, 64, 67, 0.15);\n",
              "      fill: #174EA6;\n",
              "    }\n",
              "\n",
              "    .colab-df-buttons div {\n",
              "      margin-bottom: 4px;\n",
              "    }\n",
              "\n",
              "    [theme=dark] .colab-df-convert {\n",
              "      background-color: #3B4455;\n",
              "      fill: #D2E3FC;\n",
              "    }\n",
              "\n",
              "    [theme=dark] .colab-df-convert:hover {\n",
              "      background-color: #434B5C;\n",
              "      box-shadow: 0px 1px 3px 1px rgba(0, 0, 0, 0.15);\n",
              "      filter: drop-shadow(0px 1px 2px rgba(0, 0, 0, 0.3));\n",
              "      fill: #FFFFFF;\n",
              "    }\n",
              "  </style>\n",
              "\n",
              "    <script>\n",
              "      const buttonEl =\n",
              "        document.querySelector('#df-12e708a8-73a7-4dfa-8649-ee79848c73e0 button.colab-df-convert');\n",
              "      buttonEl.style.display =\n",
              "        google.colab.kernel.accessAllowed ? 'block' : 'none';\n",
              "\n",
              "      async function convertToInteractive(key) {\n",
              "        const element = document.querySelector('#df-12e708a8-73a7-4dfa-8649-ee79848c73e0');\n",
              "        const dataTable =\n",
              "          await google.colab.kernel.invokeFunction('convertToInteractive',\n",
              "                                                    [key], {});\n",
              "        if (!dataTable) return;\n",
              "\n",
              "        const docLinkHtml = 'Like what you see? Visit the ' +\n",
              "          '<a target=\"_blank\" href=https://colab.research.google.com/notebooks/data_table.ipynb>data table notebook</a>'\n",
              "          + ' to learn more about interactive tables.';\n",
              "        element.innerHTML = '';\n",
              "        dataTable['output_type'] = 'display_data';\n",
              "        await google.colab.output.renderOutput(dataTable, element);\n",
              "        const docLink = document.createElement('div');\n",
              "        docLink.innerHTML = docLinkHtml;\n",
              "        element.appendChild(docLink);\n",
              "      }\n",
              "    </script>\n",
              "  </div>\n",
              "\n",
              "\n",
              "<div id=\"df-20adc3fd-b3fc-49f4-8ea3-23abe082cdbc\">\n",
              "  <button class=\"colab-df-quickchart\" onclick=\"quickchart('df-20adc3fd-b3fc-49f4-8ea3-23abe082cdbc')\"\n",
              "            title=\"Suggest charts\"\n",
              "            style=\"display:none;\">\n",
              "\n",
              "<svg xmlns=\"http://www.w3.org/2000/svg\" height=\"24px\"viewBox=\"0 0 24 24\"\n",
              "     width=\"24px\">\n",
              "    <g>\n",
              "        <path d=\"M19 3H5c-1.1 0-2 .9-2 2v14c0 1.1.9 2 2 2h14c1.1 0 2-.9 2-2V5c0-1.1-.9-2-2-2zM9 17H7v-7h2v7zm4 0h-2V7h2v10zm4 0h-2v-4h2v4z\"/>\n",
              "    </g>\n",
              "</svg>\n",
              "  </button>\n",
              "\n",
              "<style>\n",
              "  .colab-df-quickchart {\n",
              "      --bg-color: #E8F0FE;\n",
              "      --fill-color: #1967D2;\n",
              "      --hover-bg-color: #E2EBFA;\n",
              "      --hover-fill-color: #174EA6;\n",
              "      --disabled-fill-color: #AAA;\n",
              "      --disabled-bg-color: #DDD;\n",
              "  }\n",
              "\n",
              "  [theme=dark] .colab-df-quickchart {\n",
              "      --bg-color: #3B4455;\n",
              "      --fill-color: #D2E3FC;\n",
              "      --hover-bg-color: #434B5C;\n",
              "      --hover-fill-color: #FFFFFF;\n",
              "      --disabled-bg-color: #3B4455;\n",
              "      --disabled-fill-color: #666;\n",
              "  }\n",
              "\n",
              "  .colab-df-quickchart {\n",
              "    background-color: var(--bg-color);\n",
              "    border: none;\n",
              "    border-radius: 50%;\n",
              "    cursor: pointer;\n",
              "    display: none;\n",
              "    fill: var(--fill-color);\n",
              "    height: 32px;\n",
              "    padding: 0;\n",
              "    width: 32px;\n",
              "  }\n",
              "\n",
              "  .colab-df-quickchart:hover {\n",
              "    background-color: var(--hover-bg-color);\n",
              "    box-shadow: 0 1px 2px rgba(60, 64, 67, 0.3), 0 1px 3px 1px rgba(60, 64, 67, 0.15);\n",
              "    fill: var(--button-hover-fill-color);\n",
              "  }\n",
              "\n",
              "  .colab-df-quickchart-complete:disabled,\n",
              "  .colab-df-quickchart-complete:disabled:hover {\n",
              "    background-color: var(--disabled-bg-color);\n",
              "    fill: var(--disabled-fill-color);\n",
              "    box-shadow: none;\n",
              "  }\n",
              "\n",
              "  .colab-df-spinner {\n",
              "    border: 2px solid var(--fill-color);\n",
              "    border-color: transparent;\n",
              "    border-bottom-color: var(--fill-color);\n",
              "    animation:\n",
              "      spin 1s steps(1) infinite;\n",
              "  }\n",
              "\n",
              "  @keyframes spin {\n",
              "    0% {\n",
              "      border-color: transparent;\n",
              "      border-bottom-color: var(--fill-color);\n",
              "      border-left-color: var(--fill-color);\n",
              "    }\n",
              "    20% {\n",
              "      border-color: transparent;\n",
              "      border-left-color: var(--fill-color);\n",
              "      border-top-color: var(--fill-color);\n",
              "    }\n",
              "    30% {\n",
              "      border-color: transparent;\n",
              "      border-left-color: var(--fill-color);\n",
              "      border-top-color: var(--fill-color);\n",
              "      border-right-color: var(--fill-color);\n",
              "    }\n",
              "    40% {\n",
              "      border-color: transparent;\n",
              "      border-right-color: var(--fill-color);\n",
              "      border-top-color: var(--fill-color);\n",
              "    }\n",
              "    60% {\n",
              "      border-color: transparent;\n",
              "      border-right-color: var(--fill-color);\n",
              "    }\n",
              "    80% {\n",
              "      border-color: transparent;\n",
              "      border-right-color: var(--fill-color);\n",
              "      border-bottom-color: var(--fill-color);\n",
              "    }\n",
              "    90% {\n",
              "      border-color: transparent;\n",
              "      border-bottom-color: var(--fill-color);\n",
              "    }\n",
              "  }\n",
              "</style>\n",
              "\n",
              "  <script>\n",
              "    async function quickchart(key) {\n",
              "      const quickchartButtonEl =\n",
              "        document.querySelector('#' + key + ' button');\n",
              "      quickchartButtonEl.disabled = true;  // To prevent multiple clicks.\n",
              "      quickchartButtonEl.classList.add('colab-df-spinner');\n",
              "      try {\n",
              "        const charts = await google.colab.kernel.invokeFunction(\n",
              "            'suggestCharts', [key], {});\n",
              "      } catch (error) {\n",
              "        console.error('Error during call to suggestCharts:', error);\n",
              "      }\n",
              "      quickchartButtonEl.classList.remove('colab-df-spinner');\n",
              "      quickchartButtonEl.classList.add('colab-df-quickchart-complete');\n",
              "    }\n",
              "    (() => {\n",
              "      let quickchartButtonEl =\n",
              "        document.querySelector('#df-20adc3fd-b3fc-49f4-8ea3-23abe082cdbc button');\n",
              "      quickchartButtonEl.style.display =\n",
              "        google.colab.kernel.accessAllowed ? 'block' : 'none';\n",
              "    })();\n",
              "  </script>\n",
              "</div>\n",
              "    </div>\n",
              "  </div>\n"
            ],
            "application/vnd.google.colaboratory.intrinsic+json": {
              "type": "dataframe",
              "summary": "{\n  \"name\": \"model_score(y_test_final,gbc_pred) #Score\",\n  \"rows\": 4,\n  \"fields\": [\n    {\n      \"column\": \"Metrique\",\n      \"properties\": {\n        \"dtype\": \"string\",\n        \"num_unique_values\": 4,\n        \"samples\": [\n          \"Pr\\u00e9cision\",\n          \"F1 Score\",\n          \"Accuracy\"\n        ],\n        \"semantic_type\": \"\",\n        \"description\": \"\"\n      }\n    },\n    {\n      \"column\": \"Score\",\n      \"properties\": {\n        \"dtype\": \"string\",\n        \"num_unique_values\": 4,\n        \"samples\": [\n          \"65.0%\",\n          \"72.0%\",\n          \"64.0%\"\n        ],\n        \"semantic_type\": \"\",\n        \"description\": \"\"\n      }\n    }\n  ]\n}"
            }
          },
          "metadata": {},
          "execution_count": 56
        }
      ],
      "source": [
        "gbc = GradientBoostingClassifier(n_estimators=20, learning_rate = 0.75, max_features=2, max_depth = 2, random_state = 0)\n",
        "gbc.fit(X_train_final, y_train_final)\n",
        "gbc_pred = gbc.predict(X_test_final)\n",
        "\n",
        "dict_models_pred['Gradient Booster']=gbc_pred  #On ajoute les résultats dans notre dictionnaire\n",
        "\n",
        "matrice_conf(y_test_final,gbc_pred) #Matrice de confusion\n",
        "model_score(y_test_final,gbc_pred) #Score"
      ]
    },
    {
      "cell_type": "markdown",
      "metadata": {
        "id": "qF-v7dP4NiOw"
      },
      "source": [
        "### Perception Multicouche"
      ]
    },
    {
      "cell_type": "markdown",
      "metadata": {
        "id": "SqWrPSJ5gPqJ"
      },
      "source": [
        "\n",
        "\n",
        "Un réseau de neurones est un graphe orienté pondéré dont les nœuds sont appelés neurones artificiels et les arêtes (liens entre les nœuds) des synapses (l'idée originale du concept était d'essayer de reproduire le comportement des neurones du cerveau humain).\n",
        "\n",
        "À chaque neurone est attribué un état interne appelé l'activation $ a \\in \\mathbb{R} $ et à chaque synapse est attribuée un poids $w \\in \\mathbb{R} $. Les poids sont répertoriés dans la matrice des poids $W$.\n",
        "\n",
        "Le comportement d'un neurone artificiel est le suivant : un neurone $i$ reçoit des entrées $x_j$ (nombres réels) auxquels il applique une fonction d'entrée $h$, qui est le plus souvent la combinaison linéaire des entrées pondérée par les poids $w^i_j$ des synapses reliant les neurones d'entrée au neurone $i$. :\n",
        "\n",
        "$h(x_1, \\dots, x_d) = \\displaystyle \\sum_{j=1}^{d} w_{i,j}x_j$\n",
        "\n",
        "Une fois cette transformation faite, le neurone $i$ applique au nombre obtenue une fonction d'activation $f$ (à valeurs dans $\\mathbb{R}$), ce qui permet d'obtenir en sortie l'activation du neurone $i$.\n",
        "\n",
        "Construire un réseau de neurones, c'est donc se fixer :\n",
        "\n",
        "- Une architecture (nombre de neurones, connexions entre les neurones)\n",
        "- Une matrice $W$ des poids des connexions entre les neurones (où l'absence de connexion se traduira par un poids égal à 0)\n",
        "- Une fonction d'activation $f$\n",
        "\n",
        "$f$ est généralement la même pour tous les neurones, ou du moins tous les neurones d'une même couche. Parmi les choix les plus fréquents pour $f$, on trouvera entre autres la sigmoïde exponentielle (vue plus haut), la tangente hyperbolique (ou sigmoïde tangentielle), ou bien encore la fonction partie positive (appelée alors unité de rectification linéaire ou ReLU en anglais).\n",
        "\n",
        "<br>\n",
        "\n",
        "Lorsque plusieurs couches de neurones se succèdent, un neurone prend en entrée les activations des neurones de la couche précédente et fournit son activation comme entrée pour les neurones de la couche suivante. C'est le cas par exemple d'un grand classique des réseaux de neurones que nous allons utiliser ici : le **Perceptron multicouche** (PMC)\n",
        "\n",
        "Le PMC comporte :\n",
        "\n",
        "- Une **couche d'entrée** où l'on rentrera les données d'observation. Cette couche aura donc $d$ neurones si on a $d$ variables explicatives\n",
        "- Une **couche de sortie**, donnant la réponse, qui sera composée de 2 neurones dans le cas d'une classification supervisée avec variable cible binaire\n",
        "- Et entre ces deux couches, une ou plusieurs **couches cachées**\n",
        "\n",
        "Chaque neurone de chaque couche est connecté à tous les neurones de la couche précédente et à tous ceux de la couche suivante. On opère ainsi une suite de tranformations linéaires et d'application de fonctions d'activation.\n",
        "\n",
        "<br>\n",
        "<br>\n",
        "\n",
        "Dans le cas d'un problème de classification binaire comme le nôtre, l'apprentissage d'un PMC se déroule comme suit : on dispose pour les $N$ individus de notre set d'entraînements des entrées $x^i_j$ (avec $i \\in \\{1,\\dots,N\\}$ et $j \\in \\{1,\\dots,d\\}$ assorties de la réponse effective $y_i$ (0 ou 1). Pour chaque individu $i$, on donnes les $x^i_j$ à la couche d'entrée et on obtient en sortie une probabilité $p_i$ que l'individu $i$ soit dans la classe 1 (on prend en fonction d'activation pour la couche de sortie la sigmoïde exponentielle, à valeurs comprises entre 0 et 1).\n",
        "\n",
        "Ensuite on applique aux $p_i$ une fonction d'erreur, les **corrélations croisées** :\n",
        "\n",
        "$logloss = - \\displaystyle \\frac{1}{N} \\displaystyle \\sum_{i=1}^{N} (y_iln(p_i) + (1-y_i)ln(1-p_i))$\n",
        "\n",
        "(La sigmoïde exponentielle prend ses valeurs entre 0 et 1 **strictement** (limites non atteintes), donc il est bien licite de prendre le log des $p_i$ et $1-p_i$. On multiplie la somme par $(-1)$ pour avoir une valeur positive).\n",
        "\n",
        "Et on va corriger les poids des synapses (initialisés arbitrairement au début) de façon à minimiser cette fonction d'erreur. Notre PMC ainsi entrainée pourra donc faire de la classification binaire.\n",
        "\n",
        "<br>\n",
        "<br>\n",
        "\n",
        "On utilise Tensorflow et Keras pour créer notre PMC.\n",
        "On initialise d'abord avec sequential() un modèle correspondant à la structure du PMC.\n",
        "Puis avec add et la fonction Dense, on ajoute :\n",
        "\n",
        "- La couche d'entrée avec 15 neurones (puisqu'on a 15 variables explicatives) et ReLU en fonction d'activation\n",
        "- 3 couches cachées avec différents nombres de neurones et toujours ReLU en activation\n",
        "- La couche de sortie, avec un seul neurone et donc la sigmoïde exponentielle en activation\n",
        "\n",
        "(Pour le nombre de couches cachées et le nombre de neurones par couche cachée, nous avons testé différentes configurations et retenu celle qui donnait les meilleurs résultats. Il n'y a pas vraiment de méthode miracle pour trouver la bonne architecture avec le PMC, on doit donc en général procéder ainsi par tâtonnement).\n",
        "\n",
        "Et on entraîne notre modèle avec compile en précisant qu'on veut les corrélations croisées comme fonction d'erreur :"
      ]
    },
    {
      "cell_type": "code",
      "execution_count": null,
      "metadata": {
        "id": "ydjLC1QNgPqL"
      },
      "outputs": [],
      "source": [
        "from tensorflow import keras\n",
        "\n",
        "modelB=keras.models.Sequential()\n",
        "modelB.add(keras.layers.Dense(15, activation='relu',input_dim=15))\n",
        "modelB.add(keras.layers.Dense(13, activation='relu'))\n",
        "modelB.add(keras.layers.Dense(11, activation='relu'))\n",
        "modelB.add(keras.layers.Dense(7, activation='relu'))\n",
        "modelB.add(keras.layers.Dense(5, activation='relu'))\n",
        "modelB.add(keras.layers.Dense(3, activation='relu'))\n",
        "modelB.add(keras.layers.Dense(1, activation='sigmoid'))\n",
        "\n",
        "modelB.compile(loss='binary_crossentropy',\n",
        "              optimizer='adam',\n",
        "              metrics=['accuracy'])\n",
        "\n",
        "history=modelB.fit(X_train_final,y_train_final,epochs=35,batch_size=2,verbose=0)\n",
        "learning_curve_nn(history)"
      ]
    },
    {
      "cell_type": "code",
      "execution_count": null,
      "metadata": {
        "id": "k5CuOrPSgPqM"
      },
      "outputs": [],
      "source": [
        "nnB_pred=np.round(modelB.predict(X_test_final),0) #On prédit nos données\n",
        "\n",
        "dict_models_pred['nnB']=nnB_pred #On l'ajoute à notre dictionnaire\n",
        "\n",
        "model_score(y_test,nnB_pred) #Score\n",
        "matrice_conf(y_test,nnB_pred) #Matrice de confusion"
      ]
    },
    {
      "cell_type": "markdown",
      "metadata": {
        "id": "E0ZE_eNAgPqO"
      },
      "source": [
        "### VotingClassifier\n",
        "\n",
        "Un Voting Classifier est un modèle qui s'entraîne sur un ensemble de modèle et qui prédit une sortie en croisant les résultats des différents modèles (au vote majoritaire). On commence par la base de données normale en utilisant les modèles utilisées précédemment."
      ]
    },
    {
      "cell_type": "code",
      "execution_count": 57,
      "metadata": {
        "id": "CMv6wM8pgPqP",
        "colab": {
          "base_uri": "https://localhost:8080/",
          "height": 319
        },
        "outputId": "72b60930-d973-46ee-8a38-c09f8c263efb"
      },
      "outputs": [
        {
          "output_type": "stream",
          "name": "stderr",
          "text": [
            "/usr/local/lib/python3.10/dist-packages/sklearn/base.py:432: UserWarning: X has feature names, but LogisticRegression was fitted without feature names\n",
            "  warnings.warn(\n",
            "/usr/local/lib/python3.10/dist-packages/sklearn/base.py:432: UserWarning: X has feature names, but RandomForestClassifier was fitted without feature names\n",
            "  warnings.warn(\n",
            "/usr/local/lib/python3.10/dist-packages/sklearn/base.py:432: UserWarning: X has feature names, but AdaBoostClassifier was fitted without feature names\n",
            "  warnings.warn(\n"
          ]
        },
        {
          "output_type": "display_data",
          "data": {
            "text/plain": [
              "<Figure size 800x550 with 1 Axes>"
            ],
            "image/png": "[encoded data removed]"
          },
          "metadata": {}
        },
        {
          "output_type": "execute_result",
          "data": {
            "text/plain": [
              "      Metrique  Score\n",
              "0     Accuracy  47.0%\n",
              "1    Précision  63.0%\n",
              "2  Sensibilité  17.0%\n",
              "3     F1 Score  27.0%"
            ],
            "text/html": [
              "\n",
              "  <div id=\"df-86756e38-9fa7-4627-b7eb-e2b5afc0a4b6\" class=\"colab-df-container\">\n",
              "    <div>\n",
              "<style scoped>\n",
              "    .dataframe tbody tr th:only-of-type {\n",
              "        vertical-align: middle;\n",
              "    }\n",
              "\n",
              "    .dataframe tbody tr th {\n",
              "        vertical-align: top;\n",
              "    }\n",
              "\n",
              "    .dataframe thead th {\n",
              "        text-align: right;\n",
              "    }\n",
              "</style>\n",
              "<table border=\"1\" class=\"dataframe\">\n",
              "  <thead>\n",
              "    <tr style=\"text-align: right;\">\n",
              "      <th></th>\n",
              "      <th>Metrique</th>\n",
              "      <th>Score</th>\n",
              "    </tr>\n",
              "  </thead>\n",
              "  <tbody>\n",
              "    <tr>\n",
              "      <th>0</th>\n",
              "      <td>Accuracy</td>\n",
              "      <td>47.0%</td>\n",
              "    </tr>\n",
              "    <tr>\n",
              "      <th>1</th>\n",
              "      <td>Précision</td>\n",
              "      <td>63.0%</td>\n",
              "    </tr>\n",
              "    <tr>\n",
              "      <th>2</th>\n",
              "      <td>Sensibilité</td>\n",
              "      <td>17.0%</td>\n",
              "    </tr>\n",
              "    <tr>\n",
              "      <th>3</th>\n",
              "      <td>F1 Score</td>\n",
              "      <td>27.0%</td>\n",
              "    </tr>\n",
              "  </tbody>\n",
              "</table>\n",
              "</div>\n",
              "    <div class=\"colab-df-buttons\">\n",
              "\n",
              "  <div class=\"colab-df-container\">\n",
              "    <button class=\"colab-df-convert\" onclick=\"convertToInteractive('df-86756e38-9fa7-4627-b7eb-e2b5afc0a4b6')\"\n",
              "            title=\"Convert this dataframe to an interactive table.\"\n",
              "            style=\"display:none;\">\n",
              "\n",
              "  <svg xmlns=\"http://www.w3.org/2000/svg\" height=\"24px\" viewBox=\"0 -960 960 960\">\n",
              "    <path d=\"M120-120v-720h720v720H120Zm60-500h600v-160H180v160Zm220 220h160v-160H400v160Zm0 220h160v-160H400v160ZM180-400h160v-160H180v160Zm440 0h160v-160H620v160ZM180-180h160v-160H180v160Zm440 0h160v-160H620v160Z\"/>\n",
              "  </svg>\n",
              "    </button>\n",
              "\n",
              "  <style>\n",
              "    .colab-df-container {\n",
              "      display:flex;\n",
              "      gap: 12px;\n",
              "    }\n",
              "\n",
              "    .colab-df-convert {\n",
              "      background-color: #E8F0FE;\n",
              "      border: none;\n",
              "      border-radius: 50%;\n",
              "      cursor: pointer;\n",
              "      display: none;\n",
              "      fill: #1967D2;\n",
              "      height: 32px;\n",
              "      padding: 0 0 0 0;\n",
              "      width: 32px;\n",
              "    }\n",
              "\n",
              "    .colab-df-convert:hover {\n",
              "      background-color: #E2EBFA;\n",
              "      box-shadow: 0px 1px 2px rgba(60, 64, 67, 0.3), 0px 1px 3px 1px rgba(60, 64, 67, 0.15);\n",
              "      fill: #174EA6;\n",
              "    }\n",
              "\n",
              "    .colab-df-buttons div {\n",
              "      margin-bottom: 4px;\n",
              "    }\n",
              "\n",
              "    [theme=dark] .colab-df-convert {\n",
              "      background-color: #3B4455;\n",
              "      fill: #D2E3FC;\n",
              "    }\n",
              "\n",
              "    [theme=dark] .colab-df-convert:hover {\n",
              "      background-color: #434B5C;\n",
              "      box-shadow: 0px 1px 3px 1px rgba(0, 0, 0, 0.15);\n",
              "      filter: drop-shadow(0px 1px 2px rgba(0, 0, 0, 0.3));\n",
              "      fill: #FFFFFF;\n",
              "    }\n",
              "  </style>\n",
              "\n",
              "    <script>\n",
              "      const buttonEl =\n",
              "        document.querySelector('#df-86756e38-9fa7-4627-b7eb-e2b5afc0a4b6 button.colab-df-convert');\n",
              "      buttonEl.style.display =\n",
              "        google.colab.kernel.accessAllowed ? 'block' : 'none';\n",
              "\n",
              "      async function convertToInteractive(key) {\n",
              "        const element = document.querySelector('#df-86756e38-9fa7-4627-b7eb-e2b5afc0a4b6');\n",
              "        const dataTable =\n",
              "          await google.colab.kernel.invokeFunction('convertToInteractive',\n",
              "                                                    [key], {});\n",
              "        if (!dataTable) return;\n",
              "\n",
              "        const docLinkHtml = 'Like what you see? Visit the ' +\n",
              "          '<a target=\"_blank\" href=https://colab.research.google.com/notebooks/data_table.ipynb>data table notebook</a>'\n",
              "          + ' to learn more about interactive tables.';\n",
              "        element.innerHTML = '';\n",
              "        dataTable['output_type'] = 'display_data';\n",
              "        await google.colab.output.renderOutput(dataTable, element);\n",
              "        const docLink = document.createElement('div');\n",
              "        docLink.innerHTML = docLinkHtml;\n",
              "        element.appendChild(docLink);\n",
              "      }\n",
              "    </script>\n",
              "  </div>\n",
              "\n",
              "\n",
              "<div id=\"df-0d30a8ad-ac05-4763-9cfc-99710336cf67\">\n",
              "  <button class=\"colab-df-quickchart\" onclick=\"quickchart('df-0d30a8ad-ac05-4763-9cfc-99710336cf67')\"\n",
              "            title=\"Suggest charts\"\n",
              "            style=\"display:none;\">\n",
              "\n",
              "<svg xmlns=\"http://www.w3.org/2000/svg\" height=\"24px\"viewBox=\"0 0 24 24\"\n",
              "     width=\"24px\">\n",
              "    <g>\n",
              "        <path d=\"M19 3H5c-1.1 0-2 .9-2 2v14c0 1.1.9 2 2 2h14c1.1 0 2-.9 2-2V5c0-1.1-.9-2-2-2zM9 17H7v-7h2v7zm4 0h-2V7h2v10zm4 0h-2v-4h2v4z\"/>\n",
              "    </g>\n",
              "</svg>\n",
              "  </button>\n",
              "\n",
              "<style>\n",
              "  .colab-df-quickchart {\n",
              "      --bg-color: #E8F0FE;\n",
              "      --fill-color: #1967D2;\n",
              "      --hover-bg-color: #E2EBFA;\n",
              "      --hover-fill-color: #174EA6;\n",
              "      --disabled-fill-color: #AAA;\n",
              "      --disabled-bg-color: #DDD;\n",
              "  }\n",
              "\n",
              "  [theme=dark] .colab-df-quickchart {\n",
              "      --bg-color: #3B4455;\n",
              "      --fill-color: #D2E3FC;\n",
              "      --hover-bg-color: #434B5C;\n",
              "      --hover-fill-color: #FFFFFF;\n",
              "      --disabled-bg-color: #3B4455;\n",
              "      --disabled-fill-color: #666;\n",
              "  }\n",
              "\n",
              "  .colab-df-quickchart {\n",
              "    background-color: var(--bg-color);\n",
              "    border: none;\n",
              "    border-radius: 50%;\n",
              "    cursor: pointer;\n",
              "    display: none;\n",
              "    fill: var(--fill-color);\n",
              "    height: 32px;\n",
              "    padding: 0;\n",
              "    width: 32px;\n",
              "  }\n",
              "\n",
              "  .colab-df-quickchart:hover {\n",
              "    background-color: var(--hover-bg-color);\n",
              "    box-shadow: 0 1px 2px rgba(60, 64, 67, 0.3), 0 1px 3px 1px rgba(60, 64, 67, 0.15);\n",
              "    fill: var(--button-hover-fill-color);\n",
              "  }\n",
              "\n",
              "  .colab-df-quickchart-complete:disabled,\n",
              "  .colab-df-quickchart-complete:disabled:hover {\n",
              "    background-color: var(--disabled-bg-color);\n",
              "    fill: var(--disabled-fill-color);\n",
              "    box-shadow: none;\n",
              "  }\n",
              "\n",
              "  .colab-df-spinner {\n",
              "    border: 2px solid var(--fill-color);\n",
              "    border-color: transparent;\n",
              "    border-bottom-color: var(--fill-color);\n",
              "    animation:\n",
              "      spin 1s steps(1) infinite;\n",
              "  }\n",
              "\n",
              "  @keyframes spin {\n",
              "    0% {\n",
              "      border-color: transparent;\n",
              "      border-bottom-color: var(--fill-color);\n",
              "      border-left-color: var(--fill-color);\n",
              "    }\n",
              "    20% {\n",
              "      border-color: transparent;\n",
              "      border-left-color: var(--fill-color);\n",
              "      border-top-color: var(--fill-color);\n",
              "    }\n",
              "    30% {\n",
              "      border-color: transparent;\n",
              "      border-left-color: var(--fill-color);\n",
              "      border-top-color: var(--fill-color);\n",
              "      border-right-color: var(--fill-color);\n",
              "    }\n",
              "    40% {\n",
              "      border-color: transparent;\n",
              "      border-right-color: var(--fill-color);\n",
              "      border-top-color: var(--fill-color);\n",
              "    }\n",
              "    60% {\n",
              "      border-color: transparent;\n",
              "      border-right-color: var(--fill-color);\n",
              "    }\n",
              "    80% {\n",
              "      border-color: transparent;\n",
              "      border-right-color: var(--fill-color);\n",
              "      border-bottom-color: var(--fill-color);\n",
              "    }\n",
              "    90% {\n",
              "      border-color: transparent;\n",
              "      border-bottom-color: var(--fill-color);\n",
              "    }\n",
              "  }\n",
              "</style>\n",
              "\n",
              "  <script>\n",
              "    async function quickchart(key) {\n",
              "      const quickchartButtonEl =\n",
              "        document.querySelector('#' + key + ' button');\n",
              "      quickchartButtonEl.disabled = true;  // To prevent multiple clicks.\n",
              "      quickchartButtonEl.classList.add('colab-df-spinner');\n",
              "      try {\n",
              "        const charts = await google.colab.kernel.invokeFunction(\n",
              "            'suggestCharts', [key], {});\n",
              "      } catch (error) {\n",
              "        console.error('Error during call to suggestCharts:', error);\n",
              "      }\n",
              "      quickchartButtonEl.classList.remove('colab-df-spinner');\n",
              "      quickchartButtonEl.classList.add('colab-df-quickchart-complete');\n",
              "    }\n",
              "    (() => {\n",
              "      let quickchartButtonEl =\n",
              "        document.querySelector('#df-0d30a8ad-ac05-4763-9cfc-99710336cf67 button');\n",
              "      quickchartButtonEl.style.display =\n",
              "        google.colab.kernel.accessAllowed ? 'block' : 'none';\n",
              "    })();\n",
              "  </script>\n",
              "</div>\n",
              "    </div>\n",
              "  </div>\n"
            ],
            "application/vnd.google.colaboratory.intrinsic+json": {
              "type": "dataframe",
              "summary": "{\n  \"name\": \"model_score(y_test_final,vcB_pred) #Score\",\n  \"rows\": 4,\n  \"fields\": [\n    {\n      \"column\": \"Metrique\",\n      \"properties\": {\n        \"dtype\": \"string\",\n        \"num_unique_values\": 4,\n        \"samples\": [\n          \"Pr\\u00e9cision\",\n          \"F1 Score\",\n          \"Accuracy\"\n        ],\n        \"semantic_type\": \"\",\n        \"description\": \"\"\n      }\n    },\n    {\n      \"column\": \"Score\",\n      \"properties\": {\n        \"dtype\": \"string\",\n        \"num_unique_values\": 4,\n        \"samples\": [\n          \"63.0%\",\n          \"27.0%\",\n          \"47.0%\"\n        ],\n        \"semantic_type\": \"\",\n        \"description\": \"\"\n      }\n    }\n  ]\n}"
            }
          },
          "metadata": {},
          "execution_count": 57
        }
      ],
      "source": [
        "from sklearn.ensemble import VotingClassifier\n",
        "\n",
        "#On crée notre VotingClassifier\n",
        "vcB = VotingClassifier( estimators=[('logRegB',logRegB), ('rfB',rfB),(\"adaB\",adaB)],voting='hard')\n",
        "\n",
        "vcB.fit(X_train_scaled,y_train_final) #On entraine notre modèle\n",
        "vcB_pred =vcB.predict(X_test_final)# On prédit nos données\n",
        "\n",
        "dict_models_pred['Voting Classifier']=vcB_pred  #On ajoute les résultats dans notre dictionnaire\n",
        "\n",
        "\n",
        "matrice_conf(y_test_final,vcB_pred) #Matrice de confusion\n",
        "model_score(y_test_final,vcB_pred) #Score"
      ]
    },
    {
      "cell_type": "markdown",
      "metadata": {
        "id": "EYh8XJfPgPqQ"
      },
      "source": [
        "## **Sélection du modèle, optimisation et validation**\n",
        "\n",
        "On observe un récapitulatif de tout nos modèles avec leurs différents scores :"
      ]
    },
    {
      "cell_type": "markdown",
      "metadata": {
        "id": "5V7BrQQL0hfB"
      },
      "source": [
        "### Récapitulatf"
      ]
    },
    {
      "cell_type": "code",
      "execution_count": 58,
      "metadata": {
        "id": "XO8NaoGTgPqR",
        "colab": {
          "base_uri": "https://localhost:8080/",
          "height": 238
        },
        "outputId": "0ed41364-d104-49fe-8232-c845f9d6505a"
      },
      "outputs": [
        {
          "output_type": "execute_result",
          "data": {
            "text/plain": [
              "                       Accuracy  Précision  Sensibilité  Score F1  Somme\n",
              "Régression logistique      0.61       0.60         0.89      0.72   2.82\n",
              "Gradient Booster           0.64       0.65         0.81      0.72   2.82\n",
              "KNN                        0.58       0.58         0.93      0.72   2.81\n",
              "Voting Classifier          0.47       0.63         0.17      0.26   1.53\n",
              "Random Forest              0.45       0.55         0.19      0.28   1.47\n",
              "AdaBoost                   0.44       0.80         0.02      0.03   1.29"
            ],
            "text/html": [
              "\n",
              "  <div id=\"df-220a67a7-987b-463f-baab-c83aacd6b741\" class=\"colab-df-container\">\n",
              "    <div>\n",
              "<style scoped>\n",
              "    .dataframe tbody tr th:only-of-type {\n",
              "        vertical-align: middle;\n",
              "    }\n",
              "\n",
              "    .dataframe tbody tr th {\n",
              "        vertical-align: top;\n",
              "    }\n",
              "\n",
              "    .dataframe thead th {\n",
              "        text-align: right;\n",
              "    }\n",
              "</style>\n",
              "<table border=\"1\" class=\"dataframe\">\n",
              "  <thead>\n",
              "    <tr style=\"text-align: right;\">\n",
              "      <th></th>\n",
              "      <th>Accuracy</th>\n",
              "      <th>Précision</th>\n",
              "      <th>Sensibilité</th>\n",
              "      <th>Score F1</th>\n",
              "      <th>Somme</th>\n",
              "    </tr>\n",
              "  </thead>\n",
              "  <tbody>\n",
              "    <tr>\n",
              "      <th>Régression logistique</th>\n",
              "      <td>0.61</td>\n",
              "      <td>0.60</td>\n",
              "      <td>0.89</td>\n",
              "      <td>0.72</td>\n",
              "      <td>2.82</td>\n",
              "    </tr>\n",
              "    <tr>\n",
              "      <th>Gradient Booster</th>\n",
              "      <td>0.64</td>\n",
              "      <td>0.65</td>\n",
              "      <td>0.81</td>\n",
              "      <td>0.72</td>\n",
              "      <td>2.82</td>\n",
              "    </tr>\n",
              "    <tr>\n",
              "      <th>KNN</th>\n",
              "      <td>0.58</td>\n",
              "      <td>0.58</td>\n",
              "      <td>0.93</td>\n",
              "      <td>0.72</td>\n",
              "      <td>2.81</td>\n",
              "    </tr>\n",
              "    <tr>\n",
              "      <th>Voting Classifier</th>\n",
              "      <td>0.47</td>\n",
              "      <td>0.63</td>\n",
              "      <td>0.17</td>\n",
              "      <td>0.26</td>\n",
              "      <td>1.53</td>\n",
              "    </tr>\n",
              "    <tr>\n",
              "      <th>Random Forest</th>\n",
              "      <td>0.45</td>\n",
              "      <td>0.55</td>\n",
              "      <td>0.19</td>\n",
              "      <td>0.28</td>\n",
              "      <td>1.47</td>\n",
              "    </tr>\n",
              "    <tr>\n",
              "      <th>AdaBoost</th>\n",
              "      <td>0.44</td>\n",
              "      <td>0.80</td>\n",
              "      <td>0.02</td>\n",
              "      <td>0.03</td>\n",
              "      <td>1.29</td>\n",
              "    </tr>\n",
              "  </tbody>\n",
              "</table>\n",
              "</div>\n",
              "    <div class=\"colab-df-buttons\">\n",
              "\n",
              "  <div class=\"colab-df-container\">\n",
              "    <button class=\"colab-df-convert\" onclick=\"convertToInteractive('df-220a67a7-987b-463f-baab-c83aacd6b741')\"\n",
              "            title=\"Convert this dataframe to an interactive table.\"\n",
              "            style=\"display:none;\">\n",
              "\n",
              "  <svg xmlns=\"http://www.w3.org/2000/svg\" height=\"24px\" viewBox=\"0 -960 960 960\">\n",
              "    <path d=\"M120-120v-720h720v720H120Zm60-500h600v-160H180v160Zm220 220h160v-160H400v160Zm0 220h160v-160H400v160ZM180-400h160v-160H180v160Zm440 0h160v-160H620v160ZM180-180h160v-160H180v160Zm440 0h160v-160H620v160Z\"/>\n",
              "  </svg>\n",
              "    </button>\n",
              "\n",
              "  <style>\n",
              "    .colab-df-container {\n",
              "      display:flex;\n",
              "      gap: 12px;\n",
              "    }\n",
              "\n",
              "    .colab-df-convert {\n",
              "      background-color: #E8F0FE;\n",
              "      border: none;\n",
              "      border-radius: 50%;\n",
              "      cursor: pointer;\n",
              "      display: none;\n",
              "      fill: #1967D2;\n",
              "      height: 32px;\n",
              "      padding: 0 0 0 0;\n",
              "      width: 32px;\n",
              "    }\n",
              "\n",
              "    .colab-df-convert:hover {\n",
              "      background-color: #E2EBFA;\n",
              "      box-shadow: 0px 1px 2px rgba(60, 64, 67, 0.3), 0px 1px 3px 1px rgba(60, 64, 67, 0.15);\n",
              "      fill: #174EA6;\n",
              "    }\n",
              "\n",
              "    .colab-df-buttons div {\n",
              "      margin-bottom: 4px;\n",
              "    }\n",
              "\n",
              "    [theme=dark] .colab-df-convert {\n",
              "      background-color: #3B4455;\n",
              "      fill: #D2E3FC;\n",
              "    }\n",
              "\n",
              "    [theme=dark] .colab-df-convert:hover {\n",
              "      background-color: #434B5C;\n",
              "      box-shadow: 0px 1px 3px 1px rgba(0, 0, 0, 0.15);\n",
              "      filter: drop-shadow(0px 1px 2px rgba(0, 0, 0, 0.3));\n",
              "      fill: #FFFFFF;\n",
              "    }\n",
              "  </style>\n",
              "\n",
              "    <script>\n",
              "      const buttonEl =\n",
              "        document.querySelector('#df-220a67a7-987b-463f-baab-c83aacd6b741 button.colab-df-convert');\n",
              "      buttonEl.style.display =\n",
              "        google.colab.kernel.accessAllowed ? 'block' : 'none';\n",
              "\n",
              "      async function convertToInteractive(key) {\n",
              "        const element = document.querySelector('#df-220a67a7-987b-463f-baab-c83aacd6b741');\n",
              "        const dataTable =\n",
              "          await google.colab.kernel.invokeFunction('convertToInteractive',\n",
              "                                                    [key], {});\n",
              "        if (!dataTable) return;\n",
              "\n",
              "        const docLinkHtml = 'Like what you see? Visit the ' +\n",
              "          '<a target=\"_blank\" href=https://colab.research.google.com/notebooks/data_table.ipynb>data table notebook</a>'\n",
              "          + ' to learn more about interactive tables.';\n",
              "        element.innerHTML = '';\n",
              "        dataTable['output_type'] = 'display_data';\n",
              "        await google.colab.output.renderOutput(dataTable, element);\n",
              "        const docLink = document.createElement('div');\n",
              "        docLink.innerHTML = docLinkHtml;\n",
              "        element.appendChild(docLink);\n",
              "      }\n",
              "    </script>\n",
              "  </div>\n",
              "\n",
              "\n",
              "<div id=\"df-867f1db9-337c-428e-b892-204c745a954e\">\n",
              "  <button class=\"colab-df-quickchart\" onclick=\"quickchart('df-867f1db9-337c-428e-b892-204c745a954e')\"\n",
              "            title=\"Suggest charts\"\n",
              "            style=\"display:none;\">\n",
              "\n",
              "<svg xmlns=\"http://www.w3.org/2000/svg\" height=\"24px\"viewBox=\"0 0 24 24\"\n",
              "     width=\"24px\">\n",
              "    <g>\n",
              "        <path d=\"M19 3H5c-1.1 0-2 .9-2 2v14c0 1.1.9 2 2 2h14c1.1 0 2-.9 2-2V5c0-1.1-.9-2-2-2zM9 17H7v-7h2v7zm4 0h-2V7h2v10zm4 0h-2v-4h2v4z\"/>\n",
              "    </g>\n",
              "</svg>\n",
              "  </button>\n",
              "\n",
              "<style>\n",
              "  .colab-df-quickchart {\n",
              "      --bg-color: #E8F0FE;\n",
              "      --fill-color: #1967D2;\n",
              "      --hover-bg-color: #E2EBFA;\n",
              "      --hover-fill-color: #174EA6;\n",
              "      --disabled-fill-color: #AAA;\n",
              "      --disabled-bg-color: #DDD;\n",
              "  }\n",
              "\n",
              "  [theme=dark] .colab-df-quickchart {\n",
              "      --bg-color: #3B4455;\n",
              "      --fill-color: #D2E3FC;\n",
              "      --hover-bg-color: #434B5C;\n",
              "      --hover-fill-color: #FFFFFF;\n",
              "      --disabled-bg-color: #3B4455;\n",
              "      --disabled-fill-color: #666;\n",
              "  }\n",
              "\n",
              "  .colab-df-quickchart {\n",
              "    background-color: var(--bg-color);\n",
              "    border: none;\n",
              "    border-radius: 50%;\n",
              "    cursor: pointer;\n",
              "    display: none;\n",
              "    fill: var(--fill-color);\n",
              "    height: 32px;\n",
              "    padding: 0;\n",
              "    width: 32px;\n",
              "  }\n",
              "\n",
              "  .colab-df-quickchart:hover {\n",
              "    background-color: var(--hover-bg-color);\n",
              "    box-shadow: 0 1px 2px rgba(60, 64, 67, 0.3), 0 1px 3px 1px rgba(60, 64, 67, 0.15);\n",
              "    fill: var(--button-hover-fill-color);\n",
              "  }\n",
              "\n",
              "  .colab-df-quickchart-complete:disabled,\n",
              "  .colab-df-quickchart-complete:disabled:hover {\n",
              "    background-color: var(--disabled-bg-color);\n",
              "    fill: var(--disabled-fill-color);\n",
              "    box-shadow: none;\n",
              "  }\n",
              "\n",
              "  .colab-df-spinner {\n",
              "    border: 2px solid var(--fill-color);\n",
              "    border-color: transparent;\n",
              "    border-bottom-color: var(--fill-color);\n",
              "    animation:\n",
              "      spin 1s steps(1) infinite;\n",
              "  }\n",
              "\n",
              "  @keyframes spin {\n",
              "    0% {\n",
              "      border-color: transparent;\n",
              "      border-bottom-color: var(--fill-color);\n",
              "      border-left-color: var(--fill-color);\n",
              "    }\n",
              "    20% {\n",
              "      border-color: transparent;\n",
              "      border-left-color: var(--fill-color);\n",
              "      border-top-color: var(--fill-color);\n",
              "    }\n",
              "    30% {\n",
              "      border-color: transparent;\n",
              "      border-left-color: var(--fill-color);\n",
              "      border-top-color: var(--fill-color);\n",
              "      border-right-color: var(--fill-color);\n",
              "    }\n",
              "    40% {\n",
              "      border-color: transparent;\n",
              "      border-right-color: var(--fill-color);\n",
              "      border-top-color: var(--fill-color);\n",
              "    }\n",
              "    60% {\n",
              "      border-color: transparent;\n",
              "      border-right-color: var(--fill-color);\n",
              "    }\n",
              "    80% {\n",
              "      border-color: transparent;\n",
              "      border-right-color: var(--fill-color);\n",
              "      border-bottom-color: var(--fill-color);\n",
              "    }\n",
              "    90% {\n",
              "      border-color: transparent;\n",
              "      border-bottom-color: var(--fill-color);\n",
              "    }\n",
              "  }\n",
              "</style>\n",
              "\n",
              "  <script>\n",
              "    async function quickchart(key) {\n",
              "      const quickchartButtonEl =\n",
              "        document.querySelector('#' + key + ' button');\n",
              "      quickchartButtonEl.disabled = true;  // To prevent multiple clicks.\n",
              "      quickchartButtonEl.classList.add('colab-df-spinner');\n",
              "      try {\n",
              "        const charts = await google.colab.kernel.invokeFunction(\n",
              "            'suggestCharts', [key], {});\n",
              "      } catch (error) {\n",
              "        console.error('Error during call to suggestCharts:', error);\n",
              "      }\n",
              "      quickchartButtonEl.classList.remove('colab-df-spinner');\n",
              "      quickchartButtonEl.classList.add('colab-df-quickchart-complete');\n",
              "    }\n",
              "    (() => {\n",
              "      let quickchartButtonEl =\n",
              "        document.querySelector('#df-867f1db9-337c-428e-b892-204c745a954e button');\n",
              "      quickchartButtonEl.style.display =\n",
              "        google.colab.kernel.accessAllowed ? 'block' : 'none';\n",
              "    })();\n",
              "  </script>\n",
              "</div>\n",
              "    </div>\n",
              "  </div>\n"
            ],
            "application/vnd.google.colaboratory.intrinsic+json": {
              "type": "dataframe",
              "summary": "{\n  \"name\": \"recap_model(dict_models_pred,y_test_final)\",\n  \"rows\": 6,\n  \"fields\": [\n    {\n      \"column\": \"Accuracy\",\n      \"properties\": {\n        \"dtype\": \"number\",\n        \"std\": 0.08841191473249896,\n        \"min\": 0.44,\n        \"max\": 0.64,\n        \"num_unique_values\": 6,\n        \"samples\": [\n          0.61,\n          0.64,\n          0.44\n        ],\n        \"semantic_type\": \"\",\n        \"description\": \"\"\n      }\n    },\n    {\n      \"column\": \"Pr\\u00e9cision\",\n      \"properties\": {\n        \"dtype\": \"number\",\n        \"std\": 0.08826097665446493,\n        \"min\": 0.55,\n        \"max\": 0.8,\n        \"num_unique_values\": 6,\n        \"samples\": [\n          0.6,\n          0.65,\n          0.8\n        ],\n        \"semantic_type\": \"\",\n        \"description\": \"\"\n      }\n    },\n    {\n      \"column\": \"Sensibilit\\u00e9\",\n      \"properties\": {\n        \"dtype\": \"number\",\n        \"std\": 0.4167693206879156,\n        \"min\": 0.02,\n        \"max\": 0.93,\n        \"num_unique_values\": 6,\n        \"samples\": [\n          0.89,\n          0.81,\n          0.02\n        ],\n        \"semantic_type\": \"\",\n        \"description\": \"\"\n      }\n    },\n    {\n      \"column\": \"Score F1\",\n      \"properties\": {\n        \"dtype\": \"number\",\n        \"std\": 0.30329853280225405,\n        \"min\": 0.03,\n        \"max\": 0.72,\n        \"num_unique_values\": 4,\n        \"samples\": [\n          0.26,\n          0.03,\n          0.72\n        ],\n        \"semantic_type\": \"\",\n        \"description\": \"\"\n      }\n    },\n    {\n      \"column\": \"Somme\",\n      \"properties\": {\n        \"dtype\": \"number\",\n        \"std\": 0.7636142132429612,\n        \"min\": 1.29,\n        \"max\": 2.8200000000000003,\n        \"num_unique_values\": 5,\n        \"samples\": [\n          2.8099999999999996,\n          1.29,\n          1.53\n        ],\n        \"semantic_type\": \"\",\n        \"description\": \"\"\n      }\n    }\n  ]\n}"
            }
          },
          "metadata": {},
          "execution_count": 58
        }
      ],
      "source": [
        "recap_model(dict_models_pred,y_test_final)"
      ]
    },
    {
      "cell_type": "code",
      "execution_count": 59,
      "metadata": {
        "id": "oR-8SWDRgPqR",
        "colab": {
          "base_uri": "https://localhost:8080/",
          "height": 627
        },
        "outputId": "c5b08104-cae3-44b5-c55b-9bc403ea2706"
      },
      "outputs": [
        {
          "output_type": "display_data",
          "data": {
            "text/plain": [
              "<Figure size 800x550 with 1 Axes>"
            ],
            "image/png": "[encoded data removed]"
          },
          "metadata": {}
        }
      ],
      "source": [
        "result = recap_model(dict_models_pred,y_test_final).sort_values(by = \"Somme\", ascending = False)\n",
        "res_cols = [\"Accuracy\",\"Précision\",\"Sensibilité\",\"Score F1\"]\n",
        "result[res_cols].plot()\n",
        "plt.xticks(rotation=90)\n",
        "plt.legend(res_cols)\n",
        "plt.ylabel(\"Scores\")\n",
        "plt.title(\"Performances des modèles\", fontdict = {\"fontsize\": 16} );"
      ]
    },
    {
      "cell_type": "markdown",
      "metadata": {
        "id": "HusoG_u6gPqR"
      },
      "source": [
        "Le meilleur modèle parmi tous ceux que l'on a testés semble être Régression Logistique les données normalisées.\n",
        "\n",
        "On décide donc de retenir sur les données de base comme meilleur modèle. Maintenant qu'on a trouvé le meilleur modèle, il faut l'optimiser :"
      ]
    },
    {
      "cell_type": "markdown",
      "metadata": {
        "id": "i0r9y3K8gPqT"
      },
      "source": [
        "### Optimisation du modèle"
      ]
    },
    {
      "cell_type": "markdown",
      "metadata": {
        "id": "4dUij2VsgPqT"
      },
      "source": [
        "La **validation croisée** (cross validation) consiste à découper notre data set en plusieurs parts égales et croiser différents processus d'apprentissage/test. Par exemple on divise les individus en 5 groupes A,B,C,D,E de taille égale. D'abord on entraîne le modèle sur A,B,C,D et on teste sur E. Puis on entraîne sur A,B,C,E et on teste sur D, et ainsi de suite. Finalement, on croise les résultats des 5 processus d'apprentissage/test. Cette technique, très souvent utilisée, permet d'avoir une estimation plus robuste de la validation du modèle.\n",
        "\n",
        "On utilise **GridSearch** pour trouver les meilleurs hyperparamètres du modèle KNN. Un cross-valiation est effectué en même temps, ce qui rend les résultats plus robustes."
      ]
    },
    {
      "cell_type": "markdown",
      "metadata": {
        "id": "z7nSMe03gPqT"
      },
      "source": [
        "Le meilleur score pour la validation croisée est de 3.2, ce qui est inférieur au meilleur score (qui est de 3.28). La raison derrière cela est que la validation croisée effectuée lors de la recherche sur la grille ne tirera que de l'ensemble d'apprentissage en le divisant plusieurs fois en un nouvel ensemble d'apprentissage et un ensemble de validation. Par conséquent, le nombre d'observations sur lesquelles le modèle est réellement formé pour être optimisé est inférieur à celui d'avant. Cela se traduit par un score global inférieur, mais par une métrique de notation plus robuste, car le modèle est testé plusieurs fois dans plusieurs ensembles de tests différents à chaque étape de validation croisée."
      ]
    },
    {
      "cell_type": "markdown",
      "metadata": {
        "id": "tM2UILcWgPqT"
      },
      "source": [
        "La modèle optimal est donc les k plus proches voisins avec $k = 9$ et comme métrique la distance de Manhattan"
      ]
    },
    {
      "cell_type": "code",
      "source": [
        "from sklearn.model_selection import cross_val_score\n",
        "from sklearn.linear_model import LogisticRegression\n",
        "\n",
        "# Création du modèle de régression logistique avec les hyperparamètres spécifiés\n",
        "logRegV = LogisticRegression(penalty=\"l2\", C=0.8)\n",
        "\n",
        "# Calcul de la performance à l'aide de la validation croisée\n",
        "scores = cross_val_score(logRegV, X_train_scaled, y_train_final, cv=5, scoring='accuracy') # Vous pouvez changer le score en fonction de vos besoins\n",
        "\n",
        "# Affichage des scores de validation croisée pour chaque pli\n",
        "print(\"Scores de validation croisée :\", scores)\n",
        "\n",
        "# Calcul de la moyenne et de l'écart-type des scores de validation croisée\n",
        "print(\"Moyenne des scores de validation croisée :\", scores.mean())\n",
        "print(\"Écart-type des scores de validation croisée :\", scores.std())\n"
      ],
      "metadata": {
        "colab": {
          "base_uri": "https://localhost:8080/"
        },
        "id": "Marybwppj58Q",
        "outputId": "587c9240-c0ca-4de1-d2c7-84dc4e1a5bef"
      },
      "execution_count": 61,
      "outputs": [
        {
          "output_type": "stream",
          "name": "stdout",
          "text": [
            "Scores de validation croisée : [0.6039198  0.60447262 0.60042631 0.60376813 0.60230495]\n",
            "Moyenne des scores de validation croisée : 0.6029783633382189\n",
            "Écart-type des scores de validation croisée : 0.0014635102929176325\n"
          ]
        }
      ]
    },
    {
      "cell_type": "markdown",
      "metadata": {
        "id": "zf7ssCUBgPqU"
      },
      "source": [
        "Les performances du modèle ne se sont pas améliorées avec l'exécution de Gridsearch. Cependant, la validation croisée utilisée dans le processus fournit un modèle plus robuste. On utilise donc le modèle ci-dessus comme modèle final\n",
        "\n"
      ]
    },
    {
      "cell_type": "markdown",
      "source": [
        "## **Modèle final**"
      ],
      "metadata": {
        "id": "aCrJQuVG_cM0"
      }
    },
    {
      "cell_type": "code",
      "source": [
        "from sklearn.preprocessing import StandardScaler\n",
        "\n",
        "# Séparation des features et de la cible\n",
        "X_multisim = pd_reporting_multisim_fin.drop([\"msisdn\", \"multi_sim\"], axis=1)\n",
        "y_multisim = pd_reporting_multisim_fin[\"multi_sim\"]\n",
        "\n",
        "# Split du dataset en ensemble d'entraînement et ensemble de test\n",
        "X_train_fin, X_test_fin, y_train_fin, y_test_fin = train_test_split(X_multisim , y_multisim, test_size=0.2, random_state=42)\n",
        "\n",
        "# Standardisation des features (mise à l'échelle)\n",
        "scaler = StandardScaler()\n",
        "X_multisim_scaled = scaler.fit_transform(X_multisim)\n",
        "X_total_multisim_scaled = scaler.fit_transform(pd_total_multisim_fin)\n",
        "X_train_scaled_fin = scaler.fit_transform(X_train_fin)\n",
        "X_test_scaled_fin= scaler.transform(X_test_fin)"
      ],
      "metadata": {
        "id": "B5g55QqEvDp6"
      },
      "execution_count": 28,
      "outputs": []
    },
    {
      "cell_type": "code",
      "source": [
        "logRegT = LogisticRegression(penalty = \"l2\", C = 0.8)#On crée notre régression logistique\n",
        "logRegT.fit(X_train_scaled_fin,y_train_fin)#On la fit à nos données\n",
        "logRegT_pred = logRegT.predict(X_test_scaled_fin)# On prédit nos données\n",
        "\n",
        "matrice_conf(y_test_fin,logRegT_pred)# Matrice de confusion\n",
        "model_score(y_test_fin,logRegT_pred) #Score"
      ],
      "metadata": {
        "colab": {
          "base_uri": "https://localhost:8080/",
          "height": 682
        },
        "id": "x5nqzzrU4qof",
        "outputId": "dfcfd13e-aa2c-44b6-c5d9-39d5cfde899b"
      },
      "execution_count": 27,
      "outputs": [
        {
          "output_type": "display_data",
          "data": {
            "text/plain": [
              "<Figure size 800x550 with 1 Axes>"
            ],
            "image/png": "[encoded data removed]"
          },
          "metadata": {}
        },
        {
          "output_type": "execute_result",
          "data": {
            "text/plain": [
              "      Metrique  Score\n",
              "0     Accuracy  61.0%\n",
              "1    Précision  60.0%\n",
              "2  Sensibilité  89.0%\n",
              "3     F1 Score  72.0%"
            ],
            "text/html": [
              "\n",
              "  <div id=\"df-6bdf31c2-a30f-438c-8083-e86859b14a46\" class=\"colab-df-container\">\n",
              "    <div>\n",
              "<style scoped>\n",
              "    .dataframe tbody tr th:only-of-type {\n",
              "        vertical-align: middle;\n",
              "    }\n",
              "\n",
              "    .dataframe tbody tr th {\n",
              "        vertical-align: top;\n",
              "    }\n",
              "\n",
              "    .dataframe thead th {\n",
              "        text-align: right;\n",
              "    }\n",
              "</style>\n",
              "<table border=\"1\" class=\"dataframe\">\n",
              "  <thead>\n",
              "    <tr style=\"text-align: right;\">\n",
              "      <th></th>\n",
              "      <th>Metrique</th>\n",
              "      <th>Score</th>\n",
              "    </tr>\n",
              "  </thead>\n",
              "  <tbody>\n",
              "    <tr>\n",
              "      <th>0</th>\n",
              "      <td>Accuracy</td>\n",
              "      <td>61.0%</td>\n",
              "    </tr>\n",
              "    <tr>\n",
              "      <th>1</th>\n",
              "      <td>Précision</td>\n",
              "      <td>60.0%</td>\n",
              "    </tr>\n",
              "    <tr>\n",
              "      <th>2</th>\n",
              "      <td>Sensibilité</td>\n",
              "      <td>89.0%</td>\n",
              "    </tr>\n",
              "    <tr>\n",
              "      <th>3</th>\n",
              "      <td>F1 Score</td>\n",
              "      <td>72.0%</td>\n",
              "    </tr>\n",
              "  </tbody>\n",
              "</table>\n",
              "</div>\n",
              "    <div class=\"colab-df-buttons\">\n",
              "\n",
              "  <div class=\"colab-df-container\">\n",
              "    <button class=\"colab-df-convert\" onclick=\"convertToInteractive('df-6bdf31c2-a30f-438c-8083-e86859b14a46')\"\n",
              "            title=\"Convert this dataframe to an interactive table.\"\n",
              "            style=\"display:none;\">\n",
              "\n",
              "  <svg xmlns=\"http://www.w3.org/2000/svg\" height=\"24px\" viewBox=\"0 -960 960 960\">\n",
              "    <path d=\"M120-120v-720h720v720H120Zm60-500h600v-160H180v160Zm220 220h160v-160H400v160Zm0 220h160v-160H400v160ZM180-400h160v-160H180v160Zm440 0h160v-160H620v160ZM180-180h160v-160H180v160Zm440 0h160v-160H620v160Z\"/>\n",
              "  </svg>\n",
              "    </button>\n",
              "\n",
              "  <style>\n",
              "    .colab-df-container {\n",
              "      display:flex;\n",
              "      gap: 12px;\n",
              "    }\n",
              "\n",
              "    .colab-df-convert {\n",
              "      background-color: #E8F0FE;\n",
              "      border: none;\n",
              "      border-radius: 50%;\n",
              "      cursor: pointer;\n",
              "      display: none;\n",
              "      fill: #1967D2;\n",
              "      height: 32px;\n",
              "      padding: 0 0 0 0;\n",
              "      width: 32px;\n",
              "    }\n",
              "\n",
              "    .colab-df-convert:hover {\n",
              "      background-color: #E2EBFA;\n",
              "      box-shadow: 0px 1px 2px rgba(60, 64, 67, 0.3), 0px 1px 3px 1px rgba(60, 64, 67, 0.15);\n",
              "      fill: #174EA6;\n",
              "    }\n",
              "\n",
              "    .colab-df-buttons div {\n",
              "      margin-bottom: 4px;\n",
              "    }\n",
              "\n",
              "    [theme=dark] .colab-df-convert {\n",
              "      background-color: #3B4455;\n",
              "      fill: #D2E3FC;\n",
              "    }\n",
              "\n",
              "    [theme=dark] .colab-df-convert:hover {\n",
              "      background-color: #434B5C;\n",
              "      box-shadow: 0px 1px 3px 1px rgba(0, 0, 0, 0.15);\n",
              "      filter: drop-shadow(0px 1px 2px rgba(0, 0, 0, 0.3));\n",
              "      fill: #FFFFFF;\n",
              "    }\n",
              "  </style>\n",
              "\n",
              "    <script>\n",
              "      const buttonEl =\n",
              "        document.querySelector('#df-6bdf31c2-a30f-438c-8083-e86859b14a46 button.colab-df-convert');\n",
              "      buttonEl.style.display =\n",
              "        google.colab.kernel.accessAllowed ? 'block' : 'none';\n",
              "\n",
              "      async function convertToInteractive(key) {\n",
              "        const element = document.querySelector('#df-6bdf31c2-a30f-438c-8083-e86859b14a46');\n",
              "        const dataTable =\n",
              "          await google.colab.kernel.invokeFunction('convertToInteractive',\n",
              "                                                    [key], {});\n",
              "        if (!dataTable) return;\n",
              "\n",
              "        const docLinkHtml = 'Like what you see? Visit the ' +\n",
              "          '<a target=\"_blank\" href=https://colab.research.google.com/notebooks/data_table.ipynb>data table notebook</a>'\n",
              "          + ' to learn more about interactive tables.';\n",
              "        element.innerHTML = '';\n",
              "        dataTable['output_type'] = 'display_data';\n",
              "        await google.colab.output.renderOutput(dataTable, element);\n",
              "        const docLink = document.createElement('div');\n",
              "        docLink.innerHTML = docLinkHtml;\n",
              "        element.appendChild(docLink);\n",
              "      }\n",
              "    </script>\n",
              "  </div>\n",
              "\n",
              "\n",
              "<div id=\"df-5562c6e4-d080-4156-b1e2-2932db631d83\">\n",
              "  <button class=\"colab-df-quickchart\" onclick=\"quickchart('df-5562c6e4-d080-4156-b1e2-2932db631d83')\"\n",
              "            title=\"Suggest charts\"\n",
              "            style=\"display:none;\">\n",
              "\n",
              "<svg xmlns=\"http://www.w3.org/2000/svg\" height=\"24px\"viewBox=\"0 0 24 24\"\n",
              "     width=\"24px\">\n",
              "    <g>\n",
              "        <path d=\"M19 3H5c-1.1 0-2 .9-2 2v14c0 1.1.9 2 2 2h14c1.1 0 2-.9 2-2V5c0-1.1-.9-2-2-2zM9 17H7v-7h2v7zm4 0h-2V7h2v10zm4 0h-2v-4h2v4z\"/>\n",
              "    </g>\n",
              "</svg>\n",
              "  </button>\n",
              "\n",
              "<style>\n",
              "  .colab-df-quickchart {\n",
              "      --bg-color: #E8F0FE;\n",
              "      --fill-color: #1967D2;\n",
              "      --hover-bg-color: #E2EBFA;\n",
              "      --hover-fill-color: #174EA6;\n",
              "      --disabled-fill-color: #AAA;\n",
              "      --disabled-bg-color: #DDD;\n",
              "  }\n",
              "\n",
              "  [theme=dark] .colab-df-quickchart {\n",
              "      --bg-color: #3B4455;\n",
              "      --fill-color: #D2E3FC;\n",
              "      --hover-bg-color: #434B5C;\n",
              "      --hover-fill-color: #FFFFFF;\n",
              "      --disabled-bg-color: #3B4455;\n",
              "      --disabled-fill-color: #666;\n",
              "  }\n",
              "\n",
              "  .colab-df-quickchart {\n",
              "    background-color: var(--bg-color);\n",
              "    border: none;\n",
              "    border-radius: 50%;\n",
              "    cursor: pointer;\n",
              "    display: none;\n",
              "    fill: var(--fill-color);\n",
              "    height: 32px;\n",
              "    padding: 0;\n",
              "    width: 32px;\n",
              "  }\n",
              "\n",
              "  .colab-df-quickchart:hover {\n",
              "    background-color: var(--hover-bg-color);\n",
              "    box-shadow: 0 1px 2px rgba(60, 64, 67, 0.3), 0 1px 3px 1px rgba(60, 64, 67, 0.15);\n",
              "    fill: var(--button-hover-fill-color);\n",
              "  }\n",
              "\n",
              "  .colab-df-quickchart-complete:disabled,\n",
              "  .colab-df-quickchart-complete:disabled:hover {\n",
              "    background-color: var(--disabled-bg-color);\n",
              "    fill: var(--disabled-fill-color);\n",
              "    box-shadow: none;\n",
              "  }\n",
              "\n",
              "  .colab-df-spinner {\n",
              "    border: 2px solid var(--fill-color);\n",
              "    border-color: transparent;\n",
              "    border-bottom-color: var(--fill-color);\n",
              "    animation:\n",
              "      spin 1s steps(1) infinite;\n",
              "  }\n",
              "\n",
              "  @keyframes spin {\n",
              "    0% {\n",
              "      border-color: transparent;\n",
              "      border-bottom-color: var(--fill-color);\n",
              "      border-left-color: var(--fill-color);\n",
              "    }\n",
              "    20% {\n",
              "      border-color: transparent;\n",
              "      border-left-color: var(--fill-color);\n",
              "      border-top-color: var(--fill-color);\n",
              "    }\n",
              "    30% {\n",
              "      border-color: transparent;\n",
              "      border-left-color: var(--fill-color);\n",
              "      border-top-color: var(--fill-color);\n",
              "      border-right-color: var(--fill-color);\n",
              "    }\n",
              "    40% {\n",
              "      border-color: transparent;\n",
              "      border-right-color: var(--fill-color);\n",
              "      border-top-color: var(--fill-color);\n",
              "    }\n",
              "    60% {\n",
              "      border-color: transparent;\n",
              "      border-right-color: var(--fill-color);\n",
              "    }\n",
              "    80% {\n",
              "      border-color: transparent;\n",
              "      border-right-color: var(--fill-color);\n",
              "      border-bottom-color: var(--fill-color);\n",
              "    }\n",
              "    90% {\n",
              "      border-color: transparent;\n",
              "      border-bottom-color: var(--fill-color);\n",
              "    }\n",
              "  }\n",
              "</style>\n",
              "\n",
              "  <script>\n",
              "    async function quickchart(key) {\n",
              "      const quickchartButtonEl =\n",
              "        document.querySelector('#' + key + ' button');\n",
              "      quickchartButtonEl.disabled = true;  // To prevent multiple clicks.\n",
              "      quickchartButtonEl.classList.add('colab-df-spinner');\n",
              "      try {\n",
              "        const charts = await google.colab.kernel.invokeFunction(\n",
              "            'suggestCharts', [key], {});\n",
              "      } catch (error) {\n",
              "        console.error('Error during call to suggestCharts:', error);\n",
              "      }\n",
              "      quickchartButtonEl.classList.remove('colab-df-spinner');\n",
              "      quickchartButtonEl.classList.add('colab-df-quickchart-complete');\n",
              "    }\n",
              "    (() => {\n",
              "      let quickchartButtonEl =\n",
              "        document.querySelector('#df-5562c6e4-d080-4156-b1e2-2932db631d83 button');\n",
              "      quickchartButtonEl.style.display =\n",
              "        google.colab.kernel.accessAllowed ? 'block' : 'none';\n",
              "    })();\n",
              "  </script>\n",
              "</div>\n",
              "    </div>\n",
              "  </div>\n"
            ],
            "application/vnd.google.colaboratory.intrinsic+json": {
              "type": "dataframe",
              "summary": "{\n  \"name\": \"model_score(y_test_fin,logRegT_pred) #Score\",\n  \"rows\": 4,\n  \"fields\": [\n    {\n      \"column\": \"Metrique\",\n      \"properties\": {\n        \"dtype\": \"string\",\n        \"num_unique_values\": 4,\n        \"samples\": [\n          \"Pr\\u00e9cision\",\n          \"F1 Score\",\n          \"Accuracy\"\n        ],\n        \"semantic_type\": \"\",\n        \"description\": \"\"\n      }\n    },\n    {\n      \"column\": \"Score\",\n      \"properties\": {\n        \"dtype\": \"string\",\n        \"num_unique_values\": 4,\n        \"samples\": [\n          \"60.0%\",\n          \"72.0%\",\n          \"61.0%\"\n        ],\n        \"semantic_type\": \"\",\n        \"description\": \"\"\n      }\n    }\n  ]\n}"
            }
          },
          "metadata": {},
          "execution_count": 27
        }
      ]
    },
    {
      "cell_type": "code",
      "execution_count": null,
      "metadata": {
        "id": "LfhfASBrgPqT"
      },
      "outputs": [],
      "source": [
        "pd_total_multisim_pred=pd_total_multisim_fin.copy()\n",
        "logRegF = LogisticRegression(penalty = \"l2\", C = 0.8)#On crée notre régression logistique\n",
        "logRegF.fit(X_multisim,y_multisim)#On la fit à nos données\n",
        "logRegF_proba = logRegF.predict_proba(pd_total_multisim_pred.drop(\"numero\",axis=1))[:, 1]# On prédit nos données\n",
        "pd_total_multisim_pred[\"proba_multisim\"]=logRegF_proba"
      ]
    },
    {
      "cell_type": "code",
      "source": [
        "# Déplacer la colonne \"Probability\" en deuxième position\n",
        "pd_total_multisim_last=pd_total_multisim_pred.copy()\n",
        "pd_total_multisim_last['proba_multisim'] = pd_total_multisim_last['proba_multisim'].map(lambda x: '{:.1%}'.format(x))\n",
        "cols = list(pd_total_multisim_last.columns)\n",
        "cols.insert(1, cols.pop(cols.index('proba_multisim')))\n",
        "pd_total_multisim_last = pd_total_multisim_fin.reindex(columns=cols)\n",
        "pd_total_multisim_last.head()"
      ],
      "metadata": {
        "id": "l-WPmJRe_IWA"
      },
      "execution_count": 35,
      "outputs": []
    },
    {
      "cell_type": "markdown",
      "metadata": {
        "id": "9apc9P2zLTMV"
      },
      "source": [
        "## **Exploration des résultats**"
      ]
    },
    {
      "cell_type": "code",
      "execution_count": null,
      "metadata": {
        "id": "dJmUbsLGLZ-L"
      },
      "outputs": [],
      "source": []
    }
  ],
  "metadata": {
    "colab": {
      "collapsed_sections": [
        "1FLPiOn96Gmq",
        "zYVMG41l2di6",
        "pCYs_snqIrv-",
        "4aNuq12Wm0nt",
        "_ch_q4NonEvM",
        "i5x9dH3qX2yq",
        "Vdur-cmG0CJg",
        "LfgB4Q7w0J3I",
        "Dc49NmMR0TiU",
        "9fTWWrlX0a0x",
        "NWB8e1Jh0ryn",
        "FV7jHlFN0wU3",
        "PLuqIYTvfiS5",
        "y-6vSZ4MHBp1",
        "qjz_QrfBrp23",
        "snQIP6EXLL47",
        "VYnAm3lI9ZJs",
        "-NOJdm8vw3GY",
        "BP1tBUH-xErz",
        "ZQjHzOLAxJhO",
        "zr1k0pExzP39",
        "u7PETPhRT4sq",
        "qF-v7dP4NiOw",
        "E0ZE_eNAgPqO",
        "5V7BrQQL0hfB"
      ],
      "provenance": [],
      "include_colab_link": true
    },
    "kernelspec": {
      "display_name": "Python 3",
      "name": "python3"
    },
    "language_info": {
      "name": "python"
    }
  },
  "nbformat": 4,
  "nbformat_minor": 0
}