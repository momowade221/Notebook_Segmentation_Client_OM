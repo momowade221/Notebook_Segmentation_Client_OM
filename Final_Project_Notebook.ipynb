{
  "cells": [
    {
      "cell_type": "markdown",
      "id": "d0285267",
      "metadata": {
        "id": "d0285267"
      },
      "source": [
        "# Final Project for Data Science"
      ]
    },
    {
      "cell_type": "markdown",
      "id": "a4fd6fb3",
      "metadata": {
        "id": "a4fd6fb3"
      },
      "source": [
        "This notebook demonstrates exercises and concepts related to data science tools and techniques."
      ]
    },
    {
      "cell_type": "markdown",
      "id": "1efbb724",
      "metadata": {
        "id": "1efbb724"
      },
      "source": [
        "### Data Science Languages\n",
        "- Python\n",
        "- R\n",
        "- Julia\n",
        "- SQL"
      ]
    },
    {
      "cell_type": "markdown",
      "id": "f8051c3c",
      "metadata": {
        "id": "f8051c3c"
      },
      "source": [
        "### Data Science Libraries\n",
        "- NumPy\n",
        "- Pandas\n",
        "- Matplotlib\n",
        "- Scikit-learn\n",
        "- TensorFlow"
      ]
    },
    {
      "cell_type": "markdown",
      "id": "dd0d8a62",
      "metadata": {
        "id": "dd0d8a62"
      },
      "source": [
        "### Data Science Tools\n",
        "\n",
        "| Tool            | Description                       |\n",
        "|------------------|-----------------------------------|\n",
        "| Jupyter Notebook| Interactive computing environment |\n",
        "| RStudio         | Integrated development for R      |\n",
        "| Apache Hadoop   | Distributed data processing       |\n",
        "| TensorFlow      | Machine learning framework        |\n"
      ]
    },
    {
      "cell_type": "markdown",
      "id": "d932e73a",
      "metadata": {
        "id": "d932e73a"
      },
      "source": [
        "### Examples of Arithmetic Expressions\n",
        "Below are examples of basic arithmetic operations like addition and multiplication."
      ]
    },
    {
      "cell_type": "code",
      "id": "5d44df6f",
      "metadata": {
        "ExecuteTime": {
          "end_time": "2024-11-25T19:58:21.698344Z",
          "start_time": "2024-11-25T19:58:21.686752Z"
        },
        "id": "5d44df6f",
        "outputId": "9e0eaf55-0423-4305-9aed-630b8e276b58"
      },
      "source": [
        "3 * 4 + 5  # Multiplication followed by addition"
      ],
      "outputs": [
        {
          "data": {
            "text/plain": [
              "17"
            ]
          },
          "execution_count": 1,
          "metadata": {},
          "output_type": "execute_result"
        }
      ],
      "execution_count": null
    },
    {
      "cell_type": "code",
      "id": "e9472d4b",
      "metadata": {
        "ExecuteTime": {
          "end_time": "2024-11-25T19:58:25.154224Z",
          "start_time": "2024-11-25T19:58:25.147899Z"
        },
        "id": "e9472d4b",
        "outputId": "04978833-8f1e-4cf1-e767-d5dbd41fcb41"
      },
      "source": [
        "200 / 60  # Convert 200 minutes to hours"
      ],
      "outputs": [
        {
          "data": {
            "text/plain": [
              "3.3333333333333335"
            ]
          },
          "execution_count": 2,
          "metadata": {},
          "output_type": "execute_result"
        }
      ],
      "execution_count": null
    },
    {
      "cell_type": "markdown",
      "id": "79694726",
      "metadata": {
        "id": "79694726"
      },
      "source": [
        "### Objectives\n",
        "- Learn Markdown basics.\n",
        "- List key tools and languages in data science.\n",
        "- Apply basic Python operations.\n"
      ]
    },
    {
      "cell_type": "markdown",
      "id": "2dd96f69",
      "metadata": {
        "id": "2dd96f69"
      },
      "source": [
        "### Author\n",
        "Mamadou WADE"
      ]
    },
    {
      "cell_type": "markdown",
      "id": "a33db976",
      "metadata": {
        "id": "a33db976"
      },
      "source": [
        "### Sharing via GitHub\n",
        "To share this notebook, upload it to your GitHub repository and share the repository link."
      ]
    },
    {
      "cell_type": "markdown",
      "id": "c29887dc",
      "metadata": {
        "id": "c29887dc"
      },
      "source": [
        "### Screenshot\n",
        "Take a screenshot of the first page of the notebook showing the title and introduction."
      ]
    }
  ],
  "metadata": {
    "kernelspec": {
      "name": "python3",
      "language": "python",
      "display_name": "Python 3 (ipykernel)"
    },
    "colab": {
      "provenance": []
    }
  },
  "nbformat": 4,
  "nbformat_minor": 5
}