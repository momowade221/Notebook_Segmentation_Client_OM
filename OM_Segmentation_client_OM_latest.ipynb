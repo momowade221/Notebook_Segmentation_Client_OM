{
  "cells": [
    {
      "cell_type": "markdown",
      "metadata": {
        "id": "view-in-github",
        "colab_type": "text"
      },
      "source": [
        "<a href=\"https://colab.research.google.com/github/momowade221/Notebook_Segmentation_Client_OM/blob/dev/OM_Segmentation_client_OM_latest.ipynb\" target=\"_parent\"><img src=\"https://colab.research.google.com/assets/colab-badge.svg\" alt=\"Open In Colab\"/></a>"
      ]
    },
    {
      "cell_type": "markdown",
      "metadata": {
        "id": "n8-AFCkNN5Mm"
      },
      "source": [
        "# **CONFIGURATION**\n",
        "\n",
        "---\n",
        "\n"
      ]
    },
    {
      "cell_type": "code",
      "execution_count": 2,
      "metadata": {
        "colab": {
          "base_uri": "https://localhost:8080/"
        },
        "id": "Re2VWo_L4kcQ",
        "outputId": "dec0a1ff-4615-49d9-f230-141325fca32d"
      },
      "outputs": [
        {
          "output_type": "stream",
          "name": "stdout",
          "text": [
            "Collecting pyspark\n",
            "  Downloading pyspark-3.5.1.tar.gz (317.0 MB)\n",
            "\u001b[2K     \u001b[90m━━━━━━━━━━━━━━━━━━━━━━━━━━━━━━━━━━━━━━━━\u001b[0m \u001b[32m317.0/317.0 MB\u001b[0m \u001b[31m2.1 MB/s\u001b[0m eta \u001b[36m0:00:00\u001b[0m\n",
            "\u001b[?25h  Preparing metadata (setup.py) ... \u001b[?25l\u001b[?25hdone\n",
            "Requirement already satisfied: py4j==0.10.9.7 in /usr/local/lib/python3.10/dist-packages (from pyspark) (0.10.9.7)\n",
            "Building wheels for collected packages: pyspark\n",
            "  Building wheel for pyspark (setup.py) ... \u001b[?25l\u001b[?25hdone\n",
            "  Created wheel for pyspark: filename=pyspark-3.5.1-py2.py3-none-any.whl size=317488493 sha256=b1a545e6392e5c70cf0d48ab08a45f3dddf09d0b6ed439f4da3ed97f379cfc83\n",
            "  Stored in directory: /root/.cache/pip/wheels/80/1d/60/2c256ed38dddce2fdd93be545214a63e02fbd8d74fb0b7f3a6\n",
            "Successfully built pyspark\n",
            "Installing collected packages: pyspark\n",
            "Successfully installed pyspark-3.5.1\n"
          ]
        }
      ],
      "source": [
        "!pip install pyspark\n",
        "# !pip install squarify\n",
        "# !pip install lifetimes\n",
        "# !pip install kmodes"
      ]
    },
    {
      "cell_type": "code",
      "execution_count": 3,
      "metadata": {
        "colab": {
          "base_uri": "https://localhost:8080/",
          "height": 257
        },
        "id": "FWNZ58KE4mGQ",
        "outputId": "5870986d-c9d0-4866-9347-0a1fa0fda077"
      },
      "outputs": [
        {
          "output_type": "stream",
          "name": "stdout",
          "text": [
            "Mounted at /content/drive\n",
            "/content/drive/MyDrive/Colab/Segmentation\n"
          ]
        },
        {
          "output_type": "execute_result",
          "data": {
            "text/plain": [
              "<pyspark.sql.session.SparkSession at 0x7f486ceef130>"
            ],
            "text/html": [
              "\n",
              "            <div>\n",
              "                <p><b>SparkSession - in-memory</b></p>\n",
              "                \n",
              "        <div>\n",
              "            <p><b>SparkContext</b></p>\n",
              "\n",
              "            <p><a href=\"http://a57b7722446c:4040\">Spark UI</a></p>\n",
              "\n",
              "            <dl>\n",
              "              <dt>Version</dt>\n",
              "                <dd><code>v3.5.1</code></dd>\n",
              "              <dt>Master</dt>\n",
              "                <dd><code>local[*]</code></dd>\n",
              "              <dt>AppName</dt>\n",
              "                <dd><code>Transactions_OM</code></dd>\n",
              "            </dl>\n",
              "        </div>\n",
              "        \n",
              "            </div>\n",
              "        "
            ]
          },
          "metadata": {},
          "execution_count": 3
        }
      ],
      "source": [
        "from google.colab import drive\n",
        "drive.mount('/content/drive', force_remount=True)\n",
        "%cd /content/drive/MyDrive/Colab/Segmentation/\n",
        "myPath='/content/drive/MyDrive/Colab/Segmentation/#datasets_OM'\n",
        "\n",
        "import pandas as pd\n",
        "import numpy as np\n",
        "import matplotlib.pyplot as plt\n",
        "import seaborn as sns\n",
        "from datetime import datetime\n",
        "from pyspark.sql import SparkSession\n",
        "from pyspark.sql import DataFrame\n",
        "from pyspark.sql.functions import *\n",
        "from pyspark.sql.types import *\n",
        "from pyspark.sql.window import *\n",
        "from pyspark.ml.feature import *\n",
        "from pyspark.ml import *\n",
        "from pyspark.ml.clustering import *\n",
        "from pyspark.ml.evaluation import ClusteringEvaluator\n",
        "from pyspark.sql.column import Column\n",
        "\n",
        "\n",
        "import sklearn\n",
        "import matplotlib.gridspec as gridspec\n",
        "import plotly.graph_objects as go\n",
        "from matplotlib.colors import LinearSegmentedColormap\n",
        "from matplotlib import colors as mcolors\n",
        "from scipy.stats import linregress\n",
        "from sklearn.ensemble import IsolationForest\n",
        "from sklearn.preprocessing import StandardScaler\n",
        "from sklearn.decomposition import PCA\n",
        "from yellowbrick.cluster import KElbowVisualizer, SilhouetteVisualizer\n",
        "from sklearn.metrics import silhouette_score, calinski_harabasz_score, davies_bouldin_score, adjusted_rand_score, accuracy_score, classification_report\n",
        "from sklearn.metrics import confusion_matrix, accuracy_score, classification_report\n",
        "from sklearn.cluster import KMeans\n",
        "from sklearn.neighbors import *\n",
        "from sklearn.model_selection import *\n",
        "from sklearn.linear_model import LogisticRegression\n",
        "import sklearn.metrics as metrics\n",
        "from tabulate import tabulate\n",
        "from collections import Counter\n",
        "\n",
        "spark = SparkSession.builder.appName(\"Transactions_OM\").getOrCreate()\n",
        "\n",
        "# Configuration pour permettre l'analyse des dates au format Legacy\n",
        "# spark.conf.set(\"spark.sql.legacy.timeParserPolicy\", \"LEGACY\")\n",
        "spark\n"
      ]
    },
    {
      "cell_type": "markdown",
      "metadata": {
        "id": "l_PC13jIKuEV"
      },
      "source": [
        "# **PRÉPARATION DES DONNÉES**\n",
        "\n",
        "---\n",
        "\n"
      ]
    },
    {
      "cell_type": "markdown",
      "metadata": {
        "id": "YHGfMY-12R90"
      },
      "source": [
        "## **Collection des données**"
      ]
    },
    {
      "cell_type": "code",
      "execution_count": 4,
      "metadata": {
        "id": "2O_jmAT1V2Rh"
      },
      "outputs": [],
      "source": [
        "def df_load(path):\n",
        "    # Charger le DataFrame depuis le fichier CSV avec les colonnes existantes\n",
        "    df_loaded= spark.read.csv(f'{path}', header=True)\n",
        "    # BaseTransaction OM - Renommer les colonnes\n",
        "    #new_column_names = [col_name.replace(f\"{table}.\", \"\") for col_name in df_loaded.columns]\n",
        "    #df_loaded = df_loaded.toDF(*new_column_names)\n",
        "    return df_loaded\n",
        "\n",
        "def pd_load(path):\n",
        "    # Charger le DataFrame depuis le fichier CSV avec les colonnes existantes\n",
        "    pd_loaded = pd.read_csv(path)\n",
        "    # Renommer les colonnes\n",
        "    # pd_loaded.columns = [col.replace(f\"{table}.\", \"\") for col in pd_loaded.columns]\n",
        "    return pd_loaded\n",
        "\n"
      ]
    },
    {
      "cell_type": "code",
      "execution_count": 26,
      "metadata": {
        "colab": {
          "base_uri": "https://localhost:8080/"
        },
        "id": "psnw5qRkL0qK",
        "outputId": "1877bf99-aee6-4d5f-da3e-487bc7277ae8"
      },
      "outputs": [
        {
          "output_type": "stream",
          "name": "stderr",
          "text": [
            "<ipython-input-4-685faea7bdad>:11: DtypeWarning: Columns (0) have mixed types. Specify dtype option on import or set low_memory=False.\n",
            "  pd_loaded = pd.read_csv(path)\n",
            "<ipython-input-4-685faea7bdad>:11: DtypeWarning: Columns (0) have mixed types. Specify dtype option on import or set low_memory=False.\n",
            "  pd_loaded = pd.read_csv(path)\n"
          ]
        }
      ],
      "source": [
        "# SICO\n",
        "df_sico=df_load(f'{myPath}/segmentation_sico.csv')\n",
        "# pd_sico = pd_load(f'{myPath}/segmentation_sico.csv')\n",
        "\n",
        "#OM\n",
        "df_transaction_om=df_load(f'{myPath}/segmentation_base_transaction_om.csv')\n",
        "# pd_transaction_om = pd_load(f'{myPath}/segmentation_base_transaction_om.csv'\n",
        "\n",
        "#Localisaion\n",
        "df_location_night=df_load(f'{myPath}/vente_rebond_location_night.csv')\n",
        "#pd_localisation=pd_load(f'{myPath}/vente_rebond_location_night.csv')\n",
        "\n",
        "# Données roaming\n",
        "df_roaming=df_load(f'{myPath}/segmentation_multi_sim.csv')\n",
        "pd_roaming=pd_load(f'{myPath}/segmentation_multi_sim.csv')\n",
        "\n",
        "df_reporting_multisim=df_load(f'{myPath}/refined_reporting_multisim.csv')\n",
        "pd_reporting_multisim=pd_load(f'{myPath}/refined_reporting_multisim.csv')\n",
        "\n",
        "#Résultats segmentation\n",
        "df_segment_rfm=df_load(f'{myPath}/segmentation_valeur_rfm.csv').drop(\"score_R\",\"score_F\",\"score_M\")\n",
        "pd_segment_rfm=pd_load(f'{myPath}/segmentation_valeur_rfm.csv').drop([\"score_R\",\"score_F\",\"score_M\"], axis=1)\n",
        "\n",
        "df_kmeans_encoded_loaded=df_load(f'{myPath}/dataset_kmeans_encoded.csv')\n",
        "pd_kmeans_encoded_loaded=pd_load(f'{myPath}/dataset_kmeans_encoded.csv')\n",
        "\n",
        "\n",
        "#Segments Recharge\n",
        "df_recharge=df_load(f'{myPath}/vente_rebond_recharge_in_details.csv')\n",
        "df_segmentation_client=df_load(f'{myPath}/segmentation_client.csv')\n",
        "\n",
        "# df_segment_recharge=df_load(f'{myPath}/segmentation_recharge_segment.csv')\n",
        "# pd_segment_recharge=pd_load(f'{myPath}/segmentation_recharge_segment.csv')\n",
        "\n",
        "#data_set kmeans\n",
        "df_kmeans_init_loaded=df_load(f'{myPath}/dataset_kmeans_initial.csv')\n",
        "pd_kmeans_init_loaded=pd_load(f'{myPath}/dataset_kmeans_initial.csv')\n"
      ]
    },
    {
      "cell_type": "code",
      "execution_count": null,
      "metadata": {
        "id": "aQOP9GhSVlvB"
      },
      "outputs": [],
      "source": [
        "df_segment_multisim_loaded=df_load(f'{myPath}/segment_multisim_created.csv')\n",
        "pd_segment_multisim_loaded=pd_load(f'{myPath}/segment_multisim_created.csv')"
      ]
    },
    {
      "cell_type": "markdown",
      "metadata": {
        "id": "1FLPiOn96Gmq"
      },
      "source": [
        "## **Définition des fonctions d'exploration**"
      ]
    },
    {
      "cell_type": "code",
      "execution_count": 7,
      "metadata": {
        "id": "NKO3UWOQFh2q"
      },
      "outputs": [],
      "source": [
        "def df_info(df: DataFrame):\n",
        "   # Informations sur le schéma du DataFrame\n",
        "   ############ Info ###########\")\n",
        "   print(f\"Nombre de features: {len(df.columns)}\")\n",
        "   df.printSchema()\n",
        "\n",
        "   # Noms des colonnes\n",
        "   ############ Colonnes ###########\")\n",
        "   print(df.columns)\n",
        "\n",
        "   # Dimensions (nombre de lignes et de colonnes)\n",
        "   ############ Dimensions ###########\")\n",
        "   num_rows = df.count()\n",
        "   num_cols = len(df.columns)\n",
        "   print(f\"\\n \\n  Nombre de lignes : {num_rows}, Nombre de colonnes : {num_cols}\")\n",
        "\n",
        "   # Afficher les premières lignes (les 5 premières lignes sans troncature)\n",
        "   ############ Premières lignes ###########\")\n",
        "   df.show(5, truncate=False)  # Affiche les 5 premières lignes sans troncature\n",
        "\n",
        "   # Afficher les dernières lignes (les 5 dernières lignes triées par la première colonne en ordre décroissant)\n",
        "   print(\"\\n########### Dernières lignes ###########\")\n",
        "   df.orderBy(df.columns[0], ascending=False).show(5, truncate=False)  # Affiche les 5 dernières lignes\n",
        "\n",
        "   # Statistiques sommaires (quantiles) du DataFram\n",
        "   print(\"\\n########### Statistiques sommaires ###########\")\n",
        "   df.summary().show()\n",
        "\n",
        "\n",
        "def df_info_detailed(df:DataFrame):\n",
        "  df_info(df)\n",
        "\n",
        "  # Données manquantes (NA)\n",
        "  print(\"\\n########### Données manquantes ###########\")\n",
        "  # Compter le nombre de valeurs manquantes (NA) par colonne\n",
        "  count_NA = df.agg(*[sum(df[c].isNull().cast(\"int\")).alias(c) for c in df.columns])\n",
        "  # Afficher le résultat\n",
        "  print(\"Le nombre de colonnes qui contiennent des valeurs manquantes (NA)\")\n",
        "  count_NA.show()\n",
        "\n",
        "  # Compter les occurrences de \"NULL\" dans chaque colonne\n",
        "  count_exprs = [expr(f\"sum(case when {c} like '%NULL%' then 1 else 0 end) as {c}_count\") for c in df.columns]\n",
        "  print(\"Le nombre de lignes qui contiennent la chaîne 'NULL'\")\n",
        "  count_NULL = df.select(*count_exprs)\n",
        "  count_NULL.show()\n",
        "\n",
        "  # Données dupliquées\n",
        "  print(\"\\n########### Données dupliquées ###########\")\n",
        "\n",
        "  # Find rows where all column values are identical\n",
        "  duplicate_rows=df.groupBy(*df.columns).agg(count(\"*\").alias(\"count\"))\n",
        "  duplicate_rows = duplicate_rows.filter(duplicate_rows[\"count\"] > 1).select(*df.columns)\n",
        "\n",
        "  if duplicate_rows.count()==0:\n",
        "    print(\"Aucune ligne dupliquée trouvée\")\n",
        "  else:\n",
        "    print(f\"Nombre de données dupliquées : {duplicate_rows.count()}\")\n",
        "    # Show the rows with identical value\n",
        "    duplicate_rows.show()\n",
        "\n",
        "#Fonction pour afficher un DataFrame PySpark sous forme de Pandas DataFrame\n",
        "def printdf(df):\n",
        "    return df.toPandas()\n"
      ]
    },
    {
      "cell_type": "code",
      "execution_count": 8,
      "metadata": {
        "id": "gYI6NTMhSNTt"
      },
      "outputs": [],
      "source": [
        "import pandas as pd\n",
        "\n",
        "# Fonction pour afficher des informations sur un DataFrame Pandas\n",
        "def pd_info(df):\n",
        "\n",
        "    # Informations sur le schéma du DataFrame\n",
        "    print(\"########### Info ###########\")\n",
        "    print(df.dtypes)\n",
        "\n",
        "    # Noms des colonnes\n",
        "    print(\"########### Colonnes ###########\")\n",
        "    print(df.columns)\n",
        "\n",
        "    # Dimensions (nombre de lignes et de colonnes)\n",
        "    print(\"########### Dimensions ###########\")\n",
        "    num_rows, num_cols = df.shape\n",
        "    print(f\"\\n \\n  Nombre de lignes : {num_rows}, Nombre de colonnes : {num_cols}\")\n",
        "\n",
        "    # Afficher les premières lignes (les 5 premières lignes)\n",
        "    print(\"########### Premières lignes ###########\")\n",
        "    print(df.head())\n",
        "\n",
        "    # Afficher les dernières lignes (les 5 dernières lignes)\n",
        "    print(\"########### Dernières lignes ###########\")\n",
        "    print(df.tail())\n",
        "\n",
        "    # Statistiques sommaires (descriptives) du DataFrame\n",
        "    print(\"\\n########### Statistiques sommaires ###########\")\n",
        "    print(df.describe())\n",
        "\n",
        "# Fonction pour afficher des informations détaillées sur un DataFrame Pandas\n",
        "def df_info_detailed_pandas(df):\n",
        "    df_info_pandas(df)\n",
        "\n",
        "    # Données manquantes (NA)\n",
        "    print(\"\\n########### Données manquantes ###########\")\n",
        "    # Compter le nombre de valeurs manquantes (NA) par colonne\n",
        "    missing_data = df.isnull().sum()\n",
        "    print(\"Nombre de valeurs manquantes par colonne :\")\n",
        "    print(missing_data)\n",
        "\n",
        "    # Compter les occurrences de \"NULL\" dans chaque colonne\n",
        "    count_NULL = df.apply(lambda col: col.str.contains('NULL').sum())\n",
        "    print(\"Nombre d'occurrences de 'NULL' par colonne :\")\n",
        "    print(count_NULL)\n",
        "\n",
        "    # Données dupliquées\n",
        "    print(\"\\n########### Données dupliquées ###########\")\n",
        "    duplicate_rows = df[df.duplicated(keep=False)]\n",
        "\n",
        "    if duplicate_rows.shape[0] == 0:\n",
        "        print(\"Aucune ligne dupliquée trouvée\")\n",
        "    else:\n",
        "        print(f\"Nombre de données dupliquées : {duplicate_rows.shape[0]}\")\n",
        "        print(\"Lignes avec données dupliquées :\")\n",
        "        print(duplicate_rows)\n",
        "\n",
        "# Fonction pour afficher un DataFrame Pandas\n",
        "def printdf_pandas(df):\n",
        "    return df\n"
      ]
    },
    {
      "cell_type": "code",
      "execution_count": 9,
      "metadata": {
        "id": "lhGvQvYX_7HW"
      },
      "outputs": [],
      "source": [
        "# from pyspark.sql import functions as F\n",
        "def df_colonne_info(df: DataFrame, colonne):\n",
        "    # Nombre de valeurs distinctes dans la colonne\n",
        "    colonne_count = df.select(colonne).distinct().count()\n",
        "\n",
        "    # Récupérer le type de données de la colonne\n",
        "    colonne_type = df.schema[colonne].dataType\n",
        "\n",
        "    # Affichage des informations\n",
        "    print(f\" *****Informations sur la colonne ___{colonne}___: *****\")\n",
        "    # Valeurs distinctes de la colonne\n",
        "    print(f\"Les valeurs distinctes sont:\")\n",
        "    df.select(colonne).distinct().show(truncate=False)\n",
        "\n",
        "    print(f\"Nombre de valeurs distinctes : {colonne_count}\")\n",
        "\n",
        "    if isinstance(colonne_type, (FloatType,DecimalType, IntegerType)):\n",
        "        # Statistiques de base sur la colonne (moyenne, écart type, minimum, maximum)\n",
        "        mean = df.select(mean(colonne)).first()[0]\n",
        "        stddev = df.select(stddev(colonne)).first()[0]\n",
        "        min_value = df.select(min(colonne)).first()[0]\n",
        "        max_value = df.select(max(colonne)).first()[0]\n",
        "\n",
        "        # Somme des valeurs dans la colonne\n",
        "        sum_value = df.select(sum(colonne)).first()[0]\n",
        "\n",
        "        # Médiane de la colonne\n",
        "        median = df.approxQuantile(colonne, [0.5], 0.01)[0]\n",
        "\n",
        "        # 1er quartile (Q1) et 3e quartile (Q3)\n",
        "        quartiles = df.approxQuantile(colonne, [0.25, 0.75], 0.01)\n",
        "        q1, q3 = quartiles\n",
        "\n",
        "        print(f\"Valeur moyenne : {mean}\")\n",
        "        print(f\"Écart type : {stddev}\")\n",
        "        print(f\"Valeur minimale : {min_value}\")\n",
        "        print(f\"Valeur maximale : {max_value}\")\n",
        "        print(f\"Somme des valeurs : {sum_value}\")\n",
        "        print(f\"Médiane : {median}\")\n",
        "        print(f\"1er quartile (Q1) : {q1}\")\n",
        "        print(f\"3e quartile (Q3) : {q3}\")\n",
        "    else:\n",
        "        print(\"Les calculs statistiques ne sont pas applicables car le type de données n'est pas numérique.\")\n",
        "\n",
        "    print(\"-------------------------------------------------------\")\n"
      ]
    },
    {
      "cell_type": "code",
      "execution_count": 10,
      "metadata": {
        "id": "dOhRF-siHb2C"
      },
      "outputs": [],
      "source": [
        "import matplotlib.pyplot as plt\n",
        "import seaborn as sns\n",
        "\n",
        "def plot_colonne_distribution(dataframe, column):\n",
        "    # Check if the specified column exists in the DataFrame\n",
        "    if column not in dataframe.columns:\n",
        "        raise ValueError(f\"Column '{column}' not found in the DataFrame.\")\n",
        "\n",
        "    # Create a countplot with a custom color palette\n",
        "    fig, ax = plt.subplots(1, 1, figsize=(20, 8))\n",
        "    sns.set(style=\"whitegrid\")\n",
        "\n",
        "    custom_palette = sns.color_palette(\"husl\")\n",
        "\n",
        "    sns.countplot(x=column, data=dataframe, palette=custom_palette)\n",
        "\n",
        "    # Calculate the total number of entries\n",
        "    total_count = len(dataframe)\n",
        "\n",
        "    # Annotate the bars with percentages\n",
        "    for p in ax.patches:\n",
        "        percentage = '{:.1f}%'.format(100 * p.get_height() / total_count)\n",
        "        ax.annotate(percentage, (p.get_x() + p.get_width() / 2., p.get_height()), ha='center', va='center', fontsize=12, color='black', xytext=(0, 5), textcoords='offset points')\n",
        "\n",
        "    # Modify the y-axis label and title\n",
        "    ax.set_ylabel('Nombre de clients')\n",
        "    ax.set_title(f'Répartition des clients par {column}')\n",
        "\n",
        "    # Rotate the x-axis labels by 45 degrees\n",
        "    ax.set_xticklabels(ax.get_xticklabels(), rotation=45, ha='right')\n",
        "\n",
        "    # Increase the font size\n",
        "    ax.tick_params(axis='both', labelsize=14)\n",
        "\n",
        "    plt.show()\n",
        "\n",
        "\n"
      ]
    },
    {
      "cell_type": "code",
      "execution_count": 11,
      "metadata": {
        "id": "TXbcL5vnXBwg"
      },
      "outputs": [],
      "source": [
        "def plot_age_distribution(data, age_column, interval=10):\n",
        "    bins = list(range(0, 101, interval))\n",
        "    labels = [f\"{i}-{i+interval-1}\" for i in range(0, 100, interval)]  # Adjusted the range\n",
        "\n",
        "    age_groups = pd.cut(data[age_column], bins=bins, labels=labels, right=False)\n",
        "    data['age_group'] = age_groups\n",
        "\n",
        "    fig, ax = plt.subplots(1, 1, figsize=(20, 8))\n",
        "    sns.set(style=\"whitegrid\")\n",
        "\n",
        "    custom_palette = sns.color_palette(\"husl\", n_colors=len(data['age_group'].unique()))\n",
        "\n",
        "    sns.countplot(x='age_group', data=data, palette=custom_palette, ax=ax, hue='age_group', legend=False)\n",
        "\n",
        "    total_count = len(data)\n",
        "\n",
        "    for p in ax.patches:\n",
        "        percentage = '{:.1f}%'.format(100 * p.get_height() / total_count)\n",
        "        ax.annotate(percentage, (p.get_x() + p.get_width() / 2., p.get_height()),\n",
        "                    ha='center', va='center', fontsize=12, color='black', xytext=(0, 5), textcoords='offset points')\n",
        "\n",
        "    ax.set_ylabel('Nombre de clients')\n",
        "    ax.set_title(f\"Répartition des clients par tranche d'âge\")\n",
        "    ax.set_xticklabels(ax.get_xticklabels(), rotation=45, ha='right')\n",
        "\n",
        "    ax.xaxis.set_major_locator(plt.MaxNLocator(len(data['age_group'].unique())))\n",
        "    ax.tick_params(axis='both', labelsize=14)\n",
        "\n",
        "    plt.show()\n",
        "\n",
        "\n",
        "def plot_anciennete_distribution(data, age_column, interval=10):\n",
        "    max_age = int(data[age_column].max())  # Convert max_age to integer\n",
        "    bins = list(range(0, max_age + interval, interval))\n",
        "    labels = [f\"{i}-{i+interval-1}\" for i in range(0, max_age, interval)]  # Adjusted the range\n",
        "\n",
        "    age_groups = pd.cut(data[age_column], bins=bins, labels=labels, right=False)\n",
        "    data['anciennete_groupes'] = age_groups\n",
        "\n",
        "    fig, ax = plt.subplots(1, 1, figsize=(20, 8))\n",
        "    sns.set(style=\"whitegrid\")\n",
        "\n",
        "    custom_palette = sns.color_palette(\"husl\", n_colors=len(data['anciennete_groupes'].unique()))\n",
        "\n",
        "    sns.countplot(x='anciennete_groupes', data=data, palette=custom_palette, ax=ax, hue='anciennete_groupes', legend=False)\n",
        "\n",
        "    total_count = len(data)\n",
        "\n",
        "    for p in ax.patches:\n",
        "        percentage = '{:.1f}%'.format(100 * p.get_height() / total_count)\n",
        "        ax.annotate(percentage, (p.get_x() + p.get_width() / 2., p.get_height()),\n",
        "                    ha='center', va='center', fontsize=12, color='black', xytext=(0, 5), textcoords='offset points')\n",
        "\n",
        "    ax.set_ylabel('Nombre de clients')\n",
        "    ax.set_title(f\"Répartition des clients par tranche d'ancienneté\")\n",
        "    ax.set_xticklabels(ax.get_xticklabels(), rotation=45, ha='right')\n",
        "\n",
        "    ax.xaxis.set_major_locator(plt.MaxNLocator(len(data['anciennete_groupes'].unique())))\n",
        "    ax.tick_params(axis='both', labelsize=14)\n",
        "\n",
        "    plt.show()"
      ]
    },
    {
      "cell_type": "code",
      "execution_count": 12,
      "metadata": {
        "id": "kfsJWQHALbY3"
      },
      "outputs": [],
      "source": [
        "import matplotlib.pyplot as plt\n",
        "import seaborn as sns\n",
        "\n",
        "def plot_colonne_heatmap(data, colonne):\n",
        "    # Comptez le nombre total de clients\n",
        "    total_count = len(data)\n",
        "\n",
        "    # Créez un DataFrame de fréquence des valeurs dans la colonne\n",
        "    value_counts = data[colonne].value_counts().reset_index()\n",
        "    value_counts.columns = [colonne, \"Count\"]\n",
        "\n",
        "    # Créez un pivot table pour préparer les données au format heatmap\n",
        "    pivot_table = value_counts.pivot_table(index=None, columns=colonne, values=\"Count\", aggfunc=\"sum\", fill_value=0)\n",
        "\n",
        "    # Convertissez les valeurs en pourcentage par rapport au total\n",
        "    pivot_table_percentage = (pivot_table / total_count) * 100\n",
        "\n",
        "    fig, ax = plt.subplots(figsize=(15, 8))\n",
        "    sns.set(style=\"whitegrid\")\n",
        "\n",
        "    # Utilisez la fonction heatmap de Seaborn pour afficher le tableau heatmap en pourcentage\n",
        "    sns.heatmap(pivot_table_percentage, annot=True, fmt=\".1f\", cmap=\"YlGnBu\", cbar=False)\n",
        "\n",
        "    ax.set_xlabel(colonne)\n",
        "    ax.set_ylabel(\"Pourcentage de clients\")\n",
        "    ax.set_title(f\"Répartition des clients par {colonne} en pourcentage\")\n",
        "\n",
        "    plt.show()"
      ]
    },
    {
      "cell_type": "markdown",
      "metadata": {
        "id": "ZOQGqeshkV25"
      },
      "source": [
        "## **Nettoyage et transformation**"
      ]
    },
    {
      "cell_type": "code",
      "execution_count": null,
      "metadata": {
        "id": "sJyU9SOhkfxY"
      },
      "outputs": [],
      "source": [
        "def df_transaction_transform(df: DataFrame):\n",
        "    \"\"\"\n",
        "    Cette fonction effectue la transformation des données du DataFrame.\n",
        "\n",
        "    Args :\n",
        "        df (DataFrame): Le DataFrame à transformer.\n",
        "\n",
        "    Returns :\n",
        "        DataFrame: Le DataFrame transformé.\n",
        "    \"\"\"\n",
        "    # Transformation en minuscule de la colonne Type transaction\n",
        "    df = df.withColumn(\"typetransaction\", lower(df[\"typetransaction\"]))\n",
        "\n",
        "    # Sélection des Colonnes Nécessaires\n",
        "    # no_taken_columns = [\"fees\", \"operation\", \"day\", \"ingest_date\", \"description\", \"status\", \"statuscode\"]\n",
        "    taken_columns = [\"transactionid\", \"msisdn\", \"destinataire\", \"montant\", \"day\", \"typetransaction\",\n",
        "                     \"titre\", \"channel\", \"statuscode\"]\n",
        "    df = df.select(taken_columns)\n",
        "\n",
        "    # Sélection des colonnes nécessaires et renommage\n",
        "    df = df.select(taken_columns) \\\n",
        "        .withColumnRenamed(\"msisdn\", \"numero\") \\\n",
        "        .withColumnRenamed(\"titre\", \"type_service\")\n",
        "\n",
        "\n",
        "   # Supprimer les lignes où 'Montant' est égal à \"NULL\"\n",
        "#    df = df.filter(df[\"montant\"] != \"NULL\")\n",
        "\n",
        "\n",
        "    # Conversion des données des colonnes Date et Montant\n",
        "    df = df.withColumn(\"montant\", df[\"montant\"].cast(FloatType()))\n",
        "    # df = df.withColumn(\"day\", to_date(df[\"day\"], \"yyyyMMdd\"))\n",
        "\n",
        "\n",
        "    # Données manquantes et standardisation sur la colonne TypesTransaction\n",
        "    df = df.withColumn(\"type_service\",\n",
        "                       when((df[\"typetransaction\"] == \"cashin\") & (df[\"type_service\"] == \"NULL\"), \"Depot\")\n",
        "                       .when((df[\"typetransaction\"] == \"cashin\") & (df[\"type_service\"] == \"Dépot\"), \"Depot\")\n",
        "                       .when((df[\"typetransaction\"] == \"achat_credit\") & (df[\"type_service\"] == \"Recharge Crédit\"),\n",
        "                             \"Recharge Credit\")\n",
        "                       .when((df[\"typetransaction\"] == \"cashout\") & (df[\"type_service\"] == \"NULL\"), \"Retrait\")\n",
        "                       .when((df[\"typetransaction\"] == \"transfert\") & (df[\"type_service\"] == \"NULL\"), \"Transfert\")\n",
        "                       .when((df[\"typetransaction\"] == \"cashinother\") & (df[\"type_service\"] == \"NULL\"), \"Autre retrait\")\n",
        "                       .when((df[\"typetransaction\"] == \"cashout_confirm\") | (df[\"typetransaction\"] == \"cashout\") & (\n",
        "                               df[\"type_service\"] == \"Retrait d'argent\"), \"Retrait\")\n",
        "                       .when((df[\"typetransaction\"] == \"paiement_marchand\") & (df[\"type_service\"] == \"NULL\"),\n",
        "                             \"Paiement marchand\")\n",
        "                       .otherwise(df[\"type_service\"])\n",
        "                       )\n",
        "\n",
        "   # Définissez le dictionnaire de services\n",
        "    services = {\n",
        "        'service_financier': [\"OM vers Banque\", \"Retrait avec code\", \"Retrait\", \"Banque vers OM\", \"Depot\", \"Envoi\",\n",
        "                              \"Transfert international\", \"Autre retrait\", \"Transfert\"],\n",
        "        'service_paiement': [\"Rapido\", \"Paiement marchand\", \"Ubipharm\", \"Sunna Moon\", \"Canal +\", \"SEN'EAU\", \"AQUATECH\",\n",
        "                             \"ISM\", \"Carte TotalEnergies\", \"SONATELFIXE\", \"SDE\", \"Woyofal\", \"SONATELMOBILE\", \"SEN\",\n",
        "                             \"Recharge Xeweul\", \"SAMA MBEY\", \"ILEMEL\"],\n",
        "        'service_achat': [\"Recharge Credit\", \"Pass Illimix\", \"Pass Internet\", \"Vente Crédit\"],\n",
        "        'don_cotisation': [\"Dons et cotisations\"]\n",
        "    }\n",
        "    df_transformed = df.withColumn(\"categorie_service\", df[\"type_service\"])\n",
        "    # Utilisez la fonction `withColumn` pour ajouter la colonne \"type_service\" en fonction des catégories\n",
        "    for categorie, liste_services in services.items():\n",
        "        df_transformed = df_transformed.withColumn(\"categorie_service\",\n",
        "                                                   when(df_transformed[\"categorie_service\"].isin(liste_services),\n",
        "                                                        categorie).otherwise(df_transformed[\"categorie_service\"]))\n",
        "\n",
        "    return df_transformed\n",
        "\n",
        "\n",
        "# NETTOYAGE\n",
        "def df_transaction_clean(df: DataFrame):\n",
        "    \"\"\"\n",
        "      Cette fonction effectue le nettoyage des données du DataFrame.\n",
        "\n",
        "      Args :\n",
        "          df (DataFrame): Le DataFrame à nettoyer.\n",
        "\n",
        "      Returns :\n",
        "          DataFrame: Le DataFrame nettoyé.\n",
        "      \"\"\"\n",
        "\n",
        "    # Données manquantes sur la colonne channel\n",
        "    df = df.withColumn(\"channel\", when(df[\"channel\"] == \"NULL\", \"Inconnu\").otherwise(df[\"channel\"]))\n",
        "\n",
        "    # Transactions échouées\n",
        "    status_success = [\"200\", \"TS\", \"éffectué\"]\n",
        "    # status_failed = [\"échoué\", \"TP\", \"TF\"]\n",
        "\n",
        "    # Utilisez une variable différente (par exemple, when_condition) pour éviter le conflit\n",
        "    when_condition = when(col(\"statuscode\").isin(status_success), \"réussi\").otherwise(\"non réussi\")\n",
        "\n",
        "    df = df.withColumn(\"statuscode\", when_condition)\n",
        "\n",
        "    # Filtrer les lignes où le statut est \"réussi\"\n",
        "    df_reussi = df.filter(col(\"statuscode\") == \"réussi\")\n",
        "\n",
        "    # Gestion des données aberrantes\n",
        "    df_montant_pos = df_reussi.filter(df[\"montant\"] > 0)\n",
        "    df_plafond = df_montant_pos.filter(df[\"montant\"] < 2000000)\n",
        "\n",
        "    # Gestion des données dupliquées\n",
        "    # df_cleaned = df_plafond.dropDuplicates()\n",
        "\n",
        "    return df_cleaned\n"
      ]
    },
    {
      "cell_type": "markdown",
      "metadata": {
        "id": "zYVMG41l2di6"
      },
      "source": [
        "# **SEGMENTATION MULTISIM**"
      ]
    },
    {
      "cell_type": "markdown",
      "metadata": {
        "id": "pCYs_snqIrv-"
      },
      "source": [
        "## **Exploration des données**\n",
        "\n",
        "\n"
      ]
    },
    {
      "cell_type": "code",
      "execution_count": null,
      "metadata": {
        "id": "JDEKu5AZFR5i"
      },
      "outputs": [],
      "source": [
        "df_info_detailed(df_roaming)"
      ]
    },
    {
      "cell_type": "code",
      "execution_count": null,
      "metadata": {
        "id": "ARq26a8zVAAb"
      },
      "outputs": [],
      "source": [
        "pd.set_option('display.float_format', lambda x: '{:.0f}'.format(x))\n",
        "pd_segmentation_client.describe(include='all')"
      ]
    },
    {
      "cell_type": "code",
      "execution_count": null,
      "metadata": {
        "id": "ooZKPrr83W8C"
      },
      "outputs": [],
      "source": [
        "df_info(df_segmentation_client)"
      ]
    },
    {
      "cell_type": "code",
      "execution_count": null,
      "metadata": {
        "id": "z6LYr86GFEGs"
      },
      "outputs": [],
      "source": [
        "df_info(df_segment_rfm)"
      ]
    },
    {
      "cell_type": "code",
      "execution_count": null,
      "metadata": {
        "id": "F7be9gHpFNY0"
      },
      "outputs": [],
      "source": [
        "df_info(df_recharge)"
      ]
    },
    {
      "cell_type": "code",
      "execution_count": null,
      "metadata": {
        "id": "s5gPuqkcFQPD"
      },
      "outputs": [],
      "source": [
        "df_info(df_sico)"
      ]
    },
    {
      "cell_type": "markdown",
      "metadata": {
        "id": "4aNuq12Wm0nt"
      },
      "source": [
        "## **Feature engineering**"
      ]
    },
    {
      "cell_type": "code",
      "execution_count": null,
      "metadata": {
        "id": "mO4R0LqkHuWz"
      },
      "outputs": [],
      "source": [
        "def create_df_location(df_location):\n",
        "    # Renommez la colonne commune_arrondissement en \"ville\"\n",
        "    df_loc_clients = df_location.select(\"msisdn\", \"ca_cr_commune\")\n",
        "\n",
        "    # Group by \"numero\" and select the most frequent \"ville\"\n",
        "    df_clients_top_villes = df_loc_clients.groupBy(\"msisdn\", \"ca_cr_commune\") \\\n",
        "        .agg(count(\"*\").alias(\"count\")) \\\n",
        "        .orderBy(desc(\"count\")) \\\n",
        "        .groupBy(\"msisdn\") \\\n",
        "        .agg(first(\"ca_cr_commune\").alias(\"ca_cr_commune\"))\n",
        "\n",
        "    return df_clients_top_villes\n",
        "def create_df_sico(df_sico):\n",
        "    taken_columns_sico = ['nd', 'date_naissance', 'date_debut_engagement']\n",
        "    df_km_sic = df_sico.select(taken_columns_sico)\n",
        "    df_km_sic = df_km_sic.withColumn(\"anciennete\", year(current_date()) - year(\"date_debut_engagement\")).drop(\"date_debut_engagement\") \\\n",
        "        .withColumn(\"age\", year(current_date()) - year(\"date_naissance\")).drop(\"date_naissance\")\n",
        "    return df_km_sic\n",
        "\n",
        "\n",
        "df_sico_created=create_df_sico(df_sico)\n",
        "df_location_client=create_df_location(df_location_night)\n",
        "df_segment_multisim_init =  df_roaming.withColumn(\"segment_sim\",when(col(\"multi_sim\").isNull(), \"Monosim\").otherwise(\"Multisim\"))\n",
        "df_recharge_created = df_recharge.groupBy(\"msisdn\").agg(avg(\"montant\").alias(\"moyenne_montant_recharge\"))\n",
        "df_segment_rfm_created=df_segment_rfm.select(\"numero\",\"segment_RFM\")\n",
        "df_segment_telco=df_segmentation_client.select(\"msisdn\",\"segment_recharge\",\"segment_marche\")"
      ]
    },
    {
      "cell_type": "code",
      "execution_count": null,
      "metadata": {
        "id": "Rbkos7Sn2naM"
      },
      "outputs": [],
      "source": [
        "df_segment_multisim=df_segment_multisim_init.join(df_sico_created,df_roaming[\"caller_msisdn\"] ==df_sico_created[\"nd\"] , \"left_outer\")\\\n",
        "                                            .join(df_location_client,df_roaming[\"caller_msisdn\"] ==df_location_client[\"msisdn\"] , \"left_outer\")\\\n",
        "                                            .join(df_segment_rfm_created, df_roaming[\"caller_msisdn\"] == df_segment_rfm_created[\"numero\"], \"left_outer\") \\\n",
        "                                            .join(df_recharge_created, df_roaming[\"caller_msisdn\"] == df_recharge_created[\"msisdn\"], \"left_outer\") \\\n",
        "                                            .join(df_segment_telco, df_roaming[\"caller_msisdn\"] == df_segment_telco[\"msisdn\"], \"left_outer\") \\\n",
        "                                            .withColumn(\"numero\",when(col(\"numero\").isNull(), \"Inactif OM\").otherwise(\"Actif OM\"))\\\n",
        "                                            .drop(\"equipment_identity\",\"multi_sim\",\"msisdn\",\"nd\") \\\n",
        "                                            .withColumnRenamed(\"numero\", \"statut_client_om\")\n",
        "df_segment_multisim.coalesce(1).write.csv(f\"{myPath}/resultat_segmentation_multisim_csv\", header=True, mode='overwrite')"
      ]
    },
    {
      "cell_type": "markdown",
      "metadata": {
        "id": "_ch_q4NonEvM"
      },
      "source": [
        "## **Exploration de la segmentation MultiSim**"
      ]
    },
    {
      "cell_type": "code",
      "execution_count": null,
      "metadata": {
        "id": "GrivloDJbPlf"
      },
      "outputs": [],
      "source": [
        "pd_multisim0=pd_segment_multisim_loaded\n",
        "pd_multisim1=pd_segment_multisim_loaded[pd_segment_multisim_loaded[\"segment_sim\"]==\"Monosim\"]\n",
        "pd_multisim2=pd_segment_multisim_loaded[pd_segment_multisim_loaded[\"segment_sim\"]==\"Multisim\"]\n",
        "\n",
        "pd_multisim_om0=pd_segment_multisim_loaded[pd_segment_multisim_loaded[\"statut_client_om\"]==\"Actif OM\"]\n",
        "pd_multisim_om1 = pd_segment_multisim_loaded[\n",
        "    (pd_segment_multisim_loaded[\"statut_client_om\"] == \"Actif OM\") &\n",
        "    (pd_segment_multisim_loaded[\"segment_sim\"] == \"Monosim\")\n",
        "]\n",
        "pd_multisim_om2 = pd_segment_multisim_loaded[\n",
        "    (pd_segment_multisim_loaded[\"statut_client_om\"] == \"Actif OM\") &\n",
        "    (pd_segment_multisim_loaded[\"segment_sim\"] == \"Multisim\")\n",
        "]\n"
      ]
    },
    {
      "cell_type": "markdown",
      "metadata": {
        "id": "olgINtfEz6sj"
      },
      "source": [
        "#### Infos générales"
      ]
    },
    {
      "cell_type": "code",
      "execution_count": null,
      "metadata": {
        "id": "Dh6GEmoKlkpv"
      },
      "outputs": [],
      "source": [
        "pd_segment_multisim_loaded[pd_segment_multisim_loaded[\"statut_client_om\"]==\"Actif OM\"].head(20)"
      ]
    },
    {
      "cell_type": "code",
      "execution_count": null,
      "metadata": {
        "id": "z8XR0OMV3guL"
      },
      "outputs": [],
      "source": [
        "df_segment_multisim_loaded.filter(col(\"statut_client_om\")==\"Actif OM\").show(5)\n",
        "df_segment_multisim_loaded.filter(col(\"statut_client_om\")==\"Inactif OM\").show(5)\n",
        "df_info_detailed(df_segment_multisim_loaded)"
      ]
    },
    {
      "cell_type": "markdown",
      "metadata": {
        "id": "i5x9dH3qX2yq"
      },
      "source": [
        "#### Pourcentage"
      ]
    },
    {
      "cell_type": "code",
      "execution_count": null,
      "metadata": {
        "id": "Sle9MtsCw9hy"
      },
      "outputs": [],
      "source": [
        "import pandas as pd\n",
        "\n",
        "def afficher_pourcentage_colonne(dataframe, nom_colonne):\n",
        "    total_lignes = len(dataframe)\n",
        "\n",
        "    # Calcul des pourcentages\n",
        "    pourcentages = dataframe[nom_colonne].value_counts(normalize=True) * 100\n",
        "\n",
        "    # Affichage des pourcentages\n",
        "    print(f\"Pourcentage des valeurs dans la colonne '{nom_colonne}':\")\n",
        "    print(pourcentages)\n",
        "\n",
        "import pandas as pd\n",
        "\n",
        "def afficher_pourcentage_intervalles(dataframe, nom_colonne, intervalle):\n",
        "    # Création des intervalles\n",
        "    intervalles = pd.cut(dataframe[nom_colonne], bins=intervalle, include_lowest=True)\n",
        "\n",
        "    # Calcul des pourcentages\n",
        "    pourcentages = intervalles.value_counts(normalize=True, sort=False) * 100\n",
        "\n",
        "    # Affichage des pourcentages\n",
        "    print(f\"Pourcentage des valeurs dans la colonne '{nom_colonne}' par intervalles:\")\n",
        "    print(pourcentages)\n"
      ]
    },
    {
      "cell_type": "code",
      "execution_count": null,
      "metadata": {
        "id": "ZhyXYlYXznpE"
      },
      "outputs": [],
      "source": [
        "colon=[]\n",
        "print(\"clients monosim\")\n",
        "afficher_pourcentage_colonne(pd_multisim1, \"segment_RFM\")\n",
        "print(\"\\nclients multisim\")\n",
        "afficher_pourcentage_colonne(pd_multisim2, \"segment_RFM\")"
      ]
    },
    {
      "cell_type": "code",
      "execution_count": null,
      "metadata": {
        "id": "6wqE2BbU49d5"
      },
      "outputs": [],
      "source": [
        "# Utilisation de la fonction avec le DataFrame pd_segment_multisim pour les colonnes \"age\" et \"anciennete\"\n",
        "intervalle_age = [0, 20, 30, 40, 50, 60, 100]  # Exemple d'intervalle pour l'âge\n",
        "intervalle_anciennete = [0, 5, 10, 15, 20,25, 30]  # Exemple d'intervalle pour l'ancienneté\n",
        "print(\"clients monsim\")\n",
        "afficher_pourcentage_intervalles(pd_multisim1, \"age\", intervalle_age)\n",
        "print(\"\\nclients multisim\")\n",
        "afficher_pourcentage_intervalles(pd_multisim2, \"age\", intervalle_age)"
      ]
    },
    {
      "cell_type": "markdown",
      "metadata": {
        "id": "Vdur-cmG0CJg"
      },
      "source": [
        "#### Segment sim et Statut OM"
      ]
    },
    {
      "cell_type": "code",
      "execution_count": null,
      "metadata": {
        "id": "1qbXRw0Z-GiW"
      },
      "outputs": [],
      "source": [
        "plot_colonne_distribution(pd_multisim0,\"segment_sim\")"
      ]
    },
    {
      "cell_type": "code",
      "execution_count": null,
      "metadata": {
        "id": "1GvDYfk7cb4x"
      },
      "outputs": [],
      "source": [
        "plot_colonne_distribution(pd_multisim2,\"statut_client_om\")"
      ]
    },
    {
      "cell_type": "markdown",
      "metadata": {
        "id": "LfgB4Q7w0J3I"
      },
      "source": [
        "#### Segment RFM"
      ]
    },
    {
      "cell_type": "code",
      "execution_count": null,
      "metadata": {
        "id": "cd5D9jI1d5X5"
      },
      "outputs": [],
      "source": [
        "#SEGMENT RFM\n",
        "colonne=\"segment_RFM\"\n",
        "print(\"LES CLIENTS AVEC OM \\n\\n\")\n",
        "plot_colonne_distribution(pd_multisim_om0,colonne)"
      ]
    },
    {
      "cell_type": "code",
      "execution_count": null,
      "metadata": {
        "id": "Va94c6qh1uPf"
      },
      "outputs": [],
      "source": [
        "print(\"\\n\\nLES CLIENTS MONOSIM AVEC OM \\n\\n\")\n",
        "plot_colonne_distribution(pd_multisim_om1,colonne)"
      ]
    },
    {
      "cell_type": "code",
      "execution_count": null,
      "metadata": {
        "id": "tsV4KPoF1yAi"
      },
      "outputs": [],
      "source": [
        "print(\"\\n\\n\\n\\nLES CLIENTS MULTISIM AVEC OM \\n\\n\")\n",
        "plot_colonne_distribution(pd_multisim_om2,colonne)"
      ]
    },
    {
      "cell_type": "markdown",
      "metadata": {
        "id": "Dc49NmMR0TiU"
      },
      "source": [
        "#### Segment recharge"
      ]
    },
    {
      "cell_type": "code",
      "execution_count": null,
      "metadata": {
        "id": "uYbrLg1Pprqe"
      },
      "outputs": [],
      "source": [
        "#SEGMENT RECHARGE\n",
        "colonne=\"segment_recharge\"\n",
        "print(\"LES CLIENTS SANS DISTINCTION \\n\\n\")\n",
        "plot_colonne_distribution(pd_multisim0,colonne)"
      ]
    },
    {
      "cell_type": "code",
      "execution_count": null,
      "metadata": {
        "id": "N8GeWCgc15iv"
      },
      "outputs": [],
      "source": [
        "print(\"\\n\\nLES CLIENTS MONOSIM \\n\\n\")\n",
        "plot_colonne_distribution(pd_multisim1,colonne)"
      ]
    },
    {
      "cell_type": "code",
      "execution_count": null,
      "metadata": {
        "id": "ZXOyB2jE17GA"
      },
      "outputs": [],
      "source": [
        "print(\"\\n\\n\\n\\nLES CLIENTS MULTISIM \\n\\n\")\n",
        "plot_colonne_distribution(pd_multisim2,colonne)"
      ]
    },
    {
      "cell_type": "markdown",
      "metadata": {
        "id": "9fTWWrlX0a0x"
      },
      "source": [
        "#### Segment marché"
      ]
    },
    {
      "cell_type": "code",
      "execution_count": null,
      "metadata": {
        "id": "5OuXNOgYqT3c"
      },
      "outputs": [],
      "source": [
        "#SEGMENT MARCHE\n",
        "colonne=\"segment_marche\"\n",
        "print(\"LES CLIENTS SANS DISTINCTION \\n\\n\")\n",
        "plot_colonne_distribution(pd_multisim0,colonne)"
      ]
    },
    {
      "cell_type": "code",
      "execution_count": null,
      "metadata": {
        "id": "fmeWMVmA1-GG"
      },
      "outputs": [],
      "source": [
        "print(\"\\n\\nLES CLIENTS MONOSIM \\n\\n\")\n",
        "plot_colonne_distribution(pd_multisim1,colonne)"
      ]
    },
    {
      "cell_type": "code",
      "execution_count": null,
      "metadata": {
        "id": "V5vfy-x81_xO"
      },
      "outputs": [],
      "source": [
        "print(\"\\n\\n\\n\\nLES CLIENTS MULTISIM \\n\\n\")\n",
        "plot_colonne_distribution(pd_multisim2,colonne)"
      ]
    },
    {
      "cell_type": "markdown",
      "metadata": {
        "id": "NWB8e1Jh0ryn"
      },
      "source": [
        "#### Age"
      ]
    },
    {
      "cell_type": "code",
      "execution_count": null,
      "metadata": {
        "id": "utyRRKNzsxvZ"
      },
      "outputs": [],
      "source": [
        "#AGE\n",
        "colonne=\"age\"\n",
        "print(\"LES CLIENTS SANS DISTINCTION \\n\\n\")\n",
        "plot_age_distribution(pd_multisim0,colonne,10)"
      ]
    },
    {
      "cell_type": "code",
      "execution_count": null,
      "metadata": {
        "id": "5_rcS9Jy2ERo"
      },
      "outputs": [],
      "source": [
        "print(\"\\n\\nLES CLIENTS MONOSIM \\n\\n\")\n",
        "plot_age_distribution(pd_multisim1,colonne)"
      ]
    },
    {
      "cell_type": "code",
      "execution_count": null,
      "metadata": {
        "id": "qmXLdQAh2Fnw"
      },
      "outputs": [],
      "source": [
        "print(\"\\n\\n\\n\\nLES CLIENTS MULTISIM \\n\\n\")\n",
        "plot_age_distribution(pd_multisim2,colonne)"
      ]
    },
    {
      "cell_type": "markdown",
      "metadata": {
        "id": "FV7jHlFN0wU3"
      },
      "source": [
        "#### Anciennete"
      ]
    },
    {
      "cell_type": "code",
      "execution_count": null,
      "metadata": {
        "id": "VklERNeNv1cy"
      },
      "outputs": [],
      "source": [
        "# AGE\n",
        "colonne = \"anciennete\"  # Replace with the actual column name\n",
        "print(\"LES CLIENTS SANS DISTINCTION \\n\\n\")\n",
        "plot_anciennete_distribution(pd_multisim0, colonne, 5)"
      ]
    },
    {
      "cell_type": "code",
      "execution_count": null,
      "metadata": {
        "id": "Qchb2T9Z2Jg4"
      },
      "outputs": [],
      "source": [
        "print(\"\\n\\nLES CLIENTS MONOSIM \\n\\n\")\n",
        "plot_anciennete_distribution(pd_multisim1, colonne, 5)"
      ]
    },
    {
      "cell_type": "code",
      "execution_count": null,
      "metadata": {
        "id": "mUNZKE_t2NAA"
      },
      "outputs": [],
      "source": [
        "print(\"\\n\\n\\n\\nLES CLIENTS MULTISIM \\n\\n\")\n",
        "plot_anciennete_distribution(pd_multisim2, colonne,  5)"
      ]
    },
    {
      "cell_type": "markdown",
      "metadata": {
        "id": "PLuqIYTvfiS5"
      },
      "source": [
        "#### Communes"
      ]
    },
    {
      "cell_type": "code",
      "execution_count": null,
      "metadata": {
        "id": "7EcNMaNBfxdK"
      },
      "outputs": [],
      "source": [
        "df=pd_multisim0\n",
        "top_communes = df['ca_cr_commune'].value_counts().head(30)\n",
        "df_top_communes = df[df['ca_cr_commune'].isin(top_communes.index)]\n",
        "plot_colonne_distribution(df_top_communes ,'ca_cr_commune')"
      ]
    },
    {
      "cell_type": "code",
      "execution_count": null,
      "metadata": {
        "id": "5jv0vPd2hpqx"
      },
      "outputs": [],
      "source": [
        "df=pd_multisim1\n",
        "top_communes = df['ca_cr_commune'].value_counts().head(30)\n",
        "df_top_communes = df[df['ca_cr_commune'].isin(top_communes.index)]\n",
        "plot_colonne_distribution(df_top_communes ,'ca_cr_commune')"
      ]
    },
    {
      "cell_type": "code",
      "execution_count": null,
      "metadata": {
        "id": "nzRU7jtOhsm0"
      },
      "outputs": [],
      "source": [
        "df=pd_multisim2\n",
        "top_communes = df['ca_cr_commune'].value_counts().head(30)\n",
        "df_top_communes = df[df['ca_cr_commune'].isin(top_communes.index)]\n",
        "plot_colonne_distribution(df_top_communes ,'ca_cr_commune')"
      ]
    },
    {
      "cell_type": "markdown",
      "metadata": {
        "id": "ZRVgG8kUKLy7"
      },
      "source": [
        "# **SEGMENTATION SCORING MULTISIM**"
      ]
    },
    {
      "cell_type": "markdown",
      "metadata": {
        "id": "2e0Bbrf5LFwC"
      },
      "source": [
        "## **Exploration du dataset**"
      ]
    },
    {
      "cell_type": "code",
      "execution_count": null,
      "metadata": {
        "colab": {
          "base_uri": "https://localhost:8080/"
        },
        "id": "E4qupPr9Kb2C",
        "outputId": "d94373a2-0238-4c17-f540-05e107a8479a"
      },
      "outputs": [
        {
          "output_type": "stream",
          "name": "stdout",
          "text": [
            "Nombre de features: 18\n",
            "root\n",
            " |-- msisdn: string (nullable = true)\n",
            " |-- imei: string (nullable = true)\n",
            " |-- multi_sim: string (nullable = true)\n",
            " |-- age: string (nullable = true)\n",
            " |-- sex: string (nullable = true)\n",
            " |-- segment_marche: string (nullable = true)\n",
            " |-- appel_orange_3_last_m: string (nullable = true)\n",
            " |-- appel_free_3_last_m: string (nullable = true)\n",
            " |-- appel_expresso_3_last_m: string (nullable = true)\n",
            " |-- min_appel_orange_3_last_m: string (nullable = true)\n",
            " |-- min_appel_free_3_last_m: string (nullable = true)\n",
            " |-- min_appel_expresso_3_last_m: string (nullable = true)\n",
            " |-- ca_cr_commune_day: string (nullable = true)\n",
            " |-- ca_cr_commune_night: string (nullable = true)\n",
            " |-- usage_data_90j: string (nullable = true)\n",
            " |-- top_appel: string (nullable = true)\n",
            " |-- year: string (nullable = true)\n",
            " |-- month: string (nullable = true)\n",
            "\n",
            "['msisdn', 'imei', 'multi_sim', 'age', 'sex', 'segment_marche', 'appel_orange_3_last_m', 'appel_free_3_last_m', 'appel_expresso_3_last_m', 'min_appel_orange_3_last_m', 'min_appel_free_3_last_m', 'min_appel_expresso_3_last_m', 'ca_cr_commune_day', 'ca_cr_commune_night', 'usage_data_90j', 'top_appel', 'year', 'month']\n",
            "\n",
            " \n",
            "  Nombre de lignes : 345995, Nombre de colonnes : 18\n",
            "+---------+---------------+---------+---+---+------------------+---------------------+-------------------+-----------------------+-------------------------+-----------------------+---------------------------+-----------------+-------------------+--------------+-------------------------------------------------------+----+-----+\n",
            "|msisdn   |imei           |multi_sim|age|sex|segment_marche    |appel_orange_3_last_m|appel_free_3_last_m|appel_expresso_3_last_m|min_appel_orange_3_last_m|min_appel_free_3_last_m|min_appel_expresso_3_last_m|ca_cr_commune_day|ca_cr_commune_night|usage_data_90j|top_appel                                              |year|month|\n",
            "+---------+---------------+---------+---+---+------------------+---------------------+-------------------+-----------------------+-------------------------+-----------------------+---------------------------+-----------------+-------------------+--------------+-------------------------------------------------------+----+-----+\n",
            "|773009797|NULL           |NULL     |-1 |ND |AUTRES            |1226.0               |39.0               |5.0                    |2771.9666666666662       |87.51666666666668      |6.449999999999999          |Autres           |Autres             |24120148679.0 |[772208874, 774057116, 775303014, 774365250, 770218576]|2024|02   |\n",
            "|777132911|354848112999590|NULL     |50 |M  |ENTRANT           |38.0                 |57.0               |21.0                   |64.51666666666667        |104.44999999999999     |74.58333333333333          |TOUBA MOSQUEE    |TOUBA MOSQUEE      |0.0           |[708725688, 764672330, 781168096, 766637954, 766157473]|2024|02   |\n",
            "|778147579|NULL           |NULL     |33 |ND |ENTRANT           |18.0                 |0.0                |0.0                    |6.05                     |0.0                    |0.0                        |Autres           |NULL               |30164.0       |[775303014]                                            |2024|02   |\n",
            "|772482021|357854097459570|NULL     |61 |M  |JEUNES            |547.0                |11.0               |0.0                    |76.25000000000001        |0.2                    |0.0                        |KOLDA            |KOLDA              |0.0           |[781687317, 784129606, 779433152, 770877368, 782177121]|2024|02   |\n",
            "|770164855|NULL           |NULL     |57 |F  |KIRENE AVEC ORANGE|205.0                |3.0                |0.0                    |112.19999999999989       |0.11666666666666667    |0.0                        |DODEL            |DODEL              |4990325443.0  |[775303014, 779448953, 770350854, 779592599, 779944246]|2024|02   |\n",
            "+---------+---------------+---------+---+---+------------------+---------------------+-------------------+-----------------------+-------------------------+-----------------------+---------------------------+-----------------+-------------------+--------------+-------------------------------------------------------+----+-----+\n",
            "only showing top 5 rows\n",
            "\n",
            "\n",
            "########### Dernières lignes ###########\n",
            "+---------+---------------+---------------+---+---+------------------+---------------------+-------------------+-----------------------+-------------------------+-----------------------+---------------------------+-----------------+------------------------+--------------+----------------------------------------------------------+----+-----+\n",
            "|msisdn   |imei           |multi_sim      |age|sex|segment_marche    |appel_orange_3_last_m|appel_free_3_last_m|appel_expresso_3_last_m|min_appel_orange_3_last_m|min_appel_free_3_last_m|min_appel_expresso_3_last_m|ca_cr_commune_day|ca_cr_commune_night     |usage_data_90j|top_appel                                                 |year|month|\n",
            "+---------+---------------+---------------+---+---+------------------+---------------------+-------------------+-----------------------+-------------------------+-----------------------+---------------------------+-----------------+------------------------+--------------+----------------------------------------------------------+----+-----+\n",
            "|787899849|357857090639390|357857090639390|18 |ND |JEUNES            |164.0                |73.0               |5.0                    |309.4666666666668        |162.13333333333335     |3.5166666666666666         |TASSETTE         |TASSETTE                |4915552222.0  |[764900885, 773237290, 778036427, 769740238, 786613061]   |2024|02   |\n",
            "|787899381|354284853961380|354284853961380|23 |ND |KIRENE AVEC ORANGE|5.0                  |0.0                |0.0                    |15.883333333333331       |0.0                    |0.0                        |PATTE D'OIE      |PATTE D'OIE             |1595553361.0  |[787683226, 777019439, 781324194]                         |2024|02   |\n",
            "|787899338|NULL           |NULL           |53 |M  |JEUNES            |25.0                 |0.0                |0.0                    |11.166666666666666       |0.0                    |0.0                        |NDENDORY         |SINTHIOU BAMAMBE BANADJI|11446940021.0 |[783150927, 237693992711, 777083773, 783985433, 772228133]|2024|02   |\n",
            "|787899336|354999110631480|354999110631480|25 |ND |KIRENE AVEC ORANGE|15.0                 |23.0               |0.0                    |20.71666666666667        |19.133333333333336     |0.0                        |TOUBA MOSQUEE    |TOUBA MOSQUEE           |2380514612.0  |[765801349, 765257693, 771139036, 764763558, 768547455]   |2024|02   |\n",
            "|787899152|352751019523260|352751019523260|30 |M  |JEUNES            |60.0                 |21.0               |0.0                    |83.08333333333331        |35.9                   |0.0                        |ZIGUINCHOR       |ZIGUINCHOR              |0.0           |[785240843, 769906376, 771773845, 779882223, 774408532]   |2024|02   |\n",
            "+---------+---------------+---------------+---+---+------------------+---------------------+-------------------+-----------------------+-------------------------+-----------------------+---------------------------+-----------------+------------------------+--------------+----------------------------------------------------------+----+-----+\n",
            "only showing top 5 rows\n",
            "\n",
            "\n",
            "########### Statistiques sommaires ###########\n",
            "+-------+-------------------+--------------------+--------------------+-----------------+------+-------------------+---------------------+-------------------+-----------------------+-------------------------+-----------------------+---------------------------+-----------------+-------------------+--------------------+--------------------+------+------+\n",
            "|summary|             msisdn|                imei|           multi_sim|              age|   sex|     segment_marche|appel_orange_3_last_m|appel_free_3_last_m|appel_expresso_3_last_m|min_appel_orange_3_last_m|min_appel_free_3_last_m|min_appel_expresso_3_last_m|ca_cr_commune_day|ca_cr_commune_night|      usage_data_90j|           top_appel|  year| month|\n",
            "+-------+-------------------+--------------------+--------------------+-----------------+------+-------------------+---------------------+-------------------+-----------------------+-------------------------+-----------------------+---------------------------+-----------------+-------------------+--------------------+--------------------+------+------+\n",
            "|  count|             345995|              236048|               39614|           339823|339721|             339780|               345995|             345995|                 345995|                   345995|                 345995|                     345995|           345860|             341789|              345995|              342561|345995|345995|\n",
            "|   mean|7.754182166851804E8|3.813478981670253E14|3.564794210588279E14| 39.1942834946428|  NULL|               NULL|    437.9958207488547|  61.19141895114091|      15.33816962672871|        694.8661432005131|      104.4255871231291|         17.870534111765288|             NULL|               NULL|1.413094884894141...|                NULL|2024.0|   2.0|\n",
            "| stddev| 4686107.1770927785|1.233552841325450...|1.225356504014414...|48.24931698413367|  NULL|               NULL|    616.7896593687486| 125.36163599395009|     47.138114601567544|         1155.22183583404|      284.2441873031356|          82.49518487034175|             NULL|               NULL|2.568878772562418...|                NULL|   0.0|   0.0|\n",
            "|    min|          703196499|     000000000000000|     000000000000000|               -1|     F|             AUTRES|                  0.0|                0.0|                    0.0|                      0.0|                    0.0|                        0.0|           ADEANE|             ADEANE|                 0.0|[0, 1212, 7792836...|  2024|    02|\n",
            "|    25%|       7.72757241E8|  3.5294709749508E14|  3.5234560987654E14|             28.0|  NULL|               NULL|                 55.0|                2.0|                    0.0|       21.716666666666676|                    0.2|                        0.0|             NULL|               NULL|            219441.0|                NULL|2024.0|   2.0|\n",
            "|    50%|       7.75298238E8|  3.5516011237209E14|        3.5464802E14|             38.0|  NULL|               NULL|                205.0|               16.0|                    2.0|        228.9499999999999|     11.950000000000001|                       0.25|             NULL|               NULL|       2.915796372E9|                NULL|2024.0|   2.0|\n",
            "|    75%|        7.7779728E8|  3.5762052616825E14|  3.5677676655121E14|             50.0|  NULL|               NULL|                569.0|               63.0|                   11.0|        888.2166666666657|                   85.4|          8.716666666666667|             NULL|               NULL|     1.7518269659E10|                NULL|2024.0|   2.0|\n",
            "|    max|          787899849|     992000348647130|     990007008802590|               99|    ND|TRES HAUT DE MARCHE|                999.0|              999.0|                  992.0|        9993.966666666656|      999.9333333333327|          998.1833333333325|       ZIGUINCHOR|         ZIGUINCHOR|        9999978096.0|[971581421278, 76...|  2024|    02|\n",
            "+-------+-------------------+--------------------+--------------------+-----------------+------+-------------------+---------------------+-------------------+-----------------------+-------------------------+-----------------------+---------------------------+-----------------+-------------------+--------------------+--------------------+------+------+\n",
            "\n"
          ]
        }
      ],
      "source": [
        "df_info(df_reporting_multisim)"
      ]
    },
    {
      "cell_type": "code",
      "execution_count": 82,
      "metadata": {
        "colab": {
          "base_uri": "https://localhost:8080/"
        },
        "id": "MB9iX1rKOP2O",
        "outputId": "80acb2ea-a232-4106-8042-17fdc7add49d"
      },
      "outputs": [
        {
          "output_type": "stream",
          "name": "stdout",
          "text": [
            "<class 'pandas.core.frame.DataFrame'>\n",
            "RangeIndex: 345995 entries, 0 to 345994\n",
            "Data columns (total 18 columns):\n",
            " #   Column                       Non-Null Count   Dtype  \n",
            "---  ------                       --------------   -----  \n",
            " 0   msisdn                       345995 non-null  int64  \n",
            " 1   imei                         236048 non-null  float64\n",
            " 2   multi_sim                    39614 non-null   float64\n",
            " 3   age                          339823 non-null  float64\n",
            " 4   sex                          339721 non-null  object \n",
            " 5   segment_marche               339780 non-null  object \n",
            " 6   appel_orange_3_last_m        345995 non-null  float64\n",
            " 7   appel_free_3_last_m          345995 non-null  float64\n",
            " 8   appel_expresso_3_last_m      345995 non-null  float64\n",
            " 9   min_appel_orange_3_last_m    345995 non-null  float64\n",
            " 10  min_appel_free_3_last_m      345995 non-null  float64\n",
            " 11  min_appel_expresso_3_last_m  345995 non-null  float64\n",
            " 12  ca_cr_commune_day            345860 non-null  object \n",
            " 13  ca_cr_commune_night          341789 non-null  object \n",
            " 14  usage_data_90j               345995 non-null  float64\n",
            " 15  top_appel                    342561 non-null  object \n",
            " 16  year                         345995 non-null  int64  \n",
            " 17  month                        345995 non-null  int64  \n",
            "dtypes: float64(10), int64(3), object(5)\n",
            "memory usage: 47.5+ MB\n"
          ]
        }
      ],
      "source": [
        "pd_reporting_multisim.info()"
      ]
    },
    {
      "cell_type": "code",
      "execution_count": null,
      "metadata": {
        "colab": {
          "base_uri": "https://localhost:8080/"
        },
        "id": "X8WuTLCaiXcP",
        "outputId": "36892b19-36dd-40ce-8994-f5aeb7b2c738"
      },
      "outputs": [
        {
          "data": {
            "text/plain": [
              "msisdn                              0\n",
              "imei                           109947\n",
              "multi_sim                      306381\n",
              "age                              6172\n",
              "sex                              6274\n",
              "segment_marche                   6215\n",
              "appel_orange_3_last_m               0\n",
              "appel_free_3_last_m                 0\n",
              "appel_expresso_3_last_m             0\n",
              "min_appel_orange_3_last_m           0\n",
              "min_appel_free_3_last_m             0\n",
              "min_appel_expresso_3_last_m         0\n",
              "ca_cr_commune_day                 135\n",
              "ca_cr_commune_night              4206\n",
              "usage_data_90j                      0\n",
              "top_appel                        3434\n",
              "year                                0\n",
              "month                               0\n",
              "dtype: int64"
            ]
          },
          "execution_count": 15,
          "metadata": {},
          "output_type": "execute_result"
        }
      ],
      "source": [
        "pd_reporting_multisim.isna().sum()"
      ]
    },
    {
      "cell_type": "code",
      "execution_count": null,
      "metadata": {
        "colab": {
          "base_uri": "https://localhost:8080/",
          "height": 767
        },
        "id": "svF1aqiWTU94",
        "outputId": "ed393c1b-76a8-4eba-c820-4675c45a6e6a"
      },
      "outputs": [
        {
          "name": "stderr",
          "output_type": "stream",
          "text": [
            "<ipython-input-10-cab9baa4bf44>:15: FutureWarning: \n",
            "\n",
            "Passing `palette` without assigning `hue` is deprecated and will be removed in v0.14.0. Assign the `x` variable to `hue` and set `legend=False` for the same effect.\n",
            "\n",
            "  sns.countplot(x=column, data=dataframe, palette=custom_palette)\n",
            "<ipython-input-10-cab9baa4bf44>:15: UserWarning: The palette list has more values (6) than needed (2), which may not be intended.\n",
            "  sns.countplot(x=column, data=dataframe, palette=custom_palette)\n",
            "<ipython-input-10-cab9baa4bf44>:30: UserWarning: FixedFormatter should only be used together with FixedLocator\n",
            "  ax.set_xticklabels(ax.get_xticklabels(), rotation=45, ha='right')\n"
          ]
        },
        {
          "data": {
            "image/png": "[encoded data removed]",
            "text/plain": [
              "<Figure size 2000x800 with 1 Axes>"
            ]
          },
          "metadata": {},
          "output_type": "display_data"
        }
      ],
      "source": [
        "pd_reporting_multisim_stat=  pd_reporting_multisim.copy()\n",
        "pd_reporting_multisim_stat[\"segment_sim\"] = pd_reporting_multisim_stat[\"multi_sim\"].apply(lambda x: \"Monosim\" if pd.isna(x) else \"Multisim\")\n",
        "plot_colonne_distribution(pd_reporting_multisim_stat,\"segment_sim\")"
      ]
    },
    {
      "cell_type": "markdown",
      "metadata": {
        "id": "je8T32kLRMuT"
      },
      "source": [
        "## **Feature engineering**"
      ]
    },
    {
      "cell_type": "markdown",
      "source": [
        "### Nettoyage et transformation"
      ],
      "metadata": {
        "id": "Qf8SArMHKnng"
      }
    },
    {
      "cell_type": "markdown",
      "source": [
        "#### Imputation"
      ],
      "metadata": {
        "id": "4XVvQHz2Z34i"
      }
    },
    {
      "cell_type": "code",
      "source": [
        "# Nettoyage des données\n",
        "pd_reporting_multisim_clean = pd_reporting_multisim.copy().drop([\"imei\",\"year\",\"month\",\"top_appel\",\"ca_cr_commune_day\"], axis=1)\n",
        "pd_reporting_multisim_clean[\"msisdn\"] = pd_reporting_multisim_clean[\"msisdn\"].astype(\"str\")\n",
        "\n",
        "columns_to_clean = [\n",
        "    'appel_orange_3_last_m', 'appel_free_3_last_m', 'appel_expresso_3_last_m',\n",
        "    'min_appel_orange_3_last_m', 'min_appel_free_3_last_m', 'min_appel_expresso_3_last_m',\n",
        "    'usage_data_90j'\n",
        "]\n",
        "\n",
        "# Conversion des variables catégorielles en numériques\n",
        "for column in columns_to_clean:\n",
        "    pd_reporting_multisim_clean[column] = pd_reporting_multisim_clean[column].fillna(0)\n",
        "\n",
        "#Imputation de l'age\n",
        "age_mean = pd_reporting_multisim_clean[\"age\"].mean()\n",
        "pd_reporting_multisim_clean[\"age\"] = pd_reporting_multisim_clean[\"age\"].fillna(age_mean)\n",
        "\n",
        "#Imputation du sexe\n",
        "missing_sex_values_count = pd_reporting_multisim[\"sex\"].isnull().sum()\n",
        "pd_reporting_multisim_clean.loc[pd_reporting_multisim[\"sex\"].isnull(), \"sex\"] = np.random.choice([\"M\", \"F\"], size=missing_sex_values_count)\n",
        "\n",
        "#Imputation des variables segment_marche et communes\n",
        "pd_reporting_multisim_clean[\"segment_marche\"] = pd_reporting_multisim_clean[\"segment_marche\"].fillna(\"AUTRES\")\n",
        "pd_reporting_multisim_clean[\"ca_cr_commune_night\"] = pd_reporting_multisim_clean[\"ca_cr_commune_night\"].fillna(\"Autres\")\n",
        "\n",
        "pd_reporting_multisim_clean.info()\n",
        "pd_reporting_multisim_clean.head()"
      ],
      "metadata": {
        "colab": {
          "base_uri": "https://localhost:8080/",
          "height": 601
        },
        "id": "BzqiNIM4K9zV",
        "outputId": "9d5690fe-a2e9-498f-c010-40488f931c7e"
      },
      "execution_count": 181,
      "outputs": [
        {
          "output_type": "stream",
          "name": "stdout",
          "text": [
            "<class 'pandas.core.frame.DataFrame'>\n",
            "RangeIndex: 345995 entries, 0 to 345994\n",
            "Data columns (total 13 columns):\n",
            " #   Column                       Non-Null Count   Dtype  \n",
            "---  ------                       --------------   -----  \n",
            " 0   msisdn                       345995 non-null  object \n",
            " 1   multi_sim                    39614 non-null   float64\n",
            " 2   age                          345995 non-null  float64\n",
            " 3   sex                          345995 non-null  object \n",
            " 4   segment_marche               345995 non-null  object \n",
            " 5   appel_orange_3_last_m        345995 non-null  float64\n",
            " 6   appel_free_3_last_m          345995 non-null  float64\n",
            " 7   appel_expresso_3_last_m      345995 non-null  float64\n",
            " 8   min_appel_orange_3_last_m    345995 non-null  float64\n",
            " 9   min_appel_free_3_last_m      345995 non-null  float64\n",
            " 10  min_appel_expresso_3_last_m  345995 non-null  float64\n",
            " 11  ca_cr_commune_night          345995 non-null  object \n",
            " 12  usage_data_90j               345995 non-null  float64\n",
            "dtypes: float64(9), object(4)\n",
            "memory usage: 34.3+ MB\n"
          ]
        },
        {
          "output_type": "execute_result",
          "data": {
            "text/plain": [
              "      msisdn  multi_sim   age sex      segment_marche  appel_orange_3_last_m  \\\n",
              "0  773009797        NaN  -1.0  ND              AUTRES                 1226.0   \n",
              "1  777132911        NaN  50.0   M             ENTRANT                   38.0   \n",
              "2  778147579        NaN  33.0  ND             ENTRANT                   18.0   \n",
              "3  772482021        NaN  61.0   M              JEUNES                  547.0   \n",
              "4  770164855        NaN  57.0   F  KIRENE AVEC ORANGE                  205.0   \n",
              "\n",
              "   appel_free_3_last_m  appel_expresso_3_last_m  min_appel_orange_3_last_m  \\\n",
              "0                 39.0                      5.0                2771.966667   \n",
              "1                 57.0                     21.0                  64.516667   \n",
              "2                  0.0                      0.0                   6.050000   \n",
              "3                 11.0                      0.0                  76.250000   \n",
              "4                  3.0                      0.0                 112.200000   \n",
              "\n",
              "   min_appel_free_3_last_m  min_appel_expresso_3_last_m ca_cr_commune_night  \\\n",
              "0                87.516667                     6.450000              Autres   \n",
              "1               104.450000                    74.583333       TOUBA MOSQUEE   \n",
              "2                 0.000000                     0.000000              Autres   \n",
              "3                 0.200000                     0.000000               KOLDA   \n",
              "4                 0.116667                     0.000000               DODEL   \n",
              "\n",
              "   usage_data_90j  \n",
              "0    2.412015e+10  \n",
              "1    0.000000e+00  \n",
              "2    3.016400e+04  \n",
              "3    0.000000e+00  \n",
              "4    4.990325e+09  "
            ],
            "text/html": [
              "\n",
              "  <div id=\"df-a9d65688-5234-4653-8e85-c8cb7d21583f\" class=\"colab-df-container\">\n",
              "    <div>\n",
              "<style scoped>\n",
              "    .dataframe tbody tr th:only-of-type {\n",
              "        vertical-align: middle;\n",
              "    }\n",
              "\n",
              "    .dataframe tbody tr th {\n",
              "        vertical-align: top;\n",
              "    }\n",
              "\n",
              "    .dataframe thead th {\n",
              "        text-align: right;\n",
              "    }\n",
              "</style>\n",
              "<table border=\"1\" class=\"dataframe\">\n",
              "  <thead>\n",
              "    <tr style=\"text-align: right;\">\n",
              "      <th></th>\n",
              "      <th>msisdn</th>\n",
              "      <th>multi_sim</th>\n",
              "      <th>age</th>\n",
              "      <th>sex</th>\n",
              "      <th>segment_marche</th>\n",
              "      <th>appel_orange_3_last_m</th>\n",
              "      <th>appel_free_3_last_m</th>\n",
              "      <th>appel_expresso_3_last_m</th>\n",
              "      <th>min_appel_orange_3_last_m</th>\n",
              "      <th>min_appel_free_3_last_m</th>\n",
              "      <th>min_appel_expresso_3_last_m</th>\n",
              "      <th>ca_cr_commune_night</th>\n",
              "      <th>usage_data_90j</th>\n",
              "    </tr>\n",
              "  </thead>\n",
              "  <tbody>\n",
              "    <tr>\n",
              "      <th>0</th>\n",
              "      <td>773009797</td>\n",
              "      <td>NaN</td>\n",
              "      <td>-1.0</td>\n",
              "      <td>ND</td>\n",
              "      <td>AUTRES</td>\n",
              "      <td>1226.0</td>\n",
              "      <td>39.0</td>\n",
              "      <td>5.0</td>\n",
              "      <td>2771.966667</td>\n",
              "      <td>87.516667</td>\n",
              "      <td>6.450000</td>\n",
              "      <td>Autres</td>\n",
              "      <td>2.412015e+10</td>\n",
              "    </tr>\n",
              "    <tr>\n",
              "      <th>1</th>\n",
              "      <td>777132911</td>\n",
              "      <td>NaN</td>\n",
              "      <td>50.0</td>\n",
              "      <td>M</td>\n",
              "      <td>ENTRANT</td>\n",
              "      <td>38.0</td>\n",
              "      <td>57.0</td>\n",
              "      <td>21.0</td>\n",
              "      <td>64.516667</td>\n",
              "      <td>104.450000</td>\n",
              "      <td>74.583333</td>\n",
              "      <td>TOUBA MOSQUEE</td>\n",
              "      <td>0.000000e+00</td>\n",
              "    </tr>\n",
              "    <tr>\n",
              "      <th>2</th>\n",
              "      <td>778147579</td>\n",
              "      <td>NaN</td>\n",
              "      <td>33.0</td>\n",
              "      <td>ND</td>\n",
              "      <td>ENTRANT</td>\n",
              "      <td>18.0</td>\n",
              "      <td>0.0</td>\n",
              "      <td>0.0</td>\n",
              "      <td>6.050000</td>\n",
              "      <td>0.000000</td>\n",
              "      <td>0.000000</td>\n",
              "      <td>Autres</td>\n",
              "      <td>3.016400e+04</td>\n",
              "    </tr>\n",
              "    <tr>\n",
              "      <th>3</th>\n",
              "      <td>772482021</td>\n",
              "      <td>NaN</td>\n",
              "      <td>61.0</td>\n",
              "      <td>M</td>\n",
              "      <td>JEUNES</td>\n",
              "      <td>547.0</td>\n",
              "      <td>11.0</td>\n",
              "      <td>0.0</td>\n",
              "      <td>76.250000</td>\n",
              "      <td>0.200000</td>\n",
              "      <td>0.000000</td>\n",
              "      <td>KOLDA</td>\n",
              "      <td>0.000000e+00</td>\n",
              "    </tr>\n",
              "    <tr>\n",
              "      <th>4</th>\n",
              "      <td>770164855</td>\n",
              "      <td>NaN</td>\n",
              "      <td>57.0</td>\n",
              "      <td>F</td>\n",
              "      <td>KIRENE AVEC ORANGE</td>\n",
              "      <td>205.0</td>\n",
              "      <td>3.0</td>\n",
              "      <td>0.0</td>\n",
              "      <td>112.200000</td>\n",
              "      <td>0.116667</td>\n",
              "      <td>0.000000</td>\n",
              "      <td>DODEL</td>\n",
              "      <td>4.990325e+09</td>\n",
              "    </tr>\n",
              "  </tbody>\n",
              "</table>\n",
              "</div>\n",
              "    <div class=\"colab-df-buttons\">\n",
              "\n",
              "  <div class=\"colab-df-container\">\n",
              "    <button class=\"colab-df-convert\" onclick=\"convertToInteractive('df-a9d65688-5234-4653-8e85-c8cb7d21583f')\"\n",
              "            title=\"Convert this dataframe to an interactive table.\"\n",
              "            style=\"display:none;\">\n",
              "\n",
              "  <svg xmlns=\"http://www.w3.org/2000/svg\" height=\"24px\" viewBox=\"0 -960 960 960\">\n",
              "    <path d=\"M120-120v-720h720v720H120Zm60-500h600v-160H180v160Zm220 220h160v-160H400v160Zm0 220h160v-160H400v160ZM180-400h160v-160H180v160Zm440 0h160v-160H620v160ZM180-180h160v-160H180v160Zm440 0h160v-160H620v160Z\"/>\n",
              "  </svg>\n",
              "    </button>\n",
              "\n",
              "  <style>\n",
              "    .colab-df-container {\n",
              "      display:flex;\n",
              "      gap: 12px;\n",
              "    }\n",
              "\n",
              "    .colab-df-convert {\n",
              "      background-color: #E8F0FE;\n",
              "      border: none;\n",
              "      border-radius: 50%;\n",
              "      cursor: pointer;\n",
              "      display: none;\n",
              "      fill: #1967D2;\n",
              "      height: 32px;\n",
              "      padding: 0 0 0 0;\n",
              "      width: 32px;\n",
              "    }\n",
              "\n",
              "    .colab-df-convert:hover {\n",
              "      background-color: #E2EBFA;\n",
              "      box-shadow: 0px 1px 2px rgba(60, 64, 67, 0.3), 0px 1px 3px 1px rgba(60, 64, 67, 0.15);\n",
              "      fill: #174EA6;\n",
              "    }\n",
              "\n",
              "    .colab-df-buttons div {\n",
              "      margin-bottom: 4px;\n",
              "    }\n",
              "\n",
              "    [theme=dark] .colab-df-convert {\n",
              "      background-color: #3B4455;\n",
              "      fill: #D2E3FC;\n",
              "    }\n",
              "\n",
              "    [theme=dark] .colab-df-convert:hover {\n",
              "      background-color: #434B5C;\n",
              "      box-shadow: 0px 1px 3px 1px rgba(0, 0, 0, 0.15);\n",
              "      filter: drop-shadow(0px 1px 2px rgba(0, 0, 0, 0.3));\n",
              "      fill: #FFFFFF;\n",
              "    }\n",
              "  </style>\n",
              "\n",
              "    <script>\n",
              "      const buttonEl =\n",
              "        document.querySelector('#df-a9d65688-5234-4653-8e85-c8cb7d21583f button.colab-df-convert');\n",
              "      buttonEl.style.display =\n",
              "        google.colab.kernel.accessAllowed ? 'block' : 'none';\n",
              "\n",
              "      async function convertToInteractive(key) {\n",
              "        const element = document.querySelector('#df-a9d65688-5234-4653-8e85-c8cb7d21583f');\n",
              "        const dataTable =\n",
              "          await google.colab.kernel.invokeFunction('convertToInteractive',\n",
              "                                                    [key], {});\n",
              "        if (!dataTable) return;\n",
              "\n",
              "        const docLinkHtml = 'Like what you see? Visit the ' +\n",
              "          '<a target=\"_blank\" href=https://colab.research.google.com/notebooks/data_table.ipynb>data table notebook</a>'\n",
              "          + ' to learn more about interactive tables.';\n",
              "        element.innerHTML = '';\n",
              "        dataTable['output_type'] = 'display_data';\n",
              "        await google.colab.output.renderOutput(dataTable, element);\n",
              "        const docLink = document.createElement('div');\n",
              "        docLink.innerHTML = docLinkHtml;\n",
              "        element.appendChild(docLink);\n",
              "      }\n",
              "    </script>\n",
              "  </div>\n",
              "\n",
              "\n",
              "<div id=\"df-f96eb03b-255e-4a6e-8afe-170e2eefeb27\">\n",
              "  <button class=\"colab-df-quickchart\" onclick=\"quickchart('df-f96eb03b-255e-4a6e-8afe-170e2eefeb27')\"\n",
              "            title=\"Suggest charts\"\n",
              "            style=\"display:none;\">\n",
              "\n",
              "<svg xmlns=\"http://www.w3.org/2000/svg\" height=\"24px\"viewBox=\"0 0 24 24\"\n",
              "     width=\"24px\">\n",
              "    <g>\n",
              "        <path d=\"M19 3H5c-1.1 0-2 .9-2 2v14c0 1.1.9 2 2 2h14c1.1 0 2-.9 2-2V5c0-1.1-.9-2-2-2zM9 17H7v-7h2v7zm4 0h-2V7h2v10zm4 0h-2v-4h2v4z\"/>\n",
              "    </g>\n",
              "</svg>\n",
              "  </button>\n",
              "\n",
              "<style>\n",
              "  .colab-df-quickchart {\n",
              "      --bg-color: #E8F0FE;\n",
              "      --fill-color: #1967D2;\n",
              "      --hover-bg-color: #E2EBFA;\n",
              "      --hover-fill-color: #174EA6;\n",
              "      --disabled-fill-color: #AAA;\n",
              "      --disabled-bg-color: #DDD;\n",
              "  }\n",
              "\n",
              "  [theme=dark] .colab-df-quickchart {\n",
              "      --bg-color: #3B4455;\n",
              "      --fill-color: #D2E3FC;\n",
              "      --hover-bg-color: #434B5C;\n",
              "      --hover-fill-color: #FFFFFF;\n",
              "      --disabled-bg-color: #3B4455;\n",
              "      --disabled-fill-color: #666;\n",
              "  }\n",
              "\n",
              "  .colab-df-quickchart {\n",
              "    background-color: var(--bg-color);\n",
              "    border: none;\n",
              "    border-radius: 50%;\n",
              "    cursor: pointer;\n",
              "    display: none;\n",
              "    fill: var(--fill-color);\n",
              "    height: 32px;\n",
              "    padding: 0;\n",
              "    width: 32px;\n",
              "  }\n",
              "\n",
              "  .colab-df-quickchart:hover {\n",
              "    background-color: var(--hover-bg-color);\n",
              "    box-shadow: 0 1px 2px rgba(60, 64, 67, 0.3), 0 1px 3px 1px rgba(60, 64, 67, 0.15);\n",
              "    fill: var(--button-hover-fill-color);\n",
              "  }\n",
              "\n",
              "  .colab-df-quickchart-complete:disabled,\n",
              "  .colab-df-quickchart-complete:disabled:hover {\n",
              "    background-color: var(--disabled-bg-color);\n",
              "    fill: var(--disabled-fill-color);\n",
              "    box-shadow: none;\n",
              "  }\n",
              "\n",
              "  .colab-df-spinner {\n",
              "    border: 2px solid var(--fill-color);\n",
              "    border-color: transparent;\n",
              "    border-bottom-color: var(--fill-color);\n",
              "    animation:\n",
              "      spin 1s steps(1) infinite;\n",
              "  }\n",
              "\n",
              "  @keyframes spin {\n",
              "    0% {\n",
              "      border-color: transparent;\n",
              "      border-bottom-color: var(--fill-color);\n",
              "      border-left-color: var(--fill-color);\n",
              "    }\n",
              "    20% {\n",
              "      border-color: transparent;\n",
              "      border-left-color: var(--fill-color);\n",
              "      border-top-color: var(--fill-color);\n",
              "    }\n",
              "    30% {\n",
              "      border-color: transparent;\n",
              "      border-left-color: var(--fill-color);\n",
              "      border-top-color: var(--fill-color);\n",
              "      border-right-color: var(--fill-color);\n",
              "    }\n",
              "    40% {\n",
              "      border-color: transparent;\n",
              "      border-right-color: var(--fill-color);\n",
              "      border-top-color: var(--fill-color);\n",
              "    }\n",
              "    60% {\n",
              "      border-color: transparent;\n",
              "      border-right-color: var(--fill-color);\n",
              "    }\n",
              "    80% {\n",
              "      border-color: transparent;\n",
              "      border-right-color: var(--fill-color);\n",
              "      border-bottom-color: var(--fill-color);\n",
              "    }\n",
              "    90% {\n",
              "      border-color: transparent;\n",
              "      border-bottom-color: var(--fill-color);\n",
              "    }\n",
              "  }\n",
              "</style>\n",
              "\n",
              "  <script>\n",
              "    async function quickchart(key) {\n",
              "      const quickchartButtonEl =\n",
              "        document.querySelector('#' + key + ' button');\n",
              "      quickchartButtonEl.disabled = true;  // To prevent multiple clicks.\n",
              "      quickchartButtonEl.classList.add('colab-df-spinner');\n",
              "      try {\n",
              "        const charts = await google.colab.kernel.invokeFunction(\n",
              "            'suggestCharts', [key], {});\n",
              "      } catch (error) {\n",
              "        console.error('Error during call to suggestCharts:', error);\n",
              "      }\n",
              "      quickchartButtonEl.classList.remove('colab-df-spinner');\n",
              "      quickchartButtonEl.classList.add('colab-df-quickchart-complete');\n",
              "    }\n",
              "    (() => {\n",
              "      let quickchartButtonEl =\n",
              "        document.querySelector('#df-f96eb03b-255e-4a6e-8afe-170e2eefeb27 button');\n",
              "      quickchartButtonEl.style.display =\n",
              "        google.colab.kernel.accessAllowed ? 'block' : 'none';\n",
              "    })();\n",
              "  </script>\n",
              "</div>\n",
              "    </div>\n",
              "  </div>\n"
            ],
            "application/vnd.google.colaboratory.intrinsic+json": {
              "type": "dataframe",
              "variable_name": "pd_reporting_multisim_clean"
            }
          },
          "metadata": {},
          "execution_count": 181
        }
      ]
    },
    {
      "cell_type": "markdown",
      "source": [
        "#### Encodage"
      ],
      "metadata": {
        "id": "p6ZoWz6SZ96H"
      }
    },
    {
      "cell_type": "code",
      "source": [
        "# Encodage des variables catégorielles\n",
        "from sklearn.preprocessing import LabelEncoder, OrdinalEncoder\n",
        "\n",
        "def encode_columns(df_to_encode, categorical_columns):\n",
        "  df_encoded = df_to_encode.copy()\n",
        "  # Encodage des variables catégorielles\n",
        "  label_encoder = LabelEncoder()\n",
        "  for col in categorical_columns:\n",
        "      new_col_name = col + \"_encoded\"\n",
        "      df_encoded[new_col_name] = label_encoder.fit_transform(df_encoded[col])\n",
        "  return df_encoded\n"
      ],
      "metadata": {
        "id": "TwnfkcbkLCc0"
      },
      "execution_count": 187,
      "outputs": []
    },
    {
      "cell_type": "code",
      "source": [
        "pd_reporting_multisim_encoded=pd_reporting_multisim_clean.copy()\n",
        "\n",
        "# Encoder la variable \"multisim\"\n",
        "pd_reporting_multisim_encoded[\"multi_sim\"] = pd_reporting_multisim_encoded[\"multi_sim\"].apply(lambda x: 1 if pd.isna(x) else 2)\n",
        "\n",
        "columns_to_encode=[\"sex\",\"ca_cr_commune_night\",\"segment_marche\"]\n",
        "\n",
        "pd_reporting_multisim_encoded=encode_columns(pd_reporting_multisim_encoded,columns_to_encode)\n",
        "\n",
        "pd_reporting_multisim_encoded.head()"
      ],
      "metadata": {
        "colab": {
          "base_uri": "https://localhost:8080/",
          "height": 244
        },
        "id": "aSRPQ5JVVGjU",
        "outputId": "818b8a33-41b4-4591-97d7-8b954173e358"
      },
      "execution_count": 188,
      "outputs": [
        {
          "output_type": "execute_result",
          "data": {
            "text/plain": [
              "      msisdn  multi_sim   age sex      segment_marche  appel_orange_3_last_m  \\\n",
              "0  773009797          1  -1.0  ND              AUTRES                 1226.0   \n",
              "1  777132911          1  50.0   M             ENTRANT                   38.0   \n",
              "2  778147579          1  33.0  ND             ENTRANT                   18.0   \n",
              "3  772482021          1  61.0   M              JEUNES                  547.0   \n",
              "4  770164855          1  57.0   F  KIRENE AVEC ORANGE                  205.0   \n",
              "\n",
              "   appel_free_3_last_m  appel_expresso_3_last_m  min_appel_orange_3_last_m  \\\n",
              "0                 39.0                      5.0                2771.966667   \n",
              "1                 57.0                     21.0                  64.516667   \n",
              "2                  0.0                      0.0                   6.050000   \n",
              "3                 11.0                      0.0                  76.250000   \n",
              "4                  3.0                      0.0                 112.200000   \n",
              "\n",
              "   min_appel_free_3_last_m  min_appel_expresso_3_last_m ca_cr_commune_night  \\\n",
              "0                87.516667                     6.450000              Autres   \n",
              "1               104.450000                    74.583333       TOUBA MOSQUEE   \n",
              "2                 0.000000                     0.000000              Autres   \n",
              "3                 0.200000                     0.000000               KOLDA   \n",
              "4                 0.116667                     0.000000               DODEL   \n",
              "\n",
              "   usage_data_90j  sex_encoded  ca_cr_commune_night_encoded  \\\n",
              "0    2.412015e+10            2                            5   \n",
              "1    0.000000e+00            1                          522   \n",
              "2    3.016400e+04            2                            5   \n",
              "3    0.000000e+00            1                          227   \n",
              "4    4.990325e+09            0                          123   \n",
              "\n",
              "   segment_marche_encoded  \n",
              "0                       0  \n",
              "1                       1  \n",
              "2                       1  \n",
              "3                       3  \n",
              "4                       4  "
            ],
            "text/html": [
              "\n",
              "  <div id=\"df-53df86b7-221d-4b2b-8ab6-e3239104d216\" class=\"colab-df-container\">\n",
              "    <div>\n",
              "<style scoped>\n",
              "    .dataframe tbody tr th:only-of-type {\n",
              "        vertical-align: middle;\n",
              "    }\n",
              "\n",
              "    .dataframe tbody tr th {\n",
              "        vertical-align: top;\n",
              "    }\n",
              "\n",
              "    .dataframe thead th {\n",
              "        text-align: right;\n",
              "    }\n",
              "</style>\n",
              "<table border=\"1\" class=\"dataframe\">\n",
              "  <thead>\n",
              "    <tr style=\"text-align: right;\">\n",
              "      <th></th>\n",
              "      <th>msisdn</th>\n",
              "      <th>multi_sim</th>\n",
              "      <th>age</th>\n",
              "      <th>sex</th>\n",
              "      <th>segment_marche</th>\n",
              "      <th>appel_orange_3_last_m</th>\n",
              "      <th>appel_free_3_last_m</th>\n",
              "      <th>appel_expresso_3_last_m</th>\n",
              "      <th>min_appel_orange_3_last_m</th>\n",
              "      <th>min_appel_free_3_last_m</th>\n",
              "      <th>min_appel_expresso_3_last_m</th>\n",
              "      <th>ca_cr_commune_night</th>\n",
              "      <th>usage_data_90j</th>\n",
              "      <th>sex_encoded</th>\n",
              "      <th>ca_cr_commune_night_encoded</th>\n",
              "      <th>segment_marche_encoded</th>\n",
              "    </tr>\n",
              "  </thead>\n",
              "  <tbody>\n",
              "    <tr>\n",
              "      <th>0</th>\n",
              "      <td>773009797</td>\n",
              "      <td>1</td>\n",
              "      <td>-1.0</td>\n",
              "      <td>ND</td>\n",
              "      <td>AUTRES</td>\n",
              "      <td>1226.0</td>\n",
              "      <td>39.0</td>\n",
              "      <td>5.0</td>\n",
              "      <td>2771.966667</td>\n",
              "      <td>87.516667</td>\n",
              "      <td>6.450000</td>\n",
              "      <td>Autres</td>\n",
              "      <td>2.412015e+10</td>\n",
              "      <td>2</td>\n",
              "      <td>5</td>\n",
              "      <td>0</td>\n",
              "    </tr>\n",
              "    <tr>\n",
              "      <th>1</th>\n",
              "      <td>777132911</td>\n",
              "      <td>1</td>\n",
              "      <td>50.0</td>\n",
              "      <td>M</td>\n",
              "      <td>ENTRANT</td>\n",
              "      <td>38.0</td>\n",
              "      <td>57.0</td>\n",
              "      <td>21.0</td>\n",
              "      <td>64.516667</td>\n",
              "      <td>104.450000</td>\n",
              "      <td>74.583333</td>\n",
              "      <td>TOUBA MOSQUEE</td>\n",
              "      <td>0.000000e+00</td>\n",
              "      <td>1</td>\n",
              "      <td>522</td>\n",
              "      <td>1</td>\n",
              "    </tr>\n",
              "    <tr>\n",
              "      <th>2</th>\n",
              "      <td>778147579</td>\n",
              "      <td>1</td>\n",
              "      <td>33.0</td>\n",
              "      <td>ND</td>\n",
              "      <td>ENTRANT</td>\n",
              "      <td>18.0</td>\n",
              "      <td>0.0</td>\n",
              "      <td>0.0</td>\n",
              "      <td>6.050000</td>\n",
              "      <td>0.000000</td>\n",
              "      <td>0.000000</td>\n",
              "      <td>Autres</td>\n",
              "      <td>3.016400e+04</td>\n",
              "      <td>2</td>\n",
              "      <td>5</td>\n",
              "      <td>1</td>\n",
              "    </tr>\n",
              "    <tr>\n",
              "      <th>3</th>\n",
              "      <td>772482021</td>\n",
              "      <td>1</td>\n",
              "      <td>61.0</td>\n",
              "      <td>M</td>\n",
              "      <td>JEUNES</td>\n",
              "      <td>547.0</td>\n",
              "      <td>11.0</td>\n",
              "      <td>0.0</td>\n",
              "      <td>76.250000</td>\n",
              "      <td>0.200000</td>\n",
              "      <td>0.000000</td>\n",
              "      <td>KOLDA</td>\n",
              "      <td>0.000000e+00</td>\n",
              "      <td>1</td>\n",
              "      <td>227</td>\n",
              "      <td>3</td>\n",
              "    </tr>\n",
              "    <tr>\n",
              "      <th>4</th>\n",
              "      <td>770164855</td>\n",
              "      <td>1</td>\n",
              "      <td>57.0</td>\n",
              "      <td>F</td>\n",
              "      <td>KIRENE AVEC ORANGE</td>\n",
              "      <td>205.0</td>\n",
              "      <td>3.0</td>\n",
              "      <td>0.0</td>\n",
              "      <td>112.200000</td>\n",
              "      <td>0.116667</td>\n",
              "      <td>0.000000</td>\n",
              "      <td>DODEL</td>\n",
              "      <td>4.990325e+09</td>\n",
              "      <td>0</td>\n",
              "      <td>123</td>\n",
              "      <td>4</td>\n",
              "    </tr>\n",
              "  </tbody>\n",
              "</table>\n",
              "</div>\n",
              "    <div class=\"colab-df-buttons\">\n",
              "\n",
              "  <div class=\"colab-df-container\">\n",
              "    <button class=\"colab-df-convert\" onclick=\"convertToInteractive('df-53df86b7-221d-4b2b-8ab6-e3239104d216')\"\n",
              "            title=\"Convert this dataframe to an interactive table.\"\n",
              "            style=\"display:none;\">\n",
              "\n",
              "  <svg xmlns=\"http://www.w3.org/2000/svg\" height=\"24px\" viewBox=\"0 -960 960 960\">\n",
              "    <path d=\"M120-120v-720h720v720H120Zm60-500h600v-160H180v160Zm220 220h160v-160H400v160Zm0 220h160v-160H400v160ZM180-400h160v-160H180v160Zm440 0h160v-160H620v160ZM180-180h160v-160H180v160Zm440 0h160v-160H620v160Z\"/>\n",
              "  </svg>\n",
              "    </button>\n",
              "\n",
              "  <style>\n",
              "    .colab-df-container {\n",
              "      display:flex;\n",
              "      gap: 12px;\n",
              "    }\n",
              "\n",
              "    .colab-df-convert {\n",
              "      background-color: #E8F0FE;\n",
              "      border: none;\n",
              "      border-radius: 50%;\n",
              "      cursor: pointer;\n",
              "      display: none;\n",
              "      fill: #1967D2;\n",
              "      height: 32px;\n",
              "      padding: 0 0 0 0;\n",
              "      width: 32px;\n",
              "    }\n",
              "\n",
              "    .colab-df-convert:hover {\n",
              "      background-color: #E2EBFA;\n",
              "      box-shadow: 0px 1px 2px rgba(60, 64, 67, 0.3), 0px 1px 3px 1px rgba(60, 64, 67, 0.15);\n",
              "      fill: #174EA6;\n",
              "    }\n",
              "\n",
              "    .colab-df-buttons div {\n",
              "      margin-bottom: 4px;\n",
              "    }\n",
              "\n",
              "    [theme=dark] .colab-df-convert {\n",
              "      background-color: #3B4455;\n",
              "      fill: #D2E3FC;\n",
              "    }\n",
              "\n",
              "    [theme=dark] .colab-df-convert:hover {\n",
              "      background-color: #434B5C;\n",
              "      box-shadow: 0px 1px 3px 1px rgba(0, 0, 0, 0.15);\n",
              "      filter: drop-shadow(0px 1px 2px rgba(0, 0, 0, 0.3));\n",
              "      fill: #FFFFFF;\n",
              "    }\n",
              "  </style>\n",
              "\n",
              "    <script>\n",
              "      const buttonEl =\n",
              "        document.querySelector('#df-53df86b7-221d-4b2b-8ab6-e3239104d216 button.colab-df-convert');\n",
              "      buttonEl.style.display =\n",
              "        google.colab.kernel.accessAllowed ? 'block' : 'none';\n",
              "\n",
              "      async function convertToInteractive(key) {\n",
              "        const element = document.querySelector('#df-53df86b7-221d-4b2b-8ab6-e3239104d216');\n",
              "        const dataTable =\n",
              "          await google.colab.kernel.invokeFunction('convertToInteractive',\n",
              "                                                    [key], {});\n",
              "        if (!dataTable) return;\n",
              "\n",
              "        const docLinkHtml = 'Like what you see? Visit the ' +\n",
              "          '<a target=\"_blank\" href=https://colab.research.google.com/notebooks/data_table.ipynb>data table notebook</a>'\n",
              "          + ' to learn more about interactive tables.';\n",
              "        element.innerHTML = '';\n",
              "        dataTable['output_type'] = 'display_data';\n",
              "        await google.colab.output.renderOutput(dataTable, element);\n",
              "        const docLink = document.createElement('div');\n",
              "        docLink.innerHTML = docLinkHtml;\n",
              "        element.appendChild(docLink);\n",
              "      }\n",
              "    </script>\n",
              "  </div>\n",
              "\n",
              "\n",
              "<div id=\"df-c29d8bb5-b7e3-48e9-aec5-ac52ba39c570\">\n",
              "  <button class=\"colab-df-quickchart\" onclick=\"quickchart('df-c29d8bb5-b7e3-48e9-aec5-ac52ba39c570')\"\n",
              "            title=\"Suggest charts\"\n",
              "            style=\"display:none;\">\n",
              "\n",
              "<svg xmlns=\"http://www.w3.org/2000/svg\" height=\"24px\"viewBox=\"0 0 24 24\"\n",
              "     width=\"24px\">\n",
              "    <g>\n",
              "        <path d=\"M19 3H5c-1.1 0-2 .9-2 2v14c0 1.1.9 2 2 2h14c1.1 0 2-.9 2-2V5c0-1.1-.9-2-2-2zM9 17H7v-7h2v7zm4 0h-2V7h2v10zm4 0h-2v-4h2v4z\"/>\n",
              "    </g>\n",
              "</svg>\n",
              "  </button>\n",
              "\n",
              "<style>\n",
              "  .colab-df-quickchart {\n",
              "      --bg-color: #E8F0FE;\n",
              "      --fill-color: #1967D2;\n",
              "      --hover-bg-color: #E2EBFA;\n",
              "      --hover-fill-color: #174EA6;\n",
              "      --disabled-fill-color: #AAA;\n",
              "      --disabled-bg-color: #DDD;\n",
              "  }\n",
              "\n",
              "  [theme=dark] .colab-df-quickchart {\n",
              "      --bg-color: #3B4455;\n",
              "      --fill-color: #D2E3FC;\n",
              "      --hover-bg-color: #434B5C;\n",
              "      --hover-fill-color: #FFFFFF;\n",
              "      --disabled-bg-color: #3B4455;\n",
              "      --disabled-fill-color: #666;\n",
              "  }\n",
              "\n",
              "  .colab-df-quickchart {\n",
              "    background-color: var(--bg-color);\n",
              "    border: none;\n",
              "    border-radius: 50%;\n",
              "    cursor: pointer;\n",
              "    display: none;\n",
              "    fill: var(--fill-color);\n",
              "    height: 32px;\n",
              "    padding: 0;\n",
              "    width: 32px;\n",
              "  }\n",
              "\n",
              "  .colab-df-quickchart:hover {\n",
              "    background-color: var(--hover-bg-color);\n",
              "    box-shadow: 0 1px 2px rgba(60, 64, 67, 0.3), 0 1px 3px 1px rgba(60, 64, 67, 0.15);\n",
              "    fill: var(--button-hover-fill-color);\n",
              "  }\n",
              "\n",
              "  .colab-df-quickchart-complete:disabled,\n",
              "  .colab-df-quickchart-complete:disabled:hover {\n",
              "    background-color: var(--disabled-bg-color);\n",
              "    fill: var(--disabled-fill-color);\n",
              "    box-shadow: none;\n",
              "  }\n",
              "\n",
              "  .colab-df-spinner {\n",
              "    border: 2px solid var(--fill-color);\n",
              "    border-color: transparent;\n",
              "    border-bottom-color: var(--fill-color);\n",
              "    animation:\n",
              "      spin 1s steps(1) infinite;\n",
              "  }\n",
              "\n",
              "  @keyframes spin {\n",
              "    0% {\n",
              "      border-color: transparent;\n",
              "      border-bottom-color: var(--fill-color);\n",
              "      border-left-color: var(--fill-color);\n",
              "    }\n",
              "    20% {\n",
              "      border-color: transparent;\n",
              "      border-left-color: var(--fill-color);\n",
              "      border-top-color: var(--fill-color);\n",
              "    }\n",
              "    30% {\n",
              "      border-color: transparent;\n",
              "      border-left-color: var(--fill-color);\n",
              "      border-top-color: var(--fill-color);\n",
              "      border-right-color: var(--fill-color);\n",
              "    }\n",
              "    40% {\n",
              "      border-color: transparent;\n",
              "      border-right-color: var(--fill-color);\n",
              "      border-top-color: var(--fill-color);\n",
              "    }\n",
              "    60% {\n",
              "      border-color: transparent;\n",
              "      border-right-color: var(--fill-color);\n",
              "    }\n",
              "    80% {\n",
              "      border-color: transparent;\n",
              "      border-right-color: var(--fill-color);\n",
              "      border-bottom-color: var(--fill-color);\n",
              "    }\n",
              "    90% {\n",
              "      border-color: transparent;\n",
              "      border-bottom-color: var(--fill-color);\n",
              "    }\n",
              "  }\n",
              "</style>\n",
              "\n",
              "  <script>\n",
              "    async function quickchart(key) {\n",
              "      const quickchartButtonEl =\n",
              "        document.querySelector('#' + key + ' button');\n",
              "      quickchartButtonEl.disabled = true;  // To prevent multiple clicks.\n",
              "      quickchartButtonEl.classList.add('colab-df-spinner');\n",
              "      try {\n",
              "        const charts = await google.colab.kernel.invokeFunction(\n",
              "            'suggestCharts', [key], {});\n",
              "      } catch (error) {\n",
              "        console.error('Error during call to suggestCharts:', error);\n",
              "      }\n",
              "      quickchartButtonEl.classList.remove('colab-df-spinner');\n",
              "      quickchartButtonEl.classList.add('colab-df-quickchart-complete');\n",
              "    }\n",
              "    (() => {\n",
              "      let quickchartButtonEl =\n",
              "        document.querySelector('#df-c29d8bb5-b7e3-48e9-aec5-ac52ba39c570 button');\n",
              "      quickchartButtonEl.style.display =\n",
              "        google.colab.kernel.accessAllowed ? 'block' : 'none';\n",
              "    })();\n",
              "  </script>\n",
              "</div>\n",
              "    </div>\n",
              "  </div>\n"
            ],
            "application/vnd.google.colaboratory.intrinsic+json": {
              "type": "dataframe",
              "variable_name": "pd_reporting_multisim_encoded"
            }
          },
          "metadata": {},
          "execution_count": 188
        }
      ]
    },
    {
      "cell_type": "markdown",
      "source": [
        "### Pouvoir prédictif des variables"
      ],
      "metadata": {
        "id": "y-6vSZ4MHBp1"
      }
    },
    {
      "cell_type": "markdown",
      "source": [
        "A l'aide de modèles de machine learning, classer les variables par leur pouvoir prédictif (pour prédire si un client est monosim 0 et multisim 1), et ne conserver que celles qui ont le plus fort impact sur la variable cible.\n",
        "\n",
        "On applique pour la sélection de variables une régression logistique avec pénalité lasso : on supprimera les variables ayant un poids de 0 avec la pénalité lasso"
      ],
      "metadata": {
        "id": "5NeWxxPPJCnc"
      }
    },
    {
      "cell_type": "code",
      "source": [
        "import pandas as pd\n",
        "from sklearn.linear_model import LogisticRegression\n",
        "from sklearn.model_selection import train_test_split\n",
        "from sklearn.preprocessing import StandardScaler\n",
        "\n",
        "datafram=pd_reporting_multisim_encoded\n",
        "# Supprimer les lignes avec des valeurs manquantes\n",
        "datafram = datafram.dropna()\n",
        "\n",
        "columns_to_drop=['multi_sim','msisdn', 'sex','ca_cr_commune_night','segment_marche']\n",
        "# Définir les variables indépendantes (X) et la variable cible (y)\n",
        "X = datafram.drop(columns=columns_to_drop)  # Variables indépendantes\n",
        "y = datafram['multi_sim']  # Variable cible\n",
        "\n",
        "# Diviser le jeu de données en ensembles d'entraînement et de test\n",
        "X_train, X_test, y_train, y_test = train_test_split(X, y, test_size=0.2, random_state=42)\n",
        "\n",
        "# Normaliser les variables indépendantes\n",
        "scaler = StandardScaler()\n",
        "X_train_scaled = scaler.fit_transform(X_train)\n",
        "X_test_scaled = scaler.transform(X_test)\n",
        "\n",
        "# Appliquer la régression logistique avec pénalité Lasso\n",
        "model = LogisticRegression(penalty='l1', solver='liblinear')\n",
        "model.fit(X_train_scaled, y_train)\n",
        "\n",
        "# Get the model coefficients after fitting\n",
        "coef = model.coef_[0]\n",
        "\n",
        "# Calculate importance based on absolute coefficient values\n",
        "importance_abs = np.abs(coef) / np.sum(np.abs(coef))\n",
        "\n",
        "# Create a DataFrame for visualization\n",
        "feat_imp_df = pd.DataFrame(data={\n",
        "    \"Nom des variables\": X.columns,\n",
        "    \"Importance des variables\": importance_abs\n",
        "})\n",
        "feat_imp_df = feat_imp_df.sort_values(\"Importance des variables\", ascending=False)"
      ],
      "metadata": {
        "id": "TVpIG0uUHQJ5"
      },
      "execution_count": 189,
      "outputs": []
    },
    {
      "cell_type": "code",
      "source": [
        "# Create the bar plot\n",
        "fig, ax = plt.subplots(figsize=(8, 10))  # Adjust figure size as needed\n",
        "sns.barplot(x=\"Importance des variables\", y=\"Nom des variables\",\n",
        "            data=feat_imp_df, palette=\"mako\", ax=ax)\n",
        "\n",
        "# Annotate bars with percentage values\n",
        "total = len(feat_imp_df)\n",
        "for p in ax.patches:\n",
        "    percentage = '{:.1f}%'.format(100 * p.get_width())\n",
        "    x_pos = p.get_width() + 0.01\n",
        "    y_pos = p.get_y() + p.get_height() / 2\n",
        "    ax.annotate(percentage, (x_pos, y_pos), ha='left', va='center')\n",
        "\n",
        "# Afficher les coefficients non nuls (poids non nuls) après la pénalité Lasso\n",
        "selected_features = X.columns[model.coef_[0] != 0]\n",
        "print(\"Variables sélectionnées :\", selected_features)\n",
        "\n",
        "plt.title('Importance des variables')\n",
        "plt.show()"
      ],
      "metadata": {
        "colab": {
          "base_uri": "https://localhost:8080/",
          "height": 1000
        },
        "id": "b3Po97pRHUbN",
        "outputId": "f9a6a453-58c8-48a5-9575-5f452d9d447f"
      },
      "execution_count": 190,
      "outputs": [
        {
          "output_type": "stream",
          "name": "stderr",
          "text": [
            "<ipython-input-190-dffcd1a5377f>:3: FutureWarning: \n",
            "\n",
            "Passing `palette` without assigning `hue` is deprecated and will be removed in v0.14.0. Assign the `y` variable to `hue` and set `legend=False` for the same effect.\n",
            "\n",
            "  sns.barplot(x=\"Importance des variables\", y=\"Nom des variables\",\n"
          ]
        },
        {
          "output_type": "stream",
          "name": "stdout",
          "text": [
            "Variables sélectionnées : Index(['age', 'appel_orange_3_last_m', 'appel_free_3_last_m',\n",
            "       'appel_expresso_3_last_m', 'min_appel_orange_3_last_m',\n",
            "       'min_appel_free_3_last_m', 'min_appel_expresso_3_last_m',\n",
            "       'usage_data_90j', 'sex_encoded', 'ca_cr_commune_night_encoded',\n",
            "       'segment_marche_encoded'],\n",
            "      dtype='object')\n"
          ]
        },
        {
          "output_type": "display_data",
          "data": {
            "text/plain": [
              "<Figure size 800x1000 with 1 Axes>"
            ],
            "image/png": "[encoded data removed]"
          },
          "metadata": {}
        }
      ]
    },
    {
      "cell_type": "markdown",
      "source": [
        "### Sélection des variables"
      ],
      "metadata": {
        "id": "iW1AARWdrim6"
      }
    },
    {
      "cell_type": "code",
      "execution_count": 201,
      "metadata": {
        "colab": {
          "base_uri": "https://localhost:8080/"
        },
        "id": "4KeI4LzsRSl8",
        "outputId": "5d2e1766-3089-4d9a-c950-b09a7ecc5420"
      },
      "outputs": [
        {
          "output_type": "stream",
          "name": "stdout",
          "text": [
            "<class 'pandas.core.frame.DataFrame'>\n",
            "RangeIndex: 345995 entries, 0 to 345994\n",
            "Data columns (total 13 columns):\n",
            " #   Column                       Non-Null Count   Dtype  \n",
            "---  ------                       --------------   -----  \n",
            " 0   msisdn                       345995 non-null  object \n",
            " 1   multi_sim                    345995 non-null  int64  \n",
            " 2   age                          345995 non-null  float64\n",
            " 3   appel_orange_3_last_m        345995 non-null  float64\n",
            " 4   appel_free_3_last_m          345995 non-null  float64\n",
            " 5   appel_expresso_3_last_m      345995 non-null  float64\n",
            " 6   min_appel_orange_3_last_m    345995 non-null  float64\n",
            " 7   min_appel_free_3_last_m      345995 non-null  float64\n",
            " 8   min_appel_expresso_3_last_m  345995 non-null  float64\n",
            " 9   usage_data_90j               345995 non-null  float64\n",
            " 10  sex_encoded                  345995 non-null  int64  \n",
            " 11  ca_cr_commune_night_encoded  345995 non-null  int64  \n",
            " 12  segment_marche_encoded       345995 non-null  int64  \n",
            "dtypes: float64(8), int64(4), object(1)\n",
            "memory usage: 34.3+ MB\n"
          ]
        }
      ],
      "source": [
        "columns_to_delete=[\"segment_marche\",\"sex\",\"ca_cr_commune_night\"]\n",
        "pd_reporting_multisim_final = pd_reporting_multisim_encoded.copy().drop(columns_to_delete,axis=1)\n",
        "pd_reporting_multisim_final.info()"
      ]
    },
    {
      "cell_type": "markdown",
      "source": [
        "### Corrélation"
      ],
      "metadata": {
        "id": "qjz_QrfBrp23"
      }
    },
    {
      "cell_type": "code",
      "execution_count": 202,
      "metadata": {
        "colab": {
          "base_uri": "https://localhost:8080/",
          "height": 1000
        },
        "id": "_VnFU8WBBAP2",
        "outputId": "bc92d2dc-fc34-4ac2-f0a6-a7477725727f"
      },
      "outputs": [
        {
          "output_type": "display_data",
          "data": {
            "text/plain": [
              "<Figure size 1500x1200 with 2 Axes>"
            ],
            "image/png": "[encoded data removed]"
          },
          "metadata": {}
        }
      ],
      "source": [
        "def plot_correlation_matrix_multisim(dataframe):\n",
        "    # Reset background style\n",
        "    sns.set_style('whitegrid')\n",
        "\n",
        "    # Calculate the correlation matrix excluding certain columns\n",
        "    corr = dataframe.drop(columns=['msisdn']).corr()\n",
        "\n",
        "    # Create a mask to only show the lower triangle of the matrix\n",
        "    mask = np.zeros_like(corr)\n",
        "    mask[np.triu_indices_from(mask, k=1)] = True\n",
        "\n",
        "    # Plot the heatmap\n",
        "    plt.figure(figsize=(15, 12))\n",
        "    sns.heatmap(corr, mask=mask, annot=True, center=0, cmap=\"viridis_r\", fmt='.1f', linewidths=2)\n",
        "    plt.title('Matrice de corrélation', fontsize=14)\n",
        "    plt.show()\n",
        "\n",
        "plot_correlation_matrix_multisim(pd_reporting_multisim_final)"
      ]
    },
    {
      "cell_type": "markdown",
      "source": [
        "### Découpage et normalisation des données"
      ],
      "metadata": {
        "id": "Q5bUDxbVssL6"
      }
    },
    {
      "cell_type": "code",
      "source": [
        "from sklearn.preprocessing import StandardScaler\n",
        "\n",
        "# Séparation des features et de la cible\n",
        "X = pd_reporting_multisim_final.drop([\"msisdn\", \"multi_sim\"], axis=1)\n",
        "y = pd_reporting_multisim_final[\"multi_sim\"]\n",
        "\n",
        "# Split du dataset en ensemble d'entraînement et ensemble de test\n",
        "X_train_final, X_test_final, y_train_fnal, y_test_final = train_test_split(X, y, test_size=0.2, random_state=42)\n",
        "\n",
        "# Standardisation des features (mise à l'échelle)\n",
        "scaler = StandardScaler()\n",
        "X_train_scaled = scaler.fit_transform(X_train_final)\n",
        "X_test_scaled = scaler.transform(X_test_final)"
      ],
      "metadata": {
        "id": "fRKeTSIysxEl"
      },
      "execution_count": 209,
      "outputs": []
    },
    {
      "cell_type": "markdown",
      "metadata": {
        "id": "snQIP6EXLL47"
      },
      "source": [
        "## **Entraînement des modèles**"
      ]
    },
    {
      "cell_type": "markdown",
      "metadata": {
        "id": "VYnAm3lI9ZJs"
      },
      "source": [
        "### Fonctions d'évaluation des modèles"
      ]
    },
    {
      "cell_type": "markdown",
      "metadata": {
        "id": "9IB2CqPGgPpX"
      },
      "source": [
        "On crée des fonctions pour évaluer nos modèles :"
      ]
    },
    {
      "cell_type": "code",
      "execution_count": 78,
      "metadata": {
        "id": "KbqWtPIGgPpX"
      },
      "outputs": [],
      "source": [
        "def model_score(y,y_pred):         #Fonction qui renvoie plusieurs statistiques entre nos prédictions et nos données tests\n",
        "    acc = metrics.accuracy_score(y,y_pred)\n",
        "    prec = metrics.precision_score(y,y_pred)\n",
        "    sens = metrics.recall_score(y,y_pred)\n",
        "    f_1 = 2*(prec*sens)/(prec+sens)\n",
        "    print('Accuracy:', np.round(acc,2))\n",
        "    print('Précision:', np.round(prec,2))\n",
        "    print('Sensitivité:',np.round(sens,2))\n",
        "    print('F1:', np.round(f_1,2))\n",
        "    return\n",
        "\n",
        "def matrice_conf(y,y_pred):             #Affiche la matrice de confusion\n",
        "    cf=confusion_matrix(y,y_pred)\n",
        "    sns.heatmap(cf,annot=True,cmap='Greens',fmt='g')\n",
        "    return\n",
        "\n",
        "def learning_curve_nn(history):           #learning curve pour les réseaux de neurones\n",
        "    plt.plot(history.history['accuracy'])\n",
        "    plt.title('model accuracy')\n",
        "    plt.ylabel('accuracy')\n",
        "    plt.xlabel('epoch')\n",
        "    plt.show()\n",
        "\n",
        "    plt.plot(history.history['loss'])\n",
        "    plt.title('model loss')\n",
        "    plt.ylabel('loss')\n",
        "    plt.xlabel('epoch')\n",
        "    plt.show()\n",
        "\n",
        "def recap_model(dict_model,y):\n",
        "    res=pd.DataFrame(index=list(dict_model.keys()))\n",
        "    accu=[]\n",
        "    prec=[]\n",
        "    sens=[]\n",
        "    f_1=[]\n",
        "    somme=[]\n",
        "    for key in dict_model.keys():\n",
        "        a = metrics.accuracy_score(y,dict_model[key])\n",
        "        p = metrics.precision_score(y,dict_model[key])\n",
        "        s = metrics.recall_score(y,dict_model[key])\n",
        "        f = 2*(p*s)/(p+s)\n",
        "\n",
        "        accu.append(np.round(a,2))\n",
        "        prec.append(np.round(p,2))\n",
        "        f_1.append(np.round(f,2))\n",
        "        sens.append(np.round(s,2))\n",
        "    for i in range(len(accu)):\n",
        "        somme.append(accu[i]+prec[i]+sens[i]+f_1[i])\n",
        "    res[\"Accuracy\"]=accu\n",
        "    res[\"Precision\"]=prec\n",
        "    res[\"Sensitivity\"]=sens\n",
        "    res[\"Score F1\"]=f_1\n",
        "    res[\"Somme\"]=somme\n",
        "\n",
        "    res=res.sort_values(by = \"Somme\", ascending = False)\n",
        "    return res"
      ]
    },
    {
      "cell_type": "markdown",
      "metadata": {
        "id": "eklg4Te1gPpa"
      },
      "source": [
        "Pour vérifier la qualité des modèles que nous utiliserons, nous calculerons à chaque fois avec la fonction model_score ci-dessus différents scores :\n",
        "\n",
        "- L'**Accuracy** ou taux de succès : proportion des composants correctement classés par le modèle.\n",
        "- La **Précision** : proportion, parmi les composants classés comme biodégradables par le modèle, de ceux qui sont bien biodégradables\n",
        "- La **Sensibilité** : proportion, parmi les composants biodégradables, de ceux qui ont bien été classés comme biodégradables par le modèle.\n",
        "- Le score **F1** est la moyenne harmonique de la précision et de la sensibilité.\n",
        "\n",
        "La précision donne donc le taux de vrais positifs parmi tous les composants classés comme \"positifs\" (biodégradables). Étudier ce score est donc particulièrement adapté ici, car nous sommes dans une situation où l'on veut éviter au maximum les faux positifs. En effet, un faux positif signifie ici considérer comme multisim un composant qui ne l'est pas, ce qui peut amener à des pollutions graves."
      ]
    },
    {
      "cell_type": "markdown",
      "source": [
        "\n",
        "\n",
        "Dans cette partie on va tester différents modèles. On crée un dictionnaire pour stocker nos modèles afin de pouvoir les comparer plus tard :"
      ],
      "metadata": {
        "id": "DMI1a0FHgPp8"
      }
    },
    {
      "cell_type": "code",
      "source": [
        "dict_models_pred={}"
      ],
      "metadata": {
        "execution": {
          "iopub.status.busy": "2022-05-26T22:37:15.915793Z",
          "iopub.execute_input": "2022-05-26T22:37:15.916106Z",
          "iopub.status.idle": "2022-05-26T22:37:15.9281Z",
          "shell.execute_reply.started": "2022-05-26T22:37:15.916078Z",
          "shell.execute_reply": "2022-05-26T22:37:15.92728Z"
        },
        "trusted": true,
        "id": "FyDy-tuzgPp8"
      },
      "execution_count": null,
      "outputs": []
    },
    {
      "cell_type": "markdown",
      "source": [],
      "metadata": {
        "id": "E_sFB5PAAJKy"
      }
    },
    {
      "cell_type": "markdown",
      "source": [
        "### Régression Logistique"
      ],
      "metadata": {
        "id": "ciJZZWN8wxSe"
      }
    },
    {
      "cell_type": "markdown",
      "source": [
        "\n",
        "\n",
        "Dans un premier temps avec la base de données classiques. On effectue une régression logistique avec cette fois-ci une pénalisation $\\ell_{2}$. On affiche les scores du modèle et sa matrice de confusion. On effectue plusieurs tests pour choisir la constante de pénalisation C."
      ],
      "metadata": {
        "id": "9b8wv7g6gPp8"
      }
    },
    {
      "cell_type": "code",
      "source": [
        "# Entraînement du modèle de régression logistique\n",
        "model = LogisticRegression()\n",
        "model.fit(X_train, y_train)\n",
        "\n",
        "# Predicting probabilities for the entire dataset\n",
        "probabilities = model.predict_proba(X_test_scaled)[:, 1]\n",
        "# Création d'un dataframe avec les probabilités prédites\n",
        "# Ajout des colonnes au dataframe initial\n",
        "X_test['probabilites_predites'] = probabilities\n",
        "X_test['label_reel'] = y_test\n",
        "\n",
        "# Affichage du nouveau dataframe\n",
        "X_test.head()\n",
        "\n"
      ],
      "metadata": {
        "id": "NMVNqcC3-jg3"
      },
      "execution_count": null,
      "outputs": []
    },
    {
      "cell_type": "code",
      "source": [
        "logRegB = LogisticRegression(penalty = \"l2\", C = 0.8)#On crée notre régression logistique\n",
        "logRegB.fit(X_train_scaled,y_train_fnal)#On la fit à nos données\n",
        "logRegB_pred = logRegB.predict(X_test_scaled)# On prédit nos données\n",
        "\n",
        "dict_models_pred['logRegB']=logRegB_pred #On ajoute les résultats dans notre dictionnaire\n",
        "\n",
        "model_score(y_test,logRegB_pred) #Score\n",
        "matrice_conf(y_test,logRegB_pred)# Matrice de confusion"
      ],
      "metadata": {
        "execution": {
          "iopub.status.busy": "2022-05-26T22:37:15.929524Z",
          "iopub.execute_input": "2022-05-26T22:37:15.93003Z",
          "iopub.status.idle": "2022-05-26T22:37:16.213339Z",
          "shell.execute_reply.started": "2022-05-26T22:37:15.929998Z",
          "shell.execute_reply": "2022-05-26T22:37:16.212416Z"
        },
        "trusted": true,
        "id": "5o-IyVuagPp9"
      },
      "execution_count": null,
      "outputs": []
    },
    {
      "cell_type": "markdown",
      "source": [
        "La **matrice de confusion** est une manière de visualiser la qualité du modèle. Les lignes correspondent aux classes réelles et les colonnes aux classes estimées. Le nombre en ligne, $i$, colonne $j$, représente le nombre d'individus du jeu de test appartenant à la classe $i$ qui ont été estimés par le modèle comme appartenant à la classe $j$.\n",
        "\n",
        "On trouvera donc sur la diagonale le nombre d'individus correctement classés pour chaque classe, et ailleurs toutes les erreurs. Par exemple en ligne 0, colonne 1, on trouvera le nombre de composants non-biodégradables classés à tort comme biodégradables (faux positifs), ici 11."
      ],
      "metadata": {
        "id": "SEA5FqXdgPp9"
      }
    },
    {
      "cell_type": "markdown",
      "source": [
        "### RandomForest"
      ],
      "metadata": {
        "id": "-NOJdm8vw3GY"
      }
    },
    {
      "cell_type": "markdown",
      "source": [
        "\n",
        "\n",
        "D'abord sur les données classiques. On utilise une forêt de 200 arbres :"
      ],
      "metadata": {
        "id": "qbtCUMFlgPp-"
      }
    },
    {
      "cell_type": "code",
      "source": [
        "from sklearn.ensemble import RandomForestClassifier\n",
        "\n",
        "rfB = RandomForestClassifier(n_estimators=200)#On crée notre RandomForest\n",
        "rfB.fit(X_train_scaled,y_train)#On la fit à nos données\n",
        "rfB_pred =rfB.predict(X_test_scaled)# On prédit nos données\n",
        "\n",
        "dict_models_pred['rfB']=rfB_pred  #On ajoute les résultats dans notre dictionnaire\n",
        "\n",
        "model_score(y_test,rfB_pred) #Score\n",
        "matrice_conf(y_test,rfB_pred) #Matrice de confusion"
      ],
      "metadata": {
        "execution": {
          "iopub.status.busy": "2022-05-26T22:37:16.467587Z",
          "iopub.execute_input": "2022-05-26T22:37:16.468464Z",
          "iopub.status.idle": "2022-05-26T22:37:17.242901Z",
          "shell.execute_reply.started": "2022-05-26T22:37:16.468411Z",
          "shell.execute_reply": "2022-05-26T22:37:17.242123Z"
        },
        "trusted": true,
        "id": "sIXcNHWcgPp-"
      },
      "execution_count": null,
      "outputs": []
    },
    {
      "cell_type": "markdown",
      "source": [
        "### K plus proches voisins"
      ],
      "metadata": {
        "id": "BP1tBUH-xErz"
      }
    },
    {
      "cell_type": "markdown",
      "source": [
        "\n",
        "\n",
        "Le modèle des **K plus proches voisins** (K nearest neighbours) consiste à prédire la catégorie d'un nouvel individu dans la variable cible (ici 1 ou 0, multisim ou non) en fonction de la catégorie majoritaire parmi les K individus qui sont les plus proches du nouveau dans le set d'entraînement :\n",
        "\n",
        "On fixe un entier $K$, et on répertorie dans le set d'entraînement les $K$ individus qui sont les plus proches du nouvel individu, au sens de la distance euclidienne de $ \\mathbb{R}^d $ (d le nombre de variables explicatives). Si parmi ces $K$ individus la catégorie majoritaire dans la variable cible est 1, on assigne à notre nouvel individu la valeur 1 pour la variable cible, sinon on lui assigne 0.\n",
        "\n",
        "À noter que ce modèle est à utiliser avec parcimonie lorsqu'on a des variables catégorielles dans les données, car des variables discrètes induisent une topologie impropre et peuvent donc fausser les prédictions. C'est surtout vrai lorsque ces variables sont des nombres choisis arbitrairement pour coder une caractéristique (typiquement, dans notre cas, si experimental_class était une variable explicative) et ne correspondent à aucune donnée numérique réelle.\n",
        "\n",
        "Le choix de $K$ est crucial pour ce modèle. Naturellement $K$ sera toujours pris impair pour qu'il n'y ait pas d'ex-æquo. Afin de déterminer le meilleur $K$, on va, pour chaque valeur $k$ entre 1 et 40, tester le modèle des $k$ plus proches voisins et calculer son taux d'erreur (proportion de mauvais classements sur la base de test). On choisira le $K$ qui donne le taux d'erreur le plus faible :"
      ],
      "metadata": {
        "id": "JziKXphKgPp_"
      }
    },
    {
      "cell_type": "code",
      "source": [
        "from sklearn.neighbors import KNeighborsClassifier\n",
        "\n",
        "erreur=[]\n",
        "for i in range(1,40):\n",
        "    knn = KNeighborsClassifier(n_neighbors=i)\n",
        "    knn.fit(X_train_final,y_train)\n",
        "    pred_i = knn.predict(X_test_final)\n",
        "    erreur.append(np.mean(pred_i != y_test))\n",
        "\n",
        "plt.figure(figsize=(10,6))\n",
        "plt.plot(range(1,40),erreur,color=\"blue\",linestyle=\"dashed\", marker=\"o\",markerfacecolor=\"red\", markersize=10)\n",
        "plt.title(\"Taux d'erreur vs Nombre de Voisin \")\n",
        "plt.xlabel(\"K\")\n",
        "plt.ylabel(\"Error Rate\")"
      ],
      "metadata": {
        "execution": {
          "iopub.status.busy": "2022-05-26T22:37:18.01021Z",
          "iopub.execute_input": "2022-05-26T22:37:18.011168Z",
          "iopub.status.idle": "2022-05-26T22:37:18.904366Z",
          "shell.execute_reply.started": "2022-05-26T22:37:18.011131Z",
          "shell.execute_reply": "2022-05-26T22:37:18.903614Z"
        },
        "trusted": true,
        "id": "B3VkJ0i0gPp_"
      },
      "execution_count": null,
      "outputs": []
    },
    {
      "cell_type": "markdown",
      "source": [
        "On choisit de prendre 3 voisins d'après le graphique. À noter qu'avec 9 voisins l'erreur est aussi basse qu'avec 3."
      ],
      "metadata": {
        "id": "HAFpMWdigPp_"
      }
    },
    {
      "cell_type": "code",
      "source": [
        "knnB = KNeighborsClassifier(n_neighbors=3)#On crée notre KNN\n",
        "knnB.fit(X_train_final,y_train) #On la fit à nos données\n",
        "knnB_pred = knnB .predict(X_test_final)# On prédit nos données\n",
        "\n",
        "dict_models_pred['knnB']=knnB_pred  #On ajoute les résultats dans notre dictionnaire\n",
        "\n",
        "model_score(y_test,knnB_pred) #Score\n",
        "matrice_conf(y_test,knnB_pred) #Matrice de confusion"
      ],
      "metadata": {
        "execution": {
          "iopub.status.busy": "2022-05-26T22:37:18.905356Z",
          "iopub.execute_input": "2022-05-26T22:37:18.906051Z",
          "iopub.status.idle": "2022-05-26T22:37:19.144516Z",
          "shell.execute_reply.started": "2022-05-26T22:37:18.906015Z",
          "shell.execute_reply": "2022-05-26T22:37:19.143536Z"
        },
        "trusted": true,
        "id": "zizykG0KgPqA"
      },
      "execution_count": null,
      "outputs": []
    },
    {
      "cell_type": "markdown",
      "source": [
        "### SVM"
      ],
      "metadata": {
        "id": "ZQjHzOLAxJhO"
      }
    },
    {
      "cell_type": "markdown",
      "source": [
        "\n",
        "\n",
        "Une **machine à vecteur de support linéaire** consiste à trouver un hyperplan (sous-espace de dimension $d-1$ si $d$ est la dimension de l'espace de départ) séparateur entre les points du dataset.\n",
        "\n",
        "Pour $i = 1,\\dots,N$ avec $N$ le nombre d'individus, soit $x_i \\in \\mathbb{R}^d $ nos points et $y_i$ les étiquettes associées (multisim ou non en l'occurrence). Dans la théorie mathématique du SVM, on prend 1 ou -1 comme valeurs pour les $y_i$ (le modèle implémenté s'adaptera tout seul en considérant les 0 comme des -1, il n'y a pas de modification à faire sur nos données).\n",
        "\n",
        "Le but est de trouver $H = \\{x \\in \\mathbb{R}^d : w^Tx + b = 0 \\} $\n",
        "\n",
        "Où $b \\in \\mathbb{R}$ est le déplacemet par rapport à l'origine et $w \\in \\mathbb{R}^d$ non-nul est le vecteur orthogonal à $H$. $H$ doit séparer le dataset en deux régions, une où les $y_i$ valent 1 et une où les $y_i$ valent -1.\n",
        "\n",
        "<br>\n",
        "\n",
        "On voudra choisir $H$ de façon à maximiser la marge, définie par $ \\displaystyle \\min_{i=1,\\dots,N} d(x_i,H)$\n",
        "\n",
        "Où $d(x_i,H)$ est la distance entre le points $x_i$ et $H$. Autrement dit on veut $H$ le plus éloigné possible des points (naturellement il ne doit passer par aucun point).\n",
        "\n",
        "On peut montrer que la marge est aussi égale à $\\frac{1}{\\Vert w \\Vert}$. Le problème revient donc à maximiser $\\Vert w \\Vert$\n",
        "\n",
        "<br>\n",
        "<br>\n",
        "\n",
        "Naturellement les données ne sont en général pas **linéairement séparables**, c'est à dire qu'il n'est généralement pas possible de trouver un $H$ qui sépare parfaitement le dataset selon les deux catégories.\n",
        "\n",
        "Afin de palier à ce problème, on introduit des **variables d'écart** $s_i$ (nombres positifs). Ces variables vont permettre d'autoriser quelques points à être du mauvais côté de $H$.\n",
        "\n",
        "On cherchera alors à résoudre le problème d'optimisation suivant :\n",
        "\n",
        "$ \\displaystyle \\min_{w \\in \\mathbb{R}^d, b\\in \\mathbb{R}, s \\in \\mathbb{R}^N} \\displaystyle \\frac{\\Vert w \\Vert^2_2}{2} + C \\displaystyle \\sum_{i=1}^{N} s_i $\n",
        "\n",
        "Avec les contraintes : pour $i = 1,\\dots,N$, $ y_i(w^Tx_i + b) \\geq 1 - s_i$  et  $s_i \\geq 0$\n",
        "\n",
        "(avec $C>0$ une constante)\n",
        "\n",
        "On peut montrer mathématiquement (en utilisant le lagrangien, les conditions KKT et l'étude de la dualité) que ce problème admet une unique solution.\n",
        "\n",
        "Le modèle SVM implémenté va donc déterminer cette unique solution par des algorithmes d'optimisation, ce qui nous donnera l'hyperplan $H$. Une nouvelle observation sera classée multisim ou non selon de quel côté de $H$ elle se trouve."
      ],
      "metadata": {
        "id": "FAjdyJ06gPqB"
      }
    },
    {
      "cell_type": "code",
      "source": [
        "from sklearn.svm import SVC\n",
        "\n",
        "svmB = SVC(kernel = 'linear')#On crée notre SVM\n",
        "svmB.fit(X_train_final,y_train) #On la fit à nos données\n",
        "svmB_pred =svmB.predict(X_test_final)# On prédit nos données\n",
        "\n",
        "dict_models_pred['svmB']=svmB_pred  #On ajoute les résultats dans notre dictionnaire\n",
        "\n",
        "model_score(y_test,svmB_pred) #Score\n",
        "matrice_conf(y_test,svmB_pred) #Matrice de confusion"
      ],
      "metadata": {
        "execution": {
          "iopub.status.busy": "2022-05-26T22:37:20.263948Z",
          "iopub.execute_input": "2022-05-26T22:37:20.264358Z",
          "iopub.status.idle": "2022-05-26T22:37:20.51517Z",
          "shell.execute_reply.started": "2022-05-26T22:37:20.264327Z",
          "shell.execute_reply": "2022-05-26T22:37:20.514434Z"
        },
        "trusted": true,
        "id": "qKiL4_LKgPqB"
      },
      "execution_count": null,
      "outputs": []
    },
    {
      "cell_type": "markdown",
      "source": [
        "### AdaBoost"
      ],
      "metadata": {
        "id": "zr1k0pExzP39"
      }
    },
    {
      "cell_type": "markdown",
      "source": [
        "\n",
        "\n",
        "L'**adaptative boosting**, aussi appelé adaboost, est comme son nom l'indique une méthode de **boosting**.\n",
        "\n",
        "Le boosting consiste à combiner par itérations successives des classeurs dits faibles pour obtenir un classifieur final (dit fort). Les classifieurs faibles sont des classifieurs capables de reconnaître deux classes au moins aussi bien que ne le ferait une sélection au hasard (c'est à dire la sélection qui consisterait dans notre cas présent à prédire un composant comme multisim selon une loi de Bernoulli dont le paramètre serait la proportion de biodégradables dans le jeu d'entraînement). Il est possible de démontrer que tant que les classifieurs faibles sont meilleurs qu'une prédiction aléatoire, la combinaison va converger vers un classifieur fort.\n",
        "\n",
        "<br>\n",
        "\n",
        "L'adaboost, forme la plus répandue de boosting, fait référence à une technique particulière pour combiner les classifieurs faibles : pour obtenir la sortie finale prédisant la valeur de la variable cible, on prend la somme pondérée des prédictions effectuées par les classifieurs faibles. Le poids assigné à un classifieur donné dans la pondération sera d'autant plus important que ce classifieur prédit bien : mieux il classe, plus il aura de poids.\n",
        "\n",
        "L'apprentissage du classifieur fort se passe comme suit : à chaque étape $t$ ($t$ allant de $1$ à $T$ où $T$ est le nombre de classifieurs faibles) de l'entraînement, on sélectionne un classifieur faible, et on l'ajoute à la somme (on construit le classifieur fort petit à petit) en lui assignant un certain coefficient multiplicatif $\\alpha_t$. Ce coefficient est choisi de manière à minimiser l'erreur de classification suivante :\n",
        "\n",
        "$E_t = \\displaystyle \\sum_{i} E(F_{t-1}(x_i) + \\alpha_th(x_i)) $\n",
        "\n",
        "Où :\n",
        "\n",
        "- les $x_i$ sont les observations\n",
        "- $F_{t-1}$ est le classifieur fort provisoire à l'étape $t-1$\n",
        "- $h$ est la fonction de prévision pour le classifieur en cours de sélection. Dans notre cas elle détermine si une observation $x$ va être classée comme multisim ou non.\n",
        "- $E$ est une fonction d'erreur qui s'applique à un classifieur $F$\n",
        "\n",
        "Ainsi on construit étape par étape notre classifieur final $F_T$. En ce sens l'adaboost est bien comme son nom l'indique adaptative : lorsqu'on ajoute un classifieur faible, on l'adapte en fonction de ce qui a été fait dans les étapes précédentes. De cette manière on fait en sorte qu'un classifieur soit performant là où les précédents l'étaient moins, ce qui aide à éviter le surapprentissage.\n",
        "\n",
        "<br>\n",
        "\n",
        "Ici on crée un modèle d'adaboost avec la fonction AdaBoostClassifier, qui utilise des arbres de décision comme classifieurs. Après avoir testé (\"à la main\") différentes valeurs, on choisit de prendre 85 classifieurs faibles :"
      ],
      "metadata": {
        "id": "VDzPC-PCgPqD"
      }
    },
    {
      "cell_type": "code",
      "source": [
        "from sklearn.ensemble import AdaBoostClassifier\n",
        "\n",
        "adaB = AdaBoostClassifier(n_estimators=85) #On crée notre AdaBoost\n",
        "adaB.fit(X_train_final,y_train) #On la fit à nos données\n",
        "adaB_pred =adaB.predict(X_test_final)# On prédit nos données\n",
        "\n",
        "dict_models_pred['adaB']=adaB_pred  #On ajoute les résultats dans notre dictionnaire\n",
        "\n",
        "model_score(y_test,adaB_pred) #Score\n",
        "matrice_conf(y_test,adaB_pred) #Matrice de confusion"
      ],
      "metadata": {
        "execution": {
          "iopub.status.busy": "2022-05-26T22:37:20.760436Z",
          "iopub.execute_input": "2022-05-26T22:37:20.760864Z",
          "iopub.status.idle": "2022-05-26T22:37:21.227829Z",
          "shell.execute_reply.started": "2022-05-26T22:37:20.760828Z",
          "shell.execute_reply": "2022-05-26T22:37:21.226672Z"
        },
        "trusted": true,
        "id": "SGMnwPi3gPqE"
      },
      "execution_count": null,
      "outputs": []
    },
    {
      "cell_type": "markdown",
      "source": [
        "### VotingClassifier\n",
        "\n",
        "Un Voting Classifier est un modèle qui s'entraîne sur un ensemble de modèle et qui prédit une sortie en croisant les résultats des différents modèles (au vote majoritaire). On commence par la base de données normale en utilisant les modèles utilisées précédemment."
      ],
      "metadata": {
        "id": "E0ZE_eNAgPqO"
      }
    },
    {
      "cell_type": "code",
      "source": [
        "from sklearn.ensemble import VotingClassifier\n",
        "\n",
        "vcB = VotingClassifier( #On crée notre VotingClassifier\n",
        " estimators=[('logRegB',logRegB), ('rfB',rfB), ('knnB', knnB),('svmB',svmB),(\"adaB\",adaB)],\n",
        "    voting='hard')\n",
        "\n",
        "vcB.fit(X_train_final,y_train) #On entraine notre modèle\n",
        "vcB_pred =vcB.predict(X_test_final)# On prédit nos données\n",
        "\n",
        "dict_models_pred['vcB']=vcB_pred  #On ajoute les résultats dans notre dictionnaire\n",
        "\n",
        "model_score(y_test,vcB_pred) #Score\n",
        "matrice_conf(y_test,vcB_pred) #Matrice de confusion"
      ],
      "metadata": {
        "execution": {
          "iopub.status.busy": "2022-05-26T22:38:12.026108Z",
          "iopub.execute_input": "2022-05-26T22:38:12.026579Z",
          "iopub.status.idle": "2022-05-26T22:38:13.242881Z",
          "shell.execute_reply.started": "2022-05-26T22:38:12.026533Z",
          "shell.execute_reply": "2022-05-26T22:38:13.241902Z"
        },
        "trusted": true,
        "id": "CMv6wM8pgPqP"
      },
      "execution_count": null,
      "outputs": []
    },
    {
      "cell_type": "markdown",
      "source": [
        "Même chose pour la base de données splines."
      ],
      "metadata": {
        "id": "zqdcuyBagPqP"
      }
    },
    {
      "cell_type": "code",
      "source": [
        "vcS = VotingClassifier( #On crée notre VotingClassifier\n",
        " estimators=[('logRegS',logRegS), ('rfS',rfS), ('knnS', knnS),('svmS',svmS),(\"adaS\",adaS)],\n",
        "    voting='hard')\n",
        "\n",
        "vcS.fit(X_train_final,y_train) #On entraine notre modèle\n",
        "vcS_pred =vcS.predict(X_test_final)# On prédit nos données\n",
        "\n",
        "dict_models_pred['vcS']=vcS_pred  #On ajoute les résultats dans notre dictionnaire\n",
        "\n",
        "model_score(y_test,vcS_pred) #Score\n",
        "matrice_conf(y_test,vcS_pred) #Matrice de confusion"
      ],
      "metadata": {
        "execution": {
          "iopub.status.busy": "2022-05-26T22:38:13.244331Z",
          "iopub.execute_input": "2022-05-26T22:38:13.245012Z",
          "iopub.status.idle": "2022-05-26T22:38:14.41944Z",
          "shell.execute_reply.started": "2022-05-26T22:38:13.244974Z",
          "shell.execute_reply": "2022-05-26T22:38:14.418525Z"
        },
        "trusted": true,
        "id": "CQoMDUWKgPqQ"
      },
      "execution_count": null,
      "outputs": []
    },
    {
      "cell_type": "markdown",
      "source": [
        "## **Sélection du modèle, optimisation et validation**\n",
        "\n",
        "On observe un récapitulatif de tout nos modèles avec leurs différents scores :"
      ],
      "metadata": {
        "id": "EYh8XJfPgPqQ"
      }
    },
    {
      "cell_type": "markdown",
      "source": [
        "### Récapitulatf"
      ],
      "metadata": {
        "id": "5V7BrQQL0hfB"
      }
    },
    {
      "cell_type": "code",
      "source": [
        "recap_model(dict_models_pred,y_test)"
      ],
      "metadata": {
        "execution": {
          "iopub.status.busy": "2022-05-26T22:38:14.42073Z",
          "iopub.execute_input": "2022-05-26T22:38:14.421027Z",
          "iopub.status.idle": "2022-05-26T22:38:14.466817Z",
          "shell.execute_reply.started": "2022-05-26T22:38:14.421Z",
          "shell.execute_reply": "2022-05-26T22:38:14.465918Z"
        },
        "trusted": true,
        "id": "XO8NaoGTgPqR"
      },
      "execution_count": null,
      "outputs": []
    },
    {
      "cell_type": "code",
      "source": [
        "result = recap_model(dict_models_pred,y_test).sort_values(by = \"Somme\", ascending = False)\n",
        "res_cols = [\"Accuracy\",\"Precision\",\"Sensitivity\",\"Score F1\"]\n",
        "result[res_cols].plot()\n",
        "plt.xticks(rotation=90)\n",
        "plt.legend(res_cols)\n",
        "plt.ylabel(\"Scoring\")\n",
        "plt.title(\"Model Performances\", fontdict = {\"fontsize\": 16} );"
      ],
      "metadata": {
        "execution": {
          "iopub.status.busy": "2022-05-26T22:38:14.468249Z",
          "iopub.execute_input": "2022-05-26T22:38:14.468577Z",
          "iopub.status.idle": "2022-05-26T22:38:14.749852Z",
          "shell.execute_reply.started": "2022-05-26T22:38:14.468548Z",
          "shell.execute_reply": "2022-05-26T22:38:14.748873Z"
        },
        "trusted": true,
        "id": "oR-8SWDRgPqR",
        "colab": {
          "base_uri": "https://localhost:8080/",
          "height": 497
        },
        "outputId": "972b1fc0-d97f-4172-ff77-fdf78ad26718"
      },
      "execution_count": null,
      "outputs": [
        {
          "output_type": "display_data",
          "data": {
            "text/plain": [
              "<Figure size 640x480 with 1 Axes>"
            ],
            "image/png": "[encoded data removed]"
          },
          "metadata": {}
        }
      ]
    },
    {
      "cell_type": "markdown",
      "source": [
        "Au vu de ce récapitulatif, on constate que la transformation B-spline donne globalement de moins bons résultats que le dataset de base.\n",
        "\n",
        "Le meilleur modèle parmi tous ceux que l'on a testés semble être les k plus proches voisins sur les données normalisées.\n",
        "\n",
        "On décide donc de retenir les KNN sur les données de base comme meilleur modèle. Maintenant qu'on a trouvé le meilleur modèle, il faut l'optimiser :"
      ],
      "metadata": {
        "id": "HusoG_u6gPqR"
      }
    },
    {
      "cell_type": "markdown",
      "source": [
        "### Optimisation du modèle"
      ],
      "metadata": {
        "tags": [],
        "id": "i0r9y3K8gPqT"
      }
    },
    {
      "cell_type": "markdown",
      "source": [
        "La **validation croisée** (cross validation) consiste à découper notre data set en plusieurs parts égales et croiser différents processus d'apprentissage/test. Par exemple on divise les individus en 5 groupes A,B,C,D,E de taille égale. D'abord on entraîne le modèle sur A,B,C,D et on teste sur E. Puis on entraîne sur A,B,C,E et on teste sur D, et ainsi de suite. Finalement, on croise les résultats des 5 processus d'apprentissage/test. Cette technique, très souvent utilisée, permet d'avoir une estimation plus robuste de la validation du modèle.\n",
        "\n",
        "On utilise **GridSearch** pour trouver les meilleurs hyperparamètres du modèle KNN. Un cross-valiation est effectué en même temps, ce qui rend les résultats plus robustes."
      ],
      "metadata": {
        "id": "4dUij2VsgPqT"
      }
    },
    {
      "cell_type": "markdown",
      "source": [
        "Le meilleur score pour la validation croisée est de 3.2, ce qui est inférieur au meilleur score (qui est de 3.28). La raison derrière cela est que la validation croisée effectuée lors de la recherche sur la grille ne tirera que de l'ensemble d'apprentissage en le divisant plusieurs fois en un nouvel ensemble d'apprentissage et un ensemble de validation. Par conséquent, le nombre d'observations sur lesquelles le modèle est réellement formé pour être optimisé est inférieur à celui d'avant. Cela se traduit par un score global inférieur, mais par une métrique de notation plus robuste, car le modèle est testé plusieurs fois dans plusieurs ensembles de tests différents à chaque étape de validation croisée."
      ],
      "metadata": {
        "id": "z7nSMe03gPqT"
      }
    },
    {
      "cell_type": "markdown",
      "source": [
        "La modèle optimal est donc les k plus proches voisins avec $k = 9$ et comme métrique la distance de Manhattan"
      ],
      "metadata": {
        "id": "tM2UILcWgPqT"
      }
    },
    {
      "cell_type": "markdown",
      "source": [
        "### Modèle final"
      ],
      "metadata": {
        "id": "Cg89z-DggPqT"
      }
    },
    {
      "cell_type": "code",
      "source": [
        "{'algorithm': 'auto', 'metric': 'manhattan', 'n_neighbors': 9, 'weights': 'distance'}\n",
        "\n",
        "knnF = KNeighborsClassifier(algorithm= 'auto', metric= 'manhattan', n_neighbors= 9,weights= 'distance')#On crée notre KNN\n",
        "knnF.fit(X_train_spline_final,y_train) #On la fit à nos données\n",
        "knnF_pred = knnF.predict(X_test__spline_final)# On prédit nos données\n",
        "\n",
        "dict_models_pred['knnF']=knnF_pred  #On ajoute les résultats dans notre dictionnaire\n",
        "\n",
        "model_score(y_test,knnF_pred) #Score\n",
        "matrice_conf(y_test,knnF_pred) #Matrice de confusion"
      ],
      "metadata": {
        "execution": {
          "iopub.status.busy": "2022-05-26T22:38:14.751266Z",
          "iopub.execute_input": "2022-05-26T22:38:14.751619Z",
          "iopub.status.idle": "2022-05-26T22:38:14.975516Z",
          "shell.execute_reply.started": "2022-05-26T22:38:14.751589Z",
          "shell.execute_reply": "2022-05-26T22:38:14.974722Z"
        },
        "trusted": true,
        "id": "LfhfASBrgPqT",
        "colab": {
          "base_uri": "https://localhost:8080/",
          "height": 501
        },
        "outputId": "2e0c19d3-5aaf-4049-a68c-a475ddfaf105"
      },
      "execution_count": null,
      "outputs": [
        {
          "output_type": "stream",
          "name": "stdout",
          "text": [
            "Accuracy: 0.84\n",
            "Précision: 0.77\n",
            "Sensitivité: 0.8\n",
            "F1: 0.78\n"
          ]
        },
        {
          "output_type": "display_data",
          "data": {
            "text/plain": [
              "<Figure size 640x480 with 2 Axes>"
            ],
            "image/png": "[encoded data removed]"
          },
          "metadata": {}
        }
      ]
    },
    {
      "cell_type": "markdown",
      "source": [
        "Les performances du modèle ne se sont pas améliorées avec l'exécution de Gridsearch. Cependant, la validation croisée utilisée dans le processus fournit un modèle plus robuste. On utilise donc le modèle ci-dessus comme modèle final\n",
        "\n",
        "La performance globale du modèle fournit une assez bonne classification de la biodégradabilité. On a une précision de 78% : 78% des composants classés comme biodégradables sont réellement biodégradables. On pourrait cependant se demander si avoir 22% de faux positifs (composants considérés à tort comme biodégradables) est un si bon score que cela, selon la situation concrète dans laquelle on veut prédire la biodégradabilité.\n",
        "\n",
        "En outre, l'accuracy est de 86%, la sensibilité de 82 % et le score F1 est de 80%."
      ],
      "metadata": {
        "id": "zf7ssCUBgPqU"
      }
    },
    {
      "cell_type": "markdown",
      "metadata": {
        "id": "9apc9P2zLTMV"
      },
      "source": [
        "## **Exploration des résultats**"
      ]
    },
    {
      "cell_type": "code",
      "execution_count": null,
      "metadata": {
        "id": "dJmUbsLGLZ-L"
      },
      "outputs": [],
      "source": []
    },
    {
      "cell_type": "markdown",
      "metadata": {
        "id": "lh7QFnPEjQwB"
      },
      "source": [
        "# **SEGMENTATION MULTISERVICE ET PALIER**"
      ]
    },
    {
      "cell_type": "code",
      "execution_count": null,
      "metadata": {
        "id": "n3agrNUBjXYF"
      },
      "outputs": [],
      "source": [
        "def segmenter_palier(df_transaction):\n",
        "\n",
        "    # Calculate total amount per user\n",
        "    df_segment_seuil = df_transaction.groupBy(\"numero\").agg(sum(\"montant\").alias(\"montant_total\"))\n",
        "    ca_client_max = df_segment_seuil.select(max(\"montant_total\")).collect()[0][0]\n",
        "    # Add 'segment' and 'palier' columns\n",
        "\n",
        "    df_segment_seuil = df_segment_seuil.withColumn(\"segment\", lit(None)) \\\n",
        "        .withColumn(\"palier\", lit(None)) \\\n",
        "        .withColumn(\"palier_sup\", lit(None)) \\\n",
        "        .withColumn(\"palier_inf\", lit(None))\n",
        "\n",
        "    # Calculate quantiles\n",
        "    nombre_quantile = [i / 10 for i in range(10)]\n",
        "    quantile = df_segment_seuil.approxQuantile(\"montant_total\", nombre_quantile, 0.01)\n",
        "    quantile[0] = 0\n",
        "    quantiles = [element * 10 for element in quantile]\n",
        "    # Define conditions for each segment\n",
        "    for i in range(1, 10):\n",
        "        lower_value = quantiles[i - 1]\n",
        "        upper_value = quantiles[i]\n",
        "        df_segment_seuil = df_segment_seuil.withColumn(\n",
        "            \"segment\",\n",
        "            when(\n",
        "                (col(\"montant_total\") > lower_value) & (col(\"montant_total\") <= upper_value),\n",
        "                f\"{i}e palier\"\n",
        "            ).otherwise(df_segment_seuil[\"segment\"])\n",
        "        )\n",
        "\n",
        "    # Define conditions for the 10th segment\n",
        "    df_segment_seuil = df_segment_seuil.withColumn(\n",
        "        \"segment\",\n",
        "        when(\n",
        "            (col(\"montant_total\") > quantiles[9]) & (col(\"montant_total\") <= ca_client_max),\n",
        "            \"10e palier\"\n",
        "        ).otherwise(df_segment_seuil[\"segment\"])\n",
        "    )\n",
        "\n",
        "    # Add 'palier_inf' and 'palier_sup' columns\n",
        "    df_segment_seuil = df_segment_seuil.withColumn(\"palier_inf\",\n",
        "                                                   when(col(\"segment\") == \"10e palier\", lit(quantiles[-1]))) \\\n",
        "        .withColumn(\"palier_sup\", when(col(\"segment\") == \"10e palier\", lit(ca_client_max)))\n",
        "\n",
        "    for numero_palier in range(1, 11):\n",
        "        segment = f\"{numero_palier}e palier\"\n",
        "        lower_bound = quantiles[numero_palier - 1] if numero_palier > 1 else quantiles[0]\n",
        "        upper_bound = ca_client_max if numero_palier == 10 else quantiles[numero_palier]\n",
        "\n",
        "        df_segment_seuil = df_segment_seuil.withColumn(\n",
        "            f\"palier\",\n",
        "            when(col(\"segment\") == segment, f\"[{lower_bound}, {upper_bound}]\")\n",
        "            .otherwise(col(f\"palier\"))\n",
        "        ).withColumn(\n",
        "            f\"palier_sup\",\n",
        "            when(col(\"segment\") == segment, f\"{upper_bound}\")\n",
        "            .otherwise(col(f\"palier_sup\"))\n",
        "        ).withColumn(\n",
        "            f\"palier_inf\",\n",
        "            when(col(\"segment\") == segment, f\"{lower_bound}\")\n",
        "            .otherwise(col(f\"palier_inf\"))\n",
        "        )\n",
        "    return df_segment_seuil"
      ]
    },
    {
      "cell_type": "code",
      "execution_count": null,
      "metadata": {
        "id": "N35o_nsJjYXy"
      },
      "outputs": [],
      "source": [
        "def segmenter_multiservice(df_transaction):\n",
        "    \"\"\"\n",
        "    Effectue la segmentation multiservice des clients.\n",
        "\n",
        "    Args:\n",
        "        df (DataFrame): Le DataFrame contenant les données de transaction.\n",
        "\n",
        "    Returns:\n",
        "        DataFrame: Le DataFrame avec la segmentation multiservice des clients.\n",
        "    \"\"\"\n",
        "\n",
        "\n",
        "    # Groupement par client (Numéro) et collecte des types de transactions uniques et des canaux uniques\n",
        "    channel_set = collect_set(df_transaction[\"channel\"]).alias(\"canaux\")\n",
        "    service_set = collect_set(df_transaction[\"type_service\"]).alias(\"services\")\n",
        "    categorie_set = collect_set(df_transaction[\"categorie_service\"]).alias(\"categories_services\")\n",
        "    multiservice_segmentation = df_transaction.groupBy(\"numero\").agg(\n",
        "        service_set,\n",
        "        size(service_set).alias(\"nombre_services\"),\n",
        "        categorie_set,\n",
        "        size(categorie_set).alias(\"nombre_categories\"),\n",
        "        channel_set,\n",
        "        size(channel_set).alias(\"nombre_canaux\"),\n",
        "        count(\"*\").alias(\"frequence\"),\n",
        "        sum(\"montant\").alias(\"montant_total\"),\n",
        "\n",
        "    )\n",
        "\n",
        "    # Définir la valeur du seuil\n",
        "    seuil = 1\n",
        "    # Calcul du segment\n",
        "    multiservice_segmentation = multiservice_segmentation.withColumn(\"segment_service\", when(\n",
        "        multiservice_segmentation[\"nombre_services\"] <= seuil, \"Monoservice\").otherwise(\"Multiservice\"))\n",
        "    multiservice_segmentation = multiservice_segmentation.withColumn(\"segment_categorie\", when(\n",
        "        multiservice_segmentation[\"nombre_categories\"] <= seuil, \"Monocategorie\").otherwise(\"Multicategorie\"))\n",
        "    return multiservice_segmentation\n"
      ]
    },
    {
      "cell_type": "code",
      "execution_count": null,
      "metadata": {
        "id": "g6tmc1JB4jAj"
      },
      "outputs": [],
      "source": [
        "df_prepared=df_transaction_transform(df_transaction_clean(df_transaction_om))\n",
        "df_multiserv=segmenter_multiservice(df_prepared)"
      ]
    },
    {
      "cell_type": "code",
      "execution_count": null,
      "metadata": {
        "colab": {
          "base_uri": "https://localhost:8080/"
        },
        "id": "ez5cpNI_8fXa",
        "outputId": "e3f0e95d-eabf-4f29-f2b1-faf1ecc7153a"
      },
      "outputs": [
        {
          "name": "stdout",
          "output_type": "stream",
          "text": [
            "+------+-------------+---------------+-------------------+-----------------+---------------+-------------+---------+-------------+---------------+-----------------+\n",
            "|numero|     services|nombre_services|categories_services|nombre_categories|         canaux|nombre_canaux|frequence|montant_total|segment_service|segment_categorie|\n",
            "+------+-------------+---------------+-------------------+-----------------+---------------+-------------+---------+-------------+---------------+-----------------+\n",
            "|112373|[Remontée UV]|              1|      [Remontée UV]|                1|[DISTRI_MOBILE]|            1|       15|     391399.0|    Monoservice|    Monocategorie|\n",
            "|168125|[Remontée UV]|              1|      [Remontée UV]|                1|[DISTRI_MOBILE]|            1|        7|     563945.0|    Monoservice|    Monocategorie|\n",
            "|181432|[Remontée UV]|              1|      [Remontée UV]|                1|[DISTRI_MOBILE]|            1|       33|    2370998.0|    Monoservice|    Monocategorie|\n",
            "|252590|[Remontée UV]|              1|      [Remontée UV]|                1|[DISTRI_MOBILE]|            1|       15|    1516042.0|    Monoservice|    Monocategorie|\n",
            "|310250|[Remontée UV]|              1|      [Remontée UV]|                1|[DISTRI_MOBILE]|            1|        1|     108900.0|    Monoservice|    Monocategorie|\n",
            "|345516|[Remontée UV]|              1|      [Remontée UV]|                1|[DISTRI_MOBILE]|            1|        6|      48925.0|    Monoservice|    Monocategorie|\n",
            "|345532|[Remontée UV]|              1|      [Remontée UV]|                1|[DISTRI_MOBILE]|            1|        1|      49995.0|    Monoservice|    Monocategorie|\n",
            "|351717|[Remontée UV]|              1|      [Remontée UV]|                1|[DISTRI_MOBILE]|            1|        1|      11731.0|    Monoservice|    Monocategorie|\n",
            "|368382|[Remontée UV]|              1|      [Remontée UV]|                1|[DISTRI_MOBILE]|            1|        2|     240000.0|    Monoservice|    Monocategorie|\n",
            "|416350|[Remontée UV]|              1|      [Remontée UV]|                1|[DISTRI_MOBILE]|            1|       11|    4024500.0|    Monoservice|    Monocategorie|\n",
            "|433224|[Remontée UV]|              1|      [Remontée UV]|                1|[DISTRI_MOBILE]|            1|       30|    1182519.0|    Monoservice|    Monocategorie|\n",
            "|475090|[Remontée UV]|              1|      [Remontée UV]|                1|[DISTRI_MOBILE]|            1|        1|     320000.0|    Monoservice|    Monocategorie|\n",
            "|479194|[Remontée UV]|              1|      [Remontée UV]|                1|[DISTRI_MOBILE]|            1|       10|     363500.0|    Monoservice|    Monocategorie|\n",
            "|481363|[Remontée UV]|              1|      [Remontée UV]|                1|[DISTRI_MOBILE]|            1|       15|     815293.0|    Monoservice|    Monocategorie|\n",
            "|493901|[Remontée UV]|              1|      [Remontée UV]|                1|[DISTRI_MOBILE]|            1|       29|     167508.0|    Monoservice|    Monocategorie|\n",
            "|494707|[Remontée UV]|              1|      [Remontée UV]|                1|[DISTRI_MOBILE]|            1|       20|     583110.0|    Monoservice|    Monocategorie|\n",
            "|495289|[Remontée UV]|              1|      [Remontée UV]|                1|[DISTRI_MOBILE]|            1|        3|     700000.0|    Monoservice|    Monocategorie|\n",
            "|496246|[Remontée UV]|              1|      [Remontée UV]|                1|[DISTRI_MOBILE]|            1|        5|     700112.0|    Monoservice|    Monocategorie|\n",
            "|496248|[Remontée UV]|              1|      [Remontée UV]|                1|[DISTRI_MOBILE]|            1|       17|    2936824.0|    Monoservice|    Monocategorie|\n",
            "|498059|[Remontée UV]|              1|      [Remontée UV]|                1|[DISTRI_MOBILE]|            1|        1|     346000.0|    Monoservice|    Monocategorie|\n",
            "+------+-------------+---------------+-------------------+-----------------+---------------+-------------+---------+-------------+---------------+-----------------+\n",
            "only showing top 20 rows\n",
            "\n"
          ]
        }
      ],
      "source": [
        "df_multiserv.show()"
      ]
    },
    {
      "cell_type": "markdown",
      "metadata": {
        "id": "GNJcFoFe0swN"
      },
      "source": [
        "# **SEGMENTATION VALEUR KMEANS**"
      ]
    },
    {
      "cell_type": "markdown",
      "metadata": {
        "id": "8ZD62ny1Y_JH"
      },
      "source": [
        "## **Feature engineering for Kmeans**"
      ]
    },
    {
      "cell_type": "markdown",
      "metadata": {
        "id": "sygCrRkQJVVM"
      },
      "source": [
        "#### Sélection de variables"
      ]
    },
    {
      "cell_type": "code",
      "execution_count": null,
      "metadata": {
        "id": "b4K77T83wV1e"
      },
      "outputs": [],
      "source": [
        "def df_km_create_sico(df_sico):\n",
        "    taken_columns_sico = ['nd', 'date_naissance', 'date_debut_engagement', 'statut']\n",
        "    df_km_sic = df_sico.select(taken_columns_sico) \\\n",
        "        .withColumnRenamed(\"nd\", \"numero\") \\\n",
        "        .drop(\"statut\")\n",
        "    df_km_sic = df_km_sic.withColumn(\"anciennete\", year(current_date()) - year(\"date_debut_engagement\")) \\\n",
        "        .withColumn(\"age\", year(current_date()) - year(\"date_naissance\")).drop(\"date_naissance\") \\\n",
        "        .drop(\"date_debut_engagement\")\n",
        "    return df_km_sic\n",
        "\n",
        "\n",
        "def df_km_create_ville(df_location):\n",
        "    # Renommez la colonne commune_arrondissement en \"ville\"\n",
        "    df_clients_top_villes = df_location.select(\"msisdn\", \"commune_arrondissement\") \\\n",
        "        .withColumnRenamed(\"commune_arrondissement\", \"ville\") \\\n",
        "        .withColumnRenamed(\"msisdn\", \"numero\")\n",
        "\n",
        "    # Remplacez les valeurs spécifiques\n",
        "    replacements = {\n",
        "        \"NDAME\": \"TOUBA\",\n",
        "        \"NIAYES\": \"KEUR MASSAR\",\n",
        "        \"PIKINE DAGOUDANE\": \"PIKINE\",\n",
        "        \"BAMBILOR\": \"SANGALKAM\"\n",
        "    }\n",
        "\n",
        "    # Use when for replacements\n",
        "    for old_value, new_value in replacements.items():\n",
        "        df_clients_top_villes = df_clients_top_villes.withColumn(\"ville\",\n",
        "                                                                 when(col(\"ville\") == old_value, new_value).otherwise(\n",
        "                                                                     col(\"ville\")))\n",
        "\n",
        "    # Group by \"numero\" and select the most frequent \"ville\"\n",
        "    df_clients_top_villes = df_clients_top_villes.groupBy(\"numero\", \"ville\") \\\n",
        "        .agg(count(\"*\").alias(\"count\")) \\\n",
        "        .orderBy(desc(\"count\")) \\\n",
        "        .groupBy(\"numero\") \\\n",
        "        .agg(first(\"ville\").alias(\"ville\"))\n",
        "\n",
        "    return df_clients_top_villes\n",
        "\n",
        "\n",
        "def df_km_create_transaction_aggregated(df_transaction, latest_date = \"2023-12-31\"):\n",
        "\n",
        "    # Aggregate step 1\n",
        "    df_km_transaction_aggregated0 = df_transaction.groupBy(\"numero\") \\\n",
        "        .agg(datediff(lit(latest_date), max(df_transaction[\"day\"])).alias(\"recence\"),\n",
        "             count(\"*\").alias(\"frequence_total\"),\n",
        "             sum(df_transaction[\"montant\"].cast(\"double\")).alias(\"montant_total\"))\n",
        "\n",
        "    # Aggregate step 2\n",
        "    resultat_destinataires = df_transaction.filter(col(\"type_service\") == \"Transfert\") \\\n",
        "        .groupBy(\"numero\").agg(countDistinct(\"destinataire\").alias(\"nombre_destinataires\"))\n",
        "\n",
        "    # Calcul du nombre de réceptions pour chaque msisdn en tant que destinataire\n",
        "    resultat_receptions=  df_transaction.filter(col(\"type_service\") == \"Transfert\") \\\n",
        "            .groupBy(\"destinataire\").agg(count(\"numero\").alias(\"nombre_receptions\"), countDistinct(\"numero\").alias(\"nombre_expediteurs\")) \\\n",
        "            .withColumnRenamed(\"destinataire\",\"numero\")\n",
        "\n",
        "    # Join the results\n",
        "    df_km_transaction_aggregated1 = df_km_transaction_aggregated0.join(resultat_destinataires, \"numero\", \"inner\")\n",
        "    df_km_transaction_aggregated=df_km_transaction_aggregated1.join(resultat_receptions,\"numero\",\"inner\")\n",
        "    return df_km_transaction_aggregated\n",
        "\n",
        "\n",
        "def df_km_create_transaction_categorie_service(df_transaction):\n",
        "    # Créez un DataFrame vide pour stocker les résultats agrégés\n",
        "    df_km_transaction_categorie = df_transaction\n",
        "\n",
        "    # Liste des catégories de service uniques\n",
        "    categories_services = ['service_financier', 'service_paiement', 'service_achat', 'don_cotisation']\n",
        "\n",
        "    # Utilisez une boucle pour créer des colonnes de montant et de fréquence pour chaque catégorie de service\n",
        "    for categorie in categories_services:\n",
        "        # Créez une colonne temporaire pour le montant de la catégorie de service\n",
        "        col_montant = f\"montant_{categorie}\"\n",
        "        df_km_transaction_categorie = df_km_transaction_categorie.withColumn(col_montant, when(\n",
        "            df_km_transaction_categorie[\"categorie_service\"] == categorie,\n",
        "            df_km_transaction_categorie[\"montant\"]).otherwise(0))\n",
        "\n",
        "        # Créez une colonne temporaire pour la fréquence de la catégorie de service\n",
        "        col_frequence = f\"frequence_{categorie}\"\n",
        "        df_km_transaction_categorie = df_km_transaction_categorie.withColumn(col_frequence, when(\n",
        "            df_km_transaction_categorie[\"categorie_service\"] == categorie, 1).otherwise(0))\n",
        "\n",
        "    # Effectuez l'agrégation en regroupant par d'autres colonnes si nécessaire\n",
        "    df_km_transaction_categorie = df_km_transaction_categorie.groupBy(\"numero\").sum()\n",
        "\n",
        "    # Renommez les colonnes agrégées\n",
        "    for categorie in categories_services:\n",
        "        col_montant = f\"montant_{categorie}\"\n",
        "        col_frequence = f\"frequence_{categorie}\"\n",
        "        df_km_transaction_categorie = df_km_transaction_categorie.withColumnRenamed(f\"sum({col_montant})\", col_montant) \\\n",
        "            .withColumnRenamed(f\"sum({col_frequence})\", col_frequence) \\\n",
        "            .drop(\"sum(montant)\")\n",
        "\n",
        "    return df_km_transaction_categorie\n",
        "\n",
        "\n",
        "def df_km_create_segment_palier(result_segment_palier):\n",
        "    # Integration des donnés de la segmentation palier\n",
        "    taken_columns_palier = ['numero', 'palier_inf', 'palier_sup']\n",
        "    df_km_palier = result_segment_palier.select(taken_columns_palier) \\\n",
        "        .withColumn(\"palier_inf\", col(\"palier_inf\").cast(\"double\")) \\\n",
        "        .withColumn(\"palier_sup\", col(\"palier_sup\").cast(\"double\"))\n",
        "    return df_km_palier\n",
        "\n",
        "\n",
        "def df_km_create_segment_multiservice(result_segment_multiservice):\n",
        "    # Integration des donnés de la segmentation multiservice\n",
        "    taken_columns_multiservice = [\"numero\", \"nombre_services\", \"nombre_canaux\"]\n",
        "    df_km_segment_multiservice = result_segment_multiservice.select(taken_columns_multiservice)\n",
        "    return df_km_segment_multiservice\n",
        "\n",
        "\n",
        "def df_km_create_segment_recharge(df_segment_recharge):\n",
        "    # Intégration des données de la segmentation recharge\n",
        "    max_year_df_km_recharge = df_segment_recharge.agg({\"year\": \"max\"}).collect()[0][0]\n",
        "    max_month_df_km_recharge = df_segment_recharge.filter(col(\"year\") == max_year_df_km_recharge) \\\n",
        "        .agg({\"month\": \"max\"}).collect()[0][0]\n",
        "    df_km_latest_segment_recharge = df_segment_recharge.withColumnRenamed(\"msisdn\", \"numero\") \\\n",
        "        .withColumnRenamed(\"avg_montant_recharge\", \"latest_avg_montant_recharge\") \\\n",
        "        .filter((col(\"year\") == max_year_df_km_recharge) & (col(\"month\") == max_month_df_km_recharge)) \\\n",
        "        .select(\"numero\", \"latest_avg_montant_recharge\") \\\n",
        "        .withColumn(\"latest_avg_montant_recharge\", col(\"latest_avg_montant_recharge\").cast(\"double\"))\n",
        "    return df_km_latest_segment_recharge\n",
        "\n",
        "def df_km_create_recharge(df_recharge):\n",
        "    df_km_recharge_created = df_recharge.groupBy(\"msisdn\")\\\n",
        "                          .agg(avg(\"montant\").alias(\"moyenne_montant_recharge\"))\\\n",
        "                          .withColumnRenamed(\"msisdn\", \"numero\")\n",
        "    return df_km_recharge_created\n",
        "\n",
        "def df_kmeans_create(df_transaction, *dataframes_to_join):\n",
        "    df_km_created = df_transaction\n",
        "    for df_km_to_join in dataframes_to_join:\n",
        "        df_km_created = df_transaction.join(df_km_to_join, \"numero\", \"left_outer\")\n",
        "    return df_km_created\n",
        "\n",
        "\n"
      ]
    },
    {
      "cell_type": "code",
      "execution_count": null,
      "metadata": {
        "id": "qaJ63e17-38r"
      },
      "outputs": [],
      "source": [
        "df_transaction_prepared_kmeans = df_transaction_transform(df_transaction_clean(df_transaction_om))\n",
        "df_segment_multiservice_km = segmenter_multiservice(df_transaction_prepared_kmeans)\n",
        "df_segment_palier_km = segmenter_palier(df_transaction_prepared_kmeans)\n",
        "# Appel de la fonction df_kmeans_create avec les DataFrames en tant qu'arguments\n",
        "df_kmeans_created_init = df_kmeans_create(\n",
        "    df_transaction_prepared_kmeans,\n",
        "    df_km_create_sico(df_sico),\n",
        "    df_km_create_ville(df_location_night),\n",
        "    df_km_create_transaction_aggregated(df_transaction_prepared_kmeans),\n",
        "    df_km_create_segment_palier(df_segment_palier_km),\n",
        "    df_km_create_recharge(df_recharge),\n",
        "    df_km_create_segment_multiservice(df_segment_multiservice_km),\n",
        "    df_km_create_transaction_categorie_service(df_transaction_prepared_kmeans)\n",
        ")\n",
        "\n"
      ]
    },
    {
      "cell_type": "code",
      "execution_count": null,
      "metadata": {
        "id": "5rY24PEMmWgc"
      },
      "outputs": [],
      "source": [
        "df_kmeans_created_init.coalesce(1).write.csv(f\"{myPath}/dataset_kmeans_init_csv\", header=True, mode='overwrite')"
      ]
    },
    {
      "cell_type": "markdown",
      "metadata": {
        "id": "JQX3FSkVaYba"
      },
      "source": [
        "#### Encodage des variables"
      ]
    },
    {
      "cell_type": "code",
      "execution_count": null,
      "metadata": {
        "id": "zScDVhsUQdJq"
      },
      "outputs": [],
      "source": [
        "def df_kmeans_encode(df_to_encode: DataFrame, categorical_columns: list):\n",
        "    # Encodage des variables catégorielles\n",
        "    # Initialiser les étapes pour le pipeline\n",
        "    df_to_encode = df_to_encode\n",
        "    etapes = []\n",
        "\n",
        "    # Appliquer StringIndexer pour l'encodage des étiquettes\n",
        "    for col in categorical_columns:\n",
        "        indexer = StringIndexer(inputCol=col, outputCol=col + \"_index\")\n",
        "        etapes.append(indexer)\n",
        "\n",
        "    # Créer un pipeline\n",
        "    pipeline = Pipeline(stages=etapes)\n",
        "\n",
        "    # Ajuster et transformer le DataFrame à l'aide du pipeline\n",
        "    model = pipeline.fit(df_to_encode)\n",
        "    df_encoded = model.transform(df_to_encode) \\\n",
        "        # .drop(*categorical_columns)\n",
        "    return df_encoded\n",
        "\n"
      ]
    },
    {
      "cell_type": "code",
      "execution_count": null,
      "metadata": {
        "id": "Dk6zQlSErS92"
      },
      "outputs": [],
      "source": [
        "df_kmeans_encoded = df_kmeans_encode(df_kmeans_init_loaded, categorical_columns=[\"ville\"])\n",
        "# pd_kmeans_encoded = df_kmeans_encoded.toPandas()"
      ]
    },
    {
      "cell_type": "code",
      "execution_count": null,
      "metadata": {
        "id": "o8CwnCIjY0M6"
      },
      "outputs": [],
      "source": [
        "df_kmeans_encoded.coalesce(1).write.csv(f\"{myPath}/dataset_kmeans_encoded.csv\", header=True, mode='overwrite')"
      ]
    },
    {
      "cell_type": "code",
      "execution_count": null,
      "metadata": {
        "id": "KpaovwARPJxb"
      },
      "outputs": [],
      "source": [
        "df_kmeans_created_init.count()"
      ]
    },
    {
      "cell_type": "code",
      "execution_count": null,
      "metadata": {
        "id": "1rK9wLK9eXX9"
      },
      "outputs": [],
      "source": [
        "df_kmeans_encoded.count()"
      ]
    },
    {
      "cell_type": "markdown",
      "metadata": {
        "id": "izCgpoGfljVl"
      },
      "source": [
        "#### Normalisation des variables"
      ]
    },
    {
      "cell_type": "code",
      "execution_count": null,
      "metadata": {
        "id": "GR923tSyQhJU"
      },
      "outputs": [],
      "source": [
        "def df_km_scale(pd_dataframe, features_to_exclude):\n",
        "    # Initialize the StandardScaler\n",
        "    scaler = StandardScaler()\n",
        "    # List of columns that need to be scaled\n",
        "    columns_to_scale = pd_dataframe.columns.difference(features_to_exclude)\n",
        "\n",
        "    # Copy the dataset\n",
        "    scaled_dataframe = pd_dataframe.copy()\n",
        "\n",
        "    # Applying the scaler to the necessary columns in the dataset\n",
        "    scaled_dataframe[columns_to_scale] = scaler.fit_transform(scaled_dataframe[columns_to_scale])\n",
        "\n",
        "    return scaled_dataframe"
      ]
    },
    {
      "cell_type": "code",
      "execution_count": null,
      "metadata": {
        "id": "YV8s-utPYt7z"
      },
      "outputs": [],
      "source": [
        "features_to_exclude_scale = ['numero', 'ville']\n",
        "features_to_exclude_train = ['numero', 'ville']\n",
        "# Specify the correct column name in the categorical_columns parameter\n",
        "pd_kmeans_scaled = df_km_scale(pd_kmeans_encoded_loaded, features_to_exclude_scale)\n",
        "# Colonnes\n",
        "km_feature_columns = pd_kmeans_scaled.columns.difference(features_to_exclude_train)\n"
      ]
    },
    {
      "cell_type": "markdown",
      "metadata": {
        "id": "thY9LXoaYoya"
      },
      "source": [
        "## **Modélisation segmentation Kmeans**\n",
        "\n",
        "---\n"
      ]
    },
    {
      "cell_type": "markdown",
      "metadata": {
        "id": "EI6JOfWCBuRQ"
      },
      "source": [
        "#### Matrice de corrélation"
      ]
    },
    {
      "cell_type": "code",
      "execution_count": null,
      "metadata": {
        "id": "Ozsire1YB0LP"
      },
      "outputs": [],
      "source": [
        "import seaborn as sns\n",
        "import matplotlib.pyplot as plt\n",
        "import numpy as np\n",
        "\n",
        "def plot_correlation_matrix(dataframe):\n",
        "    # Reset background style\n",
        "    sns.set_style('whitegrid')\n",
        "\n",
        "    # Calculate the correlation matrix excluding certain columns\n",
        "    corr = dataframe.drop(columns=['numero','ville']).corr()\n",
        "\n",
        "    # Create a mask to only show the lower triangle of the matrix\n",
        "    mask = np.zeros_like(corr)\n",
        "    mask[np.triu_indices_from(mask, k=1)] = True\n",
        "\n",
        "    # Plot the heatmap\n",
        "    plt.figure(figsize=(15, 12))\n",
        "    sns.heatmap(corr, mask=mask, annot=True, center=0, cmap=\"viridis_r\", fmt='.1f', linewidths=2)\n",
        "    plt.title('Matrice de corrélation', fontsize=14)\n",
        "    plt.show()\n",
        "\n",
        "# Usage example:\n",
        "plot_correlation_matrix(pd_kmeans_scaled)\n"
      ]
    },
    {
      "cell_type": "markdown",
      "metadata": {
        "id": "7asYxRe4l4kU"
      },
      "source": [
        "#### Réduction de dimension avec ACP"
      ]
    },
    {
      "cell_type": "markdown",
      "metadata": {
        "id": "_YVsarwJoHt_"
      },
      "source": [
        "##### Nombre de dimensions"
      ]
    },
    {
      "cell_type": "code",
      "execution_count": null,
      "metadata": {
        "id": "lyUAQtU5E5tv"
      },
      "outputs": [],
      "source": [
        "# Setting CustomerID as the index column\n",
        "pd_kmeans_scaled_topca=pd_kmeans_scaled.drop(['ville'], axis=1)\n",
        "pd_kmeans_scaled_topca.set_index('numero', inplace=True)\n",
        "\n",
        "# Apply PCA\n",
        "pca = PCA().fit(pd_kmeans_scaled_topca)\n",
        "\n",
        "# Calculate the Cumulative Sum of the Explained Variance\n",
        "explained_variance_ratio = pca.explained_variance_ratio_\n",
        "cumulative_explained_variance = np.cumsum(explained_variance_ratio)\n",
        "\n",
        "# # Set seaborn plot style\n",
        "sns.set(rc={'axes.facecolor': '#fcf0dc'}, style='darkgrid')\n",
        "\n",
        "# Set a threshold for cumulative explained variance (e.g., 95%)\n",
        "threshold = 0.95\n",
        "\n",
        "# Find the number of components that meet the threshold\n",
        "num_components = np.argmax(cumulative_explained_variance >= threshold) + 1\n",
        "\n",
        "# Plot the cumulative explained variance against the number of components\n",
        "plt.figure(figsize=(20, 10))\n",
        "\n",
        "# Bar chart for the explained variance of each component\n",
        "barplot = sns.barplot(x=list(range(1, len(cumulative_explained_variance) + 1)),\n",
        "                      y=explained_variance_ratio,\n",
        "                      color='#fcc36d',\n",
        "                      alpha=0.8)\n",
        "\n",
        "# Line plot for the cumulative explained variance\n",
        "lineplot, = plt.plot(range(0, len(cumulative_explained_variance)), cumulative_explained_variance,\n",
        "                     marker='o', linestyle='--', color='#ff6200', linewidth=2)\n",
        "\n",
        "# Plot a vertical line at the chosen threshold\n",
        "threshold_line = plt.axhline(threshold, color='red', linestyle='--', label=f'Threshold = {threshold * 100}%')\n",
        "\n",
        "# Set labels and title\n",
        "plt.xlabel('Number of Components', fontsize=14)\n",
        "plt.ylabel('Explained Variance', fontsize=14)\n",
        "plt.title('Cumulative Variance vs. Number of Components', fontsize=18)\n",
        "\n",
        "# Customize ticks and legend\n",
        "plt.xticks(range(0, len(cumulative_explained_variance)))\n",
        "plt.legend(handles=[barplot.patches[0], lineplot, threshold_line],\n",
        "           labels=['Explained Variance of Each Component', 'Cumulative Explained Variance', f'Threshold = {threshold * 100}%'],\n",
        "           loc=(0.62, 0.1),\n",
        "           frameon=True,\n",
        "           framealpha=1.0,\n",
        "           edgecolor='#ff6200')\n",
        "\n",
        "# Display the variance values for both graphs on the plots\n",
        "x_offset = -0.3\n",
        "y_offset = 0.01\n",
        "for i, (ev_ratio, cum_ev_ratio) in enumerate(zip(explained_variance_ratio, cumulative_explained_variance)):\n",
        "    plt.text(i, ev_ratio, f\"{ev_ratio:.2f}\", ha=\"center\", va=\"bottom\", fontsize=10)\n",
        "    if i > 0:\n",
        "        plt.text(i + x_offset, cum_ev_ratio + y_offset, f\"{cum_ev_ratio:.2f}\", ha=\"center\", va=\"bottom\", fontsize=10)\n",
        "\n",
        "plt.grid(axis='both')\n",
        "plt.show()\n",
        "\n",
        "# Display the number of components needed to reach the threshold\n",
        "print(f'Number of components to reach {threshold * 100}% cumulative explained variance: {num_components}')\n"
      ]
    },
    {
      "cell_type": "markdown",
      "metadata": {
        "id": "Jj39TCKOoU-k"
      },
      "source": [
        "##### Application de l'ACP"
      ]
    },
    {
      "cell_type": "code",
      "execution_count": null,
      "metadata": {
        "id": "V574rkUjcOuU"
      },
      "outputs": [],
      "source": [
        "from sklearn.decomposition import PCA\n",
        "\n",
        "def apply_pca(dataframe, n_components):\n",
        "    \"\"\"\n",
        "    Apply Principal Component Analysis (PCA) to the given dataframe.\n",
        "\n",
        "    Parameters:\n",
        "    - dataframe: The input dataframe.\n",
        "    - n_components: The number of principal components to retain.\n",
        "\n",
        "    Returns:\n",
        "    - pca_dataframe: The dataframe with PCA-transformed features.\n",
        "    \"\"\"\n",
        "    new_columns=dataframe.columns.difference(['ville'])\n",
        "    new_dataframe= dataframe[new_columns]\n",
        "    # Creating a PCA object with specified components\n",
        "    pca = PCA(n_components=n_components)\n",
        "\n",
        "    # Fitting and transforming the original data to the new PCA dataframe\n",
        "    pca_dataframe = pca.fit_transform(new_dataframe)\n",
        "\n",
        "    # Creating a new dataframe from the PCA dataframe\n",
        "    pca_dataframe = pd.DataFrame(pca_dataframe, columns=[f'PC{i+1}' for i in range(pca.n_components_)])\n",
        "\n",
        "    # Adding the index back to the new PCA dataframe\n",
        "    pca_dataframe.index = dataframe.index\n",
        "\n",
        "    return pca_dataframe\n",
        "\n",
        "# Usage example:\n",
        "pd_kmeans_pca = apply_pca(pd_kmeans_encoded_loaded, n_components=6)\n",
        "pd_kmeans_scaled_pca = apply_pca(pd_kmeans_scaled, n_components=6)\n",
        "pca_columns=pd_kmeans_pca.columns\n",
        "pd_kmeans_pca.head()\n"
      ]
    },
    {
      "cell_type": "code",
      "execution_count": null,
      "metadata": {
        "id": "gVTK22AacZPL"
      },
      "outputs": [],
      "source": [
        "# #Now, let's extract the coefficients corresponding to each principal component to better understand the transformation performed by PCA\n",
        "\n",
        "# # Define a function to highlight the top 3 absolute values in each column of a dataframe\n",
        "# def highlight_top3(column):\n",
        "#     top3 = column.abs().nlargest(3).index\n",
        "#     return ['background-color:  #ffeacc' if i in top3 else '' for i in column.index]\n",
        "\n",
        "# # Create the PCA component DataFrame and apply the highlighting function\n",
        "# pc_df = pd.DataFrame(pca.components_.T, columns=['PC{}'.format(i+1) for i in range(pca.n_components_)],\n",
        "#                      index=pd_kmeans_scaled.columns)\n",
        "\n",
        "# pc_df.style.apply(highlight_top3, axis=0)"
      ]
    },
    {
      "cell_type": "markdown",
      "metadata": {
        "id": "PRLDO4_Qntm7"
      },
      "source": [
        "#### Nombre de clusters"
      ]
    },
    {
      "cell_type": "code",
      "execution_count": null,
      "metadata": {
        "id": "f07-8Sfv7NwL"
      },
      "outputs": [],
      "source": [
        "import pandas as pd\n",
        "from sklearn.cluster import KMeans\n",
        "from sklearn.preprocessing import StandardScaler\n",
        "from yellowbrick.cluster import KElbowVisualizer\n",
        "from pyspark.sql import DataFrame\n",
        "\n",
        "def visualize_elbow_method(pd_kmeans, feature_columns):\n",
        "    # Select RFM columns for analysis\n",
        "    pd_kmeans_features = pd_kmeans[feature_columns]\n",
        "\n",
        "    # Set plot style, and background color\n",
        "    sns.set(style='darkgrid', rc={'axes.facecolor': '#fcf0dc'})\n",
        "\n",
        "    # Set the color palette for the plot\n",
        "    sns.set_palette(['#ff6200'])\n",
        "\n",
        "    # Standardize the features\n",
        "    scaler = StandardScaler()\n",
        "    kmeans_features_scaled = scaler.fit_transform(pd_kmeans_features)\n",
        "\n",
        "    # Create an instance of the KElbowVisualizer with explicit n_init\n",
        "    visualizer = KElbowVisualizer(KMeans(random_state=42, n_init=10), k=(1, 10))\n",
        "\n",
        "    # Create a figure and axis with the desired size\n",
        "    fig, ax = plt.subplots(figsize=(12, 5))\n",
        "\n",
        "    # Adjust the model and the visualizer\n",
        "    visualizer.fit(kmeans_features_scaled)\n",
        "\n",
        "    # Suppress FutureWarning\n",
        "    with warnings.catch_warnings():\n",
        "        warnings.simplefilter(action='ignore', category=FutureWarning)\n",
        "        visualizer.show()\n",
        "\n",
        "\n",
        "visualize_elbow_method(pd_kmeans_encoded_loaded,km_feature_columns)"
      ]
    },
    {
      "cell_type": "markdown",
      "metadata": {
        "id": "Nhj-P3D_n2SJ"
      },
      "source": [
        "#### Entrainement du modele"
      ]
    },
    {
      "cell_type": "code",
      "execution_count": null,
      "metadata": {
        "id": "n1ghHGXFbtao"
      },
      "outputs": [],
      "source": [
        "import pickle\n",
        "from sklearn.cluster import KMeans\n",
        "\n",
        "def train_save_model(dataframe,feature_columns,n_clusters, model_filename):\n",
        "    # Train KMeans model\n",
        "    kmeans_model = KMeans(n_clusters=n_clusters, n_init='auto')\n",
        "    dataframe_cleaned= dataframe[feature_columns]\n",
        "    kmeans_model.fit(dataframe_cleaned)\n",
        "\n",
        "    #Save the model to a file using pickle\n",
        "    with open(model_filename, 'wb') as file:\n",
        "        pickle.dump(kmeans_model, file)\n",
        "num_clusters=4\n",
        "model_path=f'/content/drive/MyDrive/Colab/Segmentation/#models_OM/segment_kmeans_model.pkl'\n",
        "# train_save_model(pd_kmeans_encoded_loaded,km_feature_columns, num_clusters, model_path)"
      ]
    },
    {
      "cell_type": "code",
      "execution_count": null,
      "metadata": {
        "id": "QK_wc9gNiDEk"
      },
      "outputs": [],
      "source": [
        "def apply_new_labels(model_filename, new_dataframe, feature_columns):\n",
        "\n",
        "    with open(model_filename, 'rb') as file:\n",
        "        loaded_kmeans_model = pickle.load(file)\n",
        "    # Apply new labels to data\n",
        "    new_labels = loaded_kmeans_model.predict(new_dataframe[feature_columns])\n",
        "\n",
        "    # Get the frequency of each cluster\n",
        "    cluster_frequencies = Counter(new_labels)\n",
        "\n",
        "    # Create a mapping from old labels to new labels\n",
        "    label_mapping = {old_label: new_label for new_label, (old_label, _) in enumerate(cluster_frequencies.most_common())}\n",
        "\n",
        "    # Create a new column in the original dataframe with the new labels\n",
        "    new_dataframe['new_labels'] = [label_mapping[old_label] for old_label in new_labels]\n",
        "\n",
        "    return new_dataframe['new_labels'].values\n",
        "\n",
        "def apply_kmeans_clustering(model_filename, new_dataframe, feature_columns=km_feature_columns):\n",
        "    new_labels = apply_new_labels(model_filename, new_dataframe, feature_columns)\n",
        "\n",
        "    # Create a new dataframe with the cluster labels\n",
        "    clustered_dataframe = new_dataframe.copy()  # Use .copy() to avoid unintended modifications\n",
        "    clustered_dataframe['cluster'] = new_labels\n",
        "\n",
        "    return clustered_dataframe.drop('new_labels', axis=1)\n",
        "\n",
        "def apply_kmeans_clustering2(model_filename, new_dataframe, feature_columns=km_feature_columns):\n",
        "    new_features2 =  apply_new_labels(model_filename, new_dataframe, feature_columns)\n",
        "    # Create a new dataframe with the cluster labels\n",
        "    clustered_dataframe2 =new_dataframe.copy()  # Use .copy() to avoid unintended modifications\n",
        "    clustered_dataframe2['cluster'] = new_features2\n",
        "    return clustered_dataframe2.drop('new_labels', axis=1)\n",
        "\n",
        "#Sans normalisation:\n",
        "pd_segment_valeur = apply_kmeans_clustering(model_path, pd_kmeans_encoded_loaded)\n",
        "\n",
        "#Normalisation\n",
        "# pd_segment_valeur_scaled= apply_kmeans_clustering(model_path,pd_kmeans_scaled)\n",
        "# pd_segment_valeur_scaled2 = apply_kmeans_clustering2(pd_kmeans_scaled,pd_kmeans_encoded_loaded, num_clusters)\n",
        "\n",
        "# #PCA\n",
        "# pd_segment_valeur_pca = apply_kmeans_clustering(model_path,pd_kmeans_pca)\n",
        "# pd_segment_valeur_pca2 = apply_kmeans_clustering2(pd_kmeans_pca,pd_kmeans_encoded_loaded,num_clusters,feature_columns= pca_columns)\n",
        "\n",
        "#PCA et normalisation\n",
        "# pd_segment_valeur_scaled_pca = apply_kmeans_clustering(model_path,pd_kmeans_scaled_pca)\n",
        "# pd_segment_valeur_scaled_pca2 = apply_kmeans_clustering2(pd_kmeans_scaled_pca,pd_kmeans_encoded_loaded, num_clusters, feature_columns=pca_columns)"
      ]
    },
    {
      "cell_type": "code",
      "execution_count": null,
      "metadata": {
        "id": "xWlWgDrUX1Jl"
      },
      "outputs": [],
      "source": [
        "pd_segment_valeur.info()"
      ]
    },
    {
      "cell_type": "markdown",
      "metadata": {
        "id": "wNN3P6VJqOPs"
      },
      "source": [
        "#### Métrique d'évaluation"
      ]
    },
    {
      "cell_type": "code",
      "execution_count": null,
      "metadata": {
        "id": "89vb-2PtgHBC"
      },
      "outputs": [],
      "source": [
        "from sklearn.metrics import silhouette_score, calinski_harabasz_score, davies_bouldin_score\n",
        "from tabulate import tabulate\n",
        "\n",
        "def compute_clustering_metrics(dataframe,columns_to_drop=['cluster', 'ville']):\n",
        "    \"\"\"\n",
        "    Compute clustering metrics for a given dataframe with cluster labels.\n",
        "\n",
        "    Parameters:\n",
        "    - dataframe: The input dataframe with cluster labels.\n",
        "\n",
        "    Returns:\n",
        "    - None (prints the metrics table).\n",
        "    \"\"\"\n",
        "    # Compute number of customers\n",
        "    num_observations = len(dataframe)\n",
        "\n",
        "    # Separate the features and the cluster labels\n",
        "    X = dataframe.drop(columns_to_drop, axis=1)\n",
        "    clusters = dataframe['cluster']\n",
        "\n",
        "    # Compute the metrics\n",
        "    sil_score = silhouette_score(X, clusters)\n",
        "    calinski_score = calinski_harabasz_score(X, clusters)\n",
        "    # davies_score = davies_bouldin_score(X, clusters)\n",
        "\n",
        "    # Create a table to display the metrics and the number of observations\n",
        "    table_data = [\n",
        "        # [\"Nombre d'observations\", num_observations],\n",
        "        [\"Silhouette Score\", sil_score],\n",
        "        [\"Calinski Harabasz Score\", calinski_score],\n",
        "        # [\"Davies Bouldin Score\", davies_score]\n",
        "        ]\n",
        "\n",
        "    # Print the table\n",
        "    print(tabulate(table_data, headers=[\"Métrique\", \"Valeur\"], tablefmt='grid'))\n",
        "\n",
        "# # Usage example\n",
        "print(f\"Le nombre de clusters: {num_clusters}\")\n",
        "print(\"Sans normalisation\")\n",
        "compute_clustering_metrics(pd_segment_valeur)\n",
        "\n",
        "# print(\"\\n\\nAvec PCA\")\n",
        "# compute_clustering_metrics(pd_segment_valeur_pca,['cluster'])\n",
        "\n",
        "# print(\"\\n\\nAvec normalisation\")\n",
        "# compute_clustering_metrics(pd_segment_valeur_scaled)\n",
        "\n",
        "# print(\"\\n\\nAvec normalisation et PCA\")\n",
        "# compute_clustering_metrics(pd_segment_valeur_scaled_pca,['cluster'])"
      ]
    },
    {
      "cell_type": "markdown",
      "metadata": {
        "id": "aXV82oqSqp2v"
      },
      "source": [
        "####  Profilage  (Tendances centrales)"
      ]
    },
    {
      "cell_type": "markdown",
      "metadata": {
        "id": "be7kHmfxq-d_"
      },
      "source": [
        "##### Approche Radar"
      ]
    },
    {
      "cell_type": "code",
      "execution_count": null,
      "metadata": {
        "id": "kEFAG3exktir"
      },
      "outputs": [],
      "source": [
        "def plot_radar_chart(dataframe):\n",
        "    \"\"\"\n",
        "    Plot radar charts for each cluster using the centroid values.\n",
        "\n",
        "    Parameters:\n",
        "    - dataframe: The input dataframe with cluster labels.\n",
        "    - colors: List of colors for the clusters.\n",
        "\n",
        "    Returns:\n",
        "    - None (displays the radar charts).\n",
        "    \"\"\"\n",
        "\n",
        "    new_columns=dataframe.columns.difference(['ville'])\n",
        "    new_dataframe= dataframe[new_columns]\n",
        "    # Set 'CustomerID' column as index and assign it to a new dataframe\n",
        "    df_customer = new_dataframe.set_index('numero')\n",
        "\n",
        "    colors=[ '#1ac938','orange', '#e8000b', '#023eff', 'black']  # Add a color for the 5th cluster\n",
        "\n",
        "    # Standardize the data (excluding the cluster column)\n",
        "    scaler = StandardScaler()\n",
        "    df_customer_standardized = scaler.fit_transform(df_customer.drop(columns=['cluster'], axis=1))\n",
        "\n",
        "    # Create a new dataframe with standardized values and add the cluster column back\n",
        "    df_customer_standardized = pd.DataFrame(df_customer_standardized, columns=df_customer.columns[:-1], index=df_customer.index)\n",
        "    df_customer_standardized['cluster'] = df_customer['cluster']\n",
        "\n",
        "    # Calculate the centroids of each cluster\n",
        "    cluster_centroids = df_customer_standardized.groupby('cluster').mean()\n",
        "\n",
        "    # Function to create a radar chart\n",
        "    def create_radar_chart(ax, angles, data, color, cluster):\n",
        "        # Plot the data and fill the area\n",
        "        ax.fill(angles, data, color=color, alpha=0.4)\n",
        "        ax.plot(angles, data, color=color, linewidth=2, linestyle='solid')\n",
        "\n",
        "        # Add a title\n",
        "        ax.set_title(f'Cluster {cluster}', size=20, color=color, y=1.1)\n",
        "\n",
        "    # Set data\n",
        "    labels = np.array(cluster_centroids.columns)\n",
        "    num_vars = len(labels)\n",
        "\n",
        "    # Compute angle of each axis\n",
        "    angles = np.linspace(0, 2 * np.pi, num_vars, endpoint=False).tolist()\n",
        "\n",
        "    # The plot is circular, so we need to \"complete the loop\" and append the start to the end\n",
        "    labels = np.concatenate((labels, [labels[0]]))\n",
        "    angles += angles[:1]\n",
        "\n",
        "    # Get the number of clusters dynamically\n",
        "    num_clusters = len(cluster_centroids)\n",
        "\n",
        "    # Initialize the figure\n",
        "    fig, ax = plt.subplots(figsize=(50, 30), subplot_kw=dict(polar=True), nrows=1, ncols=num_clusters)\n",
        "\n",
        "    # Create radar chart for each cluster\n",
        "    for i, color in enumerate(colors[:num_clusters]):  # Use only the required number of colors\n",
        "        data = cluster_centroids.loc[i].tolist()\n",
        "        data += data[:1]  # Complete the loop\n",
        "        create_radar_chart(ax[i], angles, data, color, i)\n",
        "\n",
        "    # Add input data\n",
        "    for a in ax:\n",
        "        a.set_xticks(angles[:-1])\n",
        "        a.set_xticklabels(labels[:-1])\n",
        "\n",
        "    # Add a grid\n",
        "    for a in ax:\n",
        "        a.grid(color='grey', linewidth=0.5)\n",
        "\n",
        "    # Display the plot\n",
        "    plt.tight_layout()\n",
        "    plt.show()\n",
        "\n",
        "# Usage example\n",
        "print(f\"Le nombre de clusters: {num_clusters}\")\n",
        "print(\"Sans normalisation\")\n",
        "plot_radar_chart(pd_segment_valeur)\n",
        "\n",
        "# print(\"\\n\\nAvec PCA\")\n",
        "# plot_radar_chart(pd_segment_valeur_pca2)\n",
        "\n",
        "# print(\"\\n\\nAvec normalisation\")\n",
        "# plot_radar_chart(pd_segment_valeur_scaled2)\n",
        "\n",
        "# print(\"\\n\\nAvec normalisation et PCA\")\n",
        "# plot_radar_chart(pd_segment_valeur_scaled_pca2)"
      ]
    },
    {
      "cell_type": "markdown",
      "metadata": {
        "id": "exJywpsnrFjI"
      },
      "source": [
        "##### Approche Histogramme"
      ]
    },
    {
      "cell_type": "code",
      "execution_count": null,
      "metadata": {
        "id": "TnUnMvCudnqy"
      },
      "outputs": [],
      "source": [
        "def plot_cluster_distribution(dataframe, colonne, cluster):\n",
        "    fig, ax = plt.subplots(1, 1, figsize=(20, 8))\n",
        "    sns.set(style=\"whitegrid\")\n",
        "    data = dataframe[dataframe['cluster'] == cluster]\n",
        "    custom_palette = sns.color_palette(\"husl\")\n",
        "\n",
        "    sns.histplot(x=colonne, data=data, palette=custom_palette, bins=20, kde=False)\n",
        "\n",
        "    total_count = len(data)\n",
        "\n",
        "    for p in ax.patches:\n",
        "        percentage = '{:.1f}%'.format(100 * p.get_height() / total_count)\n",
        "        ax.annotate(percentage, (p.get_x() + p.get_width() / 2., p.get_height()), ha='center', va='center', fontsize=12, color='black', xytext=(0, 5), textcoords='offset points')\n",
        "\n",
        "    ax.set_ylabel('Nombre de clients')\n",
        "    ax.set_title(f\"Répartition des clients par {colonne}\")\n",
        "    ax.set_xticklabels(ax.get_xticklabels(), rotation=45, ha='right')\n",
        "    ax.tick_params(axis='both', labelsize=14)\n",
        "\n",
        "    plt.show()\n",
        "\n",
        "# Utilisation avec un histogramme\n",
        "plot_cluster_distribution(pd_segment_valeur, 'nombre_receptions', 3)\n"
      ]
    },
    {
      "cell_type": "code",
      "execution_count": null,
      "metadata": {
        "id": "_JAUvAI8IRXR"
      },
      "outputs": [],
      "source": [
        "def plot_cluster_histograms(data, feature_columns):\n",
        "    \"\"\"\n",
        "    Plot histograms for each feature segmented by the clusters.\n",
        "\n",
        "    Parameters:\n",
        "    - data: DataFrame containing the data.\n",
        "    - feature_columns: List of feature column names.\n",
        "    - cluster_column: Name of the column containing cluster labels.\n",
        "    - bins: Number of bins for the histograms.\n",
        "    - colors: List of colors for each cluster.\n",
        "\n",
        "    Returns:\n",
        "    - None\n",
        "    \"\"\"\n",
        "\n",
        "    colors=[ '#1ac938','orange', '#e8000b', '#023eff', 'black']\n",
        "    cluster_column='cluster'\n",
        "    clusters = data[cluster_column].unique()\n",
        "    clusters.sort()\n",
        "\n",
        "    # Setting up the subplots\n",
        "    n_rows = len(feature_columns)\n",
        "    n_cols = len(clusters)\n",
        "    fig, axes = plt.subplots(n_rows, n_cols, figsize=(20, 3 * n_rows))\n",
        "\n",
        "    # Plotting histograms\n",
        "    for i, feature in enumerate(feature_columns):\n",
        "        for j, cluster in enumerate(clusters):\n",
        "            cluster_data = data[data[cluster_column] == cluster][feature]\n",
        "            axes[i, j].hist(cluster_data, bins=20, color=colors[j], edgecolor='w', alpha=0.7)\n",
        "            axes[i, j].set_title(f'Cluster {cluster} - {feature}', fontsize=15)\n",
        "            axes[i, j].set_xlabel('')\n",
        "            axes[i, j].set_ylabel('')\n",
        "\n",
        "    # Adjusting layout to prevent overlapping\n",
        "    plt.tight_layout()\n",
        "    plt.show()\n",
        "\n",
        "print(\"Sans normalisation\")\n",
        "plot_cluster_histograms(pd_segment_valeur, km_feature_columns)\n",
        "\n",
        "# print(\"\\n\\nAvec normalisation\")\n",
        "# plot_cluster_histograms(pd_segment_valeur_scaled, km_feature_columns)\n",
        "\n",
        "# print(\"\\n\\nAvec PCA\")\n",
        "# plot_cluster_histograms(pd_segment_valeur_pca, km_feature_columns)\n",
        "\n",
        "# print(\"\\n\\nAvec normalisation et PCA\")\n",
        "# plot_cluster_histograms(pd_segment_valeur_scaled_pca, km_feature_columns)\n"
      ]
    },
    {
      "cell_type": "markdown",
      "metadata": {
        "id": "zUe8EcWEtwKY"
      },
      "source": [
        "##### Profils"
      ]
    },
    {
      "cell_type": "markdown",
      "metadata": {
        "id": "-C6aAbzmx6Nn"
      },
      "source": [
        "- **Cluster 0**:\n",
        "1.Montant_service_achat, montant_service_paiement, nombre_service, frequence_service, frequence_servie_achat\n",
        "- **Cluster 1**:\n",
        "1.Palier_sup\n",
        "\n",
        "2.Lastest_avg_montant_recharge, frequence_total, montant_total, recence, anciennete\n",
        "\n",
        "3.Frequence_service_financier\n",
        "- **Cluster 2**\n",
        "1.Palier_inf, montant_service_paiement, montant_service_achat\n",
        "\n",
        "2.Frequence_service_achat,frequence_service_paiement,nombre_services,montant_service_paiement,montant_service_acaht\n",
        "\n",
        "- **Cluster 3**\n",
        "1.Montant_service_achat, montant_service_paiement\n",
        "\n",
        "3.Frequence_service_paiement, frequence_service_achat\n",
        "\n",
        "- **Cluster 4**\n",
        "1.Palier_inf\n",
        "\n",
        "2.Nombre_services"
      ]
    },
    {
      "cell_type": "code",
      "execution_count": null,
      "metadata": {
        "id": "RPvX1L3rt4b9"
      },
      "outputs": [],
      "source": [
        "def profiler_segmented_dataframe(original_dataframe, segment_labels):\n",
        "    # Créer une copie du DataFrame existant\n",
        "    df_final = original_dataframe.copy()\n",
        "\n",
        "    # Ajouter la colonne 'segment' avec les valeurs correspondantes\n",
        "    df_final['segment'] = df_final['cluster'].map(segment_labels).fillna('Autre')\n",
        "\n",
        "    return df_final\n",
        "\n",
        "\n",
        "# num_clusters = 4\n",
        "# pd_segment_valeur = apply_kmeans_clustering(pd_kmeans_encoded_loaded, num_clusters)\n",
        "\n",
        "segment_labels2 = {\n",
        "    0: 'Dispersé',\n",
        "    1: 'Polyvalent multiservice',\n",
        "    2: 'Dépensier',\n",
        "    3: 'Acheteur de produits Orange et payeur de factures',\n",
        "\n",
        "}\n",
        "\n",
        "# # Utiliser la fonction pour créer le nouveau DataFrame\n",
        "pd_segment_valeur_final = profiler_segmented_dataframe(pd_segment_valeur, segment_labels2)\n",
        "\n"
      ]
    },
    {
      "cell_type": "code",
      "execution_count": null,
      "metadata": {
        "id": "iLduJ3D6urJv"
      },
      "outputs": [],
      "source": [
        "# # Display the filtered DataFrame\n",
        "pd.set_option('display.max_columns', None)\n",
        "pd_segment_valeur_final[pd_segment_valeur_final[\"cluster\"] == 1].head(1000)"
      ]
    },
    {
      "cell_type": "code",
      "execution_count": null,
      "metadata": {
        "id": "i91B5QUN6-7L"
      },
      "outputs": [],
      "source": [
        "segment_valeur_final_df =pd_segment_valeur_final[pd_segment_valeur_final[\"numero\"] == '1000001' ]\n",
        "segment_valeur_final_df"
      ]
    },
    {
      "cell_type": "code",
      "execution_count": null,
      "metadata": {
        "id": "0tJgzVkV7dTC"
      },
      "outputs": [],
      "source": [
        "filtered_list = [item for item in pd_segment_valeur_final_dict if item.get(\"numero\") == 1000708]\n",
        "filtered_list"
      ]
    },
    {
      "cell_type": "markdown",
      "metadata": {
        "id": "m36wdABYqA-p"
      },
      "source": [
        "#### Visualisation des segments"
      ]
    },
    {
      "cell_type": "markdown",
      "metadata": {
        "id": "XRpeqz5UYld9"
      },
      "source": [
        "##### Description des clusters"
      ]
    },
    {
      "cell_type": "code",
      "execution_count": null,
      "metadata": {
        "id": "Hd2-sQ38sNM_"
      },
      "outputs": [],
      "source": [
        "import pandas as pd\n",
        "\n",
        "tableau = {\n",
        "    'Clusters': [0,1,2,3],\n",
        "\n",
        "    'Profils': [\n",
        "    'Polyvalent ',\n",
        "     'Client valeureux et rechargeur',\n",
        "    'Dépensier',\n",
        "     'Acheteur de produits Orange et payeur de factures'\n",
        "],\n",
        "\n",
        "    'Activités': [\n",
        "\n",
        "            ]\n",
        "}\n",
        "\n",
        "df = pd.DataFrame(tableau)\n",
        "\n",
        "# Centrer le texte dans la colonne 'Activité' et changer la couleur en bleu et blanc\n",
        "def highlight_text(text):\n",
        "    return f'text-align: center;'\n",
        "\n",
        "styled_df = df.style.applymap(highlight_text)\n",
        "\n",
        "# Add borders between columns\n",
        "styled_df.set_properties(**{\n",
        "    'border': '1px solid white',\n",
        "    'border-collapse': 'collapse',\n",
        "    'text-align': 'center'\n",
        "})\n"
      ]
    },
    {
      "cell_type": "code",
      "execution_count": null,
      "metadata": {
        "id": "uWTpiBqJ8KIX"
      },
      "outputs": [],
      "source": [
        "import pandas as pd\n",
        "\n",
        "tableau = {\n",
        "    'Clusters': [0, 1, 2, 3],\n",
        "\n",
        "    'Profils': [\n",
        "        'Dispersé',\n",
        "        'Polyvalent multiservice',\n",
        "        'Dépensier',\n",
        "        'Acheteur de produits Orange et payeur de factures',\n",
        "    ],\n",
        "\n",
        "    'Activités': [\n",
        "        'Clients à profil dispersé ayant des caractéristiques communes',\n",
        "        'Gèrent leurs finances avec prudence, effectuent des transactions étendues et sont actifs dans les recharges.',\n",
        "        'Dépensent de manière significative, en particulier dans des services financiers variés.',\n",
        "        'Concentrés sur l\\'achat de produits Orange et le paiement de factures.',\n",
        "    ]\n",
        "}\n",
        "\n",
        "df = pd.DataFrame(tableau)\n",
        "\n",
        "# Centrer le texte dans la colonne 'Activité' et changer la couleur en bleu et blanc\n",
        "def highlight_text(text):\n",
        "    return f'text-align: center;'\n",
        "\n",
        "styled_df = df.style.applymap(highlight_text)\n",
        "\n",
        "# Add borders between columns\n",
        "styled_df.set_properties(**{\n",
        "    'border': '1px solid white',\n",
        "    'border-collapse': 'collapse',\n",
        "    'text-align': 'center'\n",
        "})\n"
      ]
    },
    {
      "cell_type": "markdown",
      "metadata": {
        "id": "b0Mn6663qXMl"
      },
      "source": [
        "##### Répartion des clients"
      ]
    },
    {
      "cell_type": "code",
      "execution_count": null,
      "metadata": {
        "id": "RlqAk_yasm-E"
      },
      "outputs": [],
      "source": [
        "import matplotlib.pyplot as plt\n",
        "import seaborn as sns\n",
        "\n",
        "def plot_segment_distribution_by_customer(dataframe, segment_column):\n",
        "    # Create a countplot with a custom color palette\n",
        "    fig, ax = plt.subplots(1, 1, figsize=(20, 8))\n",
        "    sns.set(style=\"whitegrid\")\n",
        "\n",
        "    custom_palette =['#1ac938', 'orange', '#e8000b', '#023eff', 'black']\n",
        "\n",
        "    sns.countplot(x=segment_column, data=dataframe, palette=custom_palette)\n",
        "\n",
        "    # Calculate the total number of customers\n",
        "    total_count = len(dataframe)\n",
        "\n",
        "    # Annotate bars with percentages\n",
        "    for p in ax.patches:\n",
        "        percentage = '{:.2f}%'.format(100 * p.get_height() / total_count)\n",
        "        ax.annotate(percentage, (p.get_x() + p.get_width() / 2., p.get_height()), ha='center', va='center', fontsize=12, color='black', xytext=(0, 5), textcoords='offset points')\n",
        "\n",
        "    # Modify the ylabel and title\n",
        "    ax.set_ylabel('Nombre de clients')\n",
        "    ax.set_title('Distribution des clients par segment')\n",
        "\n",
        "    # Rotate x-axis labels by 45 degrees\n",
        "    ax.set_xticklabels(ax.get_xticklabels(), rotation=45, ha='right')\n",
        "\n",
        "    # Increase font size\n",
        "    ax.tick_params(axis='both', labelsize=14)\n",
        "\n",
        "    plt.show()\n",
        "\n",
        "# Example usage:\n",
        "# Assuming pd_rfm_segments is your DataFrame and 'segment_RFM' is the segment column\n",
        "# Replace these values with your actual DataFrame and column names\n",
        "plot_segment_distribution_by_customer(pd_segment_valeur_final, 'segment')\n"
      ]
    },
    {
      "cell_type": "code",
      "execution_count": null,
      "metadata": {
        "id": "lp0-yGg0xQlX"
      },
      "outputs": [],
      "source": [
        "pd_segment_valeur_final.info()"
      ]
    },
    {
      "cell_type": "markdown",
      "metadata": {
        "id": "tx2xxPNwY5uE"
      },
      "source": [
        "##### Répartition du chiffre d'affaires"
      ]
    },
    {
      "cell_type": "code",
      "execution_count": null,
      "metadata": {
        "id": "kaXVYkS7ZBC_"
      },
      "outputs": [],
      "source": [
        "import pandas as pd\n",
        "import matplotlib.pyplot as plt\n",
        "import seaborn as sns\n",
        "\n",
        "def plot_distribution_by_segment(dataframe, x_column, y_column):\n",
        "    # Group by the specified segment column and calculate total revenue\n",
        "    grouped_data = dataframe.groupby(x_column)[y_column].sum().reset_index()\n",
        "\n",
        "    # Calculate the percentage of revenue for each segment\n",
        "    total_revenue = grouped_data[y_column].sum()\n",
        "    grouped_data['Percentage_Revenue'] = (grouped_data[y_column] / total_revenue) * 100\n",
        "\n",
        "    # Create a diverse color palette\n",
        "    diverse_palette = sns.color_palette(\"husl\", n_colors=len(grouped_data))\n",
        "\n",
        "    # Create a bar plot using the diverse color palette\n",
        "    fig, ax = plt.subplots(figsize=(20, 9))\n",
        "    ax.bar(grouped_data.index, grouped_data['Percentage_Revenue'], color=diverse_palette)\n",
        "    ax.set_xlabel('Segments')\n",
        "    ax.set_ylabel(f'Pourcentage du revenu')\n",
        "    ax.set_title('Pourcentage du revenu par segment')\n",
        "\n",
        "    # Customize x-axis labels\n",
        "    ax.set_xticklabels(ax.get_xticklabels(), rotation=45, ha='right')\n",
        "    ax.set_xticks(grouped_data.index)\n",
        "    ax.set_xticklabels(grouped_data[x_column])\n",
        "\n",
        "    # Annotate bars with percentages\n",
        "    for i, percentage in enumerate(grouped_data['Percentage_Revenue']):\n",
        "        ax.annotate(f'{percentage:.2f}%', (grouped_data.index[i], percentage), ha='center', va='bottom')\n",
        "\n",
        "    plt.show()\n",
        "\n",
        "# Example usage:\n",
        "# Assuming pd_rfm_segments is your DataFrame, 'segment_RFM' is the segment column, and 'montant' is the revenue column\n",
        "# Replace these values with your actual DataFrame and column names\n",
        "plot_distribution_by_segment(pd_segment_valeur_final, 'segment','montant_total')"
      ]
    },
    {
      "cell_type": "code",
      "execution_count": null,
      "metadata": {
        "id": "C-FlJc_fsGaS"
      },
      "outputs": [],
      "source": [
        "plot_distribution_by_segment(pd_segment_valeur_final, 'segment','frequence_total')"
      ]
    },
    {
      "cell_type": "markdown",
      "metadata": {
        "id": "lyk276uvrMxe"
      },
      "source": [
        "#### Répartition par ancienneté/age"
      ]
    },
    {
      "cell_type": "code",
      "execution_count": null,
      "metadata": {
        "id": "Ako-M6GzrZ9r"
      },
      "outputs": [],
      "source": [
        "# import pandas as pd\n",
        "# import matplotlib.pyplot as plt\n",
        "# import seaborn as sns\n",
        "\n",
        "# def plot_age_distribution_by_rfm_segment(dataframe, segment_column, age_column):\n",
        "#     # Create a new 'AgeGroup' column to group customers by 10-year age brackets\n",
        "#     dataframe['AgeGroup'] = (dataframe[age_column] // 10) * 10\n",
        "\n",
        "#     # Group the data by RFM segment and age group, then calculate percentages by multiplying by 100\n",
        "#     grouped_data = dataframe.groupby([segment_column, 'AgeGroup']).size().unstack().div(dataframe.groupby(segment_column).size(), axis=0) * 100\n",
        "\n",
        "#     # Retrieve age group labels\n",
        "#     age_labels = [f'{i}' for i in range(10, 100, 10)]\n",
        "\n",
        "#     # Add '%' sign to annotations\n",
        "#     annot_data = grouped_data.applymap(lambda x: f'{x:.0f}%')\n",
        "\n",
        "#     # Display the distribution table with percentages in percentage (%)\n",
        "#     plt.figure(figsize=(14, 8))\n",
        "#     sns.heatmap(grouped_data, annot=annot_data, cmap='YlGnBu', cbar=False, fmt='', linewidths=1, linecolor='black')\n",
        "#     plt.title(\"Customer Distribution by RFM Segment and Age Group (in percentage)\")\n",
        "#     plt.xlabel(\"Age Group\")\n",
        "#     plt.ylabel(\"RFM Segment\")\n",
        "\n",
        "#     # Move age group labels to the center\n",
        "#     plt.xticks(range(len(age_labels)), age_labels, rotation=0)\n",
        "\n",
        "#     # Move age group labels 0.5 units down\n",
        "#     plt.yticks(range(len(grouped_data.index)), grouped_data.index, va=\"center\")\n",
        "\n",
        "#     plt.show()\n",
        "\n",
        "# # Example usage:\n",
        "# # Assuming pd_rfm_joined is your DataFrame, 'segment_RFM' is the segment column, and 'age' is the age column\n",
        "# # Replace these values with your actual DataFrame and column names\n",
        "# plot_age_distribution_by_rfm_segment(pd_segment_valeur_final, 'segment', 'age')\n"
      ]
    },
    {
      "cell_type": "markdown",
      "metadata": {
        "id": "piAweJG7N-2O"
      },
      "source": [
        "# **TESTS**\n",
        "\n",
        "---\n",
        "\n"
      ]
    },
    {
      "cell_type": "code",
      "execution_count": null,
      "metadata": {
        "id": "6Zr2C23sAy5U"
      },
      "outputs": [],
      "source": [
        "# #Importation des CSV\n",
        "# path='/content/drive/MyDrive/Colab/Segmentation/#datasets_OM'\n",
        "# file_list=['2022_2.csv', '2022_3.csv','2022_4.csv','2022_5.csv','2022_6.csv','2022_7.csv',  '2022_8.csv', '2022_8.csv','2022_9.csv','2022_10.csv','2022_11.csv','2022_12.csv','2023_1.csv','2023_2.csv','2023_3.csv','2023_4.csv','2023_5.csv','2023_6.csv','2023_7.csv', ]\n",
        "# df_agg = spark.read.csv(f'{path}/2022_1.csv', header=True)\n",
        "# for csv_file in file_list:\n",
        "#   df = spark.read.csv(f'{path}/{csv_file}', header=True, inferSchema=True)\n",
        "#   df_agg = df_agg.union(df)\n",
        "\n",
        "# df_agg.write.csv('#datasets_OM/trusted_om.base_transaction.csv', header=True, mode='overwrite')\n",
        "# # df_agg.toPandas().to_csv('#datasets_OM/trusted_om.transactions.csv', index=False)\n",
        "# # Show the RFM DataFrame\n",
        "# df_agg.show()"
      ]
    },
    {
      "cell_type": "code",
      "execution_count": null,
      "metadata": {
        "id": "02ppzKCYRHoW"
      },
      "outputs": [],
      "source": [
        "#!git clone https://github.com/asish012/dataanalytics.git"
      ]
    },
    {
      "cell_type": "code",
      "execution_count": null,
      "metadata": {
        "id": "jEMurL-XMyot"
      },
      "outputs": [],
      "source": [
        "# http://localhost:5000/segment_multiservice?numero_client=1000263&date_debut=2022-01-02&date_fin=2023-08-14"
      ]
    },
    {
      "cell_type": "markdown",
      "metadata": {
        "id": "3ivSi8dj9xzz"
      },
      "source": [
        "https://teams.microsoft.com/l/meetup-join/19%3ameeting_OTM5MTU4ZjgtZWRhMi00OGNmLThjNWUtODdkODk3MjNjZjNm%40thread.v2/0?context=%7b%22Tid%22%3a%22c1d47378-a976-412f-946f-f443471c31d8%22%2c%22Oid%22%3a%229b159804-21d5-4c36-93b7-035cfb264459%22%7d"
      ]
    }
  ],
  "metadata": {
    "colab": {
      "collapsed_sections": [
        "YHGfMY-12R90",
        "1FLPiOn96Gmq",
        "ZOQGqeshkV25",
        "zYVMG41l2di6",
        "pCYs_snqIrv-",
        "4aNuq12Wm0nt",
        "i5x9dH3qX2yq",
        "Vdur-cmG0CJg",
        "LfgB4Q7w0J3I",
        "Dc49NmMR0TiU",
        "9fTWWrlX0a0x",
        "NWB8e1Jh0ryn",
        "FV7jHlFN0wU3",
        "PLuqIYTvfiS5",
        "2e0Bbrf5LFwC",
        "E0ZE_eNAgPqO",
        "EYh8XJfPgPqQ",
        "5V7BrQQL0hfB",
        "i0r9y3K8gPqT",
        "Cg89z-DggPqT",
        "9apc9P2zLTMV",
        "lh7QFnPEjQwB",
        "sygCrRkQJVVM",
        "izCgpoGfljVl",
        "thY9LXoaYoya",
        "EI6JOfWCBuRQ",
        "7asYxRe4l4kU",
        "_YVsarwJoHt_",
        "Jj39TCKOoU-k",
        "PRLDO4_Qntm7",
        "Nhj-P3D_n2SJ",
        "wNN3P6VJqOPs",
        "aXV82oqSqp2v",
        "be7kHmfxq-d_",
        "zUe8EcWEtwKY",
        "XRpeqz5UYld9",
        "tx2xxPNwY5uE",
        "lyk276uvrMxe",
        "piAweJG7N-2O"
      ],
      "provenance": [],
      "include_colab_link": true
    },
    "kernelspec": {
      "display_name": "Python 3",
      "name": "python3"
    },
    "language_info": {
      "name": "python"
    }
  },
  "nbformat": 4,
  "nbformat_minor": 0
}