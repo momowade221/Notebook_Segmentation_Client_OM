{
  "cells": [
    {
      "cell_type": "markdown",
      "metadata": {
        "id": "view-in-github",
        "colab_type": "text"
      },
      "source": [
        "<a href=\"https://colab.research.google.com/github/momowade221/Segmentation_Valeur_OM/blob/dev/OM_Segmentation_valeur.ipynb\" target=\"_parent\"><img src=\"https://colab.research.google.com/assets/colab-badge.svg\" alt=\"Open In Colab\"/></a>"
      ]
    },
    {
      "cell_type": "markdown",
      "metadata": {
        "id": "n8-AFCkNN5Mm"
      },
      "source": [
        "# **CONFIGURATION**\n",
        "\n",
        "---\n",
        "\n"
      ]
    },
    {
      "cell_type": "code",
      "execution_count": null,
      "metadata": {
        "colab": {
          "base_uri": "https://localhost:8080/"
        },
        "id": "Re2VWo_L4kcQ",
        "outputId": "d7c6c25d-b26b-41e4-8581-67857d3ef51e"
      },
      "outputs": [
        {
          "output_type": "stream",
          "name": "stdout",
          "text": [
            "Collecting pyspark\n",
            "  Downloading pyspark-3.5.0.tar.gz (316.9 MB)\n",
            "\u001b[2K     \u001b[90m━━━━━━━━━━━━━━━━━━━━━━━━━━━━━━━━━━━━━━━\u001b[0m \u001b[32m316.9/316.9 MB\u001b[0m \u001b[31m4.1 MB/s\u001b[0m eta \u001b[36m0:00:00\u001b[0m\n",
            "\u001b[?25h  Preparing metadata (setup.py) ... \u001b[?25l\u001b[?25hdone\n",
            "Requirement already satisfied: py4j==0.10.9.7 in /usr/local/lib/python3.10/dist-packages (from pyspark) (0.10.9.7)\n",
            "Building wheels for collected packages: pyspark\n",
            "  Building wheel for pyspark (setup.py) ... \u001b[?25l\u001b[?25hdone\n",
            "  Created wheel for pyspark: filename=pyspark-3.5.0-py2.py3-none-any.whl size=317425344 sha256=17a48e66688eb741298718664b538f544b36d59d07320e98c36d664820965d5f\n",
            "  Stored in directory: /root/.cache/pip/wheels/41/4e/10/c2cf2467f71c678cfc8a6b9ac9241e5e44a01940da8fbb17fc\n",
            "Successfully built pyspark\n",
            "Installing collected packages: pyspark\n",
            "Successfully installed pyspark-3.5.0\n",
            "Collecting lifetimes\n",
            "  Downloading Lifetimes-0.11.3-py3-none-any.whl (584 kB)\n",
            "\u001b[2K     \u001b[90m━━━━━━━━━━━━━━━━━━━━━━━━━━━━━━━━━━━━━━━\u001b[0m \u001b[32m584.2/584.2 kB\u001b[0m \u001b[31m7.8 MB/s\u001b[0m eta \u001b[36m0:00:00\u001b[0m\n",
            "\u001b[?25hRequirement already satisfied: numpy>=1.10.0 in /usr/local/lib/python3.10/dist-packages (from lifetimes) (1.23.5)\n",
            "Requirement already satisfied: scipy>=1.0.0 in /usr/local/lib/python3.10/dist-packages (from lifetimes) (1.11.3)\n",
            "Requirement already satisfied: pandas>=0.24.0 in /usr/local/lib/python3.10/dist-packages (from lifetimes) (1.5.3)\n",
            "Requirement already satisfied: autograd>=1.2.0 in /usr/local/lib/python3.10/dist-packages (from lifetimes) (1.6.2)\n",
            "Collecting dill>=0.2.6 (from lifetimes)\n",
            "  Downloading dill-0.3.7-py3-none-any.whl (115 kB)\n",
            "\u001b[2K     \u001b[90m━━━━━━━━━━━━━━━━━━━━━━━━━━━━━━━━━━━━━━\u001b[0m \u001b[32m115.3/115.3 kB\u001b[0m \u001b[31m11.9 MB/s\u001b[0m eta \u001b[36m0:00:00\u001b[0m\n",
            "\u001b[?25hRequirement already satisfied: future>=0.15.2 in /usr/local/lib/python3.10/dist-packages (from autograd>=1.2.0->lifetimes) (0.18.3)\n",
            "Requirement already satisfied: python-dateutil>=2.8.1 in /usr/local/lib/python3.10/dist-packages (from pandas>=0.24.0->lifetimes) (2.8.2)\n",
            "Requirement already satisfied: pytz>=2020.1 in /usr/local/lib/python3.10/dist-packages (from pandas>=0.24.0->lifetimes) (2023.3.post1)\n",
            "Requirement already satisfied: six>=1.5 in /usr/local/lib/python3.10/dist-packages (from python-dateutil>=2.8.1->pandas>=0.24.0->lifetimes) (1.16.0)\n",
            "Installing collected packages: dill, lifetimes\n",
            "Successfully installed dill-0.3.7 lifetimes-0.11.3\n",
            "Collecting kmodes\n",
            "  Downloading kmodes-0.12.2-py2.py3-none-any.whl (20 kB)\n",
            "Requirement already satisfied: numpy>=1.10.4 in /usr/local/lib/python3.10/dist-packages (from kmodes) (1.23.5)\n",
            "Requirement already satisfied: scikit-learn>=0.22.0 in /usr/local/lib/python3.10/dist-packages (from kmodes) (1.2.2)\n",
            "Requirement already satisfied: scipy>=0.13.3 in /usr/local/lib/python3.10/dist-packages (from kmodes) (1.11.3)\n",
            "Requirement already satisfied: joblib>=0.11 in /usr/local/lib/python3.10/dist-packages (from kmodes) (1.3.2)\n",
            "Requirement already satisfied: threadpoolctl>=2.0.0 in /usr/local/lib/python3.10/dist-packages (from scikit-learn>=0.22.0->kmodes) (3.2.0)\n",
            "Installing collected packages: kmodes\n",
            "Successfully installed kmodes-0.12.2\n"
          ]
        }
      ],
      "source": [
        "!pip install pyspark\n",
        "!pip install lifetimes\n",
        "# !pip install kmodes"
      ]
    },
    {
      "cell_type": "code",
      "execution_count": 86,
      "metadata": {
        "colab": {
          "base_uri": "https://localhost:8080/",
          "height": 276
        },
        "id": "FWNZ58KE4mGQ",
        "outputId": "f48c4a3e-746b-48e3-f17e-00920ba56801"
      },
      "outputs": [
        {
          "output_type": "stream",
          "name": "stdout",
          "text": [
            "Drive already mounted at /content/drive; to attempt to forcibly remount, call drive.mount(\"/content/drive\", force_remount=True).\n",
            "/content/drive/MyDrive/Colab/Segmentation\n"
          ]
        },
        {
          "output_type": "execute_result",
          "data": {
            "text/plain": [
              "<pyspark.sql.session.SparkSession at 0x7a5b5463fb20>"
            ],
            "text/html": [
              "\n",
              "            <div>\n",
              "                <p><b>SparkSession - in-memory</b></p>\n",
              "                \n",
              "        <div>\n",
              "            <p><b>SparkContext</b></p>\n",
              "\n",
              "            <p><a href=\"http://c1cb5df85ab9:4040\">Spark UI</a></p>\n",
              "\n",
              "            <dl>\n",
              "              <dt>Version</dt>\n",
              "                <dd><code>v3.5.0</code></dd>\n",
              "              <dt>Master</dt>\n",
              "                <dd><code>local[*]</code></dd>\n",
              "              <dt>AppName</dt>\n",
              "                <dd><code>Transactions_OM</code></dd>\n",
              "            </dl>\n",
              "        </div>\n",
              "        \n",
              "            </div>\n",
              "        "
            ]
          },
          "metadata": {},
          "execution_count": 86
        }
      ],
      "source": [
        "from google.colab import drive\n",
        "drive.mount('/content/drive')\n",
        "%cd /content/drive/MyDrive/Colab/Segmentation/\n",
        "path='/content/drive/MyDrive/Colab/Segmentation/#datasets_OM'\n",
        "\n",
        "import pyspark\n",
        "import pandas as pd\n",
        "import numpy as np\n",
        "from datetime import datetime\n",
        "import matplotlib.pyplot as plt\n",
        "import seaborn as sns\n",
        "from pyspark.sql import SparkSession\n",
        "from pyspark.sql.functions import *\n",
        "from pyspark.sql.types import *\n",
        "from pyspark.ml.feature import *\n",
        "from pyspark.ml.clustering import *\n",
        "import datetime as dt\n",
        "from lifetimes import BetaGeoFitter\n",
        "from lifetimes import GammaGammaFitter\n",
        "from lifetimes.plotting import plot_period_transactions\n",
        "from sklearn.preprocessing import MinMaxScaler\n",
        "\n",
        "spark = SparkSession.builder.appName(\"Transactions_OM\").getOrCreate()\n",
        "spark"
      ]
    },
    {
      "cell_type": "markdown",
      "metadata": {
        "id": "l_PC13jIKuEV"
      },
      "source": [
        "# **PRÉPARATION DES DONNÉES**"
      ]
    },
    {
      "cell_type": "markdown",
      "source": [
        "## **Collection des données**"
      ],
      "metadata": {
        "id": "YHGfMY-12R90"
      }
    },
    {
      "cell_type": "code",
      "source": [
        "#Selection des données sur Hive\n",
        "\"\"\" SELECT * FROM `trusted_om`.`base_transaction_om` WHERE day >= '20230801' AND day <= '20230831'\n",
        " ORDER BY RAND() LIMIT 100000; \"\"\""
      ],
      "metadata": {
        "id": "7j484CTGBTZY"
      },
      "execution_count": null,
      "outputs": []
    },
    {
      "cell_type": "code",
      "execution_count": 89,
      "metadata": {
        "id": "dUzwW-X741r4"
      },
      "outputs": [],
      "source": [
        "df_transaction_om=spark.read.csv(f'{path}/base_transaction_om.csv', header=True)\n",
        "df_transaction_oem=spark.read.csv(f'{path}/base_transaction_oem.csv', header=True)\n",
        "\n",
        "#BaseTransaction OM\n",
        "new_column_names = [col_name.replace(\"base_transaction_om.\", \"\") for col_name in df_transaction_om.columns]\n",
        "df_transaction_om= df_transaction_om.toDF(*new_column_names)\n",
        "\n",
        "#BaseTransaction OEM\n",
        "new_column_names2 = [col_name2.replace(\"base_transaction_oem.\", \"\") for col_name2 in df_transaction_oem.columns]\n",
        "df_transaction_oem= df_transaction_oem.toDF(*new_column_names2)"
      ]
    },
    {
      "cell_type": "markdown",
      "metadata": {
        "id": "nco26IrOOEs1"
      },
      "source": [
        "## **Exploration des données**\n",
        "\n",
        "---\n",
        "\n"
      ]
    },
    {
      "cell_type": "code",
      "source": [
        "def df_info(df: DataFrame):\n",
        "\n",
        "   # Info\n",
        "    print(\"\\n########### Info ###########\")\n",
        "    df.printSchema()\n",
        "\n",
        "     # Columns\n",
        "    print(\"\\n########### Columns ###########\")\n",
        "    print(df.columns)\n",
        "\n",
        "    # Shape\n",
        "    print(\"\\n########### Shape ###########\")\n",
        "    num_rows = df.count()\n",
        "    num_cols = len(df.columns)\n",
        "    print(f\"Number of rows: {num_rows}, Number of columns: {num_cols}\")\n",
        "\n",
        "    # Head\n",
        "    print(\"\\n########### Head ###########\")\n",
        "    df.show(5, truncate=False)  # Show the first 5 rows without truncation\n",
        "\n",
        "    # Tail\n",
        "    print(\"\\n########### Tail ###########\")\n",
        "    df.orderBy(df.columns[0], ascending=False).show(5, truncate=False)  # Show the last 5 rows\n",
        "\n",
        "\n",
        "    # Quantiles\n",
        "    print(\"\\n########### Quantiles ###########\")\n",
        "    df.summary().show()\n",
        "\n",
        "    # NA (Missing values)\n",
        "    print(\"\\n########### NA (Missing Values) ###########\")\n",
        "    count_NA = df_transaction_om.agg(*[sum(col(c).isNull().cast(\"int\")).alias(c) for c in df_transaction_om.columns])\n",
        "    # Affichez le résultat\n",
        "    print(\"Le nombre de colonnes qui contiennent NA \")\n",
        "    count_NA.show()\n",
        "\n",
        "    # Compter les occurrences de \"NULL\" dans chaque colonne\n",
        "    count_exprs = [expr(f\"sum(case when {c} like '%NULL%' then 1 else 0 end) as {c}_count\") for c in df_transaction_om.columns]\n",
        "    print(\"Le nombre de lignes qui contienent NULL \")\n",
        "    count_NULL = df_transaction_om.select(*count_exprs)\n",
        "    count_NULL.show()\n",
        "\n",
        "    #Duplicate rows\n",
        "    print(\"\\n########### Données dupliquées ###########\")\n",
        "    duplicate_rows_count = df.groupBy(df.columns).count().filter(\"count > 1\")\n",
        "    duplicate_rows_count.show()\n",
        "\n",
        "def printdf(df):\n",
        "    return df.toPandas()"
      ],
      "metadata": {
        "id": "1uq-3ibZILUG"
      },
      "execution_count": 55,
      "outputs": []
    },
    {
      "cell_type": "code",
      "source": [
        "df_info(df_transaction_om)"
      ],
      "metadata": {
        "colab": {
          "base_uri": "https://localhost:8080/"
        },
        "id": "v1rbHXukIOPl",
        "outputId": "817f22bb-7565-48e8-a036-2c0e1986105d"
      },
      "execution_count": 57,
      "outputs": [
        {
          "output_type": "stream",
          "name": "stdout",
          "text": [
            "\n",
            "########### Info ###########\n",
            "root\n",
            " |-- msisdn: string (nullable = true)\n",
            " |-- destinataire: string (nullable = true)\n",
            " |-- channel: string (nullable = true)\n",
            " |-- date: string (nullable = true)\n",
            " |-- description: string (nullable = true)\n",
            " |-- fees: string (nullable = true)\n",
            " |-- montant: string (nullable = true)\n",
            " |-- operation: string (nullable = true)\n",
            " |-- status: string (nullable = true)\n",
            " |-- statuscode: string (nullable = true)\n",
            " |-- titre: string (nullable = true)\n",
            " |-- transactionid: string (nullable = true)\n",
            " |-- typetransaction: string (nullable = true)\n",
            " |-- ingest_date: string (nullable = true)\n",
            " |-- year: string (nullable = true)\n",
            " |-- month: string (nullable = true)\n",
            " |-- day: string (nullable = true)\n",
            "\n",
            "\n",
            "########### Columns ###########\n",
            "['msisdn', 'destinataire', 'channel', 'date', 'description', 'fees', 'montant', 'operation', 'status', 'statuscode', 'titre', 'transactionid', 'typetransaction', 'ingest_date', 'year', 'month', 'day']\n",
            "\n",
            "########### Shape ###########\n",
            "Number of rows: 1994000, Number of columns: 17\n",
            "\n",
            "########### Head ###########\n",
            "+-------+----------------------------------------------------------------+-------+-----------------------+------------------+-----+-------+-----------+--------+----------+----------------+----------------------------------------------------------------+-------------------+-----------------------+----+-----+--------+\n",
            "|msisdn |destinataire                                                    |channel|date                   |description       |fees |montant|operation  |status  |statuscode|titre           |transactionid                                                   |typetransaction    |ingest_date            |year|month|day     |\n",
            "+-------+----------------------------------------------------------------+-------+-----------------------+------------------+-----+-------+-----------+--------+----------+----------------+----------------------------------------------------------------+-------------------+-----------------------+----+-----+--------+\n",
            "|2644236|fe7c05d0b174d5b9a9743143792c24d075a9e54213cfe48830611c94c1fb5df0|USSD   |2022-03-30 10:31:18    |NULL              |0.0  |2000.0 |Cashin     |TS      |200       |NULL            |cc6e05bbb8393897657399420b2ebe7c1d203f574bb2a09f924af06a0e72e354|CASHIN             |2023-04-13 20:13:49.706|2022|03   |20220330|\n",
            "|2611089|863817a662311263721a00ced401374a3a5e938262f707bcf6d4a55379a1f67d|USSD   |2022-03-17 12:07:50    |NULL              |0.0  |10000.0|CASHOUT    |éffectué|TS        |Retrait d'argent|ee4def20586420ee2a166b91cb677618caae4ce39c2a84ffe444615e71a3cd2a|CASHOUT_CONFIRM    |2023-04-13 19:59:09.592|2022|03   |20220317|\n",
            "|1289124|504da11f1484ae0d0ed9823b6253852b3b7b56f10871fb095fae807d82c42019|USSD   |2022-03-11 17:10:02    |NULL              |0.0  |25000.0|CASHOUT    |éffectué|TS        |Retrait d'argent|2e2aa9d8f1f8a77326400a8261175195c87c4f145560c75f4384d2449a3ac1dd|CASHOUT_CONFIRM    |2023-04-13 19:53:06.063|2022|03   |20220311|\n",
            "|1118440|6aacfe7ed7756d920023ec5363d7d221faa4dac3e03affbc177e6fcf5fc6cf2e|mobile |2022-03-08 12:44:13.056|Transfert effectué|8.0  |1000.0 |Transfert  |effectué|TS        |Transfert       |5e87de3264f8e3fd096665f5bcaeba92ba83a2a9cf7d7aeb7f2616e3f1ca231a|transfert_sans_code|2023-04-13 19:50:09.377|2022|03   |20220308|\n",
            "|320287 |defe2c9d11aa0517c6f7ffa47f916ebf787b2d616421fd528d1ddc47e110e449|USSD   |2022-03-06 15:51:27    |NULL              |397.0|49603.0|Cashinother|TS      |200       |NULL            |dda31ab1a7e91266badc57d4791c66a875a8864df11be82d08f37db555da2dbe|CASHINOTHER        |2023-04-13 19:48:19.383|2022|03   |20220306|\n",
            "+-------+----------------------------------------------------------------+-------+-----------------------+------------------+-----+-------+-----------+--------+----------+----------------+----------------------------------------------------------------+-------------------+-----------------------+----+-----+--------+\n",
            "only showing top 5 rows\n",
            "\n",
            "\n",
            "########### Tail ###########\n",
            "+------+----------------------------------------------------------------+-------+-------------------+-----------+------+--------+---------+--------+----------+----------------+----------------------------------------------------------------+---------------+-----------------------+----+-----+--------+\n",
            "|msisdn|destinataire                                                    |channel|date               |description|fees  |montant |operation|status  |statuscode|titre           |transactionid                                                   |typetransaction|ingest_date            |year|month|day     |\n",
            "+------+----------------------------------------------------------------+-------+-------------------+-----------+------+--------+---------+--------+----------+----------------+----------------------------------------------------------------+---------------+-----------------------+----+-----+--------+\n",
            "|999992|f564a488f8d14bc274228575dd63e01c563ad3dccf525fc402abd95f6a07d3f3|USSD   |2022-08-31 10:21:38|NULL       |0.0   |3000.0  |CASHOUT  |éffectué|TS        |Retrait d'argent|830fea694e77bfe1530bc1dd4fdf6bc01490f4a1509796f08d116d956c8797ed|CASHOUT_CONFIRM|2023-04-13 22:53:11.313|2022|08   |20220831|\n",
            "|999976|55c6305ec2bdf5fd9ca550d6842bf46c61534a68f6e94c3a31bae4331f7b60ee|USSD   |2022-02-06 17:08:43|NULL       |0.0   |2000.0  |CASHOUT  |éffectué|TS        |Retrait d'argent|5c3b2303718f3dbfdf569e63dc32e3562bc53ffc162984d284bfca4e5115c0c4|CASHOUT_CONFIRM|2023-04-13 19:21:00.058|2022|02   |20220206|\n",
            "|999971|042b7d903ca1a02dd2ba9cbc838b25b426b901d09c9405fa6749afc50efb18eb|USSD   |2022-10-15 19:16:33|NULL       |1200.0|150000.0|Transfert|TS      |200       |NULL            |be1d0c30efa7f27fea953fd18a4cd351bd1c39e70892ddbaf265d5a1920fad2b|TRANSFERT      |2023-04-13 23:45:34.992|2022|10   |20221015|\n",
            "|999971|042b7d903ca1a02dd2ba9cbc838b25b426b901d09c9405fa6749afc50efb18eb|USSD   |2022-10-15 19:16:33|NULL       |1200.0|150000.0|Transfert|TS      |200       |NULL            |be1d0c30efa7f27fea953fd18a4cd351bd1c39e70892ddbaf265d5a1920fad2b|TRANSFERT      |2023-04-13 23:45:34.992|2022|10   |20221015|\n",
            "|999971|aa79a7168c381ac60c19fe7f53c66001f49dbdd66df7eaa80913097739472b59|USSD   |2023-01-23 10:30:39|NULL       |20.0  |2500.0  |Transfert|TS      |200       |NULL            |2dce398fc4852242e5e50d38776fc31292a938c062ed5689dcb1f046ca47c061|TRANSFERT      |2023-04-13 17:55:56.519|2023|01   |20230123|\n",
            "+------+----------------------------------------------------------------+-------+-------------------+-----------+------+--------+---------+--------+----------+----------------+----------------------------------------------------------------+---------------+-----------------------+----+-----+--------+\n",
            "only showing top 5 rows\n",
            "\n",
            "\n",
            "########### Quantiles ###########\n",
            "+-------+-----------------+--------------------+-------------+-------------------+--------------------+------------------+------------------+-------------+--------+----------+--------+--------------------+--------------------+--------------------+------------------+------------------+--------------------+\n",
            "|summary|           msisdn|        destinataire|      channel|               date|         description|              fees|           montant|    operation|  status|statuscode|   titre|       transactionid|     typetransaction|         ingest_date|              year|             month|                 day|\n",
            "+-------+-----------------+--------------------+-------------+-------------------+--------------------+------------------+------------------+-------------+--------+----------+--------+--------------------+--------------------+--------------------+------------------+------------------+--------------------+\n",
            "|  count|          1994000|             1994000|      1994000|            1994000|             1994000|           1994000|           1994000|      1994000| 1994000|   1994000| 1994000|             1994000|             1994000|             1994000|           1994000|           1994000|             1994000|\n",
            "|   mean|1326853.146450351|                NULL|         NULL|               NULL|                NULL| 44.86941636478831|24832.600940162658|         NULL|    NULL|     200.0|    NULL|                NULL|                NULL|                NULL|2022.4012036108325| 5.746238716148445|2.0224601634303913E7|\n",
            "| stddev|765171.2237023045|                NULL|         NULL|               NULL|                NULL|236.63107999957575|1106119.2563446476|         NULL|    NULL|       0.0|    NULL|                NULL|                NULL|                NULL|0.4901422181131863|3.0963794803977214|   4828.300343385363|\n",
            "|    min|          1000000|000000a469b17b74a...|DISTRI_MOBILE|2022-01-01 00:00:35|A la prochaine sa...|               0.0|               0.0|Achat Illimix|En cours|       200|AQUATECH|000003a8a877d70b7...|        ACHAT_CREDIT|2023-04-13 16:09:...|              2022|                01|            20220101|\n",
            "|    25%|         670025.0|                NULL|         NULL|               NULL|                NULL|               0.0|            1525.0|         NULL|    NULL|     200.0|    NULL|                NULL|                NULL|                NULL|            2022.0|               3.0|         2.0220601E7|\n",
            "|    50%|        1320623.0|                NULL|         NULL|               NULL|                NULL|               0.0|            5000.0|         NULL|    NULL|     200.0|    NULL|                NULL|                NULL|                NULL|            2022.0|               5.0|         2.0221016E7|\n",
            "|    75%|        1983121.0|                NULL|         NULL|               NULL|                NULL|              12.0|           12000.0|         NULL|    NULL|     200.0|    NULL|                NULL|                NULL|                NULL|            2023.0|               8.0|         2.0230401E7|\n",
            "|    max|           999992|ffffe2ae7d2149b08...|       mobile|2023-08-17 23:59:29|une confirmation ...|              NULL|              NULL|  Wallet2Bank|éffectué|  éffectué| Woyofal|ffffee5b343ea41ed...|transfert_sous_co...|2023-08-18 00:15:...|              2023|                11|            20230817|\n",
            "+-------+-----------------+--------------------+-------------+-------------------+--------------------+------------------+------------------+-------------+--------+----------+--------+--------------------+--------------------+--------------------+------------------+------------------+--------------------+\n",
            "\n",
            "\n",
            "########### NA (Missing Values) ###########\n",
            "{'msisdn': 0, 'destinataire': 0, 'channel': 0, 'date': 0, 'description': 0, 'fees': 0, 'montant': 0, 'operation': 0, 'status': 0, 'statuscode': 0, 'titre': 0, 'transactionid': 0, 'typetransaction': 0, 'ingest_date': 0, 'year': 0, 'month': 0, 'day': 0}\n"
          ]
        }
      ]
    },
    {
      "cell_type": "code",
      "execution_count": 58,
      "metadata": {
        "id": "lhGvQvYX_7HW"
      },
      "outputs": [],
      "source": [
        "from pyspark.sql import DataFrame\n",
        "from pyspark.sql.functions import sum\n",
        "\n",
        "def df_data_info(df: DataFrame):\n",
        "    # Nombre de clients distincts dans le jeu de données\n",
        "    customer_count = df.select(\"msisdn \").distinct().count()\n",
        "    print(\"Le nombre de clients dans le jeu de données :\", customer_count)\n",
        "    print(\"-------------------------------------------------------\")\n",
        "\n",
        "    # Nombre de produits distincts dans le jeu de données\n",
        "    product_count = df.select(\"operation\").distinct().count()\n",
        "    print(\"Le nombre de produits dans le jeu de données :\", product_count)\n",
        "    print(\"-------------------------------------------------------\")\n",
        "\n",
        "    # Afficher le jeu de données trié par salaire le plus élevé\n",
        "    print(\"Notre jeu de données, trié par salaire le plus élevé :\")\n",
        "    df.sort(df[\"montant\"], ascending=False).show(5, truncate=False)\n",
        "    print(\"-------------------------------------------------------\")\n",
        "\n",
        "    # Afficher le jeu de données trié par salaire le plus bas\n",
        "    print(\"Notre jeu de données, trié par salaire le plus bas :\")\n",
        "    df.sort(df[\"montant\"], ascending=True).show(5, truncate=False)\n"
      ]
    },
    {
      "cell_type": "code",
      "execution_count": null,
      "metadata": {
        "colab": {
          "base_uri": "https://localhost:8080/"
        },
        "id": "Igpx8RJkq_X7",
        "outputId": "6f1c21fe-5cc0-4988-e7be-76991e581ad6"
      },
      "outputs": [
        {
          "output_type": "stream",
          "name": "stdout",
          "text": [
            "Channel\n",
            "+-------------+\n",
            "|      channel|\n",
            "+-------------+\n",
            "|       mobile|\n",
            "|         USSD|\n",
            "|DISTRI_MOBILE|\n",
            "|         NULL|\n",
            "+-------------+\n",
            "\n",
            "Type de transaction\n",
            "+--------------------+--------------------+--------------------+\n",
            "|     typetransaction|               titre|           operation|\n",
            "+--------------------+--------------------+--------------------+\n",
            "|        ACHAT_CREDIT|     Recharge Credit|            Recharge|\n",
            "|         Bank2Wallet|      Banque vers OM|         Bank2Wallet|\n",
            "|                 C2C|           Transfert|           Transfert|\n",
            "|              CASHIN|               Dépot|               Dépot|\n",
            "|              CASHIN|               Depot|               Depot|\n",
            "|              CASHIN|                NULL|              Cashin|\n",
            "|         CASHINOTHER|                NULL|         Cashinother|\n",
            "|        CASHIN_OTHER|               Envoi|               Envoi|\n",
            "|             CASHOUT|    Retrait d'argent|             CASHOUT|\n",
            "|             CASHOUT|                NULL|             CASHOUT|\n",
            "|     CASHOUT_CONFIRM|    Retrait d'argent|             CASHOUT|\n",
            "|     CASHOUT_CONFIRM|             Retrait|             Retrait|\n",
            "|     CASHOUT_CONFIRM|    Retrait d'argent|                NULL|\n",
            "|     CASHOUT_CONFIRM|    Retrait d'argent|             Retrait|\n",
            "|         CASHOUT_TAC|   Retrait avec code|             Retrait|\n",
            "|    DONS_COTISATIONS| Dons et cotisations| Dons et cotisations|\n",
            "|                 IRT|Transfert interna...|           Transfert|\n",
            "|    PAIEMENT_FACTURE|                 SEN|    Paiement facture|\n",
            "|    PAIEMENT_FACTURE|         SONATELFIXE|    Paiement facture|\n",
            "|    PAIEMENT_FACTURE|             SEN'EAU|    Paiement facture|\n",
            "|   PAIEMENT_MARCHAND|                NULL|   Paiement marchand|\n",
            "|   PAIEMENT_MARCHAND|   Paiement marchand|   Paiement marchand|\n",
            "|     PAIEMENT_RAPIDO|              Rapido|     Paiement rapido|\n",
            "|    PAIEMENT_WOYOFAL|             Woyofal|    Paiement Woyofal|\n",
            "|     RECHARGE_XEWEUL|     Recharge Xeweul|     Recharge Xeweul|\n",
            "|           TRANSFERT|                NULL|           Transfert|\n",
            "| TRANSFERT_SANS_CODE|           Transfert|           Transfert|\n",
            "|        VENTE_CREDIT|        Vente Crédit|            Recharge|\n",
            "|        VENTE_CREDIT|     Recharge Credit|            Recharge|\n",
            "|         Wallet2Bank|      OM vers Banque|         Wallet2Bank|\n",
            "|        achat_credit|     Recharge Crédit|            Recharge|\n",
            "|     achat_pass_data|       Pass Internet|          Achat Pass|\n",
            "|  achat_pass_illimix|        Pass Illimix|       Achat Illimix|\n",
            "|   industrialisation|          Sunna Moon|  Paiement SunnaMoon|\n",
            "|   industrialisation|           SAMA MBEY|  Paiement sama mbey|\n",
            "|   industrialisation|              ILEMEL|     Paiement ILEMEL|\n",
            "|   industrialisation|            Ubipharm|   Paiement Ubipharm|\n",
            "|   industrialisation|                 ISM|        Paiement ISM|\n",
            "|   industrialisation| Carte TotalEnergies|Paiement Carte Total|\n",
            "|      paiement_canal|             Canal +|      Paiement Canal|\n",
            "|    paiement_facture|         SONATELFIXE|    Paiement facture|\n",
            "|    paiement_facture|         SONATELFIXE|    Paiement Facture|\n",
            "|    paiement_facture|                 SDE|    Paiement Facture|\n",
            "|    paiement_facture|       SONATELMOBILE|    Paiement Facture|\n",
            "|    paiement_facture|                 SEN|    Paiement facture|\n",
            "|    paiement_facture|       SONATELMOBILE|    Paiement facture|\n",
            "|    paiement_facture|                 SEN|    Paiement Facture|\n",
            "|    paiement_facture|                 SDE|    Paiement facture|\n",
            "|    paiement_facture|            AQUATECH|    Paiement facture|\n",
            "|   paiement_marchand|   Paiement marchand|   Paiement marchand|\n",
            "|     paiement_rapido|              Rapido|     Paiement rapido|\n",
            "|    paiement_woyofal|             Woyofal|    Paiement Woyofal|\n",
            "|     recharge_xeweul|     Recharge Xeweul|     Recharge Xeweul|\n",
            "| transfert_avec_code|           Transfert|           Transfert|\n",
            "| transfert_sans_code|           Transfert|           Transfert|\n",
            "|transfert_sous_co...|           Transfert|           Transfert|\n",
            "+--------------------+--------------------+--------------------+\n",
            "\n",
            "Statut\n",
            "+---------+\n",
            "|   status|\n",
            "+---------+\n",
            "|   échoué|\n",
            "| effectue|\n",
            "| En cours|\n",
            "|       TP|\n",
            "| effectué|\n",
            "|effectuée|\n",
            "|   FAILED|\n",
            "|       TS|\n",
            "| éffectué|\n",
            "|  PENDING|\n",
            "|       TF|\n",
            "|effectuee|\n",
            "|  SUCCESS|\n",
            "|     NULL|\n",
            "+---------+\n",
            "\n"
          ]
        }
      ],
      "source": [
        "print(\"Channel\")\n",
        "df_transaction_om.select(\"channel\").distinct().show()\n",
        "print(\"Type de transaction\")\n",
        "df_transaction_om.select(\"typetransaction\",\"titre\",\"operation\").distinct().orderBy(\"typetransaction\").show(100)\n",
        "# df_transaction_om.select(\"typetransaction\").distinct().orderBy(asc(\"typetransaction\")).show(100)\n",
        "# df_transaction_om.select(\"typetransaction\",\"titre\").filter(col(\"typetransaction\")==\"C2C\").distinct().show(100)\n",
        "print(\"Statut\")\n",
        "df_transaction_om.select(\"status\").distinct().show()"
      ]
    },
    {
      "cell_type": "markdown",
      "source": [
        "## **Prétraitement des données**"
      ],
      "metadata": {
        "id": "cgQsW-iAg7ip"
      }
    },
    {
      "cell_type": "markdown",
      "source": [
        "### Transformation des données"
      ],
      "metadata": {
        "id": "vaWA_dhaheTf"
      }
    },
    {
      "cell_type": "code",
      "source": [
        "#Transformation en minuscule de la colonne Type transaction\n",
        "df_transaction_om=df_transaction_om.withColumn(\"typetransaction\", lower(df_transaction_om[\"typetransaction\"]))\n",
        "\n",
        "#Selection des Colonnes Nécessaires\n",
        "no_taken_columns=[\"fees\",\"transactionid\",\"operation\", \"destinataire\",\"date\", \"month\", \"year\",\"ingest_date\",\"description\",\"status\",\"statuscode\"]\n",
        "taken_columns=[\"msisdn\",\"montant\",\"day\" ,\"typetransaction\", \"titre\", \"channel\"]\n",
        "df_transaction_om=df_transaction_om.select(taken_columns)\n",
        "\n",
        "# Sélection des colonnes nécessaires et renommage\n",
        "df_transaction_om = df_transaction_om.select(\"msisdn\", \"montant\", \"day\", \"typetransaction\", \"titre\", \"channel\") \\\n",
        "                                     .withColumnRenamed(\"msisdn\", \"Numero\") \\\n",
        "                                     .withColumnRenamed(\"day\", \"Date\") \\\n",
        "                                     .withColumnRenamed(\"typetransaction\", \"TypeTransaction\") \\\n",
        "                                     .withColumnRenamed(\"montant\", \"Montant\") \\\n",
        "                                     .withColumnRenamed(\"titre\", \"TitreTransaction\") \\\n",
        "                                     .withColumnRenamed(\"channel\", \"Channel\")\n",
        "\n",
        "\n",
        "#Supprimer les lignes où 'Montant' est égal à \"NULL\"\n",
        "df_transaction_om = df_transaction_om.filter(df_transaction_om[\"Montant\"] != \"NULL\")\n",
        "\n",
        "#Conversion des données des colonnes Date et Montant\n",
        "df_transaction_om = df_transaction_om.withColumn(\"Montant\", col(\"Montant\").cast(FloatType()))\n",
        "df_transaction_om= df_transaction_om.withColumn(\"Date\", to_date(df_transaction_om[\"Date\"], \"yyyyMMdd\"))\n",
        "\n",
        "#Affichage des résultats\n",
        "df_transaction_om.printSchema()\n",
        "df_transaction_om.show()"
      ],
      "metadata": {
        "colab": {
          "base_uri": "https://localhost:8080/"
        },
        "id": "Di_hHPUVPZag",
        "outputId": "7783ff56-6467-47f2-bda8-237ec6585314"
      },
      "execution_count": 90,
      "outputs": [
        {
          "output_type": "stream",
          "name": "stdout",
          "text": [
            "root\n",
            " |-- Numero: string (nullable = true)\n",
            " |-- Montant: float (nullable = true)\n",
            " |-- Date: date (nullable = true)\n",
            " |-- TypeTransaction: string (nullable = true)\n",
            " |-- TitreTransaction: string (nullable = true)\n",
            " |-- Channel: string (nullable = true)\n",
            "\n",
            "+-------+--------+----------+-------------------+----------------+-------------+\n",
            "| Numero| Montant|      Date|    TypeTransaction|TitreTransaction|      Channel|\n",
            "+-------+--------+----------+-------------------+----------------+-------------+\n",
            "|2644236|  2000.0|2022-03-30|             cashin|            NULL|         USSD|\n",
            "|2611089| 10000.0|2022-03-17|    cashout_confirm|Retrait d'argent|         USSD|\n",
            "|1289124| 25000.0|2022-03-11|    cashout_confirm|Retrait d'argent|         USSD|\n",
            "|1118440|  1000.0|2022-03-08|transfert_sans_code|       Transfert|       mobile|\n",
            "| 320287| 49603.0|2022-03-06|        cashinother|            NULL|         USSD|\n",
            "|2643081|  5000.0|2022-03-11|          transfert|            NULL|         USSD|\n",
            "|1294671|  2000.0|2022-03-30|            cashout|            NULL|         USSD|\n",
            "|1283556|  2000.0|2022-03-02|             cashin|            NULL|         USSD|\n",
            "|1788766|  1500.0|2022-03-20|transfert_sans_code|       Transfert|       mobile|\n",
            "| 382309|  2500.0|2022-03-20|          transfert|            NULL|         USSD|\n",
            "|1543258| 78500.0|2022-03-25|          transfert|            NULL|         USSD|\n",
            "|1600060|  2800.0|2022-03-22|            cashout|Retrait d'argent|DISTRI_MOBILE|\n",
            "|2586073|100000.0|2022-03-14|        cashinother|            NULL|         USSD|\n",
            "| 942778|  2000.0|2022-03-27|            cashout|            NULL|         USSD|\n",
            "|1265669| 15000.0|2022-03-17|            cashout|            NULL|         USSD|\n",
            "|2577254|   690.0|2022-03-03| achat_pass_illimix|    Pass Illimix|       mobile|\n",
            "|2570130|  3000.0|2022-03-09|    cashout_confirm|Retrait d'argent|         USSD|\n",
            "|1255004| 20000.0|2022-03-04|transfert_sans_code|       Transfert|       mobile|\n",
            "|2555353|   500.0|2022-03-07| achat_pass_illimix|    Pass Illimix|       mobile|\n",
            "|1324112|147900.0|2022-03-15|            cashout|            NULL|         USSD|\n",
            "+-------+--------+----------+-------------------+----------------+-------------+\n",
            "only showing top 20 rows\n",
            "\n"
          ]
        }
      ]
    },
    {
      "cell_type": "markdown",
      "source": [
        "### Nettoyage des données"
      ],
      "metadata": {
        "id": "OpOFDcHehPLW"
      }
    },
    {
      "cell_type": "markdown",
      "source": [
        "#### Données manquantes"
      ],
      "metadata": {
        "id": "6grLurexX06-"
      }
    },
    {
      "cell_type": "code",
      "source": [
        "#OPÉRATIONS SUR LES DONNÉES MANQUANTES ET BRUITS\n",
        "\n",
        "#Transformations sur les Types des Transacions\n",
        "df_transaction_om = df_transaction_om.withColumn(\"TitreTransaction\",\n",
        "                                                 when((col(\"TypeTransaction\") == \"cashin\") & (col(\"TitreTransaction\") == \"NULL\"), \"Depot\")\n",
        "                                                 .when((col(\"TypeTransaction\") == \"cashin\") & (col(\"TitreTransaction\") == \"Dépot\"), \"Depot\")\n",
        "                                                 .when((col(\"TypeTransaction\") == \"achat_credit\") & (col(\"TitreTransaction\") == \"Recharge Crédit\"), \"Recharge Credit\")\n",
        "                                                 .when((col(\"TypeTransaction\") == \"cashout\") & (col(\"TitreTransaction\") == \"NULL\"), \"Retrait\")\n",
        "                                                 .when((col(\"TypeTransaction\") == \"transfert\") & (col(\"TitreTransaction\") == \"NULL\"), \"Transfert\")\n",
        "                                                 .when((col(\"TypeTransaction\") == \"cashinother\") & (col(\"TitreTransaction\") == \"NULL\"), \"Autre retrait\")\n",
        "                                                 .when((col(\"TypeTransaction\") == \"cashout_confirm\") | (col(\"TypeTransaction\") == \"cashout\") & (col(\"TitreTransaction\") == \"Retrait d'argent\"), \"Retrait\")\n",
        "                                                 .when((col(\"TypeTransaction\") == \"paiement_marchand\") & (col(\"TitreTransaction\") == \"NULL\"), \"Paiement marchand\")\n",
        "                                                 .otherwise(df_transaction_om[\"TitreTransaction\"])\n",
        "                                                 )\n",
        "\n",
        "#Transformations sur les Channel\n",
        "df_transaction_om = df_transaction_om.withColumn(\"Channel\", when(col(\"Channel\") == \"NULL\", \"Inconnu\").otherwise(col(\"Channel\")))\n",
        "df_transaction_om.show()"
      ],
      "metadata": {
        "id": "I0JGD2rEhIGq",
        "colab": {
          "base_uri": "https://localhost:8080/"
        },
        "outputId": "56db7690-da67-4907-932f-4dcfd923b22d"
      },
      "execution_count": 91,
      "outputs": [
        {
          "output_type": "stream",
          "name": "stdout",
          "text": [
            "+-------+--------+----------+-------------------+----------------+-------------+\n",
            "| Numero| Montant|      Date|    TypeTransaction|TitreTransaction|      Channel|\n",
            "+-------+--------+----------+-------------------+----------------+-------------+\n",
            "|2644236|  2000.0|2022-03-30|             cashin|           Depot|         USSD|\n",
            "|2611089| 10000.0|2022-03-17|    cashout_confirm|         Retrait|         USSD|\n",
            "|1289124| 25000.0|2022-03-11|    cashout_confirm|         Retrait|         USSD|\n",
            "|1118440|  1000.0|2022-03-08|transfert_sans_code|       Transfert|       mobile|\n",
            "| 320287| 49603.0|2022-03-06|        cashinother|   Autre retrait|         USSD|\n",
            "|2643081|  5000.0|2022-03-11|          transfert|       Transfert|         USSD|\n",
            "|1294671|  2000.0|2022-03-30|            cashout|         Retrait|         USSD|\n",
            "|1283556|  2000.0|2022-03-02|             cashin|           Depot|         USSD|\n",
            "|1788766|  1500.0|2022-03-20|transfert_sans_code|       Transfert|       mobile|\n",
            "| 382309|  2500.0|2022-03-20|          transfert|       Transfert|         USSD|\n",
            "|1543258| 78500.0|2022-03-25|          transfert|       Transfert|         USSD|\n",
            "|1600060|  2800.0|2022-03-22|            cashout|         Retrait|DISTRI_MOBILE|\n",
            "|2586073|100000.0|2022-03-14|        cashinother|   Autre retrait|         USSD|\n",
            "| 942778|  2000.0|2022-03-27|            cashout|         Retrait|         USSD|\n",
            "|1265669| 15000.0|2022-03-17|            cashout|         Retrait|         USSD|\n",
            "|2577254|   690.0|2022-03-03| achat_pass_illimix|    Pass Illimix|       mobile|\n",
            "|2570130|  3000.0|2022-03-09|    cashout_confirm|         Retrait|         USSD|\n",
            "|1255004| 20000.0|2022-03-04|transfert_sans_code|       Transfert|       mobile|\n",
            "|2555353|   500.0|2022-03-07| achat_pass_illimix|    Pass Illimix|       mobile|\n",
            "|1324112|147900.0|2022-03-15|            cashout|         Retrait|         USSD|\n",
            "+-------+--------+----------+-------------------+----------------+-------------+\n",
            "only showing top 20 rows\n",
            "\n"
          ]
        }
      ]
    },
    {
      "cell_type": "code",
      "source": [
        "#Compter les occurrences de \"NULL\" dans chaque colonne\n",
        "count_exprs = [expr(f\"sum(case when {c} like '%NULL%' then 1 else 0 end) as {c}_count\") for c in df_transaction_om.columns]\n",
        "print(\"Le nombre de lignes qui contient NULL \")\n",
        "count_NULL = df_transaction_om.select(*count_exprs)\n",
        "count_NULL.show()\n",
        "\n",
        "df_transaction_om.show()"
      ],
      "metadata": {
        "colab": {
          "base_uri": "https://localhost:8080/"
        },
        "id": "OJpn6CiRpnDF",
        "outputId": "779de643-46be-4843-cd95-f751d2df2e7a"
      },
      "execution_count": null,
      "outputs": [
        {
          "output_type": "stream",
          "name": "stdout",
          "text": [
            "Le nombre de lignes qui contient NULL \n",
            "+------------+-------------+----------+---------------------+----------------------+-------------+\n",
            "|Numero_count|Montant_count|Date_count|TypeTransaction_count|TitreTransaction_count|Channel_count|\n",
            "+------------+-------------+----------+---------------------+----------------------+-------------+\n",
            "|           0|            0|         0|                    0|                     0|            0|\n",
            "+------------+-------------+----------+---------------------+----------------------+-------------+\n",
            "\n",
            "+-------+--------+----------+-------------------+----------------+-------------+\n",
            "| Numero| Montant|      Date|    TypeTransaction|TitreTransaction|      Channel|\n",
            "+-------+--------+----------+-------------------+----------------+-------------+\n",
            "|2644236|  2000.0|2022-03-30|             cashin|           Depot|         USSD|\n",
            "|2611089| 10000.0|2022-03-17|    cashout_confirm|         Retrait|         USSD|\n",
            "|1289124| 25000.0|2022-03-11|    cashout_confirm|         Retrait|         USSD|\n",
            "|1118440|  1000.0|2022-03-08|transfert_sans_code|       Transfert|       mobile|\n",
            "| 320287| 49603.0|2022-03-06|        cashinother|   Autre retrait|         USSD|\n",
            "|2643081|  5000.0|2022-03-11|          transfert|       Transfert|         USSD|\n",
            "|1294671|  2000.0|2022-03-30|            cashout|         Retrait|         USSD|\n",
            "|1283556|  2000.0|2022-03-02|             cashin|           Depot|         USSD|\n",
            "|1788766|  1500.0|2022-03-20|transfert_sans_code|       Transfert|       mobile|\n",
            "| 382309|  2500.0|2022-03-20|          transfert|       Transfert|         USSD|\n",
            "|1543258| 78500.0|2022-03-25|          transfert|       Transfert|         USSD|\n",
            "|1600060|  2800.0|2022-03-22|            cashout|         Retrait|DISTRI_MOBILE|\n",
            "|2586073|100000.0|2022-03-14|        cashinother|   Autre retrait|         USSD|\n",
            "| 942778|  2000.0|2022-03-27|            cashout|         Retrait|         USSD|\n",
            "|1265669| 15000.0|2022-03-17|            cashout|         Retrait|         USSD|\n",
            "|2577254|   690.0|2022-03-03| achat_pass_illimix|    Pass Illimix|       mobile|\n",
            "|2570130|  3000.0|2022-03-09|    cashout_confirm|         Retrait|         USSD|\n",
            "|1255004| 20000.0|2022-03-04|transfert_sans_code|       Transfert|       mobile|\n",
            "|2555353|   500.0|2022-03-07| achat_pass_illimix|    Pass Illimix|       mobile|\n",
            "|1324112|147900.0|2022-03-15|            cashout|         Retrait|         USSD|\n",
            "+-------+--------+----------+-------------------+----------------+-------------+\n",
            "only showing top 20 rows\n",
            "\n"
          ]
        }
      ]
    },
    {
      "cell_type": "code",
      "source": [
        "#Vérificaion par rapport au type de transaction\n",
        "df_transaction_om.select(\"TypeTransaction\",\"TitreTransaction\").distinct().orderBy(\"Typetransaction\").show(100)\n",
        "\n",
        "#Vérification pour les channel\n",
        "df_transaction_om.select(\"TypeTransaction\",\"Channel\").distinct().orderBy(\"Typetransaction\").show(100)"
      ],
      "metadata": {
        "id": "vdvXW24mhm_J",
        "colab": {
          "base_uri": "https://localhost:8080/"
        },
        "outputId": "2b873d68-1e31-48de-b380-204aa09bd3b3"
      },
      "execution_count": null,
      "outputs": [
        {
          "output_type": "stream",
          "name": "stdout",
          "text": [
            "+--------------------+--------------------+\n",
            "|     TypeTransaction|    TitreTransaction|\n",
            "+--------------------+--------------------+\n",
            "|        achat_credit|     Recharge Credit|\n",
            "|     achat_pass_data|       Pass Internet|\n",
            "|  achat_pass_illimix|        Pass Illimix|\n",
            "|         bank2wallet|      Banque vers OM|\n",
            "|                 c2c|           Transfert|\n",
            "|              cashin|               Depot|\n",
            "|        cashin_other|               Envoi|\n",
            "|         cashinother|       Autre retrait|\n",
            "|             cashout|             Retrait|\n",
            "|     cashout_confirm|             Retrait|\n",
            "|         cashout_tac|   Retrait avec code|\n",
            "|    dons_cotisations| Dons et cotisations|\n",
            "|   industrialisation|          Sunna Moon|\n",
            "|   industrialisation|           SAMA MBEY|\n",
            "|   industrialisation|              ILEMEL|\n",
            "|   industrialisation|            Ubipharm|\n",
            "|   industrialisation|                 ISM|\n",
            "|   industrialisation| Carte TotalEnergies|\n",
            "|                 irt|Transfert interna...|\n",
            "|      paiement_canal|             Canal +|\n",
            "|    paiement_facture|         SONATELFIXE|\n",
            "|    paiement_facture|                 SEN|\n",
            "|    paiement_facture|       SONATELMOBILE|\n",
            "|    paiement_facture|             SEN'EAU|\n",
            "|    paiement_facture|                 SDE|\n",
            "|    paiement_facture|            AQUATECH|\n",
            "|   paiement_marchand|   Paiement marchand|\n",
            "|     paiement_rapido|              Rapido|\n",
            "|    paiement_woyofal|             Woyofal|\n",
            "|     recharge_xeweul|     Recharge Xeweul|\n",
            "|           transfert|           Transfert|\n",
            "| transfert_avec_code|           Transfert|\n",
            "| transfert_sans_code|           Transfert|\n",
            "|transfert_sous_co...|           Transfert|\n",
            "|        vente_credit|        Vente Crédit|\n",
            "|        vente_credit|     Recharge Credit|\n",
            "|         wallet2bank|      OM vers Banque|\n",
            "+--------------------+--------------------+\n",
            "\n",
            "+--------------------+-------------+\n",
            "|     TypeTransaction|      Channel|\n",
            "+--------------------+-------------+\n",
            "|        achat_credit|       mobile|\n",
            "|        achat_credit|         USSD|\n",
            "|     achat_pass_data|      Inconnu|\n",
            "|     achat_pass_data|       mobile|\n",
            "|  achat_pass_illimix|       mobile|\n",
            "|  achat_pass_illimix|      Inconnu|\n",
            "|         bank2wallet|       mobile|\n",
            "|                 c2c|DISTRI_MOBILE|\n",
            "|                 c2c|         USSD|\n",
            "|              cashin|DISTRI_MOBILE|\n",
            "|              cashin|         USSD|\n",
            "|        cashin_other|DISTRI_MOBILE|\n",
            "|        cashin_other|         USSD|\n",
            "|         cashinother|         USSD|\n",
            "|             cashout|DISTRI_MOBILE|\n",
            "|             cashout|         USSD|\n",
            "|     cashout_confirm|       mobile|\n",
            "|     cashout_confirm|         USSD|\n",
            "|     cashout_confirm|DISTRI_MOBILE|\n",
            "|         cashout_tac|DISTRI_MOBILE|\n",
            "|         cashout_tac|         USSD|\n",
            "|    dons_cotisations|         USSD|\n",
            "|   industrialisation|       mobile|\n",
            "|                 irt|       mobile|\n",
            "|      paiement_canal|       mobile|\n",
            "|    paiement_facture|       mobile|\n",
            "|   paiement_marchand|       mobile|\n",
            "|   paiement_marchand|         USSD|\n",
            "|   paiement_marchand|DISTRI_MOBILE|\n",
            "|     paiement_rapido|       mobile|\n",
            "|     paiement_rapido|         USSD|\n",
            "|    paiement_woyofal|         USSD|\n",
            "|    paiement_woyofal|       mobile|\n",
            "|     recharge_xeweul|       mobile|\n",
            "|     recharge_xeweul|         USSD|\n",
            "|           transfert|         USSD|\n",
            "| transfert_avec_code|       mobile|\n",
            "| transfert_sans_code|       mobile|\n",
            "| transfert_sans_code|         USSD|\n",
            "|transfert_sous_co...|       mobile|\n",
            "|        vente_credit|DISTRI_MOBILE|\n",
            "|        vente_credit|         USSD|\n",
            "|         wallet2bank|       mobile|\n",
            "+--------------------+-------------+\n",
            "\n"
          ]
        }
      ]
    },
    {
      "cell_type": "markdown",
      "source": [
        "#### Données dupliquées"
      ],
      "metadata": {
        "id": "kO0NGiiEkean"
      }
    },
    {
      "cell_type": "code",
      "source": [],
      "metadata": {
        "id": "Vua_hLAiklXo"
      },
      "execution_count": null,
      "outputs": []
    },
    {
      "cell_type": "markdown",
      "source": [
        "#### Données aberrantes"
      ],
      "metadata": {
        "id": "tVqfr6H-qG1l"
      }
    },
    {
      "cell_type": "code",
      "source": [
        "df_transaction_om=df_transaction_om.filter(col(\"Montant\")>0)"
      ],
      "metadata": {
        "id": "SdHiO26BqOLb"
      },
      "execution_count": 92,
      "outputs": []
    },
    {
      "cell_type": "markdown",
      "source": [
        "#### Stockage"
      ],
      "metadata": {
        "id": "Ki3y_KMhHF9X"
      }
    },
    {
      "cell_type": "code",
      "source": [
        "pd_transaction_om=df_transaction_om.toPandas()\n",
        "pd_transaction_om.to_csv('#datasets_OM/base_transaction_om_clean.csv', index=False)"
      ],
      "metadata": {
        "id": "cPmwVYKFFu1J"
      },
      "execution_count": null,
      "outputs": []
    },
    {
      "cell_type": "code",
      "source": [
        "pd_transaction_om=pd.read_csv('#datasets_OM/base_transaction_om_clean.csv')\n",
        "pd_transaction_om.info()"
      ],
      "metadata": {
        "colab": {
          "base_uri": "https://localhost:8080/"
        },
        "id": "bNYYkrLZSK1R",
        "outputId": "941e25be-2e76-4280-c649-5f32e5ad739a"
      },
      "execution_count": 93,
      "outputs": [
        {
          "output_type": "stream",
          "name": "stdout",
          "text": [
            "<class 'pandas.core.frame.DataFrame'>\n",
            "RangeIndex: 1991549 entries, 0 to 1991548\n",
            "Data columns (total 6 columns):\n",
            " #   Column            Dtype  \n",
            "---  ------            -----  \n",
            " 0   Numero            int64  \n",
            " 1   Montant           float64\n",
            " 2   Date              object \n",
            " 3   TypeTransaction   object \n",
            " 4   TitreTransaction  object \n",
            " 5   Channel           object \n",
            "dtypes: float64(1), int64(1), object(4)\n",
            "memory usage: 91.2+ MB\n"
          ]
        }
      ]
    },
    {
      "cell_type": "markdown",
      "source": [
        "#### Visualisations"
      ],
      "metadata": {
        "id": "a-Kxfa5BSG1U"
      }
    },
    {
      "cell_type": "code",
      "source": [
        "import matplotlib.pyplot as plt\n",
        "import pandas as pd\n",
        "\n",
        "# Supposons que vous ayez un DataFrame Pandas 'pd_transaction_om' avec les données\n",
        "pd_transaction_om=pd_transaction_om\n",
        "# Créez une figure avec des sous-graphiques\n",
        "fig, axes = plt.subplots(2, 1, figsize=(10, 18))\n",
        "\n",
        "\n",
        "# Sous-graphique 1 : Distribution des Titres\n",
        "titre_counts = pd_transaction_om['Titre'].value_counts()\n",
        "axes[0].bar(titre_counts.index, titre_counts.values, color='lightcoral')\n",
        "axes[0].set_title('Distribution des Titres')\n",
        "axes[0].set_xlabel('Titre')\n",
        "axes[0].set_ylabel('Fréquence')\n",
        "axes[0].tick_params(axis='x', rotation=45)\n",
        "\n",
        "# Sous-graphique 2 : Distribution des Canaux\n",
        "channel_counts = pd_transaction_om['Channel'].value_counts()\n",
        "axes[1].bar(channel_counts.index, channel_counts.values, color='lightblue')\n",
        "axes[1].set_title('Distribution des Canaux')\n",
        "axes[1].set_xlabel('Canal')\n",
        "axes[1].set_ylabel('Fréquence')\n",
        "axes[1].tick_params(axis='x', rotation=45)\n",
        "\n",
        "\n",
        "# # Sous-graphique 1 : Distribution des Montants (Intervalles de 10,000)\n",
        "# montants = pd_transaction_om['Montant'].astype(float)\n",
        "# bins = range(0, int(montants.max()) + 10000, 10000)\n",
        "# hist, edges = np.histogram(montants, bins=bins)\n",
        "# axes[2].hist(montants, bins=bins, color='skyblue', edgecolor='black')\n",
        "# axes[2].set_xticks(edges)\n",
        "# axes[2].set_xticklabels([f'{edges[i]:,.0f}-{edges[i+1]:,.0f}' for i in range(len(edges) - 1)])\n",
        "# axes[2].set_title('Distribution des Montants (Intervalles de 10,000)')\n",
        "# axes[2].set_xlabel('Montant')\n",
        "# axes[2].set_ylabel('Fréquence')\n",
        "\n",
        "\n",
        "# Ajustez l'espacement entre les sous-graphiques\n",
        "plt.tight_layout()\n",
        "\n",
        "# Affichez les sous-graphiques\n",
        "plt.show()\n"
      ],
      "metadata": {
        "id": "TtwKfgj-Zy3v",
        "colab": {
          "base_uri": "https://localhost:8080/",
          "height": 1000
        },
        "outputId": "4e46397d-e97e-4364-ec47-d52a582cf48f"
      },
      "execution_count": null,
      "outputs": [
        {
          "output_type": "display_data",
          "data": {
            "text/plain": [
              "<Figure size 1000x1800 with 2 Axes>"
            ],
            "image/png": "[encoded data removed]"
          },
          "metadata": {}
        }
      ]
    },
    {
      "cell_type": "markdown",
      "metadata": {
        "id": "RfgQmNtAPZbT"
      },
      "source": [
        "# **MODÉLISATION**\n",
        "\n",
        "---\n",
        "\n"
      ]
    },
    {
      "cell_type": "markdown",
      "source": [
        "## **Méthode RFM**"
      ],
      "metadata": {
        "id": "XknFZFRJJqAm"
      }
    },
    {
      "cell_type": "markdown",
      "source": [
        "### Feature engineering"
      ],
      "metadata": {
        "id": "f4JvYh7vZaYU"
      }
    },
    {
      "cell_type": "code",
      "execution_count": 96,
      "metadata": {
        "colab": {
          "base_uri": "https://localhost:8080/"
        },
        "id": "dMGCdeEL2j9-",
        "outputId": "e38640de-9cae-4ad1-8aa8-c0f764ac6c7f"
      },
      "outputs": [
        {
          "output_type": "stream",
          "name": "stdout",
          "text": [
            "+-------+--------+----------+\n",
            "| Numero| Montant|      Date|\n",
            "+-------+--------+----------+\n",
            "|2644236|  2000.0|2022-03-30|\n",
            "|2611089| 10000.0|2022-03-17|\n",
            "|1289124| 25000.0|2022-03-11|\n",
            "|1118440|  1000.0|2022-03-08|\n",
            "| 320287| 49603.0|2022-03-06|\n",
            "|2643081|  5000.0|2022-03-11|\n",
            "|1294671|  2000.0|2022-03-30|\n",
            "|1283556|  2000.0|2022-03-02|\n",
            "|1788766|  1500.0|2022-03-20|\n",
            "| 382309|  2500.0|2022-03-20|\n",
            "|1543258| 78500.0|2022-03-25|\n",
            "|1600060|  2800.0|2022-03-22|\n",
            "|2586073|100000.0|2022-03-14|\n",
            "| 942778|  2000.0|2022-03-27|\n",
            "|1265669| 15000.0|2022-03-17|\n",
            "|2577254|   690.0|2022-03-03|\n",
            "|2570130|  3000.0|2022-03-09|\n",
            "|1255004| 20000.0|2022-03-04|\n",
            "|2555353|   500.0|2022-03-07|\n",
            "|1324112|147900.0|2022-03-15|\n",
            "+-------+--------+----------+\n",
            "only showing top 20 rows\n",
            "\n"
          ]
        }
      ],
      "source": [
        "df_rfm = df_transaction_om.select(\"Numero\", \"Montant\", \"Date\")\n",
        "df_rfm.show()"
      ]
    },
    {
      "cell_type": "code",
      "execution_count": 97,
      "metadata": {
        "id": "vGxD-uACH-Dq",
        "colab": {
          "base_uri": "https://localhost:8080/"
        },
        "outputId": "bc3f4d0e-410a-4488-bc6e-614676dff370"
      },
      "outputs": [
        {
          "output_type": "stream",
          "name": "stdout",
          "text": [
            "+-------+-------+---------+--------+\n",
            "| Numero|Recence|Frequence| Montant|\n",
            "+-------+-------+---------+--------+\n",
            "|1000000|    167|        6| 69800.0|\n",
            "|1000001|     92|        5| 18150.0|\n",
            "|1000038|    123|        2|  6500.0|\n",
            "|1000048|      3|        4|105000.0|\n",
            "|1000054|    448|        1|  7000.0|\n",
            "| 100008|    179|        8|136100.0|\n",
            "|1000083|    476|        1|  1000.0|\n",
            "| 100010|    538|        1|  1000.0|\n",
            "|1000101|      0|        5| 52060.0|\n",
            "|1000122|    214|        2| 21000.0|\n",
            "|1000131|    260|        7| 98418.0|\n",
            "|1000147|    369|        1|  2000.0|\n",
            "|1000176|    113|        1|  2100.0|\n",
            "|1000204|    295|        3|  3500.0|\n",
            "|1000214|     11|        1| 24800.0|\n",
            "|1000263|     38|       20|145699.0|\n",
            "|1000269|     14|        4| 13400.0|\n",
            "|1000298|      2|        1|  1000.0|\n",
            "|  10003|    121|        2|  4000.0|\n",
            "|1000339|      2|        2| 32050.0|\n",
            "+-------+-------+---------+--------+\n",
            "only showing top 20 rows\n",
            "\n"
          ]
        }
      ],
      "source": [
        "spark.conf.set(\"spark.sql.legacy.timeParserPolicy\", \"LEGACY\")\n",
        "\n",
        "max_date = df_rfm.agg(max(\"Date\")).collect()[0][0]\n",
        "string_date=f'{max_date.year}/{max_date.month}/{max_date.day}'\n",
        "latest_date = to_date(lit(string_date), 'yyyy/M/dd')\n",
        "\n",
        "df_recency = df_rfm.groupBy(\"Numero\").agg(\n",
        "    datediff(latest_date, max(col(\"date\"))).alias(\"Recence\")\n",
        ")\n",
        "\n",
        "# Calculate Frequency (number of transactions)\n",
        "df_frequency = df_rfm.groupBy(\"Numero\").agg(\n",
        "    count(\"*\").alias(\"Frequence\")\n",
        ")\n",
        "\n",
        "# Calculate Monetary Value (total transaction amount)\n",
        "df_monetary = df_rfm.groupBy(\"Numero\").agg(\n",
        "    sum(\"montant\").alias(\"Montant\")\n",
        ")\n",
        "\n",
        "# Join the recency, frequency, and monetary DataFrames\n",
        "df_rfm= df_recency.join(df_frequency, \"Numero\", \"inner\").join(df_monetary, \"Numero\", \"inner\")\n",
        "\n",
        "# Show the RFM DataFrame\n",
        "df_rfm.show()"
      ]
    },
    {
      "cell_type": "markdown",
      "source": [
        "### Calcul des scores"
      ],
      "metadata": {
        "id": "jPOazGgCZxFn"
      }
    },
    {
      "cell_type": "code",
      "source": [
        "# Calculer les quantiles\n",
        "quantiles = df_rfm.approxQuantile([\"Recence\", \"Frequence\", \"Montant\"], [0.2, 0.4, 0.6, 0.8], 0.01)\n",
        "\n",
        "# Définir des expressions conditionnelles pour attribuer les scores\n",
        "df_rfm = (df_rfm\n",
        "    .withColumn(\"R_Score\",  when(col(\"Recence\") <= quantiles[0][0], lit(5))\n",
        "                            .when(col(\"Recence\") <= quantiles[0][1], lit(4))\n",
        "                            .when(col(\"Recence\") <= quantiles[0][2], lit(3))\n",
        "                            .when(col(\"Recence\") <= quantiles[0][3], lit(2))\n",
        "                            .otherwise(lit(1)))\n",
        "    .withColumn(\"F_Score\", when(col(\"Frequence\") >= quantiles[1][3], lit(5))\n",
        "                            .when(col(\"Frequence\") >= quantiles[1][2], lit(4))\n",
        "                            .when(col(\"Frequence\") >= quantiles[1][1], lit(3))\n",
        "                            .when(col(\"Frequence\") >= quantiles[1][0], lit(2))\n",
        "                            .otherwise(lit(1)))\n",
        "    .withColumn(\"M_Score\", when(col(\"Montant\") >= quantiles[2][3], lit(5))\n",
        "                            .when(col(\"Montant\") >= quantiles[2][2], lit(4))\n",
        "                            .when(col(\"Montant\") >= quantiles[2][1], lit(3))\n",
        "                            .when(col(\"Montant\") >= quantiles[2][0], lit(2))\n",
        "                            .otherwise(lit(1)))\n",
        "     .withColumn(\"RFM_Score\", concat(col(\"R_Score\").cast(StringType()), col(\"F_Score\").cast(StringType()), col(\"M_Score\").cast(StringType())))\n",
        ")\n",
        "\n",
        "df_rfm.show()"
      ],
      "metadata": {
        "id": "A28CviFsXdgC",
        "colab": {
          "base_uri": "https://localhost:8080/"
        },
        "outputId": "f9199c60-9ca4-48f4-83c1-b8ecb5b36347"
      },
      "execution_count": 98,
      "outputs": [
        {
          "output_type": "stream",
          "name": "stdout",
          "text": [
            "+-------+-------+---------+--------+-------+-------+-------+---------+\n",
            "| Numero|Recence|Frequence| Montant|R_Score|F_Score|M_Score|RFM_Score|\n",
            "+-------+-------+---------+--------+-------+-------+-------+---------+\n",
            "|1000000|    167|        6| 69800.0|      3|      5|      5|      355|\n",
            "|1000001|     92|        5| 18150.0|      3|      4|      3|      343|\n",
            "|1000038|    123|        2|  6500.0|      3|      3|      2|      332|\n",
            "|1000048|      3|        4|105000.0|      5|      4|      5|      545|\n",
            "|1000054|    448|        1|  7000.0|      1|      2|      2|      122|\n",
            "| 100008|    179|        8|136100.0|      2|      5|      5|      255|\n",
            "|1000083|    476|        1|  1000.0|      1|      2|      1|      121|\n",
            "| 100010|    538|        1|  1000.0|      1|      2|      1|      121|\n",
            "|1000101|      0|        5| 52060.0|      5|      4|      4|      544|\n",
            "|1000122|    214|        2| 21000.0|      2|      3|      3|      233|\n",
            "|1000131|    260|        7| 98418.0|      2|      5|      5|      255|\n",
            "|1000147|    369|        1|  2000.0|      1|      2|      1|      121|\n",
            "|1000176|    113|        1|  2100.0|      3|      2|      1|      321|\n",
            "|1000204|    295|        3|  3500.0|      2|      4|      2|      242|\n",
            "|1000214|     11|        1| 24800.0|      4|      2|      4|      424|\n",
            "|1000263|     38|       20|145699.0|      4|      5|      5|      455|\n",
            "|1000269|     14|        4| 13400.0|      4|      4|      3|      443|\n",
            "|1000298|      2|        1|  1000.0|      5|      2|      1|      521|\n",
            "|  10003|    121|        2|  4000.0|      3|      3|      2|      332|\n",
            "|1000339|      2|        2| 32050.0|      5|      3|      4|      534|\n",
            "+-------+-------+---------+--------+-------+-------+-------+---------+\n",
            "only showing top 20 rows\n",
            "\n"
          ]
        }
      ]
    },
    {
      "cell_type": "markdown",
      "source": [
        "### Profilage des segments"
      ],
      "metadata": {
        "id": "uppyMdyrZ9VI"
      }
    },
    {
      "cell_type": "code",
      "source": [
        "# segments2 = {\n",
        "#    \"En train de les perdre mais engagés\": [\"111\", \"112\", \"121\", \"131\", \"141\", \"151\"],\n",
        "#    \"Sur le Point de Dormir\": [\n",
        "#         \"331\", \"321\", \"312\", \"221\", \"213\", \"231\", \"241\", \"251\"\n",
        "#     ],\n",
        "#     \"Impossible de les perdre, mais en train de les perdre\": [\n",
        "#         \"155\", \"154\", \"144\", \"214\", \"215\", \"115\", \"114\", \"113\"\n",
        "#     ],\n",
        "# }\n",
        "\n",
        "segments = {\n",
        "    'Champion': ['555', '554', '544', '545', '454', '455', '445'],\n",
        "    'Fidèle': ['543', '444', '435', '355', '354', '345', '344', '335'],\n",
        "    'Fidèle potentiel': [\n",
        "        '553', '551', '552', '541', '542', '533', '532', '531', '452', '451', '442',\n",
        "        '441', '431', '453', '433', '432', '423', '353', '352', '351', '342', '341', '333', '323'\n",
        "    ],\n",
        "    'Prometteur': [\n",
        "        '525', '524', '523', '522', '521', '515', '514', '513', '425', '424', '413', '414',\n",
        "        '415', '315', '314', '313'\n",
        "    ],\n",
        "    'À surveiller': ['535', '534', '443', '434', '343', '334', '325', '324'],\n",
        "    'À risque': [\n",
        "        '255', '254', '245', '244', '253', '252', '243', '242', '235', '234', '225', '224',\n",
        "        '153', '152', '145', '143', '142', '135', '134', '133', '125', '124'\n",
        "    ],\n",
        "    'En sommeil': [\n",
        "        '332', '322', '233', '232', '223', '222', '132', '123', '122', '212', '211'\n",
        "    ],\n",
        "    'Perdu': ['111', '112', '121', '131', '141', '151'],\n",
        "     'Nouveau': ['512', '511', '422', '421', '412', '411', '311'],\n",
        "}\n",
        "\n",
        "\n",
        "# Utiliser une expression conditionnelle pour attribuer les segments\n",
        "df_rfm =  (df_rfm\n",
        "    .withColumn('Segment',\n",
        "        when(col('RFM_Score').isin(segments['Champion']), lit('Champion'))\n",
        "        .when(col('RFM_Score').isin(segments['Fidèle']), lit('Fidèle'))\n",
        "        .when(col('RFM_Score').isin(segments['Fidèle potentiel']), lit('Fidèle potentiel'))\n",
        "        .when(col('RFM_Score').isin(segments['Nouveau']), lit('Nouveau'))\n",
        "        .when(col('RFM_Score').isin(segments['Prometteur']), lit('Prometteur'))\n",
        "        .when(col('RFM_Score').isin(segments['À surveiller']), lit('À surveiller'))\n",
        "        # .when(col('RFM_Score').isin(segments['À réactiver']), lit('À réactiver'))\n",
        "        .when(col('RFM_Score').isin(segments['À risque']), lit('À risque'))\n",
        "        # .when(col('RFM_Score').isin(segments['A ne pas perdre']), lit('A ne pas perdre'))\n",
        "        .when(col('RFM_Score').isin(segments['En sommeil']), lit('En sommeil'))\n",
        "        .when(col('RFM_Score').isin(segments['Perdu']), lit('Perdu'))\n",
        "        .otherwise(lit('Autre'))\n",
        "    )\n",
        ")\n",
        "\n",
        "\n",
        "#Save to csv\n",
        "pd_rfm=df_rfm.toPandas()\n",
        "pd_rfm.to_csv('#datasets_OM/base_transaction_om_rfm.csv', index=False)\n",
        "\n",
        "# Afficher le DataFrame résultant\n",
        "pd_rfm.head()\n"
      ],
      "metadata": {
        "id": "bzqsL9CEjiLM",
        "colab": {
          "base_uri": "https://localhost:8080/",
          "height": 206
        },
        "outputId": "3ec00658-9a16-4219-e7b0-35bb5153b966"
      },
      "execution_count": 99,
      "outputs": [
        {
          "output_type": "execute_result",
          "data": {
            "text/plain": [
              "    Numero  Recence  Frequence   Montant  R_Score  F_Score  M_Score RFM_Score  \\\n",
              "0  1000000      167          6   69800.0        3        5        5       355   \n",
              "1  1000001       92          5   18150.0        3        4        3       343   \n",
              "2  1000038      123          2    6500.0        3        3        2       332   \n",
              "3  1000048        3          4  105000.0        5        4        5       545   \n",
              "4  1000054      448          1    7000.0        1        2        2       122   \n",
              "\n",
              "        Segment  \n",
              "0        Fidèle  \n",
              "1  À surveiller  \n",
              "2    En sommeil  \n",
              "3      Champion  \n",
              "4    En sommeil  "
            ],
            "text/html": [
              "\n",
              "  <div id=\"df-776d6dbe-e837-40b5-8bf9-9dcd62cb57d1\" class=\"colab-df-container\">\n",
              "    <div>\n",
              "<style scoped>\n",
              "    .dataframe tbody tr th:only-of-type {\n",
              "        vertical-align: middle;\n",
              "    }\n",
              "\n",
              "    .dataframe tbody tr th {\n",
              "        vertical-align: top;\n",
              "    }\n",
              "\n",
              "    .dataframe thead th {\n",
              "        text-align: right;\n",
              "    }\n",
              "</style>\n",
              "<table border=\"1\" class=\"dataframe\">\n",
              "  <thead>\n",
              "    <tr style=\"text-align: right;\">\n",
              "      <th></th>\n",
              "      <th>Numero</th>\n",
              "      <th>Recence</th>\n",
              "      <th>Frequence</th>\n",
              "      <th>Montant</th>\n",
              "      <th>R_Score</th>\n",
              "      <th>F_Score</th>\n",
              "      <th>M_Score</th>\n",
              "      <th>RFM_Score</th>\n",
              "      <th>Segment</th>\n",
              "    </tr>\n",
              "  </thead>\n",
              "  <tbody>\n",
              "    <tr>\n",
              "      <th>0</th>\n",
              "      <td>1000000</td>\n",
              "      <td>167</td>\n",
              "      <td>6</td>\n",
              "      <td>69800.0</td>\n",
              "      <td>3</td>\n",
              "      <td>5</td>\n",
              "      <td>5</td>\n",
              "      <td>355</td>\n",
              "      <td>Fidèle</td>\n",
              "    </tr>\n",
              "    <tr>\n",
              "      <th>1</th>\n",
              "      <td>1000001</td>\n",
              "      <td>92</td>\n",
              "      <td>5</td>\n",
              "      <td>18150.0</td>\n",
              "      <td>3</td>\n",
              "      <td>4</td>\n",
              "      <td>3</td>\n",
              "      <td>343</td>\n",
              "      <td>À surveiller</td>\n",
              "    </tr>\n",
              "    <tr>\n",
              "      <th>2</th>\n",
              "      <td>1000038</td>\n",
              "      <td>123</td>\n",
              "      <td>2</td>\n",
              "      <td>6500.0</td>\n",
              "      <td>3</td>\n",
              "      <td>3</td>\n",
              "      <td>2</td>\n",
              "      <td>332</td>\n",
              "      <td>En sommeil</td>\n",
              "    </tr>\n",
              "    <tr>\n",
              "      <th>3</th>\n",
              "      <td>1000048</td>\n",
              "      <td>3</td>\n",
              "      <td>4</td>\n",
              "      <td>105000.0</td>\n",
              "      <td>5</td>\n",
              "      <td>4</td>\n",
              "      <td>5</td>\n",
              "      <td>545</td>\n",
              "      <td>Champion</td>\n",
              "    </tr>\n",
              "    <tr>\n",
              "      <th>4</th>\n",
              "      <td>1000054</td>\n",
              "      <td>448</td>\n",
              "      <td>1</td>\n",
              "      <td>7000.0</td>\n",
              "      <td>1</td>\n",
              "      <td>2</td>\n",
              "      <td>2</td>\n",
              "      <td>122</td>\n",
              "      <td>En sommeil</td>\n",
              "    </tr>\n",
              "  </tbody>\n",
              "</table>\n",
              "</div>\n",
              "    <div class=\"colab-df-buttons\">\n",
              "\n",
              "  <div class=\"colab-df-container\">\n",
              "    <button class=\"colab-df-convert\" onclick=\"convertToInteractive('df-776d6dbe-e837-40b5-8bf9-9dcd62cb57d1')\"\n",
              "            title=\"Convert this dataframe to an interactive table.\"\n",
              "            style=\"display:none;\">\n",
              "\n",
              "  <svg xmlns=\"http://www.w3.org/2000/svg\" height=\"24px\" viewBox=\"0 -960 960 960\">\n",
              "    <path d=\"M120-120v-720h720v720H120Zm60-500h600v-160H180v160Zm220 220h160v-160H400v160Zm0 220h160v-160H400v160ZM180-400h160v-160H180v160Zm440 0h160v-160H620v160ZM180-180h160v-160H180v160Zm440 0h160v-160H620v160Z\"/>\n",
              "  </svg>\n",
              "    </button>\n",
              "\n",
              "  <style>\n",
              "    .colab-df-container {\n",
              "      display:flex;\n",
              "      gap: 12px;\n",
              "    }\n",
              "\n",
              "    .colab-df-convert {\n",
              "      background-color: #E8F0FE;\n",
              "      border: none;\n",
              "      border-radius: 50%;\n",
              "      cursor: pointer;\n",
              "      display: none;\n",
              "      fill: #1967D2;\n",
              "      height: 32px;\n",
              "      padding: 0 0 0 0;\n",
              "      width: 32px;\n",
              "    }\n",
              "\n",
              "    .colab-df-convert:hover {\n",
              "      background-color: #E2EBFA;\n",
              "      box-shadow: 0px 1px 2px rgba(60, 64, 67, 0.3), 0px 1px 3px 1px rgba(60, 64, 67, 0.15);\n",
              "      fill: #174EA6;\n",
              "    }\n",
              "\n",
              "    .colab-df-buttons div {\n",
              "      margin-bottom: 4px;\n",
              "    }\n",
              "\n",
              "    [theme=dark] .colab-df-convert {\n",
              "      background-color: #3B4455;\n",
              "      fill: #D2E3FC;\n",
              "    }\n",
              "\n",
              "    [theme=dark] .colab-df-convert:hover {\n",
              "      background-color: #434B5C;\n",
              "      box-shadow: 0px 1px 3px 1px rgba(0, 0, 0, 0.15);\n",
              "      filter: drop-shadow(0px 1px 2px rgba(0, 0, 0, 0.3));\n",
              "      fill: #FFFFFF;\n",
              "    }\n",
              "  </style>\n",
              "\n",
              "    <script>\n",
              "      const buttonEl =\n",
              "        document.querySelector('#df-776d6dbe-e837-40b5-8bf9-9dcd62cb57d1 button.colab-df-convert');\n",
              "      buttonEl.style.display =\n",
              "        google.colab.kernel.accessAllowed ? 'block' : 'none';\n",
              "\n",
              "      async function convertToInteractive(key) {\n",
              "        const element = document.querySelector('#df-776d6dbe-e837-40b5-8bf9-9dcd62cb57d1');\n",
              "        const dataTable =\n",
              "          await google.colab.kernel.invokeFunction('convertToInteractive',\n",
              "                                                    [key], {});\n",
              "        if (!dataTable) return;\n",
              "\n",
              "        const docLinkHtml = 'Like what you see? Visit the ' +\n",
              "          '<a target=\"_blank\" href=https://colab.research.google.com/notebooks/data_table.ipynb>data table notebook</a>'\n",
              "          + ' to learn more about interactive tables.';\n",
              "        element.innerHTML = '';\n",
              "        dataTable['output_type'] = 'display_data';\n",
              "        await google.colab.output.renderOutput(dataTable, element);\n",
              "        const docLink = document.createElement('div');\n",
              "        docLink.innerHTML = docLinkHtml;\n",
              "        element.appendChild(docLink);\n",
              "      }\n",
              "    </script>\n",
              "  </div>\n",
              "\n",
              "\n",
              "<div id=\"df-e65e9bfd-42db-4376-9cc5-555c2fdc37a7\">\n",
              "  <button class=\"colab-df-quickchart\" onclick=\"quickchart('df-e65e9bfd-42db-4376-9cc5-555c2fdc37a7')\"\n",
              "            title=\"Suggest charts.\"\n",
              "            style=\"display:none;\">\n",
              "\n",
              "<svg xmlns=\"http://www.w3.org/2000/svg\" height=\"24px\"viewBox=\"0 0 24 24\"\n",
              "     width=\"24px\">\n",
              "    <g>\n",
              "        <path d=\"M19 3H5c-1.1 0-2 .9-2 2v14c0 1.1.9 2 2 2h14c1.1 0 2-.9 2-2V5c0-1.1-.9-2-2-2zM9 17H7v-7h2v7zm4 0h-2V7h2v10zm4 0h-2v-4h2v4z\"/>\n",
              "    </g>\n",
              "</svg>\n",
              "  </button>\n",
              "\n",
              "<style>\n",
              "  .colab-df-quickchart {\n",
              "      --bg-color: #E8F0FE;\n",
              "      --fill-color: #1967D2;\n",
              "      --hover-bg-color: #E2EBFA;\n",
              "      --hover-fill-color: #174EA6;\n",
              "      --disabled-fill-color: #AAA;\n",
              "      --disabled-bg-color: #DDD;\n",
              "  }\n",
              "\n",
              "  [theme=dark] .colab-df-quickchart {\n",
              "      --bg-color: #3B4455;\n",
              "      --fill-color: #D2E3FC;\n",
              "      --hover-bg-color: #434B5C;\n",
              "      --hover-fill-color: #FFFFFF;\n",
              "      --disabled-bg-color: #3B4455;\n",
              "      --disabled-fill-color: #666;\n",
              "  }\n",
              "\n",
              "  .colab-df-quickchart {\n",
              "    background-color: var(--bg-color);\n",
              "    border: none;\n",
              "    border-radius: 50%;\n",
              "    cursor: pointer;\n",
              "    display: none;\n",
              "    fill: var(--fill-color);\n",
              "    height: 32px;\n",
              "    padding: 0;\n",
              "    width: 32px;\n",
              "  }\n",
              "\n",
              "  .colab-df-quickchart:hover {\n",
              "    background-color: var(--hover-bg-color);\n",
              "    box-shadow: 0 1px 2px rgba(60, 64, 67, 0.3), 0 1px 3px 1px rgba(60, 64, 67, 0.15);\n",
              "    fill: var(--button-hover-fill-color);\n",
              "  }\n",
              "\n",
              "  .colab-df-quickchart-complete:disabled,\n",
              "  .colab-df-quickchart-complete:disabled:hover {\n",
              "    background-color: var(--disabled-bg-color);\n",
              "    fill: var(--disabled-fill-color);\n",
              "    box-shadow: none;\n",
              "  }\n",
              "\n",
              "  .colab-df-spinner {\n",
              "    border: 2px solid var(--fill-color);\n",
              "    border-color: transparent;\n",
              "    border-bottom-color: var(--fill-color);\n",
              "    animation:\n",
              "      spin 1s steps(1) infinite;\n",
              "  }\n",
              "\n",
              "  @keyframes spin {\n",
              "    0% {\n",
              "      border-color: transparent;\n",
              "      border-bottom-color: var(--fill-color);\n",
              "      border-left-color: var(--fill-color);\n",
              "    }\n",
              "    20% {\n",
              "      border-color: transparent;\n",
              "      border-left-color: var(--fill-color);\n",
              "      border-top-color: var(--fill-color);\n",
              "    }\n",
              "    30% {\n",
              "      border-color: transparent;\n",
              "      border-left-color: var(--fill-color);\n",
              "      border-top-color: var(--fill-color);\n",
              "      border-right-color: var(--fill-color);\n",
              "    }\n",
              "    40% {\n",
              "      border-color: transparent;\n",
              "      border-right-color: var(--fill-color);\n",
              "      border-top-color: var(--fill-color);\n",
              "    }\n",
              "    60% {\n",
              "      border-color: transparent;\n",
              "      border-right-color: var(--fill-color);\n",
              "    }\n",
              "    80% {\n",
              "      border-color: transparent;\n",
              "      border-right-color: var(--fill-color);\n",
              "      border-bottom-color: var(--fill-color);\n",
              "    }\n",
              "    90% {\n",
              "      border-color: transparent;\n",
              "      border-bottom-color: var(--fill-color);\n",
              "    }\n",
              "  }\n",
              "</style>\n",
              "\n",
              "  <script>\n",
              "    async function quickchart(key) {\n",
              "      const quickchartButtonEl =\n",
              "        document.querySelector('#' + key + ' button');\n",
              "      quickchartButtonEl.disabled = true;  // To prevent multiple clicks.\n",
              "      quickchartButtonEl.classList.add('colab-df-spinner');\n",
              "      try {\n",
              "        const charts = await google.colab.kernel.invokeFunction(\n",
              "            'suggestCharts', [key], {});\n",
              "      } catch (error) {\n",
              "        console.error('Error during call to suggestCharts:', error);\n",
              "      }\n",
              "      quickchartButtonEl.classList.remove('colab-df-spinner');\n",
              "      quickchartButtonEl.classList.add('colab-df-quickchart-complete');\n",
              "    }\n",
              "    (() => {\n",
              "      let quickchartButtonEl =\n",
              "        document.querySelector('#df-e65e9bfd-42db-4376-9cc5-555c2fdc37a7 button');\n",
              "      quickchartButtonEl.style.display =\n",
              "        google.colab.kernel.accessAllowed ? 'block' : 'none';\n",
              "    })();\n",
              "  </script>\n",
              "</div>\n",
              "    </div>\n",
              "  </div>\n"
            ]
          },
          "metadata": {},
          "execution_count": 99
        }
      ]
    },
    {
      "cell_type": "markdown",
      "source": [
        "### Exploration du Dataframe RFM"
      ],
      "metadata": {
        "id": "RWMr8GvuQGdR"
      }
    },
    {
      "cell_type": "code",
      "source": [
        "print(f'Date la plus récente {latest_date}')\n",
        "\n",
        "print(\"La plus grande fréquence\")\n",
        "max_frequency=df_rfm.select(max(df_rfm[\"Frequence\"])).collect()[0][0]\n",
        "df_rfm.filter(col(\"Frequence\")==max_frequency).show()"
      ],
      "metadata": {
        "colab": {
          "base_uri": "https://localhost:8080/"
        },
        "id": "VpaRiB7i8oZm",
        "outputId": "d64b0f84-2b32-402d-b8e8-a7066306ff1a"
      },
      "execution_count": null,
      "outputs": [
        {
          "output_type": "stream",
          "name": "stdout",
          "text": [
            "Date la plus récente Column<'to_date(2023/8/17, yyyy/M/dd)'>\n",
            "La plus grande fréquence\n",
            "+-------+-------+---------+-----------+-------+-------+-------+---------+--------+\n",
            "| Numero|Recence|Frequence|    Montant|R_Score|F_Score|M_Score|RFM_Score| Segment|\n",
            "+-------+-------+---------+-----------+-------+-------+-------+---------+--------+\n",
            "|1024970|      0|     2566|3.3739856E7|      5|      5|      5|      555|Champion|\n",
            "+-------+-------+---------+-----------+-------+-------+-------+---------+--------+\n",
            "\n"
          ]
        }
      ]
    },
    {
      "cell_type": "code",
      "source": [
        "# Inspect RFM\n",
        "pd_rfm_sort =pd_rfm.sort_values([\"RFM_Score\"])\n",
        "\n",
        "fig, ax = plt.subplots(1, 1, figsize=(16, 8))\n",
        "plt.xticks(rotation=90)\n",
        "# sns.histplot(df_rfm_agg_scores[\"RFMScore\"], kde=True, bins=10, ax=ax[0])\n",
        "sns.countplot(x=\"RFM_Score\", data=pd_rfm_sort,\n",
        "              color='steelblue')\n",
        "\n",
        "# sns.histplot(df_rfm_agg_scores[\"RFMScoreGroup\"], color='steelblue', ax=ax[2])"
      ],
      "metadata": {
        "colab": {
          "base_uri": "https://localhost:8080/",
          "height": 428
        },
        "id": "3uElTjwJO6oU",
        "outputId": "fbc2fdc7-a9d3-4227-c8cb-37ed5fa046f8"
      },
      "execution_count": null,
      "outputs": [
        {
          "output_type": "execute_result",
          "data": {
            "text/plain": [
              "<Axes: xlabel='RFM_Score', ylabel='count'>"
            ]
          },
          "metadata": {},
          "execution_count": 71
        },
        {
          "output_type": "display_data",
          "data": {
            "text/plain": [
              "<Figure size 1600x800 with 1 Axes>"
            ],
            "image/png": "[encoded data removed]"
          },
          "metadata": {}
        }
      ]
    },
    {
      "cell_type": "code",
      "source": [
        "fig, ax = plt.subplots(1, 3, figsize=(16, 8))\n",
        "\n",
        "# Recency distribution plot\n",
        "sns.histplot(pd_rfm['Recence'], kde=True, ax=ax[0])\n",
        "\n",
        "# Frequency distribution plot\n",
        "sns.histplot(pd_rfm.query('Frequence < 25')['Frequence'], kde=True, ax=ax[1])\n",
        "\n",
        "# Monetary distribution plot\n",
        "sns.histplot(pd_rfm.query('Montant < 10000')['Montant'], kde=True, ax=ax[2])"
      ],
      "metadata": {
        "colab": {
          "base_uri": "https://localhost:8080/",
          "height": 420
        },
        "id": "CKg2GMHaKZv7",
        "outputId": "0959c271-14eb-462f-c3b9-d2a9729444bb"
      },
      "execution_count": null,
      "outputs": [
        {
          "output_type": "execute_result",
          "data": {
            "text/plain": [
              "<Axes: xlabel='Montant', ylabel='Count'>"
            ]
          },
          "metadata": {},
          "execution_count": 72
        },
        {
          "output_type": "display_data",
          "data": {
            "text/plain": [
              "<Figure size 1600x800 with 3 Axes>"
            ],
            "image/png": "[encoded data removed]"
          },
          "metadata": {}
        }
      ]
    },
    {
      "cell_type": "code",
      "source": [
        "fig, ax = plt.subplots(1, 1, figsize=(12, 8))\n",
        "\n",
        "# sns.histplot(df_rfm_fidelite[\"Fidelite\"], color='steelblue', shrink=.8)\n",
        "sns.countplot(x=\"Segment\", data=pd_rfm_sort, color='steelblue')\n",
        "for p in ax.patches:\n",
        "    ax.annotate('{}'.format(p.get_height()), (p.get_x() + 0.3, p.get_height() + 1))"
      ],
      "metadata": {
        "id": "TnrzdOwEEBBR",
        "colab": {
          "base_uri": "https://localhost:8080/",
          "height": 521
        },
        "outputId": "c13a09ce-7987-470b-ee05-74336d068ae7"
      },
      "execution_count": null,
      "outputs": [
        {
          "output_type": "display_data",
          "data": {
            "text/plain": [
              "<Figure size 1200x800 with 1 Axes>"
            ],
            "image/png": "[encoded data removed]"
          },
          "metadata": {}
        }
      ]
    },
    {
      "cell_type": "code",
      "source": [
        "# Monetary vs Frequency for each segment\n",
        "sns.lmplot(x='Montant', y='Frequence', data=pd_rfm_sort, col='Segment', hue='Segment', fit_reg=True)\n",
        "\n",
        "# Monetary vs Frequency (combined)\n",
        "fig, ax = plt.subplots(1, 1, figsize=(8, 8))\n",
        "sns.scatterplot(x='Montant', y='Frequence', data=pd_rfm_sort, hue='Segment', size='Montant')"
      ],
      "metadata": {
        "colab": {
          "base_uri": "https://localhost:8080/",
          "height": 788
        },
        "id": "N-Pt1sjVnjKJ",
        "outputId": "917ff9b1-7949-4608-89df-11e8ef4c0d9b"
      },
      "execution_count": null,
      "outputs": [
        {
          "output_type": "execute_result",
          "data": {
            "text/plain": [
              "<Axes: xlabel='Montant', ylabel='Frequence'>"
            ]
          },
          "metadata": {},
          "execution_count": 80
        },
        {
          "output_type": "display_data",
          "data": {
            "text/plain": [
              "<Figure size 5000x500 with 10 Axes>"
            ],
            "image/png": "[encoded data removed]"
          },
          "metadata": {}
        },
        {
          "output_type": "display_data",
          "data": {
            "text/plain": [
              "<Figure size 800x800 with 1 Axes>"
            ],
            "image/png": "[encoded data removed]"
          },
          "metadata": {}
        }
      ]
    },
    {
      "cell_type": "code",
      "source": [
        "# Recency vs Frequency for each segment\n",
        "sns.lmplot(x='Recence', y='Frequence', data=pd_rfm_sort, col='Segment', hue='Segment', fit_reg=True)\n",
        "\n",
        "# Montant vs Frequency (combined)\n",
        "fig, ax = plt.subplots(1, 1, figsize=(8, 8))\n",
        "sns.scatterplot(x='Recence', y='Montant', data=pd_rfm_sort, hue='Segment', size='Montant')"
      ],
      "metadata": {
        "colab": {
          "base_uri": "https://localhost:8080/",
          "height": 803
        },
        "id": "P8axh1oRpND3",
        "outputId": "f2c78ea2-273b-48db-c8d9-974a04304e1b"
      },
      "execution_count": null,
      "outputs": [
        {
          "output_type": "execute_result",
          "data": {
            "text/plain": [
              "<Axes: xlabel='Recence', ylabel='Montant'>"
            ]
          },
          "metadata": {},
          "execution_count": 83
        },
        {
          "output_type": "display_data",
          "data": {
            "text/plain": [
              "<Figure size 5000x500 with 10 Axes>"
            ],
            "image/png": "[encoded data removed]"
          },
          "metadata": {}
        },
        {
          "output_type": "display_data",
          "data": {
            "text/plain": [
              "<Figure size 800x800 with 1 Axes>"
            ],
            "image/png": "[encoded data removed]"
          },
          "metadata": {}
        }
      ]
    },
    {
      "cell_type": "markdown",
      "source": [
        "### Test de la méthode RFM"
      ],
      "metadata": {
        "id": "7yW_WGxZRHUF"
      }
    },
    {
      "cell_type": "code",
      "source": [
        "def customer_segment(numero):\n",
        "  segment=df_rfm.select(\"Numero\",\"Segment\").where(col(\"Numero\")==numero).collect()[0][1]\n",
        "  rfm_result={ \"Client\":numero,\n",
        "       \"Segment\": segment}\n",
        "  return rfm_result\n",
        "\n",
        "customer_segment(1000038)"
      ],
      "metadata": {
        "id": "SzU9qEODCGMJ",
        "colab": {
          "base_uri": "https://localhost:8080/"
        },
        "outputId": "e8b08a39-1b74-43ab-c9b5-aec86888254f"
      },
      "execution_count": null,
      "outputs": [
        {
          "output_type": "execute_result",
          "data": {
            "text/plain": [
              "{'Client': 1000038, 'Segment': 'En sommeil'}"
            ]
          },
          "metadata": {},
          "execution_count": 74
        }
      ]
    },
    {
      "cell_type": "markdown",
      "metadata": {
        "id": "33dmnfQhYxWc"
      },
      "source": [
        "## **Méthode K-Means**\n",
        "\n",
        "---\n",
        "\n",
        "\n",
        "\n"
      ]
    },
    {
      "cell_type": "markdown",
      "source": [
        "### Feature engineering"
      ],
      "metadata": {
        "id": "8ZD62ny1Y_JH"
      }
    },
    {
      "cell_type": "code",
      "source": [
        "pd_kmeans=pd_transaction_om\n",
        "df_kmeans=df_transaction_om\n",
        "df_kmeans.printSchema()\n",
        "df_kmeans.show(5)\n",
        "print(f'\\n \\n Les données manquantes \\n{pd_kmeans.isna().sum()}')"
      ],
      "metadata": {
        "id": "ppvlQNuTZTLD",
        "colab": {
          "base_uri": "https://localhost:8080/"
        },
        "outputId": "e6d71d1b-dcde-47d8-8d41-51079aa29752"
      },
      "execution_count": 34,
      "outputs": [
        {
          "output_type": "stream",
          "name": "stdout",
          "text": [
            "root\n",
            " |-- Numero: string (nullable = true)\n",
            " |-- Montant: float (nullable = true)\n",
            " |-- Date: date (nullable = true)\n",
            " |-- TypeTransaction: string (nullable = true)\n",
            " |-- TitreTransaction: string (nullable = true)\n",
            " |-- Channel: string (nullable = true)\n",
            "\n",
            "+-------+-------+----------+-------------------+----------------+-------+\n",
            "| Numero|Montant|      Date|    TypeTransaction|TitreTransaction|Channel|\n",
            "+-------+-------+----------+-------------------+----------------+-------+\n",
            "|2644236| 2000.0|2022-03-30|             cashin|           Depot|   USSD|\n",
            "|2611089|10000.0|2022-03-17|    cashout_confirm|         Retrait|   USSD|\n",
            "|1289124|25000.0|2022-03-11|    cashout_confirm|         Retrait|   USSD|\n",
            "|1118440| 1000.0|2022-03-08|transfert_sans_code|       Transfert| mobile|\n",
            "| 320287|49603.0|2022-03-06|        cashinother|   Autre retrait|   USSD|\n",
            "+-------+-------+----------+-------------------+----------------+-------+\n",
            "only showing top 5 rows\n",
            "\n",
            "\n",
            " \n",
            " Les données manquantes \n",
            "Numero              0\n",
            "Montant             0\n",
            "Date                0\n",
            "TypeTransaction     0\n",
            "TitreTransaction    0\n",
            "Channel             0\n",
            "dtype: int64\n"
          ]
        }
      ]
    },
    {
      "cell_type": "code",
      "source": [
        "max_date = df_kmeans.agg(max(\"Date\")).collect()[0][0]\n",
        "string_date=f'{max_date.year}/{max_date.month}/{max_date.day}'\n",
        "latest_date = to_date(lit(string_date), 'yyyy/M/dd')\n",
        "latest_date"
      ],
      "metadata": {
        "colab": {
          "base_uri": "https://localhost:8080/"
        },
        "id": "XMrJf0tCDoB8",
        "outputId": "03c2753d-51de-4217-ca35-d06f32eb29f3"
      },
      "execution_count": 40,
      "outputs": [
        {
          "output_type": "execute_result",
          "data": {
            "text/plain": [
              "Column<'to_date(2023/8/17, yyyy/M/dd)'>"
            ]
          },
          "metadata": {},
          "execution_count": 40
        }
      ]
    },
    {
      "cell_type": "code",
      "source": [
        "from pyspark.ml.feature import StringIndexer, OneHotEncoder\n",
        "from pyspark.ml import Pipeline\n",
        "\n",
        "\n",
        "# Define categorical columns to encode\n",
        "categorical_columns = [\"TypeTransaction\", \"TitreTransaction\", \"Channel\"]\n",
        "\n",
        "# Initialize stages for the pipeline\n",
        "stages = []\n",
        "\n",
        "# Apply StringIndexer for Label Encoding\n",
        "for col in categorical_columns:\n",
        "    indexer = StringIndexer(inputCol=col, outputCol=col + \"Index\")\n",
        "    stages.append(indexer)\n",
        "\n",
        "# Create a pipeline\n",
        "pipeline = Pipeline(stages=stages)\n",
        "\n",
        "# Fit and transform the DataFrame using the pipeline\n",
        "model = pipeline.fit(df_kmeans)\n",
        "transformed_df = model.transform(df_kmeans)\n",
        "\n",
        "# Show the resulting DataFrame with encoded columns\n",
        "df_kmeans=transformed_df.select(\"Numero\", \"Date\", \"Montant\",\"TitreTransactionIndex\",\"ChannelIndex\" )\n",
        "df_kmeans.show()"
      ],
      "metadata": {
        "colab": {
          "base_uri": "https://localhost:8080/"
        },
        "id": "v6rnG4stca-F",
        "outputId": "25ecc929-21e1-4d92-8bbb-cc2390b15e9b"
      },
      "execution_count": 35,
      "outputs": [
        {
          "output_type": "stream",
          "name": "stdout",
          "text": [
            "+-------+----------+--------+---------------------+------------+\n",
            "| Numero|      Date| Montant|TitreTransactionIndex|ChannelIndex|\n",
            "+-------+----------+--------+---------------------+------------+\n",
            "|2644236|2022-03-30|  2000.0|                  1.0|         0.0|\n",
            "|2611089|2022-03-17| 10000.0|                  0.0|         0.0|\n",
            "|1289124|2022-03-11| 25000.0|                  0.0|         0.0|\n",
            "|1118440|2022-03-08|  1000.0|                  2.0|         1.0|\n",
            "| 320287|2022-03-06| 49603.0|                  7.0|         0.0|\n",
            "|2643081|2022-03-11|  5000.0|                  2.0|         0.0|\n",
            "|1294671|2022-03-30|  2000.0|                  0.0|         0.0|\n",
            "|1283556|2022-03-02|  2000.0|                  1.0|         0.0|\n",
            "|1788766|2022-03-20|  1500.0|                  2.0|         1.0|\n",
            "| 382309|2022-03-20|  2500.0|                  2.0|         0.0|\n",
            "|1543258|2022-03-25| 78500.0|                  2.0|         0.0|\n",
            "|1600060|2022-03-22|  2800.0|                  0.0|         2.0|\n",
            "|2586073|2022-03-14|100000.0|                  7.0|         0.0|\n",
            "| 942778|2022-03-27|  2000.0|                  0.0|         0.0|\n",
            "|1265669|2022-03-17| 15000.0|                  0.0|         0.0|\n",
            "|2577254|2022-03-03|   690.0|                  4.0|         1.0|\n",
            "|2570130|2022-03-09|  3000.0|                  0.0|         0.0|\n",
            "|1255004|2022-03-04| 20000.0|                  2.0|         1.0|\n",
            "|2555353|2022-03-07|   500.0|                  4.0|         1.0|\n",
            "|1324112|2022-03-15|147900.0|                  0.0|         0.0|\n",
            "+-------+----------+--------+---------------------+------------+\n",
            "only showing top 20 rows\n",
            "\n"
          ]
        }
      ]
    },
    {
      "cell_type": "code",
      "source": [
        "df_kmeans.printSchema()"
      ],
      "metadata": {
        "colab": {
          "base_uri": "https://localhost:8080/"
        },
        "id": "a6-3L0zCgih7",
        "outputId": "a15e1886-29bd-4850-cc0c-df2e21d1b505"
      },
      "execution_count": 36,
      "outputs": [
        {
          "output_type": "stream",
          "name": "stdout",
          "text": [
            "root\n",
            " |-- Numero: string (nullable = true)\n",
            " |-- Date: date (nullable = true)\n",
            " |-- Montant: float (nullable = true)\n",
            " |-- TitreTransactionIndex: double (nullable = false)\n",
            " |-- ChannelIndex: double (nullable = false)\n",
            "\n"
          ]
        }
      ]
    },
    {
      "cell_type": "markdown",
      "metadata": {
        "id": "6S2-cJIeNWbT"
      },
      "source": [
        "### Nombre de clusters"
      ]
    },
    {
      "cell_type": "code",
      "source": [
        "from pyspark.ml.clustering import KMeans\n",
        "from pyspark.ml.feature import VectorAssembler\n",
        "# Define the feature columns for clustering\n",
        "feature_columns = [\"Montant\", \"Date\", \"TitreTransactionIndex\", \"ChannelIndex\"]\n",
        "\n",
        "# Assemble the features into a single vector column\n",
        "assembler = VectorAssembler(inputCols=feature_columns, outputCol=\"features\")\n",
        "df_kmeans = assembler.transform(df_kmeans)\n",
        "\n",
        "# Try different values of k and evaluate their cost\n",
        "cost = []\n",
        "for k in range(2, 11):\n",
        "    kmeans = KMeans().setK(k).setSeed(1).setFeaturesCol(\"features\")\n",
        "    model = kmeans.fit(df_kmeans)\n",
        "    cost.append(model.summary.trainingCost)\n",
        "\n",
        "\n",
        "plt.plot(range(2, 11), cost, marker='o')\n",
        "plt.xlabel('Number of Clusters (k)')\n",
        "plt.ylabel('Cost')\n",
        "plt.title('Elbow Method for Optimal k')\n",
        "plt.show()\n"
      ],
      "metadata": {
        "id": "0r63kHYXFgMF"
      },
      "execution_count": null,
      "outputs": []
    },
    {
      "cell_type": "markdown",
      "metadata": {
        "id": "C5SMdTIwNjKN"
      },
      "source": [
        "### Modèle"
      ]
    },
    {
      "cell_type": "code",
      "source": [
        "# Choose the optimal number of clusters (e.g., 4)\n",
        "optimal_k = 4\n",
        "\n",
        "kmeans = KMeans().setK(optimal_k).setSeed(1).setFeaturesCol(\"features\")\n",
        "model = kmeans.fit(df_kmeans)\n",
        "\n",
        "# Get the cluster assignments for each data point\n",
        "clustered_df = model.transform(df_kmeans)\n",
        "\n",
        "# Rename the \"prediction\" column to \"Cluster\"\n",
        "clustered_df = clustered_df.withColumnRenamed(\"prediction\", \"Cluster\")\n",
        "\n",
        "# Show the DataFrame with the \"Cluster\" column\n",
        "clustered_df.show()"
      ],
      "metadata": {
        "colab": {
          "base_uri": "https://localhost:8080/"
        },
        "id": "dIai9K_FbHFR",
        "outputId": "fc2d0a83-8c71-41d9-f80d-2bf7d324f775"
      },
      "execution_count": null,
      "outputs": [
        {
          "output_type": "stream",
          "name": "stdout",
          "text": [
            "+-------+--------+---------------------+------------+------------------+-------+\n",
            "| Numero| Montant|TitreTransactionIndex|ChannelIndex|          features|Cluster|\n",
            "+-------+--------+---------------------+------------+------------------+-------+\n",
            "|2644236|  2000.0|                  1.0|         0.0|  [2000.0,1.0,0.0]|      0|\n",
            "|2611089| 10000.0|                  0.0|         0.0| [10000.0,0.0,0.0]|      0|\n",
            "|1289124| 25000.0|                  0.0|         0.0| [25000.0,0.0,0.0]|      0|\n",
            "|1118440|  1000.0|                  2.0|         1.0|  [1000.0,2.0,1.0]|      0|\n",
            "| 320287| 49603.0|                  7.0|         0.0| [49603.0,7.0,0.0]|      0|\n",
            "|2643081|  5000.0|                  2.0|         0.0|  [5000.0,2.0,0.0]|      0|\n",
            "|1294671|  2000.0|                  0.0|         0.0|  [2000.0,0.0,0.0]|      0|\n",
            "|1283556|  2000.0|                  1.0|         0.0|  [2000.0,1.0,0.0]|      0|\n",
            "|1788766|  1500.0|                  2.0|         1.0|  [1500.0,2.0,1.0]|      0|\n",
            "| 382309|  2500.0|                  2.0|         0.0|  [2500.0,2.0,0.0]|      0|\n",
            "|1543258| 78500.0|                  2.0|         0.0| [78500.0,2.0,0.0]|      0|\n",
            "|1600060|  2800.0|                  0.0|         2.0|  [2800.0,0.0,2.0]|      0|\n",
            "|2586073|100000.0|                  7.0|         0.0|[100000.0,7.0,0.0]|      0|\n",
            "| 942778|  2000.0|                  0.0|         0.0|  [2000.0,0.0,0.0]|      0|\n",
            "|1265669| 15000.0|                  0.0|         0.0| [15000.0,0.0,0.0]|      0|\n",
            "|2577254|   690.0|                  4.0|         1.0|   [690.0,4.0,1.0]|      0|\n",
            "|2570130|  3000.0|                  0.0|         0.0|  [3000.0,0.0,0.0]|      0|\n",
            "|1255004| 20000.0|                  2.0|         1.0| [20000.0,2.0,1.0]|      0|\n",
            "|2555353|   500.0|                  4.0|         1.0|   [500.0,4.0,1.0]|      0|\n",
            "|1324112|147900.0|                  0.0|         0.0|[147900.0,0.0,0.0]|      0|\n",
            "+-------+--------+---------------------+------------+------------------+-------+\n",
            "only showing top 20 rows\n",
            "\n"
          ]
        }
      ]
    },
    {
      "cell_type": "code",
      "source": [
        "clustered_df=clustered_df.drop(\"features\")\n",
        "clustered_df.show()"
      ],
      "metadata": {
        "colab": {
          "base_uri": "https://localhost:8080/"
        },
        "id": "RExN8dzHAORA",
        "outputId": "21835a3b-fbfa-43d8-e502-386f51d6ae70"
      },
      "execution_count": null,
      "outputs": [
        {
          "output_type": "stream",
          "name": "stdout",
          "text": [
            "+-------+--------+---------------------+------------+-------+\n",
            "| Numero| Montant|TitreTransactionIndex|ChannelIndex|Cluster|\n",
            "+-------+--------+---------------------+------------+-------+\n",
            "|2644236|  2000.0|                  1.0|         0.0|      0|\n",
            "|2611089| 10000.0|                  0.0|         0.0|      0|\n",
            "|1289124| 25000.0|                  0.0|         0.0|      0|\n",
            "|1118440|  1000.0|                  2.0|         1.0|      0|\n",
            "| 320287| 49603.0|                  7.0|         0.0|      0|\n",
            "|2643081|  5000.0|                  2.0|         0.0|      0|\n",
            "|1294671|  2000.0|                  0.0|         0.0|      0|\n",
            "|1283556|  2000.0|                  1.0|         0.0|      0|\n",
            "|1788766|  1500.0|                  2.0|         1.0|      0|\n",
            "| 382309|  2500.0|                  2.0|         0.0|      0|\n",
            "|1543258| 78500.0|                  2.0|         0.0|      0|\n",
            "|1600060|  2800.0|                  0.0|         2.0|      0|\n",
            "|2586073|100000.0|                  7.0|         0.0|      0|\n",
            "| 942778|  2000.0|                  0.0|         0.0|      0|\n",
            "|1265669| 15000.0|                  0.0|         0.0|      0|\n",
            "|2577254|   690.0|                  4.0|         1.0|      0|\n",
            "|2570130|  3000.0|                  0.0|         0.0|      0|\n",
            "|1255004| 20000.0|                  2.0|         1.0|      0|\n",
            "|2555353|   500.0|                  4.0|         1.0|      0|\n",
            "|1324112|147900.0|                  0.0|         0.0|      0|\n",
            "+-------+--------+---------------------+------------+-------+\n",
            "only showing top 20 rows\n",
            "\n"
          ]
        }
      ]
    },
    {
      "cell_type": "code",
      "source": [
        "\n",
        "\n",
        "# Assuming 'clustered_df' contains the cluster assignments\n",
        "# Extract the relevant columns for visualization\n",
        "clustered_data = clustered_df.select(\"Montant\", \"TitreTransactionIndex\", \"ChannelIndex\", \"Cluster\")\n",
        "\n",
        "# Convert the PySpark DataFrame to a Pandas DataFrame\n",
        "pandas_df = clustered_data.toPandas()\n",
        "\n",
        "# Create scatter plots for different pairs of features\n",
        "plt.figure(figsize=(12, 8))\n",
        "\n",
        "# Example: Montant vs. TitreTransactionIndex\n",
        "plt.scatter(pandas_df[pandas_df['Cluster'] == 0]['Montant'], pandas_df[pandas_df['Cluster'] == 0]['TitreTransactionIndex'], c='red', label='Cluster 0')\n",
        "plt.scatter(pandas_df[pandas_df['Cluster'] == 1]['Montant'], pandas_df[pandas_df['Cluster'] == 1]['TitreTransactionIndex'], c='blue', label='Cluster 1')\n",
        "plt.scatter(pandas_df[pandas_df['Cluster'] == 2]['Montant'], pandas_df[pandas_df['Cluster'] == 2]['TitreTransactionIndex'], c='green', label='Cluster 2')\n",
        "# Add more clusters as needed\n",
        "\n",
        "# Customize the plot\n",
        "plt.xlabel('Montant')\n",
        "plt.ylabel('TitreTransactionIndex')\n",
        "plt.title('Cluster Visualization')\n",
        "plt.legend()\n",
        "plt.grid(True)\n",
        "plt.show()\n"
      ],
      "metadata": {
        "id": "A4Fz3sx5hV4K",
        "colab": {
          "base_uri": "https://localhost:8080/",
          "height": 551
        },
        "outputId": "a49d9c9a-323a-488d-e5a0-dfabf38ba9ae"
      },
      "execution_count": 26,
      "outputs": [
        {
          "output_type": "display_data",
          "data": {
            "text/plain": [
              "<Figure size 1200x800 with 1 Axes>"
            ],
            "image/png": "[encoded data removed]"
          },
          "metadata": {}
        }
      ]
    },
    {
      "cell_type": "code",
      "source": [
        "clustered_df.select(\"Numero\", \"Montant\", \"Cluster\").show()"
      ],
      "metadata": {
        "colab": {
          "base_uri": "https://localhost:8080/"
        },
        "id": "P0T9ZzMV80bU",
        "outputId": "aecd949c-d572-42ff-fbe7-08c46f8305be"
      },
      "execution_count": null,
      "outputs": [
        {
          "output_type": "stream",
          "name": "stdout",
          "text": [
            "+----------+\n",
            "|prediction|\n",
            "+----------+\n",
            "|         3|\n",
            "|         5|\n",
            "|         4|\n",
            "|         0|\n",
            "|         1|\n",
            "|         2|\n",
            "+----------+\n",
            "\n"
          ]
        }
      ]
    },
    {
      "cell_type": "markdown",
      "source": [
        "### Visualisation des segments K-Means"
      ],
      "metadata": {
        "id": "SjobsXXU1zyo"
      }
    },
    {
      "cell_type": "code",
      "source": [],
      "metadata": {
        "colab": {
          "base_uri": "https://localhost:8080/",
          "height": 444
        },
        "id": "c98Q1c4W0paz",
        "outputId": "6f614cd0-ed28-4f52-de31-e99231b76978"
      },
      "execution_count": null,
      "outputs": [
        {
          "output_type": "execute_result",
          "data": {
            "text/plain": [
              "          Numero  Montant        Date      TypeTransaction TitreTransaction  \\\n",
              "0        2644236   2000.0  2022-03-30               cashin            Depot   \n",
              "1        2611089  10000.0  2022-03-17      cashout_confirm          Retrait   \n",
              "2        1289124  25000.0  2022-03-11      cashout_confirm          Retrait   \n",
              "3        1118440   1000.0  2022-03-08  transfert_sans_code        Transfert   \n",
              "4         320287  49603.0  2022-03-06          cashinother    Autre retrait   \n",
              "...          ...      ...         ...                  ...              ...   \n",
              "1991544  1178500  25000.0  2022-08-12              cashout          Retrait   \n",
              "1991545  2567456   2200.0  2022-08-23   achat_pass_illimix     Pass Illimix   \n",
              "1991546  2627432  50000.0  2022-08-20              cashout          Retrait   \n",
              "1991547   980694   3000.0  2022-08-30  transfert_sans_code        Transfert   \n",
              "1991548  2552998   5000.0  2022-08-16               cashin            Depot   \n",
              "\n",
              "               Channel  Cluster  \n",
              "0                 USSD        0  \n",
              "1                 USSD        2  \n",
              "2                 USSD        2  \n",
              "3               mobile        0  \n",
              "4                 USSD        0  \n",
              "...                ...      ...  \n",
              "1991544  DISTRI_MOBILE        4  \n",
              "1991545         mobile        0  \n",
              "1991546  DISTRI_MOBILE        4  \n",
              "1991547         mobile        0  \n",
              "1991548           USSD        0  \n",
              "\n",
              "[1991549 rows x 7 columns]"
            ],
            "text/html": [
              "\n",
              "  <div id=\"df-70773cf4-6c2d-4e63-93c0-9e9cd48b1561\" class=\"colab-df-container\">\n",
              "    <div>\n",
              "<style scoped>\n",
              "    .dataframe tbody tr th:only-of-type {\n",
              "        vertical-align: middle;\n",
              "    }\n",
              "\n",
              "    .dataframe tbody tr th {\n",
              "        vertical-align: top;\n",
              "    }\n",
              "\n",
              "    .dataframe thead th {\n",
              "        text-align: right;\n",
              "    }\n",
              "</style>\n",
              "<table border=\"1\" class=\"dataframe\">\n",
              "  <thead>\n",
              "    <tr style=\"text-align: right;\">\n",
              "      <th></th>\n",
              "      <th>Numero</th>\n",
              "      <th>Montant</th>\n",
              "      <th>Date</th>\n",
              "      <th>TypeTransaction</th>\n",
              "      <th>TitreTransaction</th>\n",
              "      <th>Channel</th>\n",
              "      <th>Cluster</th>\n",
              "    </tr>\n",
              "  </thead>\n",
              "  <tbody>\n",
              "    <tr>\n",
              "      <th>0</th>\n",
              "      <td>2644236</td>\n",
              "      <td>2000.0</td>\n",
              "      <td>2022-03-30</td>\n",
              "      <td>cashin</td>\n",
              "      <td>Depot</td>\n",
              "      <td>USSD</td>\n",
              "      <td>0</td>\n",
              "    </tr>\n",
              "    <tr>\n",
              "      <th>1</th>\n",
              "      <td>2611089</td>\n",
              "      <td>10000.0</td>\n",
              "      <td>2022-03-17</td>\n",
              "      <td>cashout_confirm</td>\n",
              "      <td>Retrait</td>\n",
              "      <td>USSD</td>\n",
              "      <td>2</td>\n",
              "    </tr>\n",
              "    <tr>\n",
              "      <th>2</th>\n",
              "      <td>1289124</td>\n",
              "      <td>25000.0</td>\n",
              "      <td>2022-03-11</td>\n",
              "      <td>cashout_confirm</td>\n",
              "      <td>Retrait</td>\n",
              "      <td>USSD</td>\n",
              "      <td>2</td>\n",
              "    </tr>\n",
              "    <tr>\n",
              "      <th>3</th>\n",
              "      <td>1118440</td>\n",
              "      <td>1000.0</td>\n",
              "      <td>2022-03-08</td>\n",
              "      <td>transfert_sans_code</td>\n",
              "      <td>Transfert</td>\n",
              "      <td>mobile</td>\n",
              "      <td>0</td>\n",
              "    </tr>\n",
              "    <tr>\n",
              "      <th>4</th>\n",
              "      <td>320287</td>\n",
              "      <td>49603.0</td>\n",
              "      <td>2022-03-06</td>\n",
              "      <td>cashinother</td>\n",
              "      <td>Autre retrait</td>\n",
              "      <td>USSD</td>\n",
              "      <td>0</td>\n",
              "    </tr>\n",
              "    <tr>\n",
              "      <th>...</th>\n",
              "      <td>...</td>\n",
              "      <td>...</td>\n",
              "      <td>...</td>\n",
              "      <td>...</td>\n",
              "      <td>...</td>\n",
              "      <td>...</td>\n",
              "      <td>...</td>\n",
              "    </tr>\n",
              "    <tr>\n",
              "      <th>1991544</th>\n",
              "      <td>1178500</td>\n",
              "      <td>25000.0</td>\n",
              "      <td>2022-08-12</td>\n",
              "      <td>cashout</td>\n",
              "      <td>Retrait</td>\n",
              "      <td>DISTRI_MOBILE</td>\n",
              "      <td>4</td>\n",
              "    </tr>\n",
              "    <tr>\n",
              "      <th>1991545</th>\n",
              "      <td>2567456</td>\n",
              "      <td>2200.0</td>\n",
              "      <td>2022-08-23</td>\n",
              "      <td>achat_pass_illimix</td>\n",
              "      <td>Pass Illimix</td>\n",
              "      <td>mobile</td>\n",
              "      <td>0</td>\n",
              "    </tr>\n",
              "    <tr>\n",
              "      <th>1991546</th>\n",
              "      <td>2627432</td>\n",
              "      <td>50000.0</td>\n",
              "      <td>2022-08-20</td>\n",
              "      <td>cashout</td>\n",
              "      <td>Retrait</td>\n",
              "      <td>DISTRI_MOBILE</td>\n",
              "      <td>4</td>\n",
              "    </tr>\n",
              "    <tr>\n",
              "      <th>1991547</th>\n",
              "      <td>980694</td>\n",
              "      <td>3000.0</td>\n",
              "      <td>2022-08-30</td>\n",
              "      <td>transfert_sans_code</td>\n",
              "      <td>Transfert</td>\n",
              "      <td>mobile</td>\n",
              "      <td>0</td>\n",
              "    </tr>\n",
              "    <tr>\n",
              "      <th>1991548</th>\n",
              "      <td>2552998</td>\n",
              "      <td>5000.0</td>\n",
              "      <td>2022-08-16</td>\n",
              "      <td>cashin</td>\n",
              "      <td>Depot</td>\n",
              "      <td>USSD</td>\n",
              "      <td>0</td>\n",
              "    </tr>\n",
              "  </tbody>\n",
              "</table>\n",
              "<p>1991549 rows × 7 columns</p>\n",
              "</div>\n",
              "    <div class=\"colab-df-buttons\">\n",
              "\n",
              "  <div class=\"colab-df-container\">\n",
              "    <button class=\"colab-df-convert\" onclick=\"convertToInteractive('df-70773cf4-6c2d-4e63-93c0-9e9cd48b1561')\"\n",
              "            title=\"Convert this dataframe to an interactive table.\"\n",
              "            style=\"display:none;\">\n",
              "\n",
              "  <svg xmlns=\"http://www.w3.org/2000/svg\" height=\"24px\" viewBox=\"0 -960 960 960\">\n",
              "    <path d=\"M120-120v-720h720v720H120Zm60-500h600v-160H180v160Zm220 220h160v-160H400v160Zm0 220h160v-160H400v160ZM180-400h160v-160H180v160Zm440 0h160v-160H620v160ZM180-180h160v-160H180v160Zm440 0h160v-160H620v160Z\"/>\n",
              "  </svg>\n",
              "    </button>\n",
              "\n",
              "  <style>\n",
              "    .colab-df-container {\n",
              "      display:flex;\n",
              "      gap: 12px;\n",
              "    }\n",
              "\n",
              "    .colab-df-convert {\n",
              "      background-color: #E8F0FE;\n",
              "      border: none;\n",
              "      border-radius: 50%;\n",
              "      cursor: pointer;\n",
              "      display: none;\n",
              "      fill: #1967D2;\n",
              "      height: 32px;\n",
              "      padding: 0 0 0 0;\n",
              "      width: 32px;\n",
              "    }\n",
              "\n",
              "    .colab-df-convert:hover {\n",
              "      background-color: #E2EBFA;\n",
              "      box-shadow: 0px 1px 2px rgba(60, 64, 67, 0.3), 0px 1px 3px 1px rgba(60, 64, 67, 0.15);\n",
              "      fill: #174EA6;\n",
              "    }\n",
              "\n",
              "    .colab-df-buttons div {\n",
              "      margin-bottom: 4px;\n",
              "    }\n",
              "\n",
              "    [theme=dark] .colab-df-convert {\n",
              "      background-color: #3B4455;\n",
              "      fill: #D2E3FC;\n",
              "    }\n",
              "\n",
              "    [theme=dark] .colab-df-convert:hover {\n",
              "      background-color: #434B5C;\n",
              "      box-shadow: 0px 1px 3px 1px rgba(0, 0, 0, 0.15);\n",
              "      filter: drop-shadow(0px 1px 2px rgba(0, 0, 0, 0.3));\n",
              "      fill: #FFFFFF;\n",
              "    }\n",
              "  </style>\n",
              "\n",
              "    <script>\n",
              "      const buttonEl =\n",
              "        document.querySelector('#df-70773cf4-6c2d-4e63-93c0-9e9cd48b1561 button.colab-df-convert');\n",
              "      buttonEl.style.display =\n",
              "        google.colab.kernel.accessAllowed ? 'block' : 'none';\n",
              "\n",
              "      async function convertToInteractive(key) {\n",
              "        const element = document.querySelector('#df-70773cf4-6c2d-4e63-93c0-9e9cd48b1561');\n",
              "        const dataTable =\n",
              "          await google.colab.kernel.invokeFunction('convertToInteractive',\n",
              "                                                    [key], {});\n",
              "        if (!dataTable) return;\n",
              "\n",
              "        const docLinkHtml = 'Like what you see? Visit the ' +\n",
              "          '<a target=\"_blank\" href=https://colab.research.google.com/notebooks/data_table.ipynb>data table notebook</a>'\n",
              "          + ' to learn more about interactive tables.';\n",
              "        element.innerHTML = '';\n",
              "        dataTable['output_type'] = 'display_data';\n",
              "        await google.colab.output.renderOutput(dataTable, element);\n",
              "        const docLink = document.createElement('div');\n",
              "        docLink.innerHTML = docLinkHtml;\n",
              "        element.appendChild(docLink);\n",
              "      }\n",
              "    </script>\n",
              "  </div>\n",
              "\n",
              "\n",
              "<div id=\"df-d5d69cb6-2a71-4d71-a63f-81bba8eeeb12\">\n",
              "  <button class=\"colab-df-quickchart\" onclick=\"quickchart('df-d5d69cb6-2a71-4d71-a63f-81bba8eeeb12')\"\n",
              "            title=\"Suggest charts.\"\n",
              "            style=\"display:none;\">\n",
              "\n",
              "<svg xmlns=\"http://www.w3.org/2000/svg\" height=\"24px\"viewBox=\"0 0 24 24\"\n",
              "     width=\"24px\">\n",
              "    <g>\n",
              "        <path d=\"M19 3H5c-1.1 0-2 .9-2 2v14c0 1.1.9 2 2 2h14c1.1 0 2-.9 2-2V5c0-1.1-.9-2-2-2zM9 17H7v-7h2v7zm4 0h-2V7h2v10zm4 0h-2v-4h2v4z\"/>\n",
              "    </g>\n",
              "</svg>\n",
              "  </button>\n",
              "\n",
              "<style>\n",
              "  .colab-df-quickchart {\n",
              "      --bg-color: #E8F0FE;\n",
              "      --fill-color: #1967D2;\n",
              "      --hover-bg-color: #E2EBFA;\n",
              "      --hover-fill-color: #174EA6;\n",
              "      --disabled-fill-color: #AAA;\n",
              "      --disabled-bg-color: #DDD;\n",
              "  }\n",
              "\n",
              "  [theme=dark] .colab-df-quickchart {\n",
              "      --bg-color: #3B4455;\n",
              "      --fill-color: #D2E3FC;\n",
              "      --hover-bg-color: #434B5C;\n",
              "      --hover-fill-color: #FFFFFF;\n",
              "      --disabled-bg-color: #3B4455;\n",
              "      --disabled-fill-color: #666;\n",
              "  }\n",
              "\n",
              "  .colab-df-quickchart {\n",
              "    background-color: var(--bg-color);\n",
              "    border: none;\n",
              "    border-radius: 50%;\n",
              "    cursor: pointer;\n",
              "    display: none;\n",
              "    fill: var(--fill-color);\n",
              "    height: 32px;\n",
              "    padding: 0;\n",
              "    width: 32px;\n",
              "  }\n",
              "\n",
              "  .colab-df-quickchart:hover {\n",
              "    background-color: var(--hover-bg-color);\n",
              "    box-shadow: 0 1px 2px rgba(60, 64, 67, 0.3), 0 1px 3px 1px rgba(60, 64, 67, 0.15);\n",
              "    fill: var(--button-hover-fill-color);\n",
              "  }\n",
              "\n",
              "  .colab-df-quickchart-complete:disabled,\n",
              "  .colab-df-quickchart-complete:disabled:hover {\n",
              "    background-color: var(--disabled-bg-color);\n",
              "    fill: var(--disabled-fill-color);\n",
              "    box-shadow: none;\n",
              "  }\n",
              "\n",
              "  .colab-df-spinner {\n",
              "    border: 2px solid var(--fill-color);\n",
              "    border-color: transparent;\n",
              "    border-bottom-color: var(--fill-color);\n",
              "    animation:\n",
              "      spin 1s steps(1) infinite;\n",
              "  }\n",
              "\n",
              "  @keyframes spin {\n",
              "    0% {\n",
              "      border-color: transparent;\n",
              "      border-bottom-color: var(--fill-color);\n",
              "      border-left-color: var(--fill-color);\n",
              "    }\n",
              "    20% {\n",
              "      border-color: transparent;\n",
              "      border-left-color: var(--fill-color);\n",
              "      border-top-color: var(--fill-color);\n",
              "    }\n",
              "    30% {\n",
              "      border-color: transparent;\n",
              "      border-left-color: var(--fill-color);\n",
              "      border-top-color: var(--fill-color);\n",
              "      border-right-color: var(--fill-color);\n",
              "    }\n",
              "    40% {\n",
              "      border-color: transparent;\n",
              "      border-right-color: var(--fill-color);\n",
              "      border-top-color: var(--fill-color);\n",
              "    }\n",
              "    60% {\n",
              "      border-color: transparent;\n",
              "      border-right-color: var(--fill-color);\n",
              "    }\n",
              "    80% {\n",
              "      border-color: transparent;\n",
              "      border-right-color: var(--fill-color);\n",
              "      border-bottom-color: var(--fill-color);\n",
              "    }\n",
              "    90% {\n",
              "      border-color: transparent;\n",
              "      border-bottom-color: var(--fill-color);\n",
              "    }\n",
              "  }\n",
              "</style>\n",
              "\n",
              "  <script>\n",
              "    async function quickchart(key) {\n",
              "      const quickchartButtonEl =\n",
              "        document.querySelector('#' + key + ' button');\n",
              "      quickchartButtonEl.disabled = true;  // To prevent multiple clicks.\n",
              "      quickchartButtonEl.classList.add('colab-df-spinner');\n",
              "      try {\n",
              "        const charts = await google.colab.kernel.invokeFunction(\n",
              "            'suggestCharts', [key], {});\n",
              "      } catch (error) {\n",
              "        console.error('Error during call to suggestCharts:', error);\n",
              "      }\n",
              "      quickchartButtonEl.classList.remove('colab-df-spinner');\n",
              "      quickchartButtonEl.classList.add('colab-df-quickchart-complete');\n",
              "    }\n",
              "    (() => {\n",
              "      let quickchartButtonEl =\n",
              "        document.querySelector('#df-d5d69cb6-2a71-4d71-a63f-81bba8eeeb12 button');\n",
              "      quickchartButtonEl.style.display =\n",
              "        google.colab.kernel.accessAllowed ? 'block' : 'none';\n",
              "    })();\n",
              "  </script>\n",
              "</div>\n",
              "    </div>\n",
              "  </div>\n"
            ]
          },
          "metadata": {},
          "execution_count": 122
        }
      ]
    },
    {
      "cell_type": "markdown",
      "metadata": {
        "id": "-_sloHbSNnpr"
      },
      "source": [
        "### Profilage des segments"
      ]
    },
    {
      "cell_type": "code",
      "source": [
        "# rfm_k=spark.createDataFrame()\n",
        "# rfm_k =  (rfm_k\n",
        "#     .withColumn('Segment',\n",
        "#         when(col('Cluster')==0, lit('Very High'))\n",
        "#         .when(col('Cluster')==1, lit('High'))\n",
        "#         .when(col('Cluster')==2, lit('Medium'))\n",
        "#          .when(col('Cluster')==3, lit('Low'))\n",
        "#         .otherwise(lit('Autre'))\n",
        "#     )\n",
        "# )\n",
        "\n",
        "# printdf(rfm_k.filter(col(\"Segment\")==\"Medium\"))"
      ],
      "metadata": {
        "id": "XOHN5demyHoL"
      },
      "execution_count": null,
      "outputs": []
    },
    {
      "cell_type": "code",
      "execution_count": null,
      "metadata": {
        "id": "LW9h6Spt_IFQ"
      },
      "outputs": [],
      "source": []
    },
    {
      "cell_type": "code",
      "execution_count": null,
      "metadata": {
        "id": "pACNSLfeJB3c"
      },
      "outputs": [],
      "source": []
    },
    {
      "cell_type": "markdown",
      "source": [
        "## **Méthode CLTV**\n",
        "<center>\n",
        "<div class=\"alert alert-block alert-info\">\n",
        "<b>Quelle est la CLTV (valeur à vie du client - Customer LifeTime) ?</b> </div></center>\n",
        "\n",
        "La valeur à vie du client (CLTV) est une prédiction du bénéfice net attribué à l'ensemble de la relation future avec un client. Il estime la valeur totale qu'une entreprise tirera d'une relation client, en tenant compte des revenus, des coûts et des modèles de comportement des clients sur une période de temps définie. CLTV aide les entreprises à comprendre la valeur de l'acquisition et de la fidélisation des clients, et à orienter les décisions d'investissement dans les initiatives de gestion de la relation client.\n",
        "\n",
        "\n",
        "<center>\n",
        "<div class=\"alert alert-block alert-info\">\n",
        "<b>À propos du processus de cette section</b> </div></center>\n",
        "\n",
        "Je vais appliquerdeux modèles: BetaGeoFitter et GammaGammaFitter. Je vais utiliser le modèle BetaGeoFilter pour prédire la fréquence à laquelle le client achète. Je vais utiliser le modèle GammaGammaFilter pour prédire le profit qu'un client apportera. Et puis je vais analyser les données."
      ],
      "metadata": {
        "id": "6ps1iHr-EsAa"
      }
    },
    {
      "cell_type": "code",
      "source": [
        "\n"
      ],
      "metadata": {
        "id": "eyD2RIExXGOW"
      },
      "execution_count": null,
      "outputs": []
    },
    {
      "cell_type": "code",
      "source": [
        "today_date = dt.datetime(2023, 8, 19)\n",
        "pd_transaction_om['Date'] = pd.to_datetime(pd_transaction_om['Date'])\n",
        "# Create the df_cltv dataframe.\n",
        "df_clt = pd_transaction_om.groupby(\"Numero\").agg({\"Date\" : [lambda Date: (Date.max() - Date.min()).days, # recency\n",
        "                                                  lambda Date: (today_date - Date.min()).days], # T\n",
        "                                         \"Numero\" : lambda Numero:Numero.nunique(), # frequnecy\n",
        "                                         \"Montant\": lambda Montant: Montant.sum()}) # monatery"
      ],
      "metadata": {
        "execution": {
          "iopub.status.busy": "2023-02-01T20:03:24.332088Z",
          "iopub.execute_input": "2023-02-01T20:03:24.332541Z",
          "iopub.status.idle": "2023-02-01T20:03:24.348655Z",
          "shell.execute_reply.started": "2023-02-01T20:03:24.332504Z",
          "shell.execute_reply": "2023-02-01T20:03:24.347543Z"
        },
        "trusted": true,
        "id": "PgbWgIYuEsAb"
      },
      "execution_count": 141,
      "outputs": []
    },
    {
      "cell_type": "code",
      "source": [
        "# I specfy the column name of df_cltv\n",
        "df_clt.columns = [\"Recence\", \"T\", \"Frequence\", \"Montant\"]\n",
        "# I remove the column names of df_cltv because I am going to change them.\n",
        "# df_clt.columns = df_clt.columns.droplevel(0)\n",
        "# I specfy the column name of df_cltv\n",
        "df_clt.head()"
      ],
      "metadata": {
        "colab": {
          "base_uri": "https://localhost:8080/",
          "height": 237
        },
        "id": "ifWZdn_TVcLG",
        "outputId": "4a120aa0-037e-4feb-ede6-3379a16c68c2"
      },
      "execution_count": 142,
      "outputs": [
        {
          "output_type": "execute_result",
          "data": {
            "text/plain": [
              "        Recence    T  Frequence   Montant\n",
              "Numero                                   \n",
              "17          300  380          1  221200.0\n",
              "62           99  101          1    9900.0\n",
              "64          274  366          1   22000.0\n",
              "70            0  360          1   42000.0\n",
              "77            0    4          1     100.0"
            ],
            "text/html": [
              "\n",
              "  <div id=\"df-52b8ba16-e71f-418c-9ba1-9ccc821f32c3\" class=\"colab-df-container\">\n",
              "    <div>\n",
              "<style scoped>\n",
              "    .dataframe tbody tr th:only-of-type {\n",
              "        vertical-align: middle;\n",
              "    }\n",
              "\n",
              "    .dataframe tbody tr th {\n",
              "        vertical-align: top;\n",
              "    }\n",
              "\n",
              "    .dataframe thead th {\n",
              "        text-align: right;\n",
              "    }\n",
              "</style>\n",
              "<table border=\"1\" class=\"dataframe\">\n",
              "  <thead>\n",
              "    <tr style=\"text-align: right;\">\n",
              "      <th></th>\n",
              "      <th>Recence</th>\n",
              "      <th>T</th>\n",
              "      <th>Frequence</th>\n",
              "      <th>Montant</th>\n",
              "    </tr>\n",
              "    <tr>\n",
              "      <th>Numero</th>\n",
              "      <th></th>\n",
              "      <th></th>\n",
              "      <th></th>\n",
              "      <th></th>\n",
              "    </tr>\n",
              "  </thead>\n",
              "  <tbody>\n",
              "    <tr>\n",
              "      <th>17</th>\n",
              "      <td>300</td>\n",
              "      <td>380</td>\n",
              "      <td>1</td>\n",
              "      <td>221200.0</td>\n",
              "    </tr>\n",
              "    <tr>\n",
              "      <th>62</th>\n",
              "      <td>99</td>\n",
              "      <td>101</td>\n",
              "      <td>1</td>\n",
              "      <td>9900.0</td>\n",
              "    </tr>\n",
              "    <tr>\n",
              "      <th>64</th>\n",
              "      <td>274</td>\n",
              "      <td>366</td>\n",
              "      <td>1</td>\n",
              "      <td>22000.0</td>\n",
              "    </tr>\n",
              "    <tr>\n",
              "      <th>70</th>\n",
              "      <td>0</td>\n",
              "      <td>360</td>\n",
              "      <td>1</td>\n",
              "      <td>42000.0</td>\n",
              "    </tr>\n",
              "    <tr>\n",
              "      <th>77</th>\n",
              "      <td>0</td>\n",
              "      <td>4</td>\n",
              "      <td>1</td>\n",
              "      <td>100.0</td>\n",
              "    </tr>\n",
              "  </tbody>\n",
              "</table>\n",
              "</div>\n",
              "    <div class=\"colab-df-buttons\">\n",
              "\n",
              "  <div class=\"colab-df-container\">\n",
              "    <button class=\"colab-df-convert\" onclick=\"convertToInteractive('df-52b8ba16-e71f-418c-9ba1-9ccc821f32c3')\"\n",
              "            title=\"Convert this dataframe to an interactive table.\"\n",
              "            style=\"display:none;\">\n",
              "\n",
              "  <svg xmlns=\"http://www.w3.org/2000/svg\" height=\"24px\" viewBox=\"0 -960 960 960\">\n",
              "    <path d=\"M120-120v-720h720v720H120Zm60-500h600v-160H180v160Zm220 220h160v-160H400v160Zm0 220h160v-160H400v160ZM180-400h160v-160H180v160Zm440 0h160v-160H620v160ZM180-180h160v-160H180v160Zm440 0h160v-160H620v160Z\"/>\n",
              "  </svg>\n",
              "    </button>\n",
              "\n",
              "  <style>\n",
              "    .colab-df-container {\n",
              "      display:flex;\n",
              "      gap: 12px;\n",
              "    }\n",
              "\n",
              "    .colab-df-convert {\n",
              "      background-color: #E8F0FE;\n",
              "      border: none;\n",
              "      border-radius: 50%;\n",
              "      cursor: pointer;\n",
              "      display: none;\n",
              "      fill: #1967D2;\n",
              "      height: 32px;\n",
              "      padding: 0 0 0 0;\n",
              "      width: 32px;\n",
              "    }\n",
              "\n",
              "    .colab-df-convert:hover {\n",
              "      background-color: #E2EBFA;\n",
              "      box-shadow: 0px 1px 2px rgba(60, 64, 67, 0.3), 0px 1px 3px 1px rgba(60, 64, 67, 0.15);\n",
              "      fill: #174EA6;\n",
              "    }\n",
              "\n",
              "    .colab-df-buttons div {\n",
              "      margin-bottom: 4px;\n",
              "    }\n",
              "\n",
              "    [theme=dark] .colab-df-convert {\n",
              "      background-color: #3B4455;\n",
              "      fill: #D2E3FC;\n",
              "    }\n",
              "\n",
              "    [theme=dark] .colab-df-convert:hover {\n",
              "      background-color: #434B5C;\n",
              "      box-shadow: 0px 1px 3px 1px rgba(0, 0, 0, 0.15);\n",
              "      filter: drop-shadow(0px 1px 2px rgba(0, 0, 0, 0.3));\n",
              "      fill: #FFFFFF;\n",
              "    }\n",
              "  </style>\n",
              "\n",
              "    <script>\n",
              "      const buttonEl =\n",
              "        document.querySelector('#df-52b8ba16-e71f-418c-9ba1-9ccc821f32c3 button.colab-df-convert');\n",
              "      buttonEl.style.display =\n",
              "        google.colab.kernel.accessAllowed ? 'block' : 'none';\n",
              "\n",
              "      async function convertToInteractive(key) {\n",
              "        const element = document.querySelector('#df-52b8ba16-e71f-418c-9ba1-9ccc821f32c3');\n",
              "        const dataTable =\n",
              "          await google.colab.kernel.invokeFunction('convertToInteractive',\n",
              "                                                    [key], {});\n",
              "        if (!dataTable) return;\n",
              "\n",
              "        const docLinkHtml = 'Like what you see? Visit the ' +\n",
              "          '<a target=\"_blank\" href=https://colab.research.google.com/notebooks/data_table.ipynb>data table notebook</a>'\n",
              "          + ' to learn more about interactive tables.';\n",
              "        element.innerHTML = '';\n",
              "        dataTable['output_type'] = 'display_data';\n",
              "        await google.colab.output.renderOutput(dataTable, element);\n",
              "        const docLink = document.createElement('div');\n",
              "        docLink.innerHTML = docLinkHtml;\n",
              "        element.appendChild(docLink);\n",
              "      }\n",
              "    </script>\n",
              "  </div>\n",
              "\n",
              "\n",
              "<div id=\"df-23590b49-5ba8-4ec0-93c1-3260d03934b5\">\n",
              "  <button class=\"colab-df-quickchart\" onclick=\"quickchart('df-23590b49-5ba8-4ec0-93c1-3260d03934b5')\"\n",
              "            title=\"Suggest charts.\"\n",
              "            style=\"display:none;\">\n",
              "\n",
              "<svg xmlns=\"http://www.w3.org/2000/svg\" height=\"24px\"viewBox=\"0 0 24 24\"\n",
              "     width=\"24px\">\n",
              "    <g>\n",
              "        <path d=\"M19 3H5c-1.1 0-2 .9-2 2v14c0 1.1.9 2 2 2h14c1.1 0 2-.9 2-2V5c0-1.1-.9-2-2-2zM9 17H7v-7h2v7zm4 0h-2V7h2v10zm4 0h-2v-4h2v4z\"/>\n",
              "    </g>\n",
              "</svg>\n",
              "  </button>\n",
              "\n",
              "<style>\n",
              "  .colab-df-quickchart {\n",
              "      --bg-color: #E8F0FE;\n",
              "      --fill-color: #1967D2;\n",
              "      --hover-bg-color: #E2EBFA;\n",
              "      --hover-fill-color: #174EA6;\n",
              "      --disabled-fill-color: #AAA;\n",
              "      --disabled-bg-color: #DDD;\n",
              "  }\n",
              "\n",
              "  [theme=dark] .colab-df-quickchart {\n",
              "      --bg-color: #3B4455;\n",
              "      --fill-color: #D2E3FC;\n",
              "      --hover-bg-color: #434B5C;\n",
              "      --hover-fill-color: #FFFFFF;\n",
              "      --disabled-bg-color: #3B4455;\n",
              "      --disabled-fill-color: #666;\n",
              "  }\n",
              "\n",
              "  .colab-df-quickchart {\n",
              "    background-color: var(--bg-color);\n",
              "    border: none;\n",
              "    border-radius: 50%;\n",
              "    cursor: pointer;\n",
              "    display: none;\n",
              "    fill: var(--fill-color);\n",
              "    height: 32px;\n",
              "    padding: 0;\n",
              "    width: 32px;\n",
              "  }\n",
              "\n",
              "  .colab-df-quickchart:hover {\n",
              "    background-color: var(--hover-bg-color);\n",
              "    box-shadow: 0 1px 2px rgba(60, 64, 67, 0.3), 0 1px 3px 1px rgba(60, 64, 67, 0.15);\n",
              "    fill: var(--button-hover-fill-color);\n",
              "  }\n",
              "\n",
              "  .colab-df-quickchart-complete:disabled,\n",
              "  .colab-df-quickchart-complete:disabled:hover {\n",
              "    background-color: var(--disabled-bg-color);\n",
              "    fill: var(--disabled-fill-color);\n",
              "    box-shadow: none;\n",
              "  }\n",
              "\n",
              "  .colab-df-spinner {\n",
              "    border: 2px solid var(--fill-color);\n",
              "    border-color: transparent;\n",
              "    border-bottom-color: var(--fill-color);\n",
              "    animation:\n",
              "      spin 1s steps(1) infinite;\n",
              "  }\n",
              "\n",
              "  @keyframes spin {\n",
              "    0% {\n",
              "      border-color: transparent;\n",
              "      border-bottom-color: var(--fill-color);\n",
              "      border-left-color: var(--fill-color);\n",
              "    }\n",
              "    20% {\n",
              "      border-color: transparent;\n",
              "      border-left-color: var(--fill-color);\n",
              "      border-top-color: var(--fill-color);\n",
              "    }\n",
              "    30% {\n",
              "      border-color: transparent;\n",
              "      border-left-color: var(--fill-color);\n",
              "      border-top-color: var(--fill-color);\n",
              "      border-right-color: var(--fill-color);\n",
              "    }\n",
              "    40% {\n",
              "      border-color: transparent;\n",
              "      border-right-color: var(--fill-color);\n",
              "      border-top-color: var(--fill-color);\n",
              "    }\n",
              "    60% {\n",
              "      border-color: transparent;\n",
              "      border-right-color: var(--fill-color);\n",
              "    }\n",
              "    80% {\n",
              "      border-color: transparent;\n",
              "      border-right-color: var(--fill-color);\n",
              "      border-bottom-color: var(--fill-color);\n",
              "    }\n",
              "    90% {\n",
              "      border-color: transparent;\n",
              "      border-bottom-color: var(--fill-color);\n",
              "    }\n",
              "  }\n",
              "</style>\n",
              "\n",
              "  <script>\n",
              "    async function quickchart(key) {\n",
              "      const quickchartButtonEl =\n",
              "        document.querySelector('#' + key + ' button');\n",
              "      quickchartButtonEl.disabled = true;  // To prevent multiple clicks.\n",
              "      quickchartButtonEl.classList.add('colab-df-spinner');\n",
              "      try {\n",
              "        const charts = await google.colab.kernel.invokeFunction(\n",
              "            'suggestCharts', [key], {});\n",
              "      } catch (error) {\n",
              "        console.error('Error during call to suggestCharts:', error);\n",
              "      }\n",
              "      quickchartButtonEl.classList.remove('colab-df-spinner');\n",
              "      quickchartButtonEl.classList.add('colab-df-quickchart-complete');\n",
              "    }\n",
              "    (() => {\n",
              "      let quickchartButtonEl =\n",
              "        document.querySelector('#df-23590b49-5ba8-4ec0-93c1-3260d03934b5 button');\n",
              "      quickchartButtonEl.style.display =\n",
              "        google.colab.kernel.accessAllowed ? 'block' : 'none';\n",
              "    })();\n",
              "  </script>\n",
              "</div>\n",
              "    </div>\n",
              "  </div>\n"
            ]
          },
          "metadata": {},
          "execution_count": 142
        }
      ]
    },
    {
      "cell_type": "markdown",
      "source": [
        "### Calculating and subtracting outlier values from the data <a id = \"4a\"></a>\n",
        "In this chapter, I am going to calculate and subtract outlier values from the data"
      ],
      "metadata": {
        "id": "DfSGpOnTEsAb"
      }
    },
    {
      "cell_type": "markdown",
      "source": [
        "At the code blocks below, I am going to calculate the outlier with outlier_thresholds and then subtract it with replace_with_threshold."
      ],
      "metadata": {
        "id": "3OtZbcZnEsAc"
      }
    },
    {
      "cell_type": "code",
      "source": [
        "def outlier_thresholds(dataframe, variable):\n",
        "    quartile1 = dataframe[variable].quantile(0.01)\n",
        "    quartile3 = dataframe[variable].quantile(0.99)\n",
        "    interquantile_range = quartile3 - quartile1\n",
        "    up_limit = quartile3 + 1.5 * interquantile_range\n",
        "    low_limit = quartile1 - 1.5 * interquantile_range\n",
        "    return up_limit, low_limit\n",
        "\n",
        "def replace_with_threshold(dataframe, variable):\n",
        "    up_limit, low_limit = outlier_thresholds(dataframe, variable)\n",
        "    # dataframe.loc[(dataframe[variable] < low_limit), variable] = low_limit\n",
        "    dataframe.loc[(dataframe[variable] > up_limit), variable] = up_limit"
      ],
      "metadata": {
        "execution": {
          "iopub.status.busy": "2023-02-01T20:14:22.190544Z",
          "iopub.execute_input": "2023-02-01T20:14:22.190970Z",
          "iopub.status.idle": "2023-02-01T20:14:22.198069Z",
          "shell.execute_reply.started": "2023-02-01T20:14:22.190936Z",
          "shell.execute_reply": "2023-02-01T20:14:22.196842Z"
        },
        "trusted": true,
        "id": "64bqA0ZUEsAc"
      },
      "execution_count": 143,
      "outputs": []
    },
    {
      "cell_type": "code",
      "source": [
        "# I observe them before removing outliers.\n",
        "f, ax = plt.subplots(2,1, figsize = (20,5))\n",
        "col_list = [\"Frequence\", \"Montant\"]\n",
        "for i in range(0,2):\n",
        "    ax[i].boxplot(df_clt[col_list[i]], vert = 0)\n",
        "plt.show()"
      ],
      "metadata": {
        "execution": {
          "iopub.status.busy": "2023-02-01T20:14:24.423393Z",
          "iopub.execute_input": "2023-02-01T20:14:24.424688Z",
          "iopub.status.idle": "2023-02-01T20:14:24.862207Z",
          "shell.execute_reply.started": "2023-02-01T20:14:24.424636Z",
          "shell.execute_reply": "2023-02-01T20:14:24.861353Z"
        },
        "trusted": true,
        "id": "ctqizYG2EsAc",
        "colab": {
          "base_uri": "https://localhost:8080/",
          "height": 230
        },
        "outputId": "c793ba8a-8008-4435-df00-e8dd7b6425f2"
      },
      "execution_count": 144,
      "outputs": [
        {
          "output_type": "display_data",
          "data": {
            "text/plain": [
              "<Figure size 2000x500 with 2 Axes>"
            ],
            "image/png": "[encoded data removed]"
          },
          "metadata": {}
        }
      ]
    },
    {
      "cell_type": "code",
      "source": [
        "# I apply the functions for remove the outlier.\n",
        "replace_with_threshold(df_clt, \"Frequence\")\n",
        "replace_with_threshold(df_clt, \"Montant\")"
      ],
      "metadata": {
        "execution": {
          "iopub.status.busy": "2023-02-01T20:15:34.115667Z",
          "iopub.execute_input": "2023-02-01T20:15:34.116104Z",
          "iopub.status.idle": "2023-02-01T20:15:34.169316Z",
          "shell.execute_reply.started": "2023-02-01T20:15:34.116071Z",
          "shell.execute_reply": "2023-02-01T20:15:34.168199Z"
        },
        "trusted": true,
        "id": "Pl1PJbGuEsAd"
      },
      "execution_count": 145,
      "outputs": []
    },
    {
      "cell_type": "code",
      "source": [
        "# I observe them after removing outliers.\n",
        "f, ax = plt.subplots(2,1, figsize = (20,5))\n",
        "for i in range(0,2):\n",
        "    ax[i].boxplot(df_clt[col_list[i]], vert = 0)\n",
        "plt.show()"
      ],
      "metadata": {
        "execution": {
          "iopub.status.busy": "2023-02-01T20:16:31.592340Z",
          "iopub.execute_input": "2023-02-01T20:16:31.592759Z",
          "iopub.status.idle": "2023-02-01T20:16:32.021392Z",
          "shell.execute_reply.started": "2023-02-01T20:16:31.592728Z",
          "shell.execute_reply": "2023-02-01T20:16:32.020116Z"
        },
        "trusted": true,
        "id": "goIKNYnfEsAd",
        "colab": {
          "base_uri": "https://localhost:8080/",
          "height": 230
        },
        "outputId": "7ab4125c-7e59-43f3-de9a-ee2e2d8ac3e9"
      },
      "execution_count": 146,
      "outputs": [
        {
          "output_type": "display_data",
          "data": {
            "text/plain": [
              "<Figure size 2000x500 with 2 Axes>"
            ],
            "image/png": "[encoded data removed]"
          },
          "metadata": {}
        }
      ]
    },
    {
      "cell_type": "code",
      "source": [
        "df_clt.info()"
      ],
      "metadata": {
        "execution": {
          "iopub.status.busy": "2023-02-01T20:17:00.694490Z",
          "iopub.execute_input": "2023-02-01T20:17:00.695747Z",
          "iopub.status.idle": "2023-02-01T20:17:01.164802Z",
          "shell.execute_reply.started": "2023-02-01T20:17:00.695688Z",
          "shell.execute_reply": "2023-02-01T20:17:01.163599Z"
        },
        "trusted": true,
        "id": "OxkU5q6-EsAe",
        "colab": {
          "base_uri": "https://localhost:8080/"
        },
        "outputId": "4dcc9e5b-4e50-4bc6-9f61-b85f5be110d8"
      },
      "execution_count": 147,
      "outputs": [
        {
          "output_type": "stream",
          "name": "stdout",
          "text": [
            "<class 'pandas.core.frame.DataFrame'>\n",
            "Int64Index: 263538 entries, 17 to 2646662\n",
            "Data columns (total 4 columns):\n",
            " #   Column     Non-Null Count   Dtype  \n",
            "---  ------     --------------   -----  \n",
            " 0   Recence    263538 non-null  int64  \n",
            " 1   T          263538 non-null  int64  \n",
            " 2   Frequence  263538 non-null  int64  \n",
            " 3   Montant    263538 non-null  float64\n",
            "dtypes: float64(1), int64(3)\n",
            "memory usage: 10.1 MB\n"
          ]
        }
      ]
    },
    {
      "cell_type": "markdown",
      "source": [
        "### BG-NBD <a id= \"4c\"></a>\n",
        "In this section, I will apply the BetaGeoFitter model to the df_clt I created."
      ],
      "metadata": {
        "id": "M8dUbHcnEsAr"
      }
    },
    {
      "cell_type": "code",
      "source": [
        "# Model\n",
        "bgf = BetaGeoFitter()\n",
        "\n",
        "# fit with frequency, recency, and T values.\n",
        "bgf.fit(df_clt[\"Frequence\"],\n",
        "       df_clt[\"Recence\"],\n",
        "       df_clt[\"T\"])"
      ],
      "metadata": {
        "execution": {
          "iopub.status.busy": "2023-02-01T21:32:48.206477Z",
          "iopub.execute_input": "2023-02-01T21:32:48.207298Z",
          "iopub.status.idle": "2023-02-01T21:32:48.376470Z",
          "shell.execute_reply.started": "2023-02-01T21:32:48.207244Z",
          "shell.execute_reply": "2023-02-01T21:32:48.375118Z"
        },
        "trusted": true,
        "id": "9OLjMsZqEsAr"
      },
      "execution_count": null,
      "outputs": []
    },
    {
      "cell_type": "markdown",
      "source": [
        "At the code block below, I calculate how often shop customers in one month with the BetaGeoFitter model."
      ],
      "metadata": {
        "id": "iEtq2StYEsAs"
      }
    },
    {
      "cell_type": "code",
      "source": [
        "# Calculating one monthly values\n",
        "bgf.predict(4,\n",
        "           df_clt[\"Frequence\"],\n",
        "           df_clt[\"Recence\"],\n",
        "           df_clt[\"Montant\"]).sort_values(ascending = False).head(10)"
      ],
      "metadata": {
        "execution": {
          "iopub.status.busy": "2023-02-01T21:32:50.238687Z",
          "iopub.execute_input": "2023-02-01T21:32:50.239105Z",
          "iopub.status.idle": "2023-02-01T21:32:50.260331Z",
          "shell.execute_reply.started": "2023-02-01T21:32:50.239072Z",
          "shell.execute_reply": "2023-02-01T21:32:50.259147Z"
        },
        "trusted": true,
        "id": "8bOQ9h_KEsAs"
      },
      "execution_count": null,
      "outputs": []
    },
    {
      "cell_type": "code",
      "source": [
        "# Calculating three monthly values\n",
        "bgf.predict(4*3,\n",
        "           df_clt[\"Frequence\"],\n",
        "           df_clt[\"Recence\"],\n",
        "           df_clt[\"Montant\"]).sort_values(ascending = False).head(10)"
      ],
      "metadata": {
        "execution": {
          "iopub.status.busy": "2023-02-01T21:32:52.183315Z",
          "iopub.execute_input": "2023-02-01T21:32:52.184010Z",
          "iopub.status.idle": "2023-02-01T21:32:52.208236Z",
          "shell.execute_reply.started": "2023-02-01T21:32:52.183972Z",
          "shell.execute_reply": "2023-02-01T21:32:52.206705Z"
        },
        "trusted": true,
        "id": "2AhLROijEsAs"
      },
      "execution_count": null,
      "outputs": []
    },
    {
      "cell_type": "code",
      "source": [
        "# Adding the three monthly values to the df_clt\n",
        "df_clt[\"expected_purc_3_month\"] = bgf.predict(4*3,\n",
        "                                               df_clt[\"Frequence\"],\n",
        "                                               df_clt[\"Recence\"],\n",
        "                                               df_clt[\"Montant\"])"
      ],
      "metadata": {
        "execution": {
          "iopub.status.busy": "2023-02-01T21:32:53.964952Z",
          "iopub.execute_input": "2023-02-01T21:32:53.965377Z",
          "iopub.status.idle": "2023-02-01T21:32:53.985082Z",
          "shell.execute_reply.started": "2023-02-01T21:32:53.965341Z",
          "shell.execute_reply": "2023-02-01T21:32:53.983881Z"
        },
        "trusted": true,
        "id": "BnUg9XSAEsAt"
      },
      "execution_count": null,
      "outputs": []
    },
    {
      "cell_type": "code",
      "source": [
        "df_clt.head()"
      ],
      "metadata": {
        "execution": {
          "iopub.status.busy": "2023-02-01T21:32:56.436844Z",
          "iopub.execute_input": "2023-02-01T21:32:56.437353Z",
          "iopub.status.idle": "2023-02-01T21:32:56.452298Z",
          "shell.execute_reply.started": "2023-02-01T21:32:56.437307Z",
          "shell.execute_reply": "2023-02-01T21:32:56.451101Z"
        },
        "trusted": true,
        "id": "t0jF7z_2EsAt"
      },
      "execution_count": null,
      "outputs": []
    },
    {
      "cell_type": "code",
      "source": [
        "# Calculating six monthly values\n",
        "bgf.predict(4*6,\n",
        "           df_clt[\"Frequence\"],\n",
        "           df_clt[\"Recence\"],\n",
        "           df_clt[\"Montant\"]).sort_values(ascending = False).head(10)"
      ],
      "metadata": {
        "execution": {
          "iopub.status.busy": "2023-02-01T21:33:00.105122Z",
          "iopub.execute_input": "2023-02-01T21:33:00.105578Z",
          "iopub.status.idle": "2023-02-01T21:33:00.129619Z",
          "shell.execute_reply.started": "2023-02-01T21:33:00.105538Z",
          "shell.execute_reply": "2023-02-01T21:33:00.128314Z"
        },
        "trusted": true,
        "id": "hvvyL7yHEsAu"
      },
      "execution_count": null,
      "outputs": []
    },
    {
      "cell_type": "code",
      "source": [
        "# Adding the six monthly values to the df_clt\n",
        "df_clt[\"expected_purc_6_month\"] = bgf.predict(4*6,\n",
        "                                               df_clt[\"Frequence\"],\n",
        "                                               df_clt[\"Recence\"],\n",
        "                                               df_clt[\"Montant\"])"
      ],
      "metadata": {
        "execution": {
          "iopub.status.busy": "2023-02-01T21:33:02.121857Z",
          "iopub.execute_input": "2023-02-01T21:33:02.122394Z",
          "iopub.status.idle": "2023-02-01T21:33:02.145903Z",
          "shell.execute_reply.started": "2023-02-01T21:33:02.122345Z",
          "shell.execute_reply": "2023-02-01T21:33:02.144630Z"
        },
        "trusted": true,
        "id": "Ts3zQcOOEsAu"
      },
      "execution_count": null,
      "outputs": []
    },
    {
      "cell_type": "code",
      "source": [
        "df_clt.head()"
      ],
      "metadata": {
        "execution": {
          "iopub.status.busy": "2023-02-01T21:33:04.354698Z",
          "iopub.execute_input": "2023-02-01T21:33:04.355179Z",
          "iopub.status.idle": "2023-02-01T21:33:04.368034Z",
          "shell.execute_reply.started": "2023-02-01T21:33:04.355126Z",
          "shell.execute_reply": "2023-02-01T21:33:04.366713Z"
        },
        "trusted": true,
        "id": "OhqHoY4xEsAu"
      },
      "execution_count": null,
      "outputs": []
    },
    {
      "cell_type": "markdown",
      "source": [
        "### Gamma Gamma <a id=\"4d\"></a>\n",
        "In this section, I will apply the GammaGammaFitter model to the df_clt I created."
      ],
      "metadata": {
        "id": "OPxgtQIuEsAv"
      }
    },
    {
      "cell_type": "code",
      "source": [
        "# Model\n",
        "ggf = GammaGammaFitter(penalizer_coef = 0.01)\n",
        "\n",
        "# fitting with frequency adn monetary values\n",
        "ggf.fit(df_clt[\"Frequence\"], df_clt[\"Montant\"])"
      ],
      "metadata": {
        "execution": {
          "iopub.status.busy": "2023-02-01T21:33:08.324475Z",
          "iopub.execute_input": "2023-02-01T21:33:08.324870Z",
          "iopub.status.idle": "2023-02-01T21:33:08.395850Z",
          "shell.execute_reply.started": "2023-02-01T21:33:08.324839Z",
          "shell.execute_reply": "2023-02-01T21:33:08.394633Z"
        },
        "trusted": true,
        "id": "auorAcOOEsAv",
        "colab": {
          "base_uri": "https://localhost:8080/"
        },
        "outputId": "93f456bf-dc5b-4d12-ad9d-baa4a0a064d2"
      },
      "execution_count": 130,
      "outputs": [
        {
          "output_type": "execute_result",
          "data": {
            "text/plain": [
              "<lifetimes.GammaGammaFitter: fitted with 263538 subjects, p: 2.76, q: 0.13, v: 2.55>"
            ]
          },
          "metadata": {},
          "execution_count": 130
        }
      ]
    },
    {
      "cell_type": "markdown",
      "source": [
        "At the code block below, I calculate how much profit a customer will bring in with the gammagammafitter model."
      ],
      "metadata": {
        "id": "gne5BpccEsAv"
      }
    },
    {
      "cell_type": "code",
      "source": [
        "ggf.conditional_expected_average_profit(df_clt[\"Frequence\"], df_clt[\"Montant\"]).sort_values(ascending = False).head(10)"
      ],
      "metadata": {
        "execution": {
          "iopub.status.busy": "2023-02-01T21:33:10.190276Z",
          "iopub.execute_input": "2023-02-01T21:33:10.190679Z",
          "iopub.status.idle": "2023-02-01T21:33:10.204571Z",
          "shell.execute_reply.started": "2023-02-01T21:33:10.190646Z",
          "shell.execute_reply": "2023-02-01T21:33:10.203364Z"
        },
        "trusted": true,
        "id": "8AXXFWNOEsAw",
        "colab": {
          "base_uri": "https://localhost:8080/"
        },
        "outputId": "9c04d71c-476f-42f4-e3ed-35084ac52dd3"
      },
      "execution_count": 131,
      "outputs": [
        {
          "output_type": "execute_result",
          "data": {
            "text/plain": [
              "Numero\n",
              "614084     1.172341e+09\n",
              "432517     1.150792e+09\n",
              "524990     1.130033e+09\n",
              "129011     1.128427e+09\n",
              "176177     2.390020e+08\n",
              "1089547    1.951962e+08\n",
              "1377467    1.919110e+08\n",
              "2617447    1.845653e+08\n",
              "397533     1.737602e+08\n",
              "1712881    1.660864e+08\n",
              "dtype: float64"
            ]
          },
          "metadata": {},
          "execution_count": 131
        }
      ]
    },
    {
      "cell_type": "code",
      "source": [
        "# Adding the prediction values to df_rfm.\n",
        "df_clt[\"expected_average_profit\"] = ggf.conditional_expected_average_profit(df_clt[\"Frequence\"], df_clt[\"Montant\"])"
      ],
      "metadata": {
        "execution": {
          "iopub.status.busy": "2023-02-01T21:33:12.269557Z",
          "iopub.execute_input": "2023-02-01T21:33:12.269945Z",
          "iopub.status.idle": "2023-02-01T21:33:12.277909Z",
          "shell.execute_reply.started": "2023-02-01T21:33:12.269914Z",
          "shell.execute_reply": "2023-02-01T21:33:12.276870Z"
        },
        "trusted": true,
        "id": "EkdvGWTcEsAw"
      },
      "execution_count": 132,
      "outputs": []
    },
    {
      "cell_type": "code",
      "source": [
        "df_clt.head()"
      ],
      "metadata": {
        "execution": {
          "iopub.status.busy": "2023-02-01T21:33:14.250623Z",
          "iopub.execute_input": "2023-02-01T21:33:14.251201Z",
          "iopub.status.idle": "2023-02-01T21:33:14.266649Z",
          "shell.execute_reply.started": "2023-02-01T21:33:14.251146Z",
          "shell.execute_reply": "2023-02-01T21:33:14.265148Z"
        },
        "trusted": true,
        "id": "xC35AKeAEsAw",
        "colab": {
          "base_uri": "https://localhost:8080/",
          "height": 237
        },
        "outputId": "8fc54bdf-509a-40f4-878c-cfd8a752fa21"
      },
      "execution_count": 133,
      "outputs": [
        {
          "output_type": "execute_result",
          "data": {
            "text/plain": [
              "        Recence    T  Frequence   Montant  expected_average_profit\n",
              "Numero                                                            \n",
              "17          300  380          1  221200.0            322312.080894\n",
              "62           99  101          1    9900.0             14428.909280\n",
              "64          274  366          1   22000.0             32059.701407\n",
              "70            0  360          1   42000.0             61201.506577\n",
              "77            0    4          1     100.0               149.424747"
            ],
            "text/html": [
              "\n",
              "  <div id=\"df-a78e2847-f94a-4cb0-91a3-f3ba5be0710c\" class=\"colab-df-container\">\n",
              "    <div>\n",
              "<style scoped>\n",
              "    .dataframe tbody tr th:only-of-type {\n",
              "        vertical-align: middle;\n",
              "    }\n",
              "\n",
              "    .dataframe tbody tr th {\n",
              "        vertical-align: top;\n",
              "    }\n",
              "\n",
              "    .dataframe thead th {\n",
              "        text-align: right;\n",
              "    }\n",
              "</style>\n",
              "<table border=\"1\" class=\"dataframe\">\n",
              "  <thead>\n",
              "    <tr style=\"text-align: right;\">\n",
              "      <th></th>\n",
              "      <th>Recence</th>\n",
              "      <th>T</th>\n",
              "      <th>Frequence</th>\n",
              "      <th>Montant</th>\n",
              "      <th>expected_average_profit</th>\n",
              "    </tr>\n",
              "    <tr>\n",
              "      <th>Numero</th>\n",
              "      <th></th>\n",
              "      <th></th>\n",
              "      <th></th>\n",
              "      <th></th>\n",
              "      <th></th>\n",
              "    </tr>\n",
              "  </thead>\n",
              "  <tbody>\n",
              "    <tr>\n",
              "      <th>17</th>\n",
              "      <td>300</td>\n",
              "      <td>380</td>\n",
              "      <td>1</td>\n",
              "      <td>221200.0</td>\n",
              "      <td>322312.080894</td>\n",
              "    </tr>\n",
              "    <tr>\n",
              "      <th>62</th>\n",
              "      <td>99</td>\n",
              "      <td>101</td>\n",
              "      <td>1</td>\n",
              "      <td>9900.0</td>\n",
              "      <td>14428.909280</td>\n",
              "    </tr>\n",
              "    <tr>\n",
              "      <th>64</th>\n",
              "      <td>274</td>\n",
              "      <td>366</td>\n",
              "      <td>1</td>\n",
              "      <td>22000.0</td>\n",
              "      <td>32059.701407</td>\n",
              "    </tr>\n",
              "    <tr>\n",
              "      <th>70</th>\n",
              "      <td>0</td>\n",
              "      <td>360</td>\n",
              "      <td>1</td>\n",
              "      <td>42000.0</td>\n",
              "      <td>61201.506577</td>\n",
              "    </tr>\n",
              "    <tr>\n",
              "      <th>77</th>\n",
              "      <td>0</td>\n",
              "      <td>4</td>\n",
              "      <td>1</td>\n",
              "      <td>100.0</td>\n",
              "      <td>149.424747</td>\n",
              "    </tr>\n",
              "  </tbody>\n",
              "</table>\n",
              "</div>\n",
              "    <div class=\"colab-df-buttons\">\n",
              "\n",
              "  <div class=\"colab-df-container\">\n",
              "    <button class=\"colab-df-convert\" onclick=\"convertToInteractive('df-a78e2847-f94a-4cb0-91a3-f3ba5be0710c')\"\n",
              "            title=\"Convert this dataframe to an interactive table.\"\n",
              "            style=\"display:none;\">\n",
              "\n",
              "  <svg xmlns=\"http://www.w3.org/2000/svg\" height=\"24px\" viewBox=\"0 -960 960 960\">\n",
              "    <path d=\"M120-120v-720h720v720H120Zm60-500h600v-160H180v160Zm220 220h160v-160H400v160Zm0 220h160v-160H400v160ZM180-400h160v-160H180v160Zm440 0h160v-160H620v160ZM180-180h160v-160H180v160Zm440 0h160v-160H620v160Z\"/>\n",
              "  </svg>\n",
              "    </button>\n",
              "\n",
              "  <style>\n",
              "    .colab-df-container {\n",
              "      display:flex;\n",
              "      gap: 12px;\n",
              "    }\n",
              "\n",
              "    .colab-df-convert {\n",
              "      background-color: #E8F0FE;\n",
              "      border: none;\n",
              "      border-radius: 50%;\n",
              "      cursor: pointer;\n",
              "      display: none;\n",
              "      fill: #1967D2;\n",
              "      height: 32px;\n",
              "      padding: 0 0 0 0;\n",
              "      width: 32px;\n",
              "    }\n",
              "\n",
              "    .colab-df-convert:hover {\n",
              "      background-color: #E2EBFA;\n",
              "      box-shadow: 0px 1px 2px rgba(60, 64, 67, 0.3), 0px 1px 3px 1px rgba(60, 64, 67, 0.15);\n",
              "      fill: #174EA6;\n",
              "    }\n",
              "\n",
              "    .colab-df-buttons div {\n",
              "      margin-bottom: 4px;\n",
              "    }\n",
              "\n",
              "    [theme=dark] .colab-df-convert {\n",
              "      background-color: #3B4455;\n",
              "      fill: #D2E3FC;\n",
              "    }\n",
              "\n",
              "    [theme=dark] .colab-df-convert:hover {\n",
              "      background-color: #434B5C;\n",
              "      box-shadow: 0px 1px 3px 1px rgba(0, 0, 0, 0.15);\n",
              "      filter: drop-shadow(0px 1px 2px rgba(0, 0, 0, 0.3));\n",
              "      fill: #FFFFFF;\n",
              "    }\n",
              "  </style>\n",
              "\n",
              "    <script>\n",
              "      const buttonEl =\n",
              "        document.querySelector('#df-a78e2847-f94a-4cb0-91a3-f3ba5be0710c button.colab-df-convert');\n",
              "      buttonEl.style.display =\n",
              "        google.colab.kernel.accessAllowed ? 'block' : 'none';\n",
              "\n",
              "      async function convertToInteractive(key) {\n",
              "        const element = document.querySelector('#df-a78e2847-f94a-4cb0-91a3-f3ba5be0710c');\n",
              "        const dataTable =\n",
              "          await google.colab.kernel.invokeFunction('convertToInteractive',\n",
              "                                                    [key], {});\n",
              "        if (!dataTable) return;\n",
              "\n",
              "        const docLinkHtml = 'Like what you see? Visit the ' +\n",
              "          '<a target=\"_blank\" href=https://colab.research.google.com/notebooks/data_table.ipynb>data table notebook</a>'\n",
              "          + ' to learn more about interactive tables.';\n",
              "        element.innerHTML = '';\n",
              "        dataTable['output_type'] = 'display_data';\n",
              "        await google.colab.output.renderOutput(dataTable, element);\n",
              "        const docLink = document.createElement('div');\n",
              "        docLink.innerHTML = docLinkHtml;\n",
              "        element.appendChild(docLink);\n",
              "      }\n",
              "    </script>\n",
              "  </div>\n",
              "\n",
              "\n",
              "<div id=\"df-d13136ff-4a43-404f-8f22-82a2f08725f1\">\n",
              "  <button class=\"colab-df-quickchart\" onclick=\"quickchart('df-d13136ff-4a43-404f-8f22-82a2f08725f1')\"\n",
              "            title=\"Suggest charts.\"\n",
              "            style=\"display:none;\">\n",
              "\n",
              "<svg xmlns=\"http://www.w3.org/2000/svg\" height=\"24px\"viewBox=\"0 0 24 24\"\n",
              "     width=\"24px\">\n",
              "    <g>\n",
              "        <path d=\"M19 3H5c-1.1 0-2 .9-2 2v14c0 1.1.9 2 2 2h14c1.1 0 2-.9 2-2V5c0-1.1-.9-2-2-2zM9 17H7v-7h2v7zm4 0h-2V7h2v10zm4 0h-2v-4h2v4z\"/>\n",
              "    </g>\n",
              "</svg>\n",
              "  </button>\n",
              "\n",
              "<style>\n",
              "  .colab-df-quickchart {\n",
              "      --bg-color: #E8F0FE;\n",
              "      --fill-color: #1967D2;\n",
              "      --hover-bg-color: #E2EBFA;\n",
              "      --hover-fill-color: #174EA6;\n",
              "      --disabled-fill-color: #AAA;\n",
              "      --disabled-bg-color: #DDD;\n",
              "  }\n",
              "\n",
              "  [theme=dark] .colab-df-quickchart {\n",
              "      --bg-color: #3B4455;\n",
              "      --fill-color: #D2E3FC;\n",
              "      --hover-bg-color: #434B5C;\n",
              "      --hover-fill-color: #FFFFFF;\n",
              "      --disabled-bg-color: #3B4455;\n",
              "      --disabled-fill-color: #666;\n",
              "  }\n",
              "\n",
              "  .colab-df-quickchart {\n",
              "    background-color: var(--bg-color);\n",
              "    border: none;\n",
              "    border-radius: 50%;\n",
              "    cursor: pointer;\n",
              "    display: none;\n",
              "    fill: var(--fill-color);\n",
              "    height: 32px;\n",
              "    padding: 0;\n",
              "    width: 32px;\n",
              "  }\n",
              "\n",
              "  .colab-df-quickchart:hover {\n",
              "    background-color: var(--hover-bg-color);\n",
              "    box-shadow: 0 1px 2px rgba(60, 64, 67, 0.3), 0 1px 3px 1px rgba(60, 64, 67, 0.15);\n",
              "    fill: var(--button-hover-fill-color);\n",
              "  }\n",
              "\n",
              "  .colab-df-quickchart-complete:disabled,\n",
              "  .colab-df-quickchart-complete:disabled:hover {\n",
              "    background-color: var(--disabled-bg-color);\n",
              "    fill: var(--disabled-fill-color);\n",
              "    box-shadow: none;\n",
              "  }\n",
              "\n",
              "  .colab-df-spinner {\n",
              "    border: 2px solid var(--fill-color);\n",
              "    border-color: transparent;\n",
              "    border-bottom-color: var(--fill-color);\n",
              "    animation:\n",
              "      spin 1s steps(1) infinite;\n",
              "  }\n",
              "\n",
              "  @keyframes spin {\n",
              "    0% {\n",
              "      border-color: transparent;\n",
              "      border-bottom-color: var(--fill-color);\n",
              "      border-left-color: var(--fill-color);\n",
              "    }\n",
              "    20% {\n",
              "      border-color: transparent;\n",
              "      border-left-color: var(--fill-color);\n",
              "      border-top-color: var(--fill-color);\n",
              "    }\n",
              "    30% {\n",
              "      border-color: transparent;\n",
              "      border-left-color: var(--fill-color);\n",
              "      border-top-color: var(--fill-color);\n",
              "      border-right-color: var(--fill-color);\n",
              "    }\n",
              "    40% {\n",
              "      border-color: transparent;\n",
              "      border-right-color: var(--fill-color);\n",
              "      border-top-color: var(--fill-color);\n",
              "    }\n",
              "    60% {\n",
              "      border-color: transparent;\n",
              "      border-right-color: var(--fill-color);\n",
              "    }\n",
              "    80% {\n",
              "      border-color: transparent;\n",
              "      border-right-color: var(--fill-color);\n",
              "      border-bottom-color: var(--fill-color);\n",
              "    }\n",
              "    90% {\n",
              "      border-color: transparent;\n",
              "      border-bottom-color: var(--fill-color);\n",
              "    }\n",
              "  }\n",
              "</style>\n",
              "\n",
              "  <script>\n",
              "    async function quickchart(key) {\n",
              "      const quickchartButtonEl =\n",
              "        document.querySelector('#' + key + ' button');\n",
              "      quickchartButtonEl.disabled = true;  // To prevent multiple clicks.\n",
              "      quickchartButtonEl.classList.add('colab-df-spinner');\n",
              "      try {\n",
              "        const charts = await google.colab.kernel.invokeFunction(\n",
              "            'suggestCharts', [key], {});\n",
              "      } catch (error) {\n",
              "        console.error('Error during call to suggestCharts:', error);\n",
              "      }\n",
              "      quickchartButtonEl.classList.remove('colab-df-spinner');\n",
              "      quickchartButtonEl.classList.add('colab-df-quickchart-complete');\n",
              "    }\n",
              "    (() => {\n",
              "      let quickchartButtonEl =\n",
              "        document.querySelector('#df-d13136ff-4a43-404f-8f22-82a2f08725f1 button');\n",
              "      quickchartButtonEl.style.display =\n",
              "        google.colab.kernel.accessAllowed ? 'block' : 'none';\n",
              "    })();\n",
              "  </script>\n",
              "</div>\n",
              "    </div>\n",
              "  </div>\n"
            ]
          },
          "metadata": {},
          "execution_count": 133
        }
      ]
    },
    {
      "cell_type": "markdown",
      "source": [
        "At the code block below, I calculate the cltv values of the customer."
      ],
      "metadata": {
        "id": "9YdvFgQVEsAx"
      }
    },
    {
      "cell_type": "code",
      "source": [
        "cltv = ggf.customer_lifetime_value(bgf,\n",
        "                                  df_clt[\"Frequence\"],\n",
        "                                  df_clt[\"Recence\"],\n",
        "                                  df_clt[\"Montant\"],\n",
        "                                  df_clt[\"Montant\"],\n",
        "                                  time = 6, # six mounth\n",
        "                                  freq = \"W\",\n",
        "                                  discount_rate = 0.01)"
      ],
      "metadata": {
        "execution": {
          "iopub.status.busy": "2023-02-01T21:33:16.380771Z",
          "iopub.execute_input": "2023-02-01T21:33:16.381186Z",
          "iopub.status.idle": "2023-02-01T21:33:16.512308Z",
          "shell.execute_reply.started": "2023-02-01T21:33:16.381154Z",
          "shell.execute_reply": "2023-02-01T21:33:16.511191Z"
        },
        "trusted": true,
        "id": "lCHCNVlYEsAx",
        "colab": {
          "base_uri": "https://localhost:8080/",
          "height": 453
        },
        "outputId": "f1d2fadf-aaa8-414f-d899-bae99e587e81"
      },
      "execution_count": 134,
      "outputs": [
        {
          "output_type": "error",
          "ename": "AttributeError",
          "evalue": "ignored",
          "traceback": [
            "\u001b[0;31m---------------------------------------------------------------------------\u001b[0m",
            "\u001b[0;31mAttributeError\u001b[0m                            Traceback (most recent call last)",
            "\u001b[0;32m<ipython-input-134-99fcadd7991d>\u001b[0m in \u001b[0;36m<cell line: 1>\u001b[0;34m()\u001b[0m\n\u001b[0;32m----> 1\u001b[0;31m cltv = ggf.customer_lifetime_value(bgf,\n\u001b[0m\u001b[1;32m      2\u001b[0m                                   \u001b[0mdf_clt\u001b[0m\u001b[0;34m[\u001b[0m\u001b[0;34m\"Frequence\"\u001b[0m\u001b[0;34m]\u001b[0m\u001b[0;34m,\u001b[0m\u001b[0;34m\u001b[0m\u001b[0;34m\u001b[0m\u001b[0m\n\u001b[1;32m      3\u001b[0m                                   \u001b[0mdf_clt\u001b[0m\u001b[0;34m[\u001b[0m\u001b[0;34m\"Recence\"\u001b[0m\u001b[0;34m]\u001b[0m\u001b[0;34m,\u001b[0m\u001b[0;34m\u001b[0m\u001b[0;34m\u001b[0m\u001b[0m\n\u001b[1;32m      4\u001b[0m                                   \u001b[0mdf_clt\u001b[0m\u001b[0;34m[\u001b[0m\u001b[0;34m\"Montant\"\u001b[0m\u001b[0;34m]\u001b[0m\u001b[0;34m,\u001b[0m\u001b[0;34m\u001b[0m\u001b[0;34m\u001b[0m\u001b[0m\n\u001b[1;32m      5\u001b[0m                                   \u001b[0mdf_clt\u001b[0m\u001b[0;34m[\u001b[0m\u001b[0;34m\"Montant\"\u001b[0m\u001b[0;34m]\u001b[0m\u001b[0;34m,\u001b[0m\u001b[0;34m\u001b[0m\u001b[0;34m\u001b[0m\u001b[0m\n",
            "\u001b[0;32m/usr/local/lib/python3.10/dist-packages/lifetimes/fitters/gamma_gamma_fitter.py\u001b[0m in \u001b[0;36mcustomer_lifetime_value\u001b[0;34m(self, transaction_prediction_model, frequency, recency, T, monetary_value, time, discount_rate, freq)\u001b[0m\n\u001b[1;32m    293\u001b[0m         \u001b[0madjusted_monetary_value\u001b[0m \u001b[0;34m=\u001b[0m \u001b[0mself\u001b[0m\u001b[0;34m.\u001b[0m\u001b[0mconditional_expected_average_profit\u001b[0m\u001b[0;34m(\u001b[0m\u001b[0mfrequency\u001b[0m\u001b[0;34m,\u001b[0m \u001b[0mmonetary_value\u001b[0m\u001b[0;34m)\u001b[0m\u001b[0;34m\u001b[0m\u001b[0;34m\u001b[0m\u001b[0m\n\u001b[1;32m    294\u001b[0m \u001b[0;34m\u001b[0m\u001b[0m\n\u001b[0;32m--> 295\u001b[0;31m         return _customer_lifetime_value(\n\u001b[0m\u001b[1;32m    296\u001b[0m             \u001b[0mtransaction_prediction_model\u001b[0m\u001b[0;34m,\u001b[0m \u001b[0mfrequency\u001b[0m\u001b[0;34m,\u001b[0m \u001b[0mrecency\u001b[0m\u001b[0;34m,\u001b[0m \u001b[0mT\u001b[0m\u001b[0;34m,\u001b[0m \u001b[0madjusted_monetary_value\u001b[0m\u001b[0;34m,\u001b[0m \u001b[0mtime\u001b[0m\u001b[0;34m,\u001b[0m \u001b[0mdiscount_rate\u001b[0m\u001b[0;34m,\u001b[0m \u001b[0mfreq\u001b[0m\u001b[0;34m=\u001b[0m\u001b[0mfreq\u001b[0m\u001b[0;34m\u001b[0m\u001b[0;34m\u001b[0m\u001b[0m\n\u001b[1;32m    297\u001b[0m         )\n",
            "\u001b[0;32m/usr/local/lib/python3.10/dist-packages/lifetimes/utils.py\u001b[0m in \u001b[0;36m_customer_lifetime_value\u001b[0;34m(transaction_prediction_model, frequency, recency, T, monetary_value, time, discount_rate, freq)\u001b[0m\n\u001b[1;32m    495\u001b[0m     \u001b[0;32mfor\u001b[0m \u001b[0mi\u001b[0m \u001b[0;32min\u001b[0m \u001b[0msteps\u001b[0m \u001b[0;34m*\u001b[0m \u001b[0mfactor\u001b[0m\u001b[0;34m:\u001b[0m\u001b[0;34m\u001b[0m\u001b[0;34m\u001b[0m\u001b[0m\n\u001b[1;32m    496\u001b[0m         \u001b[0;31m# since the prediction of number of transactions is cumulative, we have to subtract off the previous periods\u001b[0m\u001b[0;34m\u001b[0m\u001b[0;34m\u001b[0m\u001b[0m\n\u001b[0;32m--> 497\u001b[0;31m         expected_number_of_transactions = transaction_prediction_model.predict(\n\u001b[0m\u001b[1;32m    498\u001b[0m             \u001b[0mi\u001b[0m\u001b[0;34m,\u001b[0m \u001b[0mfrequency\u001b[0m\u001b[0;34m,\u001b[0m \u001b[0mrecency\u001b[0m\u001b[0;34m,\u001b[0m \u001b[0mT\u001b[0m\u001b[0;34m\u001b[0m\u001b[0;34m\u001b[0m\u001b[0m\n\u001b[1;32m    499\u001b[0m         ) - transaction_prediction_model.predict(i - factor, frequency, recency, T)\n",
            "\u001b[0;31mAttributeError\u001b[0m: 'BetaGeoFitter' object has no attribute 'predict'"
          ]
        }
      ]
    },
    {
      "cell_type": "code",
      "source": [
        "cltv.head(10)"
      ],
      "metadata": {
        "execution": {
          "iopub.status.busy": "2023-02-01T21:33:18.898865Z",
          "iopub.execute_input": "2023-02-01T21:33:18.899397Z",
          "iopub.status.idle": "2023-02-01T21:33:18.908337Z",
          "shell.execute_reply.started": "2023-02-01T21:33:18.899360Z",
          "shell.execute_reply": "2023-02-01T21:33:18.906973Z"
        },
        "trusted": true,
        "id": "AkgCSe5JEsAx"
      },
      "execution_count": null,
      "outputs": []
    },
    {
      "cell_type": "code",
      "source": [
        "# Adding the cltv values to the df_clt.\n",
        "df_clt[\"cltv\"] = cltv"
      ],
      "metadata": {
        "execution": {
          "iopub.status.busy": "2023-02-01T21:33:21.118550Z",
          "iopub.execute_input": "2023-02-01T21:33:21.119037Z",
          "iopub.status.idle": "2023-02-01T21:33:21.125580Z",
          "shell.execute_reply.started": "2023-02-01T21:33:21.118997Z",
          "shell.execute_reply": "2023-02-01T21:33:21.124248Z"
        },
        "trusted": true,
        "id": "HsKN2MsrEsAy"
      },
      "execution_count": null,
      "outputs": []
    },
    {
      "cell_type": "code",
      "source": [
        "df_clt.head()"
      ],
      "metadata": {
        "execution": {
          "iopub.status.busy": "2023-02-01T21:34:02.555599Z",
          "iopub.execute_input": "2023-02-01T21:34:02.556008Z",
          "iopub.status.idle": "2023-02-01T21:34:02.571252Z",
          "shell.execute_reply.started": "2023-02-01T21:34:02.555977Z",
          "shell.execute_reply": "2023-02-01T21:34:02.569861Z"
        },
        "trusted": true,
        "id": "IyAjqX33EsAy"
      },
      "execution_count": null,
      "outputs": []
    },
    {
      "cell_type": "markdown",
      "source": [
        "### Segmentation <a id = \"4e\"></a>\n",
        "In this chapter, I split the cltv values into segments."
      ],
      "metadata": {
        "id": "w0Ls3NEWEsAy"
      }
    },
    {
      "cell_type": "code",
      "source": [
        "df_clt[\"segment\"] = pd.qcut(df_clt[\"cltv\"], 4, labels = [\"D\", \"C\", \"B\", \"A\"])"
      ],
      "metadata": {
        "execution": {
          "iopub.status.busy": "2023-02-01T21:35:39.479694Z",
          "iopub.execute_input": "2023-02-01T21:35:39.480113Z",
          "iopub.status.idle": "2023-02-01T21:35:39.490593Z",
          "shell.execute_reply.started": "2023-02-01T21:35:39.480077Z",
          "shell.execute_reply": "2023-02-01T21:35:39.489579Z"
        },
        "trusted": true,
        "id": "iUjp7yX1EsAy"
      },
      "execution_count": null,
      "outputs": []
    },
    {
      "cell_type": "code",
      "source": [
        "df_clt.head()"
      ],
      "metadata": {
        "execution": {
          "iopub.status.busy": "2023-02-01T21:35:40.812544Z",
          "iopub.execute_input": "2023-02-01T21:35:40.812914Z",
          "iopub.status.idle": "2023-02-01T21:35:40.828561Z",
          "shell.execute_reply.started": "2023-02-01T21:35:40.812884Z",
          "shell.execute_reply": "2023-02-01T21:35:40.827251Z"
        },
        "trusted": true,
        "id": "XWV9W83kEsAz"
      },
      "execution_count": null,
      "outputs": []
    },
    {
      "cell_type": "markdown",
      "source": [
        "### Review The CLTV DataFrame <a id=\"4f\"></a>\n",
        "In this chapter, I am going to review the df_clt."
      ],
      "metadata": {
        "id": "v-_kjOD2EsAz"
      }
    },
    {
      "cell_type": "code",
      "source": [
        "df_clt.head()"
      ],
      "metadata": {
        "execution": {
          "iopub.status.busy": "2023-02-01T22:03:30.844839Z",
          "iopub.execute_input": "2023-02-01T22:03:30.845213Z",
          "iopub.status.idle": "2023-02-01T22:03:30.859460Z",
          "shell.execute_reply.started": "2023-02-01T22:03:30.845183Z",
          "shell.execute_reply": "2023-02-01T22:03:30.858308Z"
        },
        "trusted": true,
        "id": "c3mW1qbTEsA0"
      },
      "execution_count": null,
      "outputs": []
    },
    {
      "cell_type": "markdown",
      "source": [
        "At the code below, I check count, mean, and sum value of segments on the other values."
      ],
      "metadata": {
        "id": "xRMSlUT1EsA0"
      }
    },
    {
      "cell_type": "code",
      "source": [
        "df_clt.groupby(\"segment\").agg({\"count\", \"mean\", \"sum\"})"
      ],
      "metadata": {
        "execution": {
          "iopub.status.busy": "2023-02-01T21:59:38.258628Z",
          "iopub.execute_input": "2023-02-01T21:59:38.259535Z",
          "iopub.status.idle": "2023-02-01T21:59:38.302086Z",
          "shell.execute_reply.started": "2023-02-01T21:59:38.259494Z",
          "shell.execute_reply": "2023-02-01T21:59:38.300998Z"
        },
        "trusted": true,
        "id": "27Kb-4wBEsA0"
      },
      "execution_count": null,
      "outputs": []
    },
    {
      "cell_type": "code",
      "source": [
        "df_clt.sort_values(by = \"Recence\", ascending = False).head()"
      ],
      "metadata": {
        "execution": {
          "iopub.status.busy": "2023-02-01T22:05:00.860288Z",
          "iopub.execute_input": "2023-02-01T22:05:00.861215Z",
          "iopub.status.idle": "2023-02-01T22:05:00.875536Z",
          "shell.execute_reply.started": "2023-02-01T22:05:00.861177Z",
          "shell.execute_reply": "2023-02-01T22:05:00.874382Z"
        },
        "trusted": true,
        "id": "Kj-JvNS2EsA1"
      },
      "execution_count": null,
      "outputs": []
    },
    {
      "cell_type": "code",
      "source": [
        "def check_cltv_best_and_worst(column):\n",
        "    print(f\"############ Top five - {column} ############\")\n",
        "    print(df_clt.sort_values(by = column, ascending = False).head())\n",
        "    print(f\"############ Bottom five - {column} ############\")\n",
        "    print(df_clt.sort_values(by = column, ascending = True).head())"
      ],
      "metadata": {
        "execution": {
          "iopub.status.busy": "2023-02-01T22:07:12.652334Z",
          "iopub.execute_input": "2023-02-01T22:07:12.652764Z",
          "iopub.status.idle": "2023-02-01T22:07:12.658635Z",
          "shell.execute_reply.started": "2023-02-01T22:07:12.652730Z",
          "shell.execute_reply": "2023-02-01T22:07:12.657800Z"
        },
        "trusted": true,
        "id": "0I_P-w84EsA1"
      },
      "execution_count": null,
      "outputs": []
    },
    {
      "cell_type": "code",
      "source": [
        "check_cltv_best_and_worst(\"Recence\")"
      ],
      "metadata": {
        "execution": {
          "iopub.status.busy": "2023-02-01T22:07:44.300446Z",
          "iopub.execute_input": "2023-02-01T22:07:44.300849Z",
          "iopub.status.idle": "2023-02-01T22:07:44.314765Z",
          "shell.execute_reply.started": "2023-02-01T22:07:44.300818Z",
          "shell.execute_reply": "2023-02-01T22:07:44.313836Z"
        },
        "trusted": true,
        "id": "c-7m77tEEsA1"
      },
      "execution_count": null,
      "outputs": []
    },
    {
      "cell_type": "code",
      "source": [
        "check_cltv_best_and_worst(\"Frequence\")"
      ],
      "metadata": {
        "execution": {
          "iopub.status.busy": "2023-02-01T22:08:04.600348Z",
          "iopub.execute_input": "2023-02-01T22:08:04.600729Z",
          "iopub.status.idle": "2023-02-01T22:08:04.616195Z",
          "shell.execute_reply.started": "2023-02-01T22:08:04.600699Z",
          "shell.execute_reply": "2023-02-01T22:08:04.615227Z"
        },
        "trusted": true,
        "id": "EkdK7b2wEsA2"
      },
      "execution_count": null,
      "outputs": []
    },
    {
      "cell_type": "code",
      "source": [
        "check_cltv_best_and_worst(\"Montant\")"
      ],
      "metadata": {
        "execution": {
          "iopub.status.busy": "2023-02-01T22:08:32.842579Z",
          "iopub.execute_input": "2023-02-01T22:08:32.842965Z",
          "iopub.status.idle": "2023-02-01T22:08:32.858484Z",
          "shell.execute_reply.started": "2023-02-01T22:08:32.842934Z",
          "shell.execute_reply": "2023-02-01T22:08:32.857156Z"
        },
        "trusted": true,
        "id": "Kzuyma0kEsA2"
      },
      "execution_count": null,
      "outputs": []
    },
    {
      "cell_type": "code",
      "source": [
        "df_clt.head()"
      ],
      "metadata": {
        "execution": {
          "iopub.status.busy": "2023-02-01T22:11:12.090269Z",
          "iopub.execute_input": "2023-02-01T22:11:12.091250Z",
          "iopub.status.idle": "2023-02-01T22:11:12.106593Z",
          "shell.execute_reply.started": "2023-02-01T22:11:12.091212Z",
          "shell.execute_reply": "2023-02-01T22:11:12.105482Z"
        },
        "trusted": true,
        "id": "QBhV8wrZEsA2"
      },
      "execution_count": null,
      "outputs": []
    },
    {
      "cell_type": "code",
      "source": [
        "# Correlation between the columns.\n",
        "df_clt.corr()"
      ],
      "metadata": {
        "execution": {
          "iopub.status.busy": "2023-02-01T22:21:40.341897Z",
          "iopub.execute_input": "2023-02-01T22:21:40.342386Z",
          "iopub.status.idle": "2023-02-01T22:21:40.360686Z",
          "shell.execute_reply.started": "2023-02-01T22:21:40.342342Z",
          "shell.execute_reply": "2023-02-01T22:21:40.359949Z"
        },
        "trusted": true,
        "id": "RLzOZxdtEsA2"
      },
      "execution_count": null,
      "outputs": []
    },
    {
      "cell_type": "markdown",
      "source": [
        "At the code block below, I visualize the correlation between the df_clt columns."
      ],
      "metadata": {
        "id": "zA3T0mrrEsA3"
      }
    },
    {
      "cell_type": "code",
      "source": [
        "# Visualization of correlation result with seaborn library heatmap.\n",
        "f, ax = plt.subplots(figsize = (10,10))\n",
        "sns.heatmap(df_clt.corr(), annot = True, linewidths=0.5, linecolor = \"black\", fmt = \".4f\", ax = ax)\n",
        "plt.show()"
      ],
      "metadata": {
        "execution": {
          "iopub.status.busy": "2023-02-01T22:26:12.420350Z",
          "iopub.execute_input": "2023-02-01T22:26:12.420779Z",
          "iopub.status.idle": "2023-02-01T22:26:13.039095Z",
          "shell.execute_reply.started": "2023-02-01T22:26:12.420743Z",
          "shell.execute_reply": "2023-02-01T22:26:13.037922Z"
        },
        "trusted": true,
        "id": "zOyfr5m4EsA3"
      },
      "execution_count": null,
      "outputs": []
    },
    {
      "cell_type": "markdown",
      "source": [
        "At the code block below, I visualize the distributions of the segments in the df_clt datafrem."
      ],
      "metadata": {
        "id": "yRTfPg3MEsA3"
      }
    },
    {
      "cell_type": "code",
      "source": [
        "# Visualization of correlation results with seaborn library pairplot\n",
        "sns.pairplot(df_clt, hue = \"segment\")"
      ],
      "metadata": {
        "execution": {
          "iopub.status.busy": "2023-02-01T22:27:27.695573Z",
          "iopub.execute_input": "2023-02-01T22:27:27.696382Z",
          "iopub.status.idle": "2023-02-01T22:27:59.181757Z",
          "shell.execute_reply.started": "2023-02-01T22:27:27.696340Z",
          "shell.execute_reply": "2023-02-01T22:27:59.180718Z"
        },
        "trusted": true,
        "id": "pWa6As9jEsA3"
      },
      "execution_count": null,
      "outputs": []
    },
    {
      "cell_type": "markdown",
      "metadata": {
        "id": "lY4Z_QEWOXN3"
      },
      "source": [
        "## **Hierarchical Clustering**\n",
        "\n",
        "---\n",
        "\n"
      ]
    },
    {
      "cell_type": "code",
      "source": [],
      "metadata": {
        "id": "_CscvqYIGFea"
      },
      "execution_count": null,
      "outputs": []
    },
    {
      "cell_type": "markdown",
      "metadata": {
        "id": "0M8JT3yy_KHP"
      },
      "source": [
        "## **DBSCAN**"
      ]
    },
    {
      "cell_type": "code",
      "source": [],
      "metadata": {
        "id": "OYCDkxTbGEvd"
      },
      "execution_count": null,
      "outputs": []
    },
    {
      "cell_type": "markdown",
      "source": [
        "# **TESTS**"
      ],
      "metadata": {
        "id": "piAweJG7N-2O"
      }
    },
    {
      "cell_type": "code",
      "source": [
        "# #Importation des CSV\n",
        "# path='/content/drive/MyDrive/Colab/Segmentation/#datasets_OM'\n",
        "# file_list=['2022_2.csv', '2022_3.csv','2022_4.csv','2022_5.csv','2022_6.csv','2022_7.csv',  '2022_8.csv', '2022_8.csv','2022_9.csv','2022_10.csv','2022_11.csv','2022_12.csv','2023_1.csv','2023_2.csv','2023_3.csv','2023_4.csv','2023_5.csv','2023_6.csv','2023_7.csv', ]\n",
        "# df_agg = spark.read.csv(f'{path}/2022_1.csv', header=True)\n",
        "# for csv_file in file_list:\n",
        "#   df = spark.read.csv(f'{path}/{csv_file}', header=True, inferSchema=True)\n",
        "#   df_agg = df_agg.union(df)\n",
        "\n",
        "# df_agg.write.csv('#datasets_OM/trusted_om.base_transaction.csv', header=True, mode='overwrite')\n",
        "# # df_agg.toPandas().to_csv('#datasets_OM/trusted_om.transactions.csv', index=False)\n",
        "# # Show the RFM DataFrame\n",
        "# df_agg.show()"
      ],
      "metadata": {
        "id": "6Zr2C23sAy5U"
      },
      "execution_count": null,
      "outputs": []
    },
    {
      "cell_type": "code",
      "source": [
        "\n"
      ],
      "metadata": {
        "id": "Z1RAQBU5Ve0j"
      },
      "execution_count": null,
      "outputs": []
    },
    {
      "cell_type": "code",
      "source": [
        "DF=df_agg.toPandas()\n",
        "DF.info()"
      ],
      "metadata": {
        "id": "QrDyNejb_a6l"
      },
      "execution_count": null,
      "outputs": []
    },
    {
      "cell_type": "code",
      "execution_count": null,
      "metadata": {
        "id": "02ppzKCYRHoW"
      },
      "outputs": [],
      "source": [
        "#!git clone https://github.com/asish012/dataanalytics.git"
      ]
    }
  ],
  "metadata": {
    "colab": {
      "provenance": [],
      "collapsed_sections": [
        "kO0NGiiEkean",
        "tVqfr6H-qG1l",
        "a-Kxfa5BSG1U",
        "XknFZFRJJqAm",
        "SjobsXXU1zyo",
        "-_sloHbSNnpr",
        "6ps1iHr-EsAa",
        "lY4Z_QEWOXN3",
        "0M8JT3yy_KHP",
        "piAweJG7N-2O"
      ],
      "authorship_tag": "ABX9TyPAMRd8OoO6Et9nUBQmTG3u",
      "include_colab_link": true
    },
    "kernelspec": {
      "display_name": "Python 3",
      "name": "python3"
    },
    "language_info": {
      "name": "python"
    }
  },
  "nbformat": 4,
  "nbformat_minor": 0
}